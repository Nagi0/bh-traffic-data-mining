{
 "cells": [
  {
   "cell_type": "markdown",
   "id": "0c28e24c-3237-407c-8d51-31e0f48ac090",
   "metadata": {},
   "source": [
    "Autores: Bruno Leal Fonseca & Guilherme Namen Pimenta\n",
    "\n",
    "Repositório Github: https://github.com/Nagi0/bh-traffic-data-mining\n",
    "\n",
    "# Data Understanding & Data Preparation\n",
    "\n",
    "Para processar a base de registros de veículos da cidade de Belo Horizonte foi escolhido o mês de fevereiro de 2022. A base é muito grande, por isso filtramos para processar apenas o mês de fevereiro os veículos registrados na Av. do Contorno. Para tal o comando Powershell foi executado para gerar a base filtrada:  \n",
    "```\n",
    "Get-ChildItem \".\" -Filter *.json -Recurse | select -ExpandProperty FullName | %{Get-Content $_ | Out-String | ConvertFrom-Json | Where-Object {$_.ENDEREÇO -like 'Av. do Contorno*'}} | Export-Csv\n",
    "```\n",
    "A bse resultante possui 4.903.487 registros."
   ]
  },
  {
   "cell_type": "code",
   "execution_count": 2,
   "id": "90784d4d-2c2f-42d7-a849-7f61decfe0d0",
   "metadata": {},
   "outputs": [
    {
     "name": "stderr",
     "output_type": "stream",
     "text": [
      "Warning message in Sys.setlocale(locale = \"en_US.UTF-8\"):\n",
      "\"using locale code page other than 1252 may cause problems\"\n"
     ]
    },
    {
     "data": {
      "text/html": [
       "'LC_COLLATE=en_US.UTF-8;LC_CTYPE=en_US.UTF-8;LC_MONETARY=en_US.UTF-8;LC_NUMERIC=C;LC_TIME=en_US.UTF-8'"
      ],
      "text/latex": [
       "'LC\\_COLLATE=en\\_US.UTF-8;LC\\_CTYPE=en\\_US.UTF-8;LC\\_MONETARY=en\\_US.UTF-8;LC\\_NUMERIC=C;LC\\_TIME=en\\_US.UTF-8'"
      ],
      "text/markdown": [
       "'LC_COLLATE=en_US.UTF-8;LC_CTYPE=en_US.UTF-8;LC_MONETARY=en_US.UTF-8;LC_NUMERIC=C;LC_TIME=en_US.UTF-8'"
      ],
      "text/plain": [
       "[1] \"LC_COLLATE=en_US.UTF-8;LC_CTYPE=en_US.UTF-8;LC_MONETARY=en_US.UTF-8;LC_NUMERIC=C;LC_TIME=en_US.UTF-8\""
      ]
     },
     "metadata": {},
     "output_type": "display_data"
    },
    {
     "data": {
      "text/plain": [
       "R version 4.4.2 (2024-10-31 ucrt)\n",
       "Platform: x86_64-w64-mingw32/x64\n",
       "Running under: Windows Server 2019 x64 (build 17763)\n",
       "\n",
       "Matrix products: default\n",
       "\n",
       "\n",
       "locale:\n",
       "[1] LC_COLLATE=en_US.UTF-8  LC_CTYPE=en_US.UTF-8    LC_MONETARY=en_US.UTF-8\n",
       "[4] LC_NUMERIC=C            LC_TIME=en_US.UTF-8    \n",
       "system code page: 1252\n",
       "\n",
       "time zone: America/Sao_Paulo\n",
       "tzcode source: internal\n",
       "\n",
       "attached base packages:\n",
       "[1] stats     graphics  grDevices utils     datasets  methods   base     \n",
       "\n",
       "loaded via a namespace (and not attached):\n",
       " [1] digest_0.6.37     IRdisplay_1.1     utf8_1.2.4        base64enc_0.1-3  \n",
       " [5] fastmap_1.2.0     glue_1.8.0        htmltools_0.5.8.1 repr_1.1.7       \n",
       " [9] lifecycle_1.0.4   cli_3.6.3         fansi_1.0.6       vctrs_0.6.5      \n",
       "[13] pbdZMQ_0.3-13     compiler_4.4.2    tools_4.4.2       evaluate_1.0.1   \n",
       "[17] pillar_1.9.0      crayon_1.5.3      rlang_1.1.4       jsonlite_1.8.9   \n",
       "[21] IRkernel_1.3.2    uuid_1.2-1       "
      ]
     },
     "metadata": {},
     "output_type": "display_data"
    }
   ],
   "source": [
    "Sys.setlocale(locale = 'en_US.UTF-8')\n",
    "sessionInfo()"
   ]
  },
  {
   "cell_type": "code",
   "execution_count": 3,
   "id": "3c319334-7a38-4c65-a9e6-6eae3eeb8a63",
   "metadata": {},
   "outputs": [
    {
     "name": "stderr",
     "output_type": "stream",
     "text": [
      "── \u001b[1mAttaching core tidyverse packages\u001b[22m ──────────────────────── tidyverse 2.0.0 ──\n",
      "\u001b[32m✔\u001b[39m \u001b[34mdplyr    \u001b[39m 1.1.4     \u001b[32m✔\u001b[39m \u001b[34mreadr    \u001b[39m 2.1.5\n",
      "\u001b[32m✔\u001b[39m \u001b[34mforcats  \u001b[39m 1.0.0     \u001b[32m✔\u001b[39m \u001b[34mstringr  \u001b[39m 1.5.1\n",
      "\u001b[32m✔\u001b[39m \u001b[34mggplot2  \u001b[39m 3.5.1     \u001b[32m✔\u001b[39m \u001b[34mtibble   \u001b[39m 3.2.1\n",
      "\u001b[32m✔\u001b[39m \u001b[34mlubridate\u001b[39m 1.9.3     \u001b[32m✔\u001b[39m \u001b[34mtidyr    \u001b[39m 1.3.1\n",
      "\u001b[32m✔\u001b[39m \u001b[34mpurrr    \u001b[39m 1.0.2     \n",
      "── \u001b[1mConflicts\u001b[22m ────────────────────────────────────────── tidyverse_conflicts() ──\n",
      "\u001b[31m✖\u001b[39m \u001b[34mdplyr\u001b[39m::\u001b[32mfilter()\u001b[39m masks \u001b[34mstats\u001b[39m::filter()\n",
      "\u001b[31m✖\u001b[39m \u001b[34mdplyr\u001b[39m::\u001b[32mlag()\u001b[39m    masks \u001b[34mstats\u001b[39m::lag()\n",
      "\u001b[36mℹ\u001b[39m Use the conflicted package (\u001b[3m\u001b[34m<http://conflicted.r-lib.org/>\u001b[39m\u001b[23m) to force all conflicts to become errors\n"
     ]
    }
   ],
   "source": [
    "library(tidyverse)\n",
    "#Função para gerar o banco de dados\n",
    "gera_banco_dados <- function() {\n",
    "  \n",
    "  #Carrega arquivo\n",
    "  contorno <- read_csv('contorno.csv')\n",
    "  #Filtra veículos com comprimento inválido e classificação indefinida\n",
    "  contorno <- contorno %>% filter(`CLASSIFICAÇÃO` != 'INDEFINIDO')\n",
    "  contorno <- contorno %>% filter(TAMANHO < 20)\n",
    "  #Faz o parser da data\n",
    "  contorno$`DATA HORA` <-\n",
    "    parse_date_time(\n",
    "      contorno$`DATA HORA`,\n",
    "      '%d/%m/%Y %I:%M:%S %p',\n",
    "      tz = \"America/Sao_Paulo\")\n",
    "  #Realiza a transformação da velocidade em fatores\n",
    "  velocidade <- c(\"0-40\", \"41-60\", \"61-100\", \">100\", \"NA\")\n",
    "  cut_points <- c(0, 41, 61, Inf)\n",
    "  i <- findInterval(contorno$`VELOCIDADE AFERIDA`, cut_points)\n",
    "  v_fac <- velocidade[i]\n",
    "  v_fac[is.na(contorno$`VELOCIDADE AFERIDA`)] <- velocidade[length(velocidade)]\n",
    "  contorno$`VELOCIDADE AFERIDA` <- factor(v_fac, levels = velocidade)\n",
    "  #Transforma valores em fatores\n",
    "  contorno$CLASSIFICAÇÃO <- factor(contorno$CLASSIFICAÇÃO,ordered =FALSE)\n",
    "  contorno$SENTIDO <- factor(contorno$SENTIDO,ordered =FALSE)\n",
    "  contorno$FAIXA <- factor(contorno$FAIXA,ordered =FALSE)\n",
    "  contorno$`ID DE ENDEREÇO` <- factor(contorno$`ID DE ENDEREÇO`,ordered =FALSE)\n",
    "  \n",
    "  #Transforma o comprimento do veículo em 3 faixas proporcional à classificação do veículo\n",
    "  contorno <- \n",
    "    contorno %>%\n",
    "    group_by(`CLASSIFICAÇÃO`) %>%\n",
    "    mutate(BIN = cut(TAMANHO,3,c('PEQUENO','MÉDIO','GRANDE'))) %>%\n",
    "    ungroup()\n",
    "  return(contorno)\n",
    "}\n",
    "\n",
    "#Gera os registros do índices\n",
    "indices <- function(dados) {\n",
    "  A <- levels(dados$FAIXA)\n",
    "  B <- levels(dados$`ID DE ENDEREÇO`)\n",
    "  C <- levels(dados$`VELOCIDADE AFERIDA`)\n",
    "  D <- levels(dados$`CLASSIFICAÇÃO`)\n",
    "  E <- levels(dados$SENTIDO)\n",
    "  F <- levels(dados$BIN)\n",
    "  ind <-\n",
    "    crossing(\n",
    "      FAIXA=A,\n",
    "      `ID DE ENDEREÇO`=B,\n",
    "      #SENTIDO=E,\n",
    "      `CLASSIFICAÇÃO`=D,\n",
    "      BIN=F,\n",
    "      `VELOCIDADE AFERIDA`=C\n",
    "    )\n",
    "  ind$ID <- 1:dim(ind)[1]\n",
    "  return(ind)\n",
    "}\n",
    "\n",
    "#O preambulo é necessário para o processamento do arquivo pelo SPMF\n",
    "gera_preambulo <- function(arquivo, tipos) {\n",
    "  fileConn<-file(arquivo, encoding=\"UTF-8\")\n",
    "  writeLines(c(\"@CONVERTED_FROM_TEXT\"), fileConn)\n",
    "  close(fileConn)\n",
    "  \n",
    "  codigos <- tipos %>%\n",
    "    unite(\"NOME\", FAIXA:`VELOCIDADE AFERIDA`, remove = TRUE) %>%\n",
    "    unite(\"CODIGO\", ID, NOME, remove = TRUE, sep=\"=\") %>%\n",
    "    mutate(CODIGO=paste(\"@ITEM=\", CODIGO, sep = \"\"))\n",
    "  write.table(codigos,\n",
    "              file = arquivo,\n",
    "              sep = \"\",\n",
    "              col.names = FALSE,\n",
    "              row.names = FALSE,\n",
    "              quote = FALSE,\n",
    "              append=TRUE,\n",
    "              fileEncoding=\"UTF-8\")\n",
    "  fileConn<-file(arquivo, \"a\")\n",
    "  close(fileConn)\n",
    "}"
   ]
  },
  {
   "cell_type": "markdown",
   "id": "b9066288-a8c3-49bb-9c19-7eff9e413ab3",
   "metadata": {},
   "source": [
    "# Geração da Base\n",
    "\n",
    "## Filtros\n",
    "Foram removidos os veículos classificados como INDEFINIDOS e os veículos de comprimento superior a 20 metros.\n",
    "\n",
    "## Agrupamentos\n",
    "A velocidade aferida foi agrupada nos seguintes intervalos \"0-40\", \"41-60\", \"61-100\", \">100\".\n",
    "O comprimento dos veículos foram agrupados em 'PEQUENO','MÉDIO','GRANDE' de forma proporcial ao tipo de veículo"
   ]
  },
  {
   "cell_type": "code",
   "execution_count": 4,
   "id": "433b0316-ffb1-4372-ac4f-b30ce63f00aa",
   "metadata": {},
   "outputs": [
    {
     "name": "stderr",
     "output_type": "stream",
     "text": [
      "\u001b[1mRows: \u001b[22m\u001b[34m4933535\u001b[39m \u001b[1mColumns: \u001b[22m\u001b[34m14\u001b[39m\n",
      "\u001b[36m──\u001b[39m \u001b[1mColumn specification\u001b[22m \u001b[36m────────────────────────────────────────────────────────\u001b[39m\n",
      "\u001b[1mDelimiter:\u001b[22m \",\"\n",
      "\u001b[31mchr\u001b[39m  (4): DATA HORA, CLASSIFICAÇÃO, ENDEREÇO, SENTIDO\n",
      "\u001b[32mdbl\u001b[39m (10): ID EQP, MILESEGUNDO, FAIXA, ID DE ENDEREÇO, VELOCIDADE DA VIA, VEL...\n",
      "\n",
      "\u001b[36mℹ\u001b[39m Use `spec()` to retrieve the full column specification for this data.\n",
      "\u001b[36mℹ\u001b[39m Specify the column types or set `show_col_types = FALSE` to quiet this message.\n"
     ]
    }
   ],
   "source": [
    "contorno <- gera_banco_dados()"
   ]
  },
  {
   "cell_type": "code",
   "execution_count": 5,
   "id": "828cbd65-63e4-4379-9fd5-40f4926815e7",
   "metadata": {},
   "outputs": [
    {
     "data": {
      "text/html": [
       "<table class=\"dataframe\">\n",
       "<caption>A tibble: 3 × 15</caption>\n",
       "<thead>\n",
       "\t<tr><th scope=col>ID EQP</th><th scope=col>DATA HORA</th><th scope=col>MILESEGUNDO</th><th scope=col>FAIXA</th><th scope=col>ID DE ENDEREÇO</th><th scope=col>VELOCIDADE DA VIA</th><th scope=col>VELOCIDADE AFERIDA</th><th scope=col>CLASSIFICAÇÃO</th><th scope=col>TAMANHO</th><th scope=col>NUMERO DE SÉRIE</th><th scope=col>LATITUDE</th><th scope=col>LONGITUDE</th><th scope=col>ENDEREÇO</th><th scope=col>SENTIDO</th><th scope=col>BIN</th></tr>\n",
       "\t<tr><th scope=col>&lt;dbl&gt;</th><th scope=col>&lt;dttm&gt;</th><th scope=col>&lt;dbl&gt;</th><th scope=col>&lt;fct&gt;</th><th scope=col>&lt;fct&gt;</th><th scope=col>&lt;dbl&gt;</th><th scope=col>&lt;fct&gt;</th><th scope=col>&lt;fct&gt;</th><th scope=col>&lt;dbl&gt;</th><th scope=col>&lt;dbl&gt;</th><th scope=col>&lt;dbl&gt;</th><th scope=col>&lt;dbl&gt;</th><th scope=col>&lt;chr&gt;</th><th scope=col>&lt;fct&gt;</th><th scope=col>&lt;fct&gt;</th></tr>\n",
       "</thead>\n",
       "<tbody>\n",
       "\t<tr><td>193</td><td>2022-02-01 01:02:08</td><td>742</td><td>1</td><td>311</td><td>60</td><td>41-60</td><td>AUTOMÓVEL</td><td>4.1</td><td>3264</td><td>-19.9176</td><td>-43.94896</td><td>Av. do Contorno, oposto ao nº 10812</td><td>Centro/Barro Preto</td><td>MÉDIO</td></tr>\n",
       "\t<tr><td>193</td><td>2022-02-01 01:02:17</td><td>180</td><td>1</td><td>311</td><td>60</td><td>41-60</td><td>AUTOMÓVEL</td><td>3.9</td><td>3264</td><td>-19.9176</td><td>-43.94896</td><td>Av. do Contorno, oposto ao nº 10812</td><td>Centro/Barro Preto</td><td>MÉDIO</td></tr>\n",
       "\t<tr><td>193</td><td>2022-02-01 01:02:34</td><td>430</td><td>2</td><td>311</td><td>60</td><td>41-60</td><td>AUTOMÓVEL</td><td>4.7</td><td>3264</td><td>-19.9176</td><td>-43.94896</td><td>Av. do Contorno, oposto ao nº 10812</td><td>Centro/Barro Preto</td><td>MÉDIO</td></tr>\n",
       "</tbody>\n",
       "</table>\n"
      ],
      "text/latex": [
       "A tibble: 3 × 15\n",
       "\\begin{tabular}{lllllllllllllll}\n",
       " ID EQP & DATA HORA & MILESEGUNDO & FAIXA & ID DE ENDEREÇO & VELOCIDADE DA VIA & VELOCIDADE AFERIDA & CLASSIFICAÇÃO & TAMANHO & NUMERO DE SÉRIE & LATITUDE & LONGITUDE & ENDEREÇO & SENTIDO & BIN\\\\\n",
       " <dbl> & <dttm> & <dbl> & <fct> & <fct> & <dbl> & <fct> & <fct> & <dbl> & <dbl> & <dbl> & <dbl> & <chr> & <fct> & <fct>\\\\\n",
       "\\hline\n",
       "\t 193 & 2022-02-01 01:02:08 & 742 & 1 & 311 & 60 & 41-60 & AUTOMÓVEL & 4.1 & 3264 & -19.9176 & -43.94896 & Av. do Contorno, oposto ao nº 10812 & Centro/Barro Preto & MÉDIO\\\\\n",
       "\t 193 & 2022-02-01 01:02:17 & 180 & 1 & 311 & 60 & 41-60 & AUTOMÓVEL & 3.9 & 3264 & -19.9176 & -43.94896 & Av. do Contorno, oposto ao nº 10812 & Centro/Barro Preto & MÉDIO\\\\\n",
       "\t 193 & 2022-02-01 01:02:34 & 430 & 2 & 311 & 60 & 41-60 & AUTOMÓVEL & 4.7 & 3264 & -19.9176 & -43.94896 & Av. do Contorno, oposto ao nº 10812 & Centro/Barro Preto & MÉDIO\\\\\n",
       "\\end{tabular}\n"
      ],
      "text/markdown": [
       "\n",
       "A tibble: 3 × 15\n",
       "\n",
       "| ID EQP &lt;dbl&gt; | DATA HORA &lt;dttm&gt; | MILESEGUNDO &lt;dbl&gt; | FAIXA &lt;fct&gt; | ID DE ENDEREÇO &lt;fct&gt; | VELOCIDADE DA VIA &lt;dbl&gt; | VELOCIDADE AFERIDA &lt;fct&gt; | CLASSIFICAÇÃO &lt;fct&gt; | TAMANHO &lt;dbl&gt; | NUMERO DE SÉRIE &lt;dbl&gt; | LATITUDE &lt;dbl&gt; | LONGITUDE &lt;dbl&gt; | ENDEREÇO &lt;chr&gt; | SENTIDO &lt;fct&gt; | BIN &lt;fct&gt; |\n",
       "|---|---|---|---|---|---|---|---|---|---|---|---|---|---|---|\n",
       "| 193 | 2022-02-01 01:02:08 | 742 | 1 | 311 | 60 | 41-60 | AUTOMÓVEL | 4.1 | 3264 | -19.9176 | -43.94896 | Av. do Contorno, oposto ao nº 10812 | Centro/Barro Preto | MÉDIO |\n",
       "| 193 | 2022-02-01 01:02:17 | 180 | 1 | 311 | 60 | 41-60 | AUTOMÓVEL | 3.9 | 3264 | -19.9176 | -43.94896 | Av. do Contorno, oposto ao nº 10812 | Centro/Barro Preto | MÉDIO |\n",
       "| 193 | 2022-02-01 01:02:34 | 430 | 2 | 311 | 60 | 41-60 | AUTOMÓVEL | 4.7 | 3264 | -19.9176 | -43.94896 | Av. do Contorno, oposto ao nº 10812 | Centro/Barro Preto | MÉDIO |\n",
       "\n"
      ],
      "text/plain": [
       "  ID EQP DATA HORA           MILESEGUNDO FAIXA ID DE ENDEREÇO VELOCIDADE DA VIA\n",
       "1 193    2022-02-01 01:02:08 742         1     311            60               \n",
       "2 193    2022-02-01 01:02:17 180         1     311            60               \n",
       "3 193    2022-02-01 01:02:34 430         2     311            60               \n",
       "  VELOCIDADE AFERIDA CLASSIFICAÇÃO TAMANHO NUMERO DE SÉRIE LATITUDE LONGITUDE\n",
       "1 41-60              AUTOMÓVEL     4.1     3264            -19.9176 -43.94896\n",
       "2 41-60              AUTOMÓVEL     3.9     3264            -19.9176 -43.94896\n",
       "3 41-60              AUTOMÓVEL     4.7     3264            -19.9176 -43.94896\n",
       "  ENDEREÇO                            SENTIDO            BIN  \n",
       "1 Av. do Contorno, oposto ao nº 10812 Centro/Barro Preto MÉDIO\n",
       "2 Av. do Contorno, oposto ao nº 10812 Centro/Barro Preto MÉDIO\n",
       "3 Av. do Contorno, oposto ao nº 10812 Centro/Barro Preto MÉDIO"
      ]
     },
     "metadata": {},
     "output_type": "display_data"
    }
   ],
   "source": [
    "contorno[1:3,]"
   ]
  },
  {
   "cell_type": "markdown",
   "id": "21c72aa5-0ccf-4cd1-9f7f-aa390d9a4113",
   "metadata": {},
   "source": [
    "# Geração do arquivo no formato SPMF\n",
    "O aplicativo SPMF https://www.philippe-fournier-viger.com/spmf/ possui duas partes um preambulo contendo o identificador númerico e o nome do item e em seguida o conjunto de itensets somente contendo o identificador. Para gerar o identificador numérico, uma tabela de índice foi criada contendo todos os itens e seu respectivo código.\n",
    "Em seguida os indentificadores são mesclados à base horiginal.\n",
    "\n",
    "## Item\n",
    "O item constitui-se da faixa de trânsito seguida do id do endereço e do tipo, tamanho e velocidade do veículo."
   ]
  },
  {
   "cell_type": "code",
   "execution_count": 6,
   "id": "8b26fbff-e8cd-4355-b5ba-a75b84acbc62",
   "metadata": {},
   "outputs": [
    {
     "name": "stderr",
     "output_type": "stream",
     "text": [
      "\u001b[1m\u001b[22mJoining with `by = join_by(FAIXA, `ID DE ENDEREÇO`, `VELOCIDADE AFERIDA`,\n",
      "CLASSIFICAÇÃO, BIN)`\n"
     ]
    }
   ],
   "source": [
    "ind <- indices(contorno)\n",
    "contorno <- contorno %>% inner_join(ind)"
   ]
  },
  {
   "cell_type": "code",
   "execution_count": 7,
   "id": "d22788b5-5972-43c6-b996-ee99ed72b0e2",
   "metadata": {},
   "outputs": [
    {
     "data": {
      "text/html": [
       "<table class=\"dataframe\">\n",
       "<caption>A tibble: 3 × 6</caption>\n",
       "<thead>\n",
       "\t<tr><th scope=col>FAIXA</th><th scope=col>ID DE ENDEREÇO</th><th scope=col>CLASSIFICAÇÃO</th><th scope=col>BIN</th><th scope=col>VELOCIDADE AFERIDA</th><th scope=col>ID</th></tr>\n",
       "\t<tr><th scope=col>&lt;chr&gt;</th><th scope=col>&lt;chr&gt;</th><th scope=col>&lt;chr&gt;</th><th scope=col>&lt;chr&gt;</th><th scope=col>&lt;chr&gt;</th><th scope=col>&lt;int&gt;</th></tr>\n",
       "</thead>\n",
       "<tbody>\n",
       "\t<tr><td>1</td><td>311</td><td>AUTOMÓVEL</td><td>GRANDE</td><td>&gt;100 </td><td>1</td></tr>\n",
       "\t<tr><td>1</td><td>311</td><td>AUTOMÓVEL</td><td>GRANDE</td><td>0-40 </td><td>2</td></tr>\n",
       "\t<tr><td>1</td><td>311</td><td>AUTOMÓVEL</td><td>GRANDE</td><td>41-60</td><td>3</td></tr>\n",
       "</tbody>\n",
       "</table>\n"
      ],
      "text/latex": [
       "A tibble: 3 × 6\n",
       "\\begin{tabular}{llllll}\n",
       " FAIXA & ID DE ENDEREÇO & CLASSIFICAÇÃO & BIN & VELOCIDADE AFERIDA & ID\\\\\n",
       " <chr> & <chr> & <chr> & <chr> & <chr> & <int>\\\\\n",
       "\\hline\n",
       "\t 1 & 311 & AUTOMÓVEL & GRANDE & >100  & 1\\\\\n",
       "\t 1 & 311 & AUTOMÓVEL & GRANDE & 0-40  & 2\\\\\n",
       "\t 1 & 311 & AUTOMÓVEL & GRANDE & 41-60 & 3\\\\\n",
       "\\end{tabular}\n"
      ],
      "text/markdown": [
       "\n",
       "A tibble: 3 × 6\n",
       "\n",
       "| FAIXA &lt;chr&gt; | ID DE ENDEREÇO &lt;chr&gt; | CLASSIFICAÇÃO &lt;chr&gt; | BIN &lt;chr&gt; | VELOCIDADE AFERIDA &lt;chr&gt; | ID &lt;int&gt; |\n",
       "|---|---|---|---|---|---|\n",
       "| 1 | 311 | AUTOMÓVEL | GRANDE | &gt;100  | 1 |\n",
       "| 1 | 311 | AUTOMÓVEL | GRANDE | 0-40  | 2 |\n",
       "| 1 | 311 | AUTOMÓVEL | GRANDE | 41-60 | 3 |\n",
       "\n"
      ],
      "text/plain": [
       "  FAIXA ID DE ENDEREÇO CLASSIFICAÇÃO BIN    VELOCIDADE AFERIDA ID\n",
       "1 1     311            AUTOMÓVEL     GRANDE >100               1 \n",
       "2 1     311            AUTOMÓVEL     GRANDE 0-40               2 \n",
       "3 1     311            AUTOMÓVEL     GRANDE 41-60              3 "
      ]
     },
     "metadata": {},
     "output_type": "display_data"
    }
   ],
   "source": [
    "ind[1:3,]"
   ]
  },
  {
   "cell_type": "markdown",
   "id": "0a77e975-98b5-463c-85be-9293c38de724",
   "metadata": {},
   "source": [
    "# Transação\n",
    "A transação é o agrupamento dos itens durante o perído de 5 minutos. Por tanto queremos verificar os itens mais comuns em um intervalo de cinco minutos"
   ]
  },
  {
   "cell_type": "code",
   "execution_count": 8,
   "id": "83a3259c-29bc-4a68-879c-d00b20efce5b",
   "metadata": {},
   "outputs": [],
   "source": [
    "item_set <- contorno %>%\n",
    "  group_by(day(`DATA HORA`), floor_date(`DATA HORA`, unit = \"5minutes\")) %>%\n",
    "  summarise(\n",
    "    ITEMSET = paste0(unique(ID), collapse = \" \"),\n",
    "    .groups = 'drop') %>%\n",
    "  select(ITEMSET)"
   ]
  },
  {
   "cell_type": "code",
   "execution_count": 9,
   "id": "74b11e66-ca52-437a-803f-c3318ba96f0c",
   "metadata": {},
   "outputs": [
    {
     "data": {
      "text/html": [
       "<table class=\"dataframe\">\n",
       "<caption>A tibble: 3 × 1</caption>\n",
       "<thead>\n",
       "\t<tr><th scope=col>ITEMSET</th></tr>\n",
       "\t<tr><th scope=col>&lt;chr&gt;</th></tr>\n",
       "</thead>\n",
       "<tbody>\n",
       "\t<tr><td>8 278 548 313 283 567 13 323 58 53 368 638 448 373 188 728 458 387 807 1037 367 493 1043 903 103 457 632 382 908 943 463 733 773 413 637 927               </td></tr>\n",
       "\t<tr><td>548 298 278 8 543 584 549 568 13 558 273 554 343 323 868 593 58 628 363 103 143 638 98 368 908 413 127 102 943 637 448 923 907 1042 458 412 373 132 134    </td></tr>\n",
       "\t<tr><td>277 548 313 278 549 294 569 553 8 543 274 283 593 328 603 323 58 908 1043 637 448 453 369 458 413 123 373 103 1042 808 1062 492 102 368 367 903 638 383 728</td></tr>\n",
       "</tbody>\n",
       "</table>\n"
      ],
      "text/latex": [
       "A tibble: 3 × 1\n",
       "\\begin{tabular}{l}\n",
       " ITEMSET\\\\\n",
       " <chr>\\\\\n",
       "\\hline\n",
       "\t 8 278 548 313 283 567 13 323 58 53 368 638 448 373 188 728 458 387 807 1037 367 493 1043 903 103 457 632 382 908 943 463 733 773 413 637 927               \\\\\n",
       "\t 548 298 278 8 543 584 549 568 13 558 273 554 343 323 868 593 58 628 363 103 143 638 98 368 908 413 127 102 943 637 448 923 907 1042 458 412 373 132 134    \\\\\n",
       "\t 277 548 313 278 549 294 569 553 8 543 274 283 593 328 603 323 58 908 1043 637 448 453 369 458 413 123 373 103 1042 808 1062 492 102 368 367 903 638 383 728\\\\\n",
       "\\end{tabular}\n"
      ],
      "text/markdown": [
       "\n",
       "A tibble: 3 × 1\n",
       "\n",
       "| ITEMSET &lt;chr&gt; |\n",
       "|---|\n",
       "| 8 278 548 313 283 567 13 323 58 53 368 638 448 373 188 728 458 387 807 1037 367 493 1043 903 103 457 632 382 908 943 463 733 773 413 637 927                |\n",
       "| 548 298 278 8 543 584 549 568 13 558 273 554 343 323 868 593 58 628 363 103 143 638 98 368 908 413 127 102 943 637 448 923 907 1042 458 412 373 132 134     |\n",
       "| 277 548 313 278 549 294 569 553 8 543 274 283 593 328 603 323 58 908 1043 637 448 453 369 458 413 123 373 103 1042 808 1062 492 102 368 367 903 638 383 728 |\n",
       "\n"
      ],
      "text/plain": [
       "  ITEMSET                                                                                                                                                    \n",
       "1 8 278 548 313 283 567 13 323 58 53 368 638 448 373 188 728 458 387 807 1037 367 493 1043 903 103 457 632 382 908 943 463 733 773 413 637 927               \n",
       "2 548 298 278 8 543 584 549 568 13 558 273 554 343 323 868 593 58 628 363 103 143 638 98 368 908 413 127 102 943 637 448 923 907 1042 458 412 373 132 134    \n",
       "3 277 548 313 278 549 294 569 553 8 543 274 283 593 328 603 323 58 908 1043 637 448 453 369 458 413 123 373 103 1042 808 1062 492 102 368 367 903 638 383 728"
      ]
     },
     "metadata": {},
     "output_type": "display_data"
    }
   ],
   "source": [
    "item_set[1:3,]"
   ]
  },
  {
   "cell_type": "markdown",
   "id": "1b8716bf-4302-4f06-900d-0a679fcfb664",
   "metadata": {},
   "source": [
    "# Gerar o arquivo SPMF\n",
    "Para gerar o arquivo escrevemos o preâmbulo e as transações."
   ]
  },
  {
   "cell_type": "code",
   "execution_count": 10,
   "id": "bcebe8f5-47e8-4413-9364-f9f35608c9c9",
   "metadata": {},
   "outputs": [],
   "source": [
    "gera_preambulo(\"arquivo.txt\", ind)\n",
    "write(item_set$ITEMSET, \"arquivo.txt\", append = TRUE)"
   ]
  },
  {
   "cell_type": "markdown",
   "id": "e603a4a7-0ea2-4390-8c6f-a631f94d8921",
   "metadata": {},
   "source": [
    "# Processamento da base\n",
    "Para processar a base para e verificar quais itens mais frequêntes, o algoritmo NegFIM foi utilizado com suporte igqual a 90% "
   ]
  },
  {
   "cell_type": "code",
   "execution_count": 18,
   "id": "5956c558-0eb4-4feb-96fb-b69f91dc2afc",
   "metadata": {},
   "outputs": [
    {
     "data": {
      "text/html": [
       "<table class=\"dataframe\">\n",
       "<caption>A data.frame: 15 × 2</caption>\n",
       "<thead>\n",
       "\t<tr><th></th><th scope=col>Itemset</th><th scope=col>Suporte</th></tr>\n",
       "\t<tr><th></th><th scope=col>&lt;chr&gt;</th><th scope=col>&lt;dbl&gt;</th></tr>\n",
       "</thead>\n",
       "<tbody>\n",
       "\t<tr><th scope=row>236</th><td>2_350_AUTOMÓVEL_MÉDIO_41-60                              </td><td>7881</td></tr>\n",
       "\t<tr><th scope=row>234</th><td>2_349_AUTOMÓVEL_MÉDIO_41-60                              </td><td>7870</td></tr>\n",
       "\t<tr><th scope=row>230</th><td>2_349_AUTOMÓVEL_PEQUENO_41-60                            </td><td>7869</td></tr>\n",
       "\t<tr><th scope=row>222</th><td>4_349_AUTOMÓVEL_MÉDIO_41-60                              </td><td>7858</td></tr>\n",
       "\t<tr><th scope=row>206</th><td>3_349_AUTOMÓVEL_MÉDIO_41-60                              </td><td>7809</td></tr>\n",
       "\t<tr><th scope=row>231</th><td>2_349_AUTOMÓVEL_PEQUENO_41-60 2_349_AUTOMÓVEL_MÉDIO_41-60</td><td>7762</td></tr>\n",
       "\t<tr><th scope=row>235</th><td>2_349_AUTOMÓVEL_MÉDIO_41-60 2_350_AUTOMÓVEL_MÉDIO_41-60  </td><td>7726</td></tr>\n",
       "\t<tr><th scope=row>227</th><td>4_349_AUTOMÓVEL_MÉDIO_41-60 2_349_AUTOMÓVEL_MÉDIO_41-60  </td><td>7723</td></tr>\n",
       "\t<tr><th scope=row>223</th><td>4_349_AUTOMÓVEL_MÉDIO_41-60 2_349_AUTOMÓVEL_PEQUENO_41-60</td><td>7722</td></tr>\n",
       "\t<tr><th scope=row>233</th><td>2_349_AUTOMÓVEL_PEQUENO_41-60 2_350_AUTOMÓVEL_MÉDIO_41-60</td><td>7721</td></tr>\n",
       "\t<tr><th scope=row>229</th><td>4_349_AUTOMÓVEL_MÉDIO_41-60 2_350_AUTOMÓVEL_MÉDIO_41-60  </td><td>7720</td></tr>\n",
       "\t<tr><th scope=row>175</th><td>2_366_AUTOMÓVEL_MÉDIO_41-60                              </td><td>7707</td></tr>\n",
       "\t<tr><th scope=row>127</th><td>1_349_AUTOMÓVEL_PEQUENO_41-60                            </td><td>7706</td></tr>\n",
       "\t<tr><th scope=row>215</th><td>3_349_AUTOMÓVEL_MÉDIO_41-60 2_349_AUTOMÓVEL_PEQUENO_41-60</td><td>7697</td></tr>\n",
       "\t<tr><th scope=row>219</th><td>3_349_AUTOMÓVEL_MÉDIO_41-60 2_349_AUTOMÓVEL_MÉDIO_41-60  </td><td>7689</td></tr>\n",
       "</tbody>\n",
       "</table>\n"
      ],
      "text/latex": [
       "A data.frame: 15 × 2\n",
       "\\begin{tabular}{r|ll}\n",
       "  & Itemset & Suporte\\\\\n",
       "  & <chr> & <dbl>\\\\\n",
       "\\hline\n",
       "\t236 & 2\\_350\\_AUTOMÓVEL\\_MÉDIO\\_41-60                               & 7881\\\\\n",
       "\t234 & 2\\_349\\_AUTOMÓVEL\\_MÉDIO\\_41-60                               & 7870\\\\\n",
       "\t230 & 2\\_349\\_AUTOMÓVEL\\_PEQUENO\\_41-60                             & 7869\\\\\n",
       "\t222 & 4\\_349\\_AUTOMÓVEL\\_MÉDIO\\_41-60                               & 7858\\\\\n",
       "\t206 & 3\\_349\\_AUTOMÓVEL\\_MÉDIO\\_41-60                               & 7809\\\\\n",
       "\t231 & 2\\_349\\_AUTOMÓVEL\\_PEQUENO\\_41-60 2\\_349\\_AUTOMÓVEL\\_MÉDIO\\_41-60 & 7762\\\\\n",
       "\t235 & 2\\_349\\_AUTOMÓVEL\\_MÉDIO\\_41-60 2\\_350\\_AUTOMÓVEL\\_MÉDIO\\_41-60   & 7726\\\\\n",
       "\t227 & 4\\_349\\_AUTOMÓVEL\\_MÉDIO\\_41-60 2\\_349\\_AUTOMÓVEL\\_MÉDIO\\_41-60   & 7723\\\\\n",
       "\t223 & 4\\_349\\_AUTOMÓVEL\\_MÉDIO\\_41-60 2\\_349\\_AUTOMÓVEL\\_PEQUENO\\_41-60 & 7722\\\\\n",
       "\t233 & 2\\_349\\_AUTOMÓVEL\\_PEQUENO\\_41-60 2\\_350\\_AUTOMÓVEL\\_MÉDIO\\_41-60 & 7721\\\\\n",
       "\t229 & 4\\_349\\_AUTOMÓVEL\\_MÉDIO\\_41-60 2\\_350\\_AUTOMÓVEL\\_MÉDIO\\_41-60   & 7720\\\\\n",
       "\t175 & 2\\_366\\_AUTOMÓVEL\\_MÉDIO\\_41-60                               & 7707\\\\\n",
       "\t127 & 1\\_349\\_AUTOMÓVEL\\_PEQUENO\\_41-60                             & 7706\\\\\n",
       "\t215 & 3\\_349\\_AUTOMÓVEL\\_MÉDIO\\_41-60 2\\_349\\_AUTOMÓVEL\\_PEQUENO\\_41-60 & 7697\\\\\n",
       "\t219 & 3\\_349\\_AUTOMÓVEL\\_MÉDIO\\_41-60 2\\_349\\_AUTOMÓVEL\\_MÉDIO\\_41-60   & 7689\\\\\n",
       "\\end{tabular}\n"
      ],
      "text/markdown": [
       "\n",
       "A data.frame: 15 × 2\n",
       "\n",
       "| <!--/--> | Itemset &lt;chr&gt; | Suporte &lt;dbl&gt; |\n",
       "|---|---|---|\n",
       "| 236 | 2_350_AUTOMÓVEL_MÉDIO_41-60                               | 7881 |\n",
       "| 234 | 2_349_AUTOMÓVEL_MÉDIO_41-60                               | 7870 |\n",
       "| 230 | 2_349_AUTOMÓVEL_PEQUENO_41-60                             | 7869 |\n",
       "| 222 | 4_349_AUTOMÓVEL_MÉDIO_41-60                               | 7858 |\n",
       "| 206 | 3_349_AUTOMÓVEL_MÉDIO_41-60                               | 7809 |\n",
       "| 231 | 2_349_AUTOMÓVEL_PEQUENO_41-60 2_349_AUTOMÓVEL_MÉDIO_41-60 | 7762 |\n",
       "| 235 | 2_349_AUTOMÓVEL_MÉDIO_41-60 2_350_AUTOMÓVEL_MÉDIO_41-60   | 7726 |\n",
       "| 227 | 4_349_AUTOMÓVEL_MÉDIO_41-60 2_349_AUTOMÓVEL_MÉDIO_41-60   | 7723 |\n",
       "| 223 | 4_349_AUTOMÓVEL_MÉDIO_41-60 2_349_AUTOMÓVEL_PEQUENO_41-60 | 7722 |\n",
       "| 233 | 2_349_AUTOMÓVEL_PEQUENO_41-60 2_350_AUTOMÓVEL_MÉDIO_41-60 | 7721 |\n",
       "| 229 | 4_349_AUTOMÓVEL_MÉDIO_41-60 2_350_AUTOMÓVEL_MÉDIO_41-60   | 7720 |\n",
       "| 175 | 2_366_AUTOMÓVEL_MÉDIO_41-60                               | 7707 |\n",
       "| 127 | 1_349_AUTOMÓVEL_PEQUENO_41-60                             | 7706 |\n",
       "| 215 | 3_349_AUTOMÓVEL_MÉDIO_41-60 2_349_AUTOMÓVEL_PEQUENO_41-60 | 7697 |\n",
       "| 219 | 3_349_AUTOMÓVEL_MÉDIO_41-60 2_349_AUTOMÓVEL_MÉDIO_41-60   | 7689 |\n",
       "\n"
      ],
      "text/plain": [
       "    Itemset                                                   Suporte\n",
       "236 2_350_AUTOMÓVEL_MÉDIO_41-60                               7881   \n",
       "234 2_349_AUTOMÓVEL_MÉDIO_41-60                               7870   \n",
       "230 2_349_AUTOMÓVEL_PEQUENO_41-60                             7869   \n",
       "222 4_349_AUTOMÓVEL_MÉDIO_41-60                               7858   \n",
       "206 3_349_AUTOMÓVEL_MÉDIO_41-60                               7809   \n",
       "231 2_349_AUTOMÓVEL_PEQUENO_41-60 2_349_AUTOMÓVEL_MÉDIO_41-60 7762   \n",
       "235 2_349_AUTOMÓVEL_MÉDIO_41-60 2_350_AUTOMÓVEL_MÉDIO_41-60   7726   \n",
       "227 4_349_AUTOMÓVEL_MÉDIO_41-60 2_349_AUTOMÓVEL_MÉDIO_41-60   7723   \n",
       "223 4_349_AUTOMÓVEL_MÉDIO_41-60 2_349_AUTOMÓVEL_PEQUENO_41-60 7722   \n",
       "233 2_349_AUTOMÓVEL_PEQUENO_41-60 2_350_AUTOMÓVEL_MÉDIO_41-60 7721   \n",
       "229 4_349_AUTOMÓVEL_MÉDIO_41-60 2_350_AUTOMÓVEL_MÉDIO_41-60   7720   \n",
       "175 2_366_AUTOMÓVEL_MÉDIO_41-60                               7707   \n",
       "127 1_349_AUTOMÓVEL_PEQUENO_41-60                             7706   \n",
       "215 3_349_AUTOMÓVEL_MÉDIO_41-60 2_349_AUTOMÓVEL_PEQUENO_41-60 7697   \n",
       "219 3_349_AUTOMÓVEL_MÉDIO_41-60 2_349_AUTOMÓVEL_MÉDIO_41-60   7689   "
      ]
     },
     "metadata": {},
     "output_type": "display_data"
    }
   ],
   "source": [
    "frequentes <- read.csv('D:/share/frequentes.csv')\n",
    "colnames(frequentes) <- c(\"Itemset\", \"Suporte\")\n",
    "frequentes[order(frequentes$Suporte, decreasing = TRUE), ][1:15,]"
   ]
  },
  {
   "cell_type": "markdown",
   "id": "681a54a7-30f7-4994-8b44-3f0d002a6f65",
   "metadata": {},
   "source": [
    "# Processmanto de regras frequêntes\n",
    "Para verificar as regras o algoritmo FPGrow association rule foi executado com os seguintes parâmetros:\n",
    "Suporte| Confiança Mínima | Lift Mínimo\n",
    "--|--|--|\n",
    "0.75|0.9|1.16"
   ]
  },
  {
   "cell_type": "code",
   "execution_count": 12,
   "id": "fd680e09-ad35-4989-8a8e-21d042c20caf",
   "metadata": {},
   "outputs": [
    {
     "data": {
      "text/html": [
       "<table class=\"dataframe\">\n",
       "<caption>A data.frame: 10 × 4</caption>\n",
       "<thead>\n",
       "\t<tr><th></th><th scope=col>Regra</th><th scope=col>Suporte</th><th scope=col>Confiança</th><th scope=col>Lift</th></tr>\n",
       "\t<tr><th></th><th scope=col>&lt;chr&gt;</th><th scope=col>&lt;dbl&gt;</th><th scope=col>&lt;dbl&gt;</th><th scope=col>&lt;dbl&gt;</th></tr>\n",
       "</thead>\n",
       "<tbody>\n",
       "\t<tr><th scope=row>120</th><td><span style=white-space:pre-wrap>1_349_AUTOMÓVEL_MÉDIO_41-60 1_349_AUTOMÓVEL_PEQUENO_41-60 1_350_AUTOMÓVEL_MÉDIO_41-60 2_349_AUTOMÓVEL_PEQUENO_0-40 3_349_AUTOMÓVEL_MÉDIO_41-60 3_366_AUTOMÓVEL_MÉDIO_41-60 4_349_AUTOMÓVEL_MÉDIO_41-60 4_370_AUTOMÓVEL_MÉDIO_0-40 ==&gt; 1_366_AUTOMÓVEL_MÉDIO_41-60                                                           </span></td><td>6041</td><td>0.9584325</td><td>1.163646</td></tr>\n",
       "\t<tr><th scope=row>155</th><td><span style=white-space:pre-wrap>1_349_AUTOMÓVEL_MÉDIO_41-60 1_349_AUTOMÓVEL_PEQUENO_41-60 1_350_AUTOMÓVEL_MÉDIO_41-60 2_349_AUTOMÓVEL_PEQUENO_0-40 2_350_AUTOMÓVEL_MÉDIO_41-60 3_349_AUTOMÓVEL_MÉDIO_41-60 3_366_AUTOMÓVEL_MÉDIO_41-60 4_349_AUTOMÓVEL_MÉDIO_41-60 4_370_AUTOMÓVEL_MÉDIO_0-40 ==&gt; 1_366_AUTOMÓVEL_MÉDIO_41-60                               </span></td><td>6039</td><td>0.9584193</td><td>1.163630</td></tr>\n",
       "\t<tr><th scope=row>160</th><td>1_349_AUTOMÓVEL_MÉDIO_41-60 1_349_AUTOMÓVEL_PEQUENO_0-40 1_349_AUTOMÓVEL_PEQUENO_41-60 1_350_AUTOMÓVEL_MÉDIO_41-60 2_349_AUTOMÓVEL_MÉDIO_41-60 2_349_AUTOMÓVEL_PEQUENO_41-60 2_350_AUTOMÓVEL_MÉDIO_41-60 3_349_AUTOMÓVEL_MÉDIO_41-60 3_366_AUTOMÓVEL_MÉDIO_41-60 4_349_AUTOMÓVEL_MÉDIO_41-60 ==&gt; 1_366_AUTOMÓVEL_MÉDIO_41-60</td><td>6045</td><td>0.9581550</td><td>1.163309</td></tr>\n",
       "\t<tr><th scope=row>142</th><td><span style=white-space:pre-wrap>1_349_AUTOMÓVEL_MÉDIO_41-60 1_349_AUTOMÓVEL_PEQUENO_0-40 1_349_AUTOMÓVEL_PEQUENO_41-60 1_350_AUTOMÓVEL_MÉDIO_41-60 2_349_AUTOMÓVEL_MÉDIO_41-60 2_349_AUTOMÓVEL_PEQUENO_41-60 3_349_AUTOMÓVEL_MÉDIO_41-60 3_366_AUTOMÓVEL_MÉDIO_41-60 4_349_AUTOMÓVEL_MÉDIO_41-60 ==&gt; 1_366_AUTOMÓVEL_MÉDIO_41-60                            </span></td><td>6048</td><td>0.9580231</td><td>1.163149</td></tr>\n",
       "\t<tr><th scope=row>143</th><td><span style=white-space:pre-wrap>1_349_AUTOMÓVEL_MÉDIO_41-60 1_349_AUTOMÓVEL_PEQUENO_0-40 1_349_AUTOMÓVEL_PEQUENO_41-60 1_350_AUTOMÓVEL_MÉDIO_41-60 2_349_AUTOMÓVEL_MÉDIO_41-60 2_350_AUTOMÓVEL_MÉDIO_41-60 3_349_AUTOMÓVEL_MÉDIO_41-60 3_366_AUTOMÓVEL_MÉDIO_41-60 4_349_AUTOMÓVEL_MÉDIO_41-60 ==&gt; 1_366_AUTOMÓVEL_MÉDIO_41-60                              </span></td><td>6047</td><td>0.9580165</td><td>1.163141</td></tr>\n",
       "\t<tr><th scope=row>90</th><td><span style=white-space:pre-wrap>1_349_AUTOMÓVEL_MÉDIO_41-60 1_349_AUTOMÓVEL_PEQUENO_0-40 1_349_AUTOMÓVEL_PEQUENO_41-60 1_350_AUTOMÓVEL_MÉDIO_41-60 2_349_AUTOMÓVEL_MÉDIO_41-60 3_349_AUTOMÓVEL_MÉDIO_41-60 3_366_AUTOMÓVEL_MÉDIO_41-60 4_349_AUTOMÓVEL_MÉDIO_41-60 ==&gt; 1_366_AUTOMÓVEL_MÉDIO_41-60                                                          </span></td><td>6050</td><td>0.9578847</td><td>1.162981</td></tr>\n",
       "\t<tr><th scope=row>141</th><td><span style=white-space:pre-wrap>1_349_AUTOMÓVEL_MÉDIO_41-60 1_349_AUTOMÓVEL_PEQUENO_0-40 1_349_AUTOMÓVEL_PEQUENO_41-60 1_350_AUTOMÓVEL_MÉDIO_41-60 2_349_AUTOMÓVEL_MÉDIO_41-60 2_349_AUTOMÓVEL_PEQUENO_41-60 2_350_AUTOMÓVEL_MÉDIO_41-60 3_366_AUTOMÓVEL_MÉDIO_41-60 4_349_AUTOMÓVEL_MÉDIO_41-60 ==&gt; 1_366_AUTOMÓVEL_MÉDIO_41-60                            </span></td><td>6048</td><td>0.9578714</td><td>1.162964</td></tr>\n",
       "\t<tr><th scope=row>65</th><td><span style=white-space:pre-wrap>1_349_AUTOMÓVEL_MÉDIO_41-60 1_349_AUTOMÓVEL_PEQUENO_41-60 1_350_AUTOMÓVEL_MÉDIO_41-60 2_349_AUTOMÓVEL_PEQUENO_0-40 3_366_AUTOMÓVEL_MÉDIO_41-60 4_349_AUTOMÓVEL_MÉDIO_41-60 4_370_AUTOMÓVEL_MÉDIO_0-40 ==&gt; 1_366_AUTOMÓVEL_MÉDIO_41-60                                                                                       </span></td><td>6044</td><td>0.9578447</td><td>1.162932</td></tr>\n",
       "\t<tr><th scope=row>64</th><td><span style=white-space:pre-wrap>1_349_AUTOMÓVEL_MÉDIO_41-60 1_349_AUTOMÓVEL_PEQUENO_41-60 1_350_AUTOMÓVEL_MÉDIO_41-60 2_349_AUTOMÓVEL_PEQUENO_0-40 3_349_AUTOMÓVEL_MÉDIO_41-60 3_366_AUTOMÓVEL_MÉDIO_41-60 4_370_AUTOMÓVEL_MÉDIO_0-40 ==&gt; 1_366_AUTOMÓVEL_MÉDIO_41-60                                                                                       </span></td><td>6043</td><td>0.9578380</td><td>1.162924</td></tr>\n",
       "\t<tr><th scope=row>119</th><td><span style=white-space:pre-wrap>1_349_AUTOMÓVEL_MÉDIO_41-60 1_349_AUTOMÓVEL_PEQUENO_41-60 1_350_AUTOMÓVEL_MÉDIO_41-60 2_349_AUTOMÓVEL_PEQUENO_0-40 2_350_AUTOMÓVEL_MÉDIO_41-60 3_366_AUTOMÓVEL_MÉDIO_41-60 4_349_AUTOMÓVEL_MÉDIO_41-60 4_370_AUTOMÓVEL_MÉDIO_0-40 ==&gt; 1_366_AUTOMÓVEL_MÉDIO_41-60                                                           </span></td><td>6042</td><td>0.9578313</td><td>1.162916</td></tr>\n",
       "</tbody>\n",
       "</table>\n"
      ],
      "text/latex": [
       "A data.frame: 10 × 4\n",
       "\\begin{tabular}{r|llll}\n",
       "  & Regra & Suporte & Confiança & Lift\\\\\n",
       "  & <chr> & <dbl> & <dbl> & <dbl>\\\\\n",
       "\\hline\n",
       "\t120 & 1\\_349\\_AUTOMÓVEL\\_MÉDIO\\_41-60 1\\_349\\_AUTOMÓVEL\\_PEQUENO\\_41-60 1\\_350\\_AUTOMÓVEL\\_MÉDIO\\_41-60 2\\_349\\_AUTOMÓVEL\\_PEQUENO\\_0-40 3\\_349\\_AUTOMÓVEL\\_MÉDIO\\_41-60 3\\_366\\_AUTOMÓVEL\\_MÉDIO\\_41-60 4\\_349\\_AUTOMÓVEL\\_MÉDIO\\_41-60 4\\_370\\_AUTOMÓVEL\\_MÉDIO\\_0-40 ==> 1\\_366\\_AUTOMÓVEL\\_MÉDIO\\_41-60                                                            & 6041 & 0.9584325 & 1.163646\\\\\n",
       "\t155 & 1\\_349\\_AUTOMÓVEL\\_MÉDIO\\_41-60 1\\_349\\_AUTOMÓVEL\\_PEQUENO\\_41-60 1\\_350\\_AUTOMÓVEL\\_MÉDIO\\_41-60 2\\_349\\_AUTOMÓVEL\\_PEQUENO\\_0-40 2\\_350\\_AUTOMÓVEL\\_MÉDIO\\_41-60 3\\_349\\_AUTOMÓVEL\\_MÉDIO\\_41-60 3\\_366\\_AUTOMÓVEL\\_MÉDIO\\_41-60 4\\_349\\_AUTOMÓVEL\\_MÉDIO\\_41-60 4\\_370\\_AUTOMÓVEL\\_MÉDIO\\_0-40 ==> 1\\_366\\_AUTOMÓVEL\\_MÉDIO\\_41-60                                & 6039 & 0.9584193 & 1.163630\\\\\n",
       "\t160 & 1\\_349\\_AUTOMÓVEL\\_MÉDIO\\_41-60 1\\_349\\_AUTOMÓVEL\\_PEQUENO\\_0-40 1\\_349\\_AUTOMÓVEL\\_PEQUENO\\_41-60 1\\_350\\_AUTOMÓVEL\\_MÉDIO\\_41-60 2\\_349\\_AUTOMÓVEL\\_MÉDIO\\_41-60 2\\_349\\_AUTOMÓVEL\\_PEQUENO\\_41-60 2\\_350\\_AUTOMÓVEL\\_MÉDIO\\_41-60 3\\_349\\_AUTOMÓVEL\\_MÉDIO\\_41-60 3\\_366\\_AUTOMÓVEL\\_MÉDIO\\_41-60 4\\_349\\_AUTOMÓVEL\\_MÉDIO\\_41-60 ==> 1\\_366\\_AUTOMÓVEL\\_MÉDIO\\_41-60 & 6045 & 0.9581550 & 1.163309\\\\\n",
       "\t142 & 1\\_349\\_AUTOMÓVEL\\_MÉDIO\\_41-60 1\\_349\\_AUTOMÓVEL\\_PEQUENO\\_0-40 1\\_349\\_AUTOMÓVEL\\_PEQUENO\\_41-60 1\\_350\\_AUTOMÓVEL\\_MÉDIO\\_41-60 2\\_349\\_AUTOMÓVEL\\_MÉDIO\\_41-60 2\\_349\\_AUTOMÓVEL\\_PEQUENO\\_41-60 3\\_349\\_AUTOMÓVEL\\_MÉDIO\\_41-60 3\\_366\\_AUTOMÓVEL\\_MÉDIO\\_41-60 4\\_349\\_AUTOMÓVEL\\_MÉDIO\\_41-60 ==> 1\\_366\\_AUTOMÓVEL\\_MÉDIO\\_41-60                             & 6048 & 0.9580231 & 1.163149\\\\\n",
       "\t143 & 1\\_349\\_AUTOMÓVEL\\_MÉDIO\\_41-60 1\\_349\\_AUTOMÓVEL\\_PEQUENO\\_0-40 1\\_349\\_AUTOMÓVEL\\_PEQUENO\\_41-60 1\\_350\\_AUTOMÓVEL\\_MÉDIO\\_41-60 2\\_349\\_AUTOMÓVEL\\_MÉDIO\\_41-60 2\\_350\\_AUTOMÓVEL\\_MÉDIO\\_41-60 3\\_349\\_AUTOMÓVEL\\_MÉDIO\\_41-60 3\\_366\\_AUTOMÓVEL\\_MÉDIO\\_41-60 4\\_349\\_AUTOMÓVEL\\_MÉDIO\\_41-60 ==> 1\\_366\\_AUTOMÓVEL\\_MÉDIO\\_41-60                               & 6047 & 0.9580165 & 1.163141\\\\\n",
       "\t90 & 1\\_349\\_AUTOMÓVEL\\_MÉDIO\\_41-60 1\\_349\\_AUTOMÓVEL\\_PEQUENO\\_0-40 1\\_349\\_AUTOMÓVEL\\_PEQUENO\\_41-60 1\\_350\\_AUTOMÓVEL\\_MÉDIO\\_41-60 2\\_349\\_AUTOMÓVEL\\_MÉDIO\\_41-60 3\\_349\\_AUTOMÓVEL\\_MÉDIO\\_41-60 3\\_366\\_AUTOMÓVEL\\_MÉDIO\\_41-60 4\\_349\\_AUTOMÓVEL\\_MÉDIO\\_41-60 ==> 1\\_366\\_AUTOMÓVEL\\_MÉDIO\\_41-60                                                           & 6050 & 0.9578847 & 1.162981\\\\\n",
       "\t141 & 1\\_349\\_AUTOMÓVEL\\_MÉDIO\\_41-60 1\\_349\\_AUTOMÓVEL\\_PEQUENO\\_0-40 1\\_349\\_AUTOMÓVEL\\_PEQUENO\\_41-60 1\\_350\\_AUTOMÓVEL\\_MÉDIO\\_41-60 2\\_349\\_AUTOMÓVEL\\_MÉDIO\\_41-60 2\\_349\\_AUTOMÓVEL\\_PEQUENO\\_41-60 2\\_350\\_AUTOMÓVEL\\_MÉDIO\\_41-60 3\\_366\\_AUTOMÓVEL\\_MÉDIO\\_41-60 4\\_349\\_AUTOMÓVEL\\_MÉDIO\\_41-60 ==> 1\\_366\\_AUTOMÓVEL\\_MÉDIO\\_41-60                             & 6048 & 0.9578714 & 1.162964\\\\\n",
       "\t65 & 1\\_349\\_AUTOMÓVEL\\_MÉDIO\\_41-60 1\\_349\\_AUTOMÓVEL\\_PEQUENO\\_41-60 1\\_350\\_AUTOMÓVEL\\_MÉDIO\\_41-60 2\\_349\\_AUTOMÓVEL\\_PEQUENO\\_0-40 3\\_366\\_AUTOMÓVEL\\_MÉDIO\\_41-60 4\\_349\\_AUTOMÓVEL\\_MÉDIO\\_41-60 4\\_370\\_AUTOMÓVEL\\_MÉDIO\\_0-40 ==> 1\\_366\\_AUTOMÓVEL\\_MÉDIO\\_41-60                                                                                        & 6044 & 0.9578447 & 1.162932\\\\\n",
       "\t64 & 1\\_349\\_AUTOMÓVEL\\_MÉDIO\\_41-60 1\\_349\\_AUTOMÓVEL\\_PEQUENO\\_41-60 1\\_350\\_AUTOMÓVEL\\_MÉDIO\\_41-60 2\\_349\\_AUTOMÓVEL\\_PEQUENO\\_0-40 3\\_349\\_AUTOMÓVEL\\_MÉDIO\\_41-60 3\\_366\\_AUTOMÓVEL\\_MÉDIO\\_41-60 4\\_370\\_AUTOMÓVEL\\_MÉDIO\\_0-40 ==> 1\\_366\\_AUTOMÓVEL\\_MÉDIO\\_41-60                                                                                        & 6043 & 0.9578380 & 1.162924\\\\\n",
       "\t119 & 1\\_349\\_AUTOMÓVEL\\_MÉDIO\\_41-60 1\\_349\\_AUTOMÓVEL\\_PEQUENO\\_41-60 1\\_350\\_AUTOMÓVEL\\_MÉDIO\\_41-60 2\\_349\\_AUTOMÓVEL\\_PEQUENO\\_0-40 2\\_350\\_AUTOMÓVEL\\_MÉDIO\\_41-60 3\\_366\\_AUTOMÓVEL\\_MÉDIO\\_41-60 4\\_349\\_AUTOMÓVEL\\_MÉDIO\\_41-60 4\\_370\\_AUTOMÓVEL\\_MÉDIO\\_0-40 ==> 1\\_366\\_AUTOMÓVEL\\_MÉDIO\\_41-60                                                            & 6042 & 0.9578313 & 1.162916\\\\\n",
       "\\end{tabular}\n"
      ],
      "text/markdown": [
       "\n",
       "A data.frame: 10 × 4\n",
       "\n",
       "| <!--/--> | Regra &lt;chr&gt; | Suporte &lt;dbl&gt; | Confiança &lt;dbl&gt; | Lift &lt;dbl&gt; |\n",
       "|---|---|---|---|---|\n",
       "| 120 | 1_349_AUTOMÓVEL_MÉDIO_41-60 1_349_AUTOMÓVEL_PEQUENO_41-60 1_350_AUTOMÓVEL_MÉDIO_41-60 2_349_AUTOMÓVEL_PEQUENO_0-40 3_349_AUTOMÓVEL_MÉDIO_41-60 3_366_AUTOMÓVEL_MÉDIO_41-60 4_349_AUTOMÓVEL_MÉDIO_41-60 4_370_AUTOMÓVEL_MÉDIO_0-40 ==&gt; 1_366_AUTOMÓVEL_MÉDIO_41-60                                                            | 6041 | 0.9584325 | 1.163646 |\n",
       "| 155 | 1_349_AUTOMÓVEL_MÉDIO_41-60 1_349_AUTOMÓVEL_PEQUENO_41-60 1_350_AUTOMÓVEL_MÉDIO_41-60 2_349_AUTOMÓVEL_PEQUENO_0-40 2_350_AUTOMÓVEL_MÉDIO_41-60 3_349_AUTOMÓVEL_MÉDIO_41-60 3_366_AUTOMÓVEL_MÉDIO_41-60 4_349_AUTOMÓVEL_MÉDIO_41-60 4_370_AUTOMÓVEL_MÉDIO_0-40 ==&gt; 1_366_AUTOMÓVEL_MÉDIO_41-60                                | 6039 | 0.9584193 | 1.163630 |\n",
       "| 160 | 1_349_AUTOMÓVEL_MÉDIO_41-60 1_349_AUTOMÓVEL_PEQUENO_0-40 1_349_AUTOMÓVEL_PEQUENO_41-60 1_350_AUTOMÓVEL_MÉDIO_41-60 2_349_AUTOMÓVEL_MÉDIO_41-60 2_349_AUTOMÓVEL_PEQUENO_41-60 2_350_AUTOMÓVEL_MÉDIO_41-60 3_349_AUTOMÓVEL_MÉDIO_41-60 3_366_AUTOMÓVEL_MÉDIO_41-60 4_349_AUTOMÓVEL_MÉDIO_41-60 ==&gt; 1_366_AUTOMÓVEL_MÉDIO_41-60 | 6045 | 0.9581550 | 1.163309 |\n",
       "| 142 | 1_349_AUTOMÓVEL_MÉDIO_41-60 1_349_AUTOMÓVEL_PEQUENO_0-40 1_349_AUTOMÓVEL_PEQUENO_41-60 1_350_AUTOMÓVEL_MÉDIO_41-60 2_349_AUTOMÓVEL_MÉDIO_41-60 2_349_AUTOMÓVEL_PEQUENO_41-60 3_349_AUTOMÓVEL_MÉDIO_41-60 3_366_AUTOMÓVEL_MÉDIO_41-60 4_349_AUTOMÓVEL_MÉDIO_41-60 ==&gt; 1_366_AUTOMÓVEL_MÉDIO_41-60                             | 6048 | 0.9580231 | 1.163149 |\n",
       "| 143 | 1_349_AUTOMÓVEL_MÉDIO_41-60 1_349_AUTOMÓVEL_PEQUENO_0-40 1_349_AUTOMÓVEL_PEQUENO_41-60 1_350_AUTOMÓVEL_MÉDIO_41-60 2_349_AUTOMÓVEL_MÉDIO_41-60 2_350_AUTOMÓVEL_MÉDIO_41-60 3_349_AUTOMÓVEL_MÉDIO_41-60 3_366_AUTOMÓVEL_MÉDIO_41-60 4_349_AUTOMÓVEL_MÉDIO_41-60 ==&gt; 1_366_AUTOMÓVEL_MÉDIO_41-60                               | 6047 | 0.9580165 | 1.163141 |\n",
       "| 90 | 1_349_AUTOMÓVEL_MÉDIO_41-60 1_349_AUTOMÓVEL_PEQUENO_0-40 1_349_AUTOMÓVEL_PEQUENO_41-60 1_350_AUTOMÓVEL_MÉDIO_41-60 2_349_AUTOMÓVEL_MÉDIO_41-60 3_349_AUTOMÓVEL_MÉDIO_41-60 3_366_AUTOMÓVEL_MÉDIO_41-60 4_349_AUTOMÓVEL_MÉDIO_41-60 ==&gt; 1_366_AUTOMÓVEL_MÉDIO_41-60                                                           | 6050 | 0.9578847 | 1.162981 |\n",
       "| 141 | 1_349_AUTOMÓVEL_MÉDIO_41-60 1_349_AUTOMÓVEL_PEQUENO_0-40 1_349_AUTOMÓVEL_PEQUENO_41-60 1_350_AUTOMÓVEL_MÉDIO_41-60 2_349_AUTOMÓVEL_MÉDIO_41-60 2_349_AUTOMÓVEL_PEQUENO_41-60 2_350_AUTOMÓVEL_MÉDIO_41-60 3_366_AUTOMÓVEL_MÉDIO_41-60 4_349_AUTOMÓVEL_MÉDIO_41-60 ==&gt; 1_366_AUTOMÓVEL_MÉDIO_41-60                             | 6048 | 0.9578714 | 1.162964 |\n",
       "| 65 | 1_349_AUTOMÓVEL_MÉDIO_41-60 1_349_AUTOMÓVEL_PEQUENO_41-60 1_350_AUTOMÓVEL_MÉDIO_41-60 2_349_AUTOMÓVEL_PEQUENO_0-40 3_366_AUTOMÓVEL_MÉDIO_41-60 4_349_AUTOMÓVEL_MÉDIO_41-60 4_370_AUTOMÓVEL_MÉDIO_0-40 ==&gt; 1_366_AUTOMÓVEL_MÉDIO_41-60                                                                                        | 6044 | 0.9578447 | 1.162932 |\n",
       "| 64 | 1_349_AUTOMÓVEL_MÉDIO_41-60 1_349_AUTOMÓVEL_PEQUENO_41-60 1_350_AUTOMÓVEL_MÉDIO_41-60 2_349_AUTOMÓVEL_PEQUENO_0-40 3_349_AUTOMÓVEL_MÉDIO_41-60 3_366_AUTOMÓVEL_MÉDIO_41-60 4_370_AUTOMÓVEL_MÉDIO_0-40 ==&gt; 1_366_AUTOMÓVEL_MÉDIO_41-60                                                                                        | 6043 | 0.9578380 | 1.162924 |\n",
       "| 119 | 1_349_AUTOMÓVEL_MÉDIO_41-60 1_349_AUTOMÓVEL_PEQUENO_41-60 1_350_AUTOMÓVEL_MÉDIO_41-60 2_349_AUTOMÓVEL_PEQUENO_0-40 2_350_AUTOMÓVEL_MÉDIO_41-60 3_366_AUTOMÓVEL_MÉDIO_41-60 4_349_AUTOMÓVEL_MÉDIO_41-60 4_370_AUTOMÓVEL_MÉDIO_0-40 ==&gt; 1_366_AUTOMÓVEL_MÉDIO_41-60                                                            | 6042 | 0.9578313 | 1.162916 |\n",
       "\n"
      ],
      "text/plain": [
       "    Regra                                                                                                                                                                                                                                                                                                                       \n",
       "120 1_349_AUTOMÓVEL_MÉDIO_41-60 1_349_AUTOMÓVEL_PEQUENO_41-60 1_350_AUTOMÓVEL_MÉDIO_41-60 2_349_AUTOMÓVEL_PEQUENO_0-40 3_349_AUTOMÓVEL_MÉDIO_41-60 3_366_AUTOMÓVEL_MÉDIO_41-60 4_349_AUTOMÓVEL_MÉDIO_41-60 4_370_AUTOMÓVEL_MÉDIO_0-40 ==> 1_366_AUTOMÓVEL_MÉDIO_41-60                                                           \n",
       "155 1_349_AUTOMÓVEL_MÉDIO_41-60 1_349_AUTOMÓVEL_PEQUENO_41-60 1_350_AUTOMÓVEL_MÉDIO_41-60 2_349_AUTOMÓVEL_PEQUENO_0-40 2_350_AUTOMÓVEL_MÉDIO_41-60 3_349_AUTOMÓVEL_MÉDIO_41-60 3_366_AUTOMÓVEL_MÉDIO_41-60 4_349_AUTOMÓVEL_MÉDIO_41-60 4_370_AUTOMÓVEL_MÉDIO_0-40 ==> 1_366_AUTOMÓVEL_MÉDIO_41-60                               \n",
       "160 1_349_AUTOMÓVEL_MÉDIO_41-60 1_349_AUTOMÓVEL_PEQUENO_0-40 1_349_AUTOMÓVEL_PEQUENO_41-60 1_350_AUTOMÓVEL_MÉDIO_41-60 2_349_AUTOMÓVEL_MÉDIO_41-60 2_349_AUTOMÓVEL_PEQUENO_41-60 2_350_AUTOMÓVEL_MÉDIO_41-60 3_349_AUTOMÓVEL_MÉDIO_41-60 3_366_AUTOMÓVEL_MÉDIO_41-60 4_349_AUTOMÓVEL_MÉDIO_41-60 ==> 1_366_AUTOMÓVEL_MÉDIO_41-60\n",
       "142 1_349_AUTOMÓVEL_MÉDIO_41-60 1_349_AUTOMÓVEL_PEQUENO_0-40 1_349_AUTOMÓVEL_PEQUENO_41-60 1_350_AUTOMÓVEL_MÉDIO_41-60 2_349_AUTOMÓVEL_MÉDIO_41-60 2_349_AUTOMÓVEL_PEQUENO_41-60 3_349_AUTOMÓVEL_MÉDIO_41-60 3_366_AUTOMÓVEL_MÉDIO_41-60 4_349_AUTOMÓVEL_MÉDIO_41-60 ==> 1_366_AUTOMÓVEL_MÉDIO_41-60                            \n",
       "143 1_349_AUTOMÓVEL_MÉDIO_41-60 1_349_AUTOMÓVEL_PEQUENO_0-40 1_349_AUTOMÓVEL_PEQUENO_41-60 1_350_AUTOMÓVEL_MÉDIO_41-60 2_349_AUTOMÓVEL_MÉDIO_41-60 2_350_AUTOMÓVEL_MÉDIO_41-60 3_349_AUTOMÓVEL_MÉDIO_41-60 3_366_AUTOMÓVEL_MÉDIO_41-60 4_349_AUTOMÓVEL_MÉDIO_41-60 ==> 1_366_AUTOMÓVEL_MÉDIO_41-60                              \n",
       "90  1_349_AUTOMÓVEL_MÉDIO_41-60 1_349_AUTOMÓVEL_PEQUENO_0-40 1_349_AUTOMÓVEL_PEQUENO_41-60 1_350_AUTOMÓVEL_MÉDIO_41-60 2_349_AUTOMÓVEL_MÉDIO_41-60 3_349_AUTOMÓVEL_MÉDIO_41-60 3_366_AUTOMÓVEL_MÉDIO_41-60 4_349_AUTOMÓVEL_MÉDIO_41-60 ==> 1_366_AUTOMÓVEL_MÉDIO_41-60                                                          \n",
       "141 1_349_AUTOMÓVEL_MÉDIO_41-60 1_349_AUTOMÓVEL_PEQUENO_0-40 1_349_AUTOMÓVEL_PEQUENO_41-60 1_350_AUTOMÓVEL_MÉDIO_41-60 2_349_AUTOMÓVEL_MÉDIO_41-60 2_349_AUTOMÓVEL_PEQUENO_41-60 2_350_AUTOMÓVEL_MÉDIO_41-60 3_366_AUTOMÓVEL_MÉDIO_41-60 4_349_AUTOMÓVEL_MÉDIO_41-60 ==> 1_366_AUTOMÓVEL_MÉDIO_41-60                            \n",
       "65  1_349_AUTOMÓVEL_MÉDIO_41-60 1_349_AUTOMÓVEL_PEQUENO_41-60 1_350_AUTOMÓVEL_MÉDIO_41-60 2_349_AUTOMÓVEL_PEQUENO_0-40 3_366_AUTOMÓVEL_MÉDIO_41-60 4_349_AUTOMÓVEL_MÉDIO_41-60 4_370_AUTOMÓVEL_MÉDIO_0-40 ==> 1_366_AUTOMÓVEL_MÉDIO_41-60                                                                                       \n",
       "64  1_349_AUTOMÓVEL_MÉDIO_41-60 1_349_AUTOMÓVEL_PEQUENO_41-60 1_350_AUTOMÓVEL_MÉDIO_41-60 2_349_AUTOMÓVEL_PEQUENO_0-40 3_349_AUTOMÓVEL_MÉDIO_41-60 3_366_AUTOMÓVEL_MÉDIO_41-60 4_370_AUTOMÓVEL_MÉDIO_0-40 ==> 1_366_AUTOMÓVEL_MÉDIO_41-60                                                                                       \n",
       "119 1_349_AUTOMÓVEL_MÉDIO_41-60 1_349_AUTOMÓVEL_PEQUENO_41-60 1_350_AUTOMÓVEL_MÉDIO_41-60 2_349_AUTOMÓVEL_PEQUENO_0-40 2_350_AUTOMÓVEL_MÉDIO_41-60 3_366_AUTOMÓVEL_MÉDIO_41-60 4_349_AUTOMÓVEL_MÉDIO_41-60 4_370_AUTOMÓVEL_MÉDIO_0-40 ==> 1_366_AUTOMÓVEL_MÉDIO_41-60                                                           \n",
       "    Suporte Confiança Lift    \n",
       "120 6041    0.9584325 1.163646\n",
       "155 6039    0.9584193 1.163630\n",
       "160 6045    0.9581550 1.163309\n",
       "142 6048    0.9580231 1.163149\n",
       "143 6047    0.9580165 1.163141\n",
       "90  6050    0.9578847 1.162981\n",
       "141 6048    0.9578714 1.162964\n",
       "65  6044    0.9578447 1.162932\n",
       "64  6043    0.9578380 1.162924\n",
       "119 6042    0.9578313 1.162916"
      ]
     },
     "metadata": {},
     "output_type": "display_data"
    }
   ],
   "source": [
    "regras <- read.csv('D:/share/regras.csv')\n",
    "colnames(regras) <- c(\"Regra\", \"Suporte\", \"Confiança\", \"Lift\")\n",
    "regras[order(regras$Lift, decreasing = TRUE), ][1:10,]"
   ]
  },
  {
   "cell_type": "markdown",
   "id": "c47066f5-2ba5-4a5d-910c-18b57ed07287",
   "metadata": {},
   "source": [
    "# Processamento de sequencias\n",
    "Para processar dos dados em sequência agrupamos os registros em três sequências de 5 minutos\n"
   ]
  },
  {
   "cell_type": "code",
   "execution_count": 13,
   "id": "7c26aac4-e8c7-48fe-803e-aae648f650bc",
   "metadata": {},
   "outputs": [],
   "source": [
    "sequencia <- contorno %>%\n",
    "  group_by(Dia = day(`DATA HORA`), Minuto = floor_date(`DATA HORA`, unit = \"5minutes\")) %>%\n",
    "  summarise(\n",
    "    ITEMSET = paste0(unique(ID), collapse = \" \"),\n",
    "    .groups = 'drop') %>%\n",
    "  group_by(Dia, floor_date(Minuto, unit = \"15minutes\")) %>%\n",
    "  summarise(ITEMSET = paste0(ITEMSET, collapse = \" -1 \"), .groups = 'drop')"
   ]
  },
  {
   "cell_type": "code",
   "execution_count": 14,
   "id": "c95e001d-7aa7-4f5d-84eb-5444780f5f05",
   "metadata": {},
   "outputs": [],
   "source": [
    "sequencia$ITEMSET = paste(sequencia$ITEMSET, \"-2\")\n",
    "gera_preambulo(\"D:/share/arquivoseq.txt\", ind)\n",
    "write(sequencia$ITEMSET, \"D:/share/arquivoseq.txt\", append = TRUE)"
   ]
  },
  {
   "cell_type": "markdown",
   "id": "8ac585d1-f5ad-439f-a347-7d1120e26702",
   "metadata": {},
   "source": [
    "# Processamento de sequências\n",
    "O algoritmo utilizado foi o SPADE Paralelizado com suporte mínimo de 0.95"
   ]
  },
  {
   "cell_type": "code",
   "execution_count": 15,
   "id": "521d9eea-ae4d-4cbf-974b-eb1a5e1cfa18",
   "metadata": {},
   "outputs": [
    {
     "data": {
      "text/html": [
       "<table class=\"dataframe\">\n",
       "<caption>A data.frame: 15 × 2</caption>\n",
       "<thead>\n",
       "\t<tr><th></th><th scope=col>Regra</th><th scope=col>Suporte</th></tr>\n",
       "\t<tr><th></th><th scope=col>&lt;chr&gt;</th><th scope=col>&lt;dbl&gt;</th></tr>\n",
       "</thead>\n",
       "<tbody>\n",
       "\t<tr><th scope=row>22</th><td>4_349_AUTOMÓVEL_MÉDIO_41-60 -1  </td><td>2683</td></tr>\n",
       "\t<tr><th scope=row>12</th><td>2_350_AUTOMÓVEL_MÉDIO_41-60 -1  </td><td>2680</td></tr>\n",
       "\t<tr><th scope=row>8</th><td>2_349_AUTOMÓVEL_MÉDIO_41-60 -1  </td><td>2677</td></tr>\n",
       "\t<tr><th scope=row>10</th><td>2_349_AUTOMÓVEL_PEQUENO_41-60 -1</td><td>2677</td></tr>\n",
       "\t<tr><th scope=row>16</th><td>3_349_AUTOMÓVEL_MÉDIO_41-60 -1  </td><td>2674</td></tr>\n",
       "\t<tr><th scope=row>23</th><td>4_370_AUTOMÓVEL_MÉDIO_0-40 -1   </td><td>2671</td></tr>\n",
       "\t<tr><th scope=row>4</th><td>1_349_AUTOMÓVEL_PEQUENO_41-60 -1</td><td>2667</td></tr>\n",
       "\t<tr><th scope=row>7</th><td>2_349_AUTOMÓVEL_MÉDIO_0-40 -1   </td><td>2655</td></tr>\n",
       "\t<tr><th scope=row>9</th><td>2_349_AUTOMÓVEL_PEQUENO_0-40 -1 </td><td>2650</td></tr>\n",
       "\t<tr><th scope=row>14</th><td>2_366_AUTOMÓVEL_MÉDIO_41-60 -1  </td><td>2631</td></tr>\n",
       "\t<tr><th scope=row>3</th><td>1_349_AUTOMÓVEL_PEQUENO_0-40 -1 </td><td>2624</td></tr>\n",
       "\t<tr><th scope=row>5</th><td>2_328_AUTOMÓVEL_MÉDIO_41-60 -1  </td><td>2623</td></tr>\n",
       "\t<tr><th scope=row>6</th><td>2_328_AUTOMÓVEL_PEQUENO_41-60 -1</td><td>2612</td></tr>\n",
       "\t<tr><th scope=row>15</th><td>3_349_AUTOMÓVEL_MÉDIO_0-40 -1   </td><td>2611</td></tr>\n",
       "\t<tr><th scope=row>1</th><td>1_328_AUTOMÓVEL_PEQUENO_41-60 -1</td><td>2607</td></tr>\n",
       "</tbody>\n",
       "</table>\n"
      ],
      "text/latex": [
       "A data.frame: 15 × 2\n",
       "\\begin{tabular}{r|ll}\n",
       "  & Regra & Suporte\\\\\n",
       "  & <chr> & <dbl>\\\\\n",
       "\\hline\n",
       "\t22 & 4\\_349\\_AUTOMÓVEL\\_MÉDIO\\_41-60 -1   & 2683\\\\\n",
       "\t12 & 2\\_350\\_AUTOMÓVEL\\_MÉDIO\\_41-60 -1   & 2680\\\\\n",
       "\t8 & 2\\_349\\_AUTOMÓVEL\\_MÉDIO\\_41-60 -1   & 2677\\\\\n",
       "\t10 & 2\\_349\\_AUTOMÓVEL\\_PEQUENO\\_41-60 -1 & 2677\\\\\n",
       "\t16 & 3\\_349\\_AUTOMÓVEL\\_MÉDIO\\_41-60 -1   & 2674\\\\\n",
       "\t23 & 4\\_370\\_AUTOMÓVEL\\_MÉDIO\\_0-40 -1    & 2671\\\\\n",
       "\t4 & 1\\_349\\_AUTOMÓVEL\\_PEQUENO\\_41-60 -1 & 2667\\\\\n",
       "\t7 & 2\\_349\\_AUTOMÓVEL\\_MÉDIO\\_0-40 -1    & 2655\\\\\n",
       "\t9 & 2\\_349\\_AUTOMÓVEL\\_PEQUENO\\_0-40 -1  & 2650\\\\\n",
       "\t14 & 2\\_366\\_AUTOMÓVEL\\_MÉDIO\\_41-60 -1   & 2631\\\\\n",
       "\t3 & 1\\_349\\_AUTOMÓVEL\\_PEQUENO\\_0-40 -1  & 2624\\\\\n",
       "\t5 & 2\\_328\\_AUTOMÓVEL\\_MÉDIO\\_41-60 -1   & 2623\\\\\n",
       "\t6 & 2\\_328\\_AUTOMÓVEL\\_PEQUENO\\_41-60 -1 & 2612\\\\\n",
       "\t15 & 3\\_349\\_AUTOMÓVEL\\_MÉDIO\\_0-40 -1    & 2611\\\\\n",
       "\t1 & 1\\_328\\_AUTOMÓVEL\\_PEQUENO\\_41-60 -1 & 2607\\\\\n",
       "\\end{tabular}\n"
      ],
      "text/markdown": [
       "\n",
       "A data.frame: 15 × 2\n",
       "\n",
       "| <!--/--> | Regra &lt;chr&gt; | Suporte &lt;dbl&gt; |\n",
       "|---|---|---|\n",
       "| 22 | 4_349_AUTOMÓVEL_MÉDIO_41-60 -1   | 2683 |\n",
       "| 12 | 2_350_AUTOMÓVEL_MÉDIO_41-60 -1   | 2680 |\n",
       "| 8 | 2_349_AUTOMÓVEL_MÉDIO_41-60 -1   | 2677 |\n",
       "| 10 | 2_349_AUTOMÓVEL_PEQUENO_41-60 -1 | 2677 |\n",
       "| 16 | 3_349_AUTOMÓVEL_MÉDIO_41-60 -1   | 2674 |\n",
       "| 23 | 4_370_AUTOMÓVEL_MÉDIO_0-40 -1    | 2671 |\n",
       "| 4 | 1_349_AUTOMÓVEL_PEQUENO_41-60 -1 | 2667 |\n",
       "| 7 | 2_349_AUTOMÓVEL_MÉDIO_0-40 -1    | 2655 |\n",
       "| 9 | 2_349_AUTOMÓVEL_PEQUENO_0-40 -1  | 2650 |\n",
       "| 14 | 2_366_AUTOMÓVEL_MÉDIO_41-60 -1   | 2631 |\n",
       "| 3 | 1_349_AUTOMÓVEL_PEQUENO_0-40 -1  | 2624 |\n",
       "| 5 | 2_328_AUTOMÓVEL_MÉDIO_41-60 -1   | 2623 |\n",
       "| 6 | 2_328_AUTOMÓVEL_PEQUENO_41-60 -1 | 2612 |\n",
       "| 15 | 3_349_AUTOMÓVEL_MÉDIO_0-40 -1    | 2611 |\n",
       "| 1 | 1_328_AUTOMÓVEL_PEQUENO_41-60 -1 | 2607 |\n",
       "\n"
      ],
      "text/plain": [
       "   Regra                            Suporte\n",
       "22 4_349_AUTOMÓVEL_MÉDIO_41-60 -1   2683   \n",
       "12 2_350_AUTOMÓVEL_MÉDIO_41-60 -1   2680   \n",
       "8  2_349_AUTOMÓVEL_MÉDIO_41-60 -1   2677   \n",
       "10 2_349_AUTOMÓVEL_PEQUENO_41-60 -1 2677   \n",
       "16 3_349_AUTOMÓVEL_MÉDIO_41-60 -1   2674   \n",
       "23 4_370_AUTOMÓVEL_MÉDIO_0-40 -1    2671   \n",
       "4  1_349_AUTOMÓVEL_PEQUENO_41-60 -1 2667   \n",
       "7  2_349_AUTOMÓVEL_MÉDIO_0-40 -1    2655   \n",
       "9  2_349_AUTOMÓVEL_PEQUENO_0-40 -1  2650   \n",
       "14 2_366_AUTOMÓVEL_MÉDIO_41-60 -1   2631   \n",
       "3  1_349_AUTOMÓVEL_PEQUENO_0-40 -1  2624   \n",
       "5  2_328_AUTOMÓVEL_MÉDIO_41-60 -1   2623   \n",
       "6  2_328_AUTOMÓVEL_PEQUENO_41-60 -1 2612   \n",
       "15 3_349_AUTOMÓVEL_MÉDIO_0-40 -1    2611   \n",
       "1  1_328_AUTOMÓVEL_PEQUENO_41-60 -1 2607   "
      ]
     },
     "metadata": {},
     "output_type": "display_data"
    }
   ],
   "source": [
    "sq <- read.csv('D:/share/seq.csv')\n",
    "colnames(sq) <- c(\"Regra\", \"Suporte\")\n",
    "sq[order(sq$Suporte, decreasing = TRUE), ][1:15,]"
   ]
  },
  {
   "cell_type": "markdown",
   "id": "4ed85ea1-94f3-458e-b9d7-ed1b3ebd9e1c",
   "metadata": {},
   "source": [
    "# Processamento de regras sequências\n",
    "Para processar as regras sequências foi utilizado o algoritmo Top Seq Rules com 30 padrões e confiança de 70%."
   ]
  },
  {
   "cell_type": "code",
   "execution_count": 16,
   "id": "2a08e519-87d6-45f5-aa69-2f68d7ce18f8",
   "metadata": {},
   "outputs": [
    {
     "data": {
      "text/html": [
       "<table class=\"dataframe\">\n",
       "<caption>A data.frame: 30 × 3</caption>\n",
       "<thead>\n",
       "\t<tr><th></th><th scope=col>Regra</th><th scope=col>Suporte</th><th scope=col>Confiança</th></tr>\n",
       "\t<tr><th></th><th scope=col>&lt;chr&gt;</th><th scope=col>&lt;dbl&gt;</th><th scope=col>&lt;dbl&gt;</th></tr>\n",
       "</thead>\n",
       "<tbody>\n",
       "\t<tr><th scope=row>4</th><td><span style=white-space:pre-wrap>2_350_AUTOMÓVEL_MÉDIO_41-60 ==&gt; 2_349_AUTOMÓVEL_PEQUENO_41-60                            </span></td><td>2583</td><td>0.9677782</td></tr>\n",
       "\t<tr><th scope=row>5</th><td><span style=white-space:pre-wrap>2_349_AUTOMÓVEL_MÉDIO_41-60 ==&gt; 2_349_AUTOMÓVEL_PEQUENO_41-60                            </span></td><td>2583</td><td>0.9695946</td></tr>\n",
       "\t<tr><th scope=row>7</th><td><span style=white-space:pre-wrap>2_350_AUTOMÓVEL_MÉDIO_41-60 ==&gt; 4_349_AUTOMÓVEL_MÉDIO_41-60                              </span></td><td>2577</td><td>0.9655302</td></tr>\n",
       "\t<tr><th scope=row>6</th><td><span style=white-space:pre-wrap>4_349_AUTOMÓVEL_MÉDIO_41-60 ==&gt; 2_349_AUTOMÓVEL_PEQUENO_41-60                            </span></td><td>2576</td><td>0.9669670</td></tr>\n",
       "\t<tr><th scope=row>3</th><td><span style=white-space:pre-wrap>2_349_AUTOMÓVEL_PEQUENO_41-60 ==&gt; 2_349_AUTOMÓVEL_MÉDIO_41-60                            </span></td><td>2574</td><td>0.9654914</td></tr>\n",
       "\t<tr><th scope=row>8</th><td><span style=white-space:pre-wrap>2_350_AUTOMÓVEL_MÉDIO_41-60 ==&gt; 2_349_AUTOMÓVEL_MÉDIO_41-60                              </span></td><td>2571</td><td>0.9632821</td></tr>\n",
       "\t<tr><th scope=row>9</th><td><span style=white-space:pre-wrap>2_349_AUTOMÓVEL_PEQUENO_41-60 ==&gt; 2_350_AUTOMÓVEL_MÉDIO_41-60                            </span></td><td>2571</td><td>0.9643661</td></tr>\n",
       "\t<tr><th scope=row>2</th><td><span style=white-space:pre-wrap>2_349_AUTOMÓVEL_MÉDIO_41-60 ==&gt; 4_349_AUTOMÓVEL_MÉDIO_41-60                              </span></td><td>2569</td><td>0.9643393</td></tr>\n",
       "\t<tr><th scope=row>11</th><td><span style=white-space:pre-wrap>2_349_AUTOMÓVEL_PEQUENO_41-60 ==&gt; 4_349_AUTOMÓVEL_MÉDIO_41-60                            </span></td><td>2567</td><td>0.9628657</td></tr>\n",
       "\t<tr><th scope=row>12</th><td><span style=white-space:pre-wrap>2_350_AUTOMÓVEL_MÉDIO_41-60 ==&gt; 3_349_AUTOMÓVEL_MÉDIO_41-60                              </span></td><td>2567</td><td>0.9617834</td></tr>\n",
       "\t<tr><th scope=row>10</th><td><span style=white-space:pre-wrap>3_349_AUTOMÓVEL_MÉDIO_41-60 ==&gt; 2_349_AUTOMÓVEL_PEQUENO_41-60                            </span></td><td>2566</td><td>0.9672069</td></tr>\n",
       "\t<tr><th scope=row>13</th><td><span style=white-space:pre-wrap>4_349_AUTOMÓVEL_MÉDIO_41-60 ==&gt; 2_349_AUTOMÓVEL_MÉDIO_41-60                              </span></td><td>2566</td><td>0.9632132</td></tr>\n",
       "\t<tr><th scope=row>1</th><td><span style=white-space:pre-wrap>2_349_AUTOMÓVEL_MÉDIO_41-60 ==&gt; 2_350_AUTOMÓVEL_MÉDIO_41-60                              </span></td><td>2565</td><td>0.9628378</td></tr>\n",
       "\t<tr><th scope=row>17</th><td><span style=white-space:pre-wrap>4_349_AUTOMÓVEL_MÉDIO_41-60 ==&gt; 2_350_AUTOMÓVEL_MÉDIO_41-60                              </span></td><td>2564</td><td>0.9624625</td></tr>\n",
       "\t<tr><th scope=row>18</th><td><span style=white-space:pre-wrap>4_349_AUTOMÓVEL_MÉDIO_41-60 ==&gt; 3_349_AUTOMÓVEL_MÉDIO_41-60                              </span></td><td>2559</td><td>0.9605856</td></tr>\n",
       "\t<tr><th scope=row>16</th><td><span style=white-space:pre-wrap>2_349_AUTOMÓVEL_MÉDIO_41-60 ==&gt; 3_349_AUTOMÓVEL_MÉDIO_41-60                              </span></td><td>2558</td><td>0.9602102</td></tr>\n",
       "\t<tr><th scope=row>19</th><td><span style=white-space:pre-wrap>2_349_AUTOMÓVEL_PEQUENO_41-60 ==&gt; 3_349_AUTOMÓVEL_MÉDIO_41-60                            </span></td><td>2557</td><td>0.9591148</td></tr>\n",
       "\t<tr><th scope=row>15</th><td><span style=white-space:pre-wrap>3_349_AUTOMÓVEL_MÉDIO_41-60 ==&gt; 2_349_AUTOMÓVEL_MÉDIO_41-60                              </span></td><td>2555</td><td>0.9630607</td></tr>\n",
       "\t<tr><th scope=row>22</th><td><span style=white-space:pre-wrap>3_349_AUTOMÓVEL_MÉDIO_41-60 ==&gt; 4_349_AUTOMÓVEL_MÉDIO_41-60                              </span></td><td>2555</td><td>0.9630607</td></tr>\n",
       "\t<tr><th scope=row>21</th><td><span style=white-space:pre-wrap>3_349_AUTOMÓVEL_MÉDIO_41-60 ==&gt; 2_350_AUTOMÓVEL_MÉDIO_41-60                              </span></td><td>2552</td><td>0.9619299</td></tr>\n",
       "\t<tr><th scope=row>23</th><td>2_350_AUTOMÓVEL_MÉDIO_41-60 ==&gt; 2_349_AUTOMÓVEL_MÉDIO_41-60,2_349_AUTOMÓVEL_PEQUENO_41-60</td><td>2549</td><td>0.9550393</td></tr>\n",
       "\t<tr><th scope=row>20</th><td>2_349_AUTOMÓVEL_MÉDIO_41-60 ==&gt; 2_349_AUTOMÓVEL_PEQUENO_41-60,4_349_AUTOMÓVEL_MÉDIO_41-60</td><td>2545</td><td>0.9553303</td></tr>\n",
       "\t<tr><th scope=row>25</th><td>2_350_AUTOMÓVEL_MÉDIO_41-60 ==&gt; 2_349_AUTOMÓVEL_PEQUENO_41-60,4_349_AUTOMÓVEL_MÉDIO_41-60</td><td>2545</td><td>0.9535407</td></tr>\n",
       "\t<tr><th scope=row>26</th><td>4_349_AUTOMÓVEL_MÉDIO_41-60 ==&gt; 2_349_AUTOMÓVEL_MÉDIO_41-60,2_349_AUTOMÓVEL_PEQUENO_41-60</td><td>2544</td><td>0.9549550</td></tr>\n",
       "\t<tr><th scope=row>24</th><td>2_350_AUTOMÓVEL_MÉDIO_41-60 ==&gt; 2_349_AUTOMÓVEL_PEQUENO_41-60,3_349_AUTOMÓVEL_MÉDIO_41-60</td><td>2541</td><td>0.9520420</td></tr>\n",
       "\t<tr><th scope=row>27</th><td><span style=white-space:pre-wrap>1_349_AUTOMÓVEL_PEQUENO_41-60 ==&gt; 2_349_AUTOMÓVEL_PEQUENO_41-60                          </span></td><td>2541</td><td>0.9606805</td></tr>\n",
       "\t<tr><th scope=row>14</th><td><span style=white-space:pre-wrap>2_350_AUTOMÓVEL_MÉDIO_41-60 ==&gt; 1_349_AUTOMÓVEL_PEQUENO_41-60                            </span></td><td>2539</td><td>0.9512926</td></tr>\n",
       "\t<tr><th scope=row>29</th><td>2_349_AUTOMÓVEL_MÉDIO_41-60 ==&gt; 2_349_AUTOMÓVEL_PEQUENO_41-60,2_350_AUTOMÓVEL_MÉDIO_41-60</td><td>2538</td><td>0.9527027</td></tr>\n",
       "\t<tr><th scope=row>28</th><td>3_349_AUTOMÓVEL_MÉDIO_41-60 ==&gt; 2_349_AUTOMÓVEL_MÉDIO_41-60,2_349_AUTOMÓVEL_PEQUENO_41-60</td><td>2537</td><td>0.9562759</td></tr>\n",
       "\t<tr><th scope=row>30</th><td>2_349_AUTOMÓVEL_MÉDIO_41-60 ==&gt; 2_349_AUTOMÓVEL_PEQUENO_41-60,3_349_AUTOMÓVEL_MÉDIO_41-60</td><td>2537</td><td>0.9523273</td></tr>\n",
       "</tbody>\n",
       "</table>\n"
      ],
      "text/latex": [
       "A data.frame: 30 × 3\n",
       "\\begin{tabular}{r|lll}\n",
       "  & Regra & Suporte & Confiança\\\\\n",
       "  & <chr> & <dbl> & <dbl>\\\\\n",
       "\\hline\n",
       "\t4 & 2\\_350\\_AUTOMÓVEL\\_MÉDIO\\_41-60 ==> 2\\_349\\_AUTOMÓVEL\\_PEQUENO\\_41-60                             & 2583 & 0.9677782\\\\\n",
       "\t5 & 2\\_349\\_AUTOMÓVEL\\_MÉDIO\\_41-60 ==> 2\\_349\\_AUTOMÓVEL\\_PEQUENO\\_41-60                             & 2583 & 0.9695946\\\\\n",
       "\t7 & 2\\_350\\_AUTOMÓVEL\\_MÉDIO\\_41-60 ==> 4\\_349\\_AUTOMÓVEL\\_MÉDIO\\_41-60                               & 2577 & 0.9655302\\\\\n",
       "\t6 & 4\\_349\\_AUTOMÓVEL\\_MÉDIO\\_41-60 ==> 2\\_349\\_AUTOMÓVEL\\_PEQUENO\\_41-60                             & 2576 & 0.9669670\\\\\n",
       "\t3 & 2\\_349\\_AUTOMÓVEL\\_PEQUENO\\_41-60 ==> 2\\_349\\_AUTOMÓVEL\\_MÉDIO\\_41-60                             & 2574 & 0.9654914\\\\\n",
       "\t8 & 2\\_350\\_AUTOMÓVEL\\_MÉDIO\\_41-60 ==> 2\\_349\\_AUTOMÓVEL\\_MÉDIO\\_41-60                               & 2571 & 0.9632821\\\\\n",
       "\t9 & 2\\_349\\_AUTOMÓVEL\\_PEQUENO\\_41-60 ==> 2\\_350\\_AUTOMÓVEL\\_MÉDIO\\_41-60                             & 2571 & 0.9643661\\\\\n",
       "\t2 & 2\\_349\\_AUTOMÓVEL\\_MÉDIO\\_41-60 ==> 4\\_349\\_AUTOMÓVEL\\_MÉDIO\\_41-60                               & 2569 & 0.9643393\\\\\n",
       "\t11 & 2\\_349\\_AUTOMÓVEL\\_PEQUENO\\_41-60 ==> 4\\_349\\_AUTOMÓVEL\\_MÉDIO\\_41-60                             & 2567 & 0.9628657\\\\\n",
       "\t12 & 2\\_350\\_AUTOMÓVEL\\_MÉDIO\\_41-60 ==> 3\\_349\\_AUTOMÓVEL\\_MÉDIO\\_41-60                               & 2567 & 0.9617834\\\\\n",
       "\t10 & 3\\_349\\_AUTOMÓVEL\\_MÉDIO\\_41-60 ==> 2\\_349\\_AUTOMÓVEL\\_PEQUENO\\_41-60                             & 2566 & 0.9672069\\\\\n",
       "\t13 & 4\\_349\\_AUTOMÓVEL\\_MÉDIO\\_41-60 ==> 2\\_349\\_AUTOMÓVEL\\_MÉDIO\\_41-60                               & 2566 & 0.9632132\\\\\n",
       "\t1 & 2\\_349\\_AUTOMÓVEL\\_MÉDIO\\_41-60 ==> 2\\_350\\_AUTOMÓVEL\\_MÉDIO\\_41-60                               & 2565 & 0.9628378\\\\\n",
       "\t17 & 4\\_349\\_AUTOMÓVEL\\_MÉDIO\\_41-60 ==> 2\\_350\\_AUTOMÓVEL\\_MÉDIO\\_41-60                               & 2564 & 0.9624625\\\\\n",
       "\t18 & 4\\_349\\_AUTOMÓVEL\\_MÉDIO\\_41-60 ==> 3\\_349\\_AUTOMÓVEL\\_MÉDIO\\_41-60                               & 2559 & 0.9605856\\\\\n",
       "\t16 & 2\\_349\\_AUTOMÓVEL\\_MÉDIO\\_41-60 ==> 3\\_349\\_AUTOMÓVEL\\_MÉDIO\\_41-60                               & 2558 & 0.9602102\\\\\n",
       "\t19 & 2\\_349\\_AUTOMÓVEL\\_PEQUENO\\_41-60 ==> 3\\_349\\_AUTOMÓVEL\\_MÉDIO\\_41-60                             & 2557 & 0.9591148\\\\\n",
       "\t15 & 3\\_349\\_AUTOMÓVEL\\_MÉDIO\\_41-60 ==> 2\\_349\\_AUTOMÓVEL\\_MÉDIO\\_41-60                               & 2555 & 0.9630607\\\\\n",
       "\t22 & 3\\_349\\_AUTOMÓVEL\\_MÉDIO\\_41-60 ==> 4\\_349\\_AUTOMÓVEL\\_MÉDIO\\_41-60                               & 2555 & 0.9630607\\\\\n",
       "\t21 & 3\\_349\\_AUTOMÓVEL\\_MÉDIO\\_41-60 ==> 2\\_350\\_AUTOMÓVEL\\_MÉDIO\\_41-60                               & 2552 & 0.9619299\\\\\n",
       "\t23 & 2\\_350\\_AUTOMÓVEL\\_MÉDIO\\_41-60 ==> 2\\_349\\_AUTOMÓVEL\\_MÉDIO\\_41-60,2\\_349\\_AUTOMÓVEL\\_PEQUENO\\_41-60 & 2549 & 0.9550393\\\\\n",
       "\t20 & 2\\_349\\_AUTOMÓVEL\\_MÉDIO\\_41-60 ==> 2\\_349\\_AUTOMÓVEL\\_PEQUENO\\_41-60,4\\_349\\_AUTOMÓVEL\\_MÉDIO\\_41-60 & 2545 & 0.9553303\\\\\n",
       "\t25 & 2\\_350\\_AUTOMÓVEL\\_MÉDIO\\_41-60 ==> 2\\_349\\_AUTOMÓVEL\\_PEQUENO\\_41-60,4\\_349\\_AUTOMÓVEL\\_MÉDIO\\_41-60 & 2545 & 0.9535407\\\\\n",
       "\t26 & 4\\_349\\_AUTOMÓVEL\\_MÉDIO\\_41-60 ==> 2\\_349\\_AUTOMÓVEL\\_MÉDIO\\_41-60,2\\_349\\_AUTOMÓVEL\\_PEQUENO\\_41-60 & 2544 & 0.9549550\\\\\n",
       "\t24 & 2\\_350\\_AUTOMÓVEL\\_MÉDIO\\_41-60 ==> 2\\_349\\_AUTOMÓVEL\\_PEQUENO\\_41-60,3\\_349\\_AUTOMÓVEL\\_MÉDIO\\_41-60 & 2541 & 0.9520420\\\\\n",
       "\t27 & 1\\_349\\_AUTOMÓVEL\\_PEQUENO\\_41-60 ==> 2\\_349\\_AUTOMÓVEL\\_PEQUENO\\_41-60                           & 2541 & 0.9606805\\\\\n",
       "\t14 & 2\\_350\\_AUTOMÓVEL\\_MÉDIO\\_41-60 ==> 1\\_349\\_AUTOMÓVEL\\_PEQUENO\\_41-60                             & 2539 & 0.9512926\\\\\n",
       "\t29 & 2\\_349\\_AUTOMÓVEL\\_MÉDIO\\_41-60 ==> 2\\_349\\_AUTOMÓVEL\\_PEQUENO\\_41-60,2\\_350\\_AUTOMÓVEL\\_MÉDIO\\_41-60 & 2538 & 0.9527027\\\\\n",
       "\t28 & 3\\_349\\_AUTOMÓVEL\\_MÉDIO\\_41-60 ==> 2\\_349\\_AUTOMÓVEL\\_MÉDIO\\_41-60,2\\_349\\_AUTOMÓVEL\\_PEQUENO\\_41-60 & 2537 & 0.9562759\\\\\n",
       "\t30 & 2\\_349\\_AUTOMÓVEL\\_MÉDIO\\_41-60 ==> 2\\_349\\_AUTOMÓVEL\\_PEQUENO\\_41-60,3\\_349\\_AUTOMÓVEL\\_MÉDIO\\_41-60 & 2537 & 0.9523273\\\\\n",
       "\\end{tabular}\n"
      ],
      "text/markdown": [
       "\n",
       "A data.frame: 30 × 3\n",
       "\n",
       "| <!--/--> | Regra &lt;chr&gt; | Suporte &lt;dbl&gt; | Confiança &lt;dbl&gt; |\n",
       "|---|---|---|---|\n",
       "| 4 | 2_350_AUTOMÓVEL_MÉDIO_41-60 ==&gt; 2_349_AUTOMÓVEL_PEQUENO_41-60                             | 2583 | 0.9677782 |\n",
       "| 5 | 2_349_AUTOMÓVEL_MÉDIO_41-60 ==&gt; 2_349_AUTOMÓVEL_PEQUENO_41-60                             | 2583 | 0.9695946 |\n",
       "| 7 | 2_350_AUTOMÓVEL_MÉDIO_41-60 ==&gt; 4_349_AUTOMÓVEL_MÉDIO_41-60                               | 2577 | 0.9655302 |\n",
       "| 6 | 4_349_AUTOMÓVEL_MÉDIO_41-60 ==&gt; 2_349_AUTOMÓVEL_PEQUENO_41-60                             | 2576 | 0.9669670 |\n",
       "| 3 | 2_349_AUTOMÓVEL_PEQUENO_41-60 ==&gt; 2_349_AUTOMÓVEL_MÉDIO_41-60                             | 2574 | 0.9654914 |\n",
       "| 8 | 2_350_AUTOMÓVEL_MÉDIO_41-60 ==&gt; 2_349_AUTOMÓVEL_MÉDIO_41-60                               | 2571 | 0.9632821 |\n",
       "| 9 | 2_349_AUTOMÓVEL_PEQUENO_41-60 ==&gt; 2_350_AUTOMÓVEL_MÉDIO_41-60                             | 2571 | 0.9643661 |\n",
       "| 2 | 2_349_AUTOMÓVEL_MÉDIO_41-60 ==&gt; 4_349_AUTOMÓVEL_MÉDIO_41-60                               | 2569 | 0.9643393 |\n",
       "| 11 | 2_349_AUTOMÓVEL_PEQUENO_41-60 ==&gt; 4_349_AUTOMÓVEL_MÉDIO_41-60                             | 2567 | 0.9628657 |\n",
       "| 12 | 2_350_AUTOMÓVEL_MÉDIO_41-60 ==&gt; 3_349_AUTOMÓVEL_MÉDIO_41-60                               | 2567 | 0.9617834 |\n",
       "| 10 | 3_349_AUTOMÓVEL_MÉDIO_41-60 ==&gt; 2_349_AUTOMÓVEL_PEQUENO_41-60                             | 2566 | 0.9672069 |\n",
       "| 13 | 4_349_AUTOMÓVEL_MÉDIO_41-60 ==&gt; 2_349_AUTOMÓVEL_MÉDIO_41-60                               | 2566 | 0.9632132 |\n",
       "| 1 | 2_349_AUTOMÓVEL_MÉDIO_41-60 ==&gt; 2_350_AUTOMÓVEL_MÉDIO_41-60                               | 2565 | 0.9628378 |\n",
       "| 17 | 4_349_AUTOMÓVEL_MÉDIO_41-60 ==&gt; 2_350_AUTOMÓVEL_MÉDIO_41-60                               | 2564 | 0.9624625 |\n",
       "| 18 | 4_349_AUTOMÓVEL_MÉDIO_41-60 ==&gt; 3_349_AUTOMÓVEL_MÉDIO_41-60                               | 2559 | 0.9605856 |\n",
       "| 16 | 2_349_AUTOMÓVEL_MÉDIO_41-60 ==&gt; 3_349_AUTOMÓVEL_MÉDIO_41-60                               | 2558 | 0.9602102 |\n",
       "| 19 | 2_349_AUTOMÓVEL_PEQUENO_41-60 ==&gt; 3_349_AUTOMÓVEL_MÉDIO_41-60                             | 2557 | 0.9591148 |\n",
       "| 15 | 3_349_AUTOMÓVEL_MÉDIO_41-60 ==&gt; 2_349_AUTOMÓVEL_MÉDIO_41-60                               | 2555 | 0.9630607 |\n",
       "| 22 | 3_349_AUTOMÓVEL_MÉDIO_41-60 ==&gt; 4_349_AUTOMÓVEL_MÉDIO_41-60                               | 2555 | 0.9630607 |\n",
       "| 21 | 3_349_AUTOMÓVEL_MÉDIO_41-60 ==&gt; 2_350_AUTOMÓVEL_MÉDIO_41-60                               | 2552 | 0.9619299 |\n",
       "| 23 | 2_350_AUTOMÓVEL_MÉDIO_41-60 ==&gt; 2_349_AUTOMÓVEL_MÉDIO_41-60,2_349_AUTOMÓVEL_PEQUENO_41-60 | 2549 | 0.9550393 |\n",
       "| 20 | 2_349_AUTOMÓVEL_MÉDIO_41-60 ==&gt; 2_349_AUTOMÓVEL_PEQUENO_41-60,4_349_AUTOMÓVEL_MÉDIO_41-60 | 2545 | 0.9553303 |\n",
       "| 25 | 2_350_AUTOMÓVEL_MÉDIO_41-60 ==&gt; 2_349_AUTOMÓVEL_PEQUENO_41-60,4_349_AUTOMÓVEL_MÉDIO_41-60 | 2545 | 0.9535407 |\n",
       "| 26 | 4_349_AUTOMÓVEL_MÉDIO_41-60 ==&gt; 2_349_AUTOMÓVEL_MÉDIO_41-60,2_349_AUTOMÓVEL_PEQUENO_41-60 | 2544 | 0.9549550 |\n",
       "| 24 | 2_350_AUTOMÓVEL_MÉDIO_41-60 ==&gt; 2_349_AUTOMÓVEL_PEQUENO_41-60,3_349_AUTOMÓVEL_MÉDIO_41-60 | 2541 | 0.9520420 |\n",
       "| 27 | 1_349_AUTOMÓVEL_PEQUENO_41-60 ==&gt; 2_349_AUTOMÓVEL_PEQUENO_41-60                           | 2541 | 0.9606805 |\n",
       "| 14 | 2_350_AUTOMÓVEL_MÉDIO_41-60 ==&gt; 1_349_AUTOMÓVEL_PEQUENO_41-60                             | 2539 | 0.9512926 |\n",
       "| 29 | 2_349_AUTOMÓVEL_MÉDIO_41-60 ==&gt; 2_349_AUTOMÓVEL_PEQUENO_41-60,2_350_AUTOMÓVEL_MÉDIO_41-60 | 2538 | 0.9527027 |\n",
       "| 28 | 3_349_AUTOMÓVEL_MÉDIO_41-60 ==&gt; 2_349_AUTOMÓVEL_MÉDIO_41-60,2_349_AUTOMÓVEL_PEQUENO_41-60 | 2537 | 0.9562759 |\n",
       "| 30 | 2_349_AUTOMÓVEL_MÉDIO_41-60 ==&gt; 2_349_AUTOMÓVEL_PEQUENO_41-60,3_349_AUTOMÓVEL_MÉDIO_41-60 | 2537 | 0.9523273 |\n",
       "\n"
      ],
      "text/plain": [
       "   Regra                                                                                    \n",
       "4  2_350_AUTOMÓVEL_MÉDIO_41-60 ==> 2_349_AUTOMÓVEL_PEQUENO_41-60                            \n",
       "5  2_349_AUTOMÓVEL_MÉDIO_41-60 ==> 2_349_AUTOMÓVEL_PEQUENO_41-60                            \n",
       "7  2_350_AUTOMÓVEL_MÉDIO_41-60 ==> 4_349_AUTOMÓVEL_MÉDIO_41-60                              \n",
       "6  4_349_AUTOMÓVEL_MÉDIO_41-60 ==> 2_349_AUTOMÓVEL_PEQUENO_41-60                            \n",
       "3  2_349_AUTOMÓVEL_PEQUENO_41-60 ==> 2_349_AUTOMÓVEL_MÉDIO_41-60                            \n",
       "8  2_350_AUTOMÓVEL_MÉDIO_41-60 ==> 2_349_AUTOMÓVEL_MÉDIO_41-60                              \n",
       "9  2_349_AUTOMÓVEL_PEQUENO_41-60 ==> 2_350_AUTOMÓVEL_MÉDIO_41-60                            \n",
       "2  2_349_AUTOMÓVEL_MÉDIO_41-60 ==> 4_349_AUTOMÓVEL_MÉDIO_41-60                              \n",
       "11 2_349_AUTOMÓVEL_PEQUENO_41-60 ==> 4_349_AUTOMÓVEL_MÉDIO_41-60                            \n",
       "12 2_350_AUTOMÓVEL_MÉDIO_41-60 ==> 3_349_AUTOMÓVEL_MÉDIO_41-60                              \n",
       "10 3_349_AUTOMÓVEL_MÉDIO_41-60 ==> 2_349_AUTOMÓVEL_PEQUENO_41-60                            \n",
       "13 4_349_AUTOMÓVEL_MÉDIO_41-60 ==> 2_349_AUTOMÓVEL_MÉDIO_41-60                              \n",
       "1  2_349_AUTOMÓVEL_MÉDIO_41-60 ==> 2_350_AUTOMÓVEL_MÉDIO_41-60                              \n",
       "17 4_349_AUTOMÓVEL_MÉDIO_41-60 ==> 2_350_AUTOMÓVEL_MÉDIO_41-60                              \n",
       "18 4_349_AUTOMÓVEL_MÉDIO_41-60 ==> 3_349_AUTOMÓVEL_MÉDIO_41-60                              \n",
       "16 2_349_AUTOMÓVEL_MÉDIO_41-60 ==> 3_349_AUTOMÓVEL_MÉDIO_41-60                              \n",
       "19 2_349_AUTOMÓVEL_PEQUENO_41-60 ==> 3_349_AUTOMÓVEL_MÉDIO_41-60                            \n",
       "15 3_349_AUTOMÓVEL_MÉDIO_41-60 ==> 2_349_AUTOMÓVEL_MÉDIO_41-60                              \n",
       "22 3_349_AUTOMÓVEL_MÉDIO_41-60 ==> 4_349_AUTOMÓVEL_MÉDIO_41-60                              \n",
       "21 3_349_AUTOMÓVEL_MÉDIO_41-60 ==> 2_350_AUTOMÓVEL_MÉDIO_41-60                              \n",
       "23 2_350_AUTOMÓVEL_MÉDIO_41-60 ==> 2_349_AUTOMÓVEL_MÉDIO_41-60,2_349_AUTOMÓVEL_PEQUENO_41-60\n",
       "20 2_349_AUTOMÓVEL_MÉDIO_41-60 ==> 2_349_AUTOMÓVEL_PEQUENO_41-60,4_349_AUTOMÓVEL_MÉDIO_41-60\n",
       "25 2_350_AUTOMÓVEL_MÉDIO_41-60 ==> 2_349_AUTOMÓVEL_PEQUENO_41-60,4_349_AUTOMÓVEL_MÉDIO_41-60\n",
       "26 4_349_AUTOMÓVEL_MÉDIO_41-60 ==> 2_349_AUTOMÓVEL_MÉDIO_41-60,2_349_AUTOMÓVEL_PEQUENO_41-60\n",
       "24 2_350_AUTOMÓVEL_MÉDIO_41-60 ==> 2_349_AUTOMÓVEL_PEQUENO_41-60,3_349_AUTOMÓVEL_MÉDIO_41-60\n",
       "27 1_349_AUTOMÓVEL_PEQUENO_41-60 ==> 2_349_AUTOMÓVEL_PEQUENO_41-60                          \n",
       "14 2_350_AUTOMÓVEL_MÉDIO_41-60 ==> 1_349_AUTOMÓVEL_PEQUENO_41-60                            \n",
       "29 2_349_AUTOMÓVEL_MÉDIO_41-60 ==> 2_349_AUTOMÓVEL_PEQUENO_41-60,2_350_AUTOMÓVEL_MÉDIO_41-60\n",
       "28 3_349_AUTOMÓVEL_MÉDIO_41-60 ==> 2_349_AUTOMÓVEL_MÉDIO_41-60,2_349_AUTOMÓVEL_PEQUENO_41-60\n",
       "30 2_349_AUTOMÓVEL_MÉDIO_41-60 ==> 2_349_AUTOMÓVEL_PEQUENO_41-60,3_349_AUTOMÓVEL_MÉDIO_41-60\n",
       "   Suporte Confiança\n",
       "4  2583    0.9677782\n",
       "5  2583    0.9695946\n",
       "7  2577    0.9655302\n",
       "6  2576    0.9669670\n",
       "3  2574    0.9654914\n",
       "8  2571    0.9632821\n",
       "9  2571    0.9643661\n",
       "2  2569    0.9643393\n",
       "11 2567    0.9628657\n",
       "12 2567    0.9617834\n",
       "10 2566    0.9672069\n",
       "13 2566    0.9632132\n",
       "1  2565    0.9628378\n",
       "17 2564    0.9624625\n",
       "18 2559    0.9605856\n",
       "16 2558    0.9602102\n",
       "19 2557    0.9591148\n",
       "15 2555    0.9630607\n",
       "22 2555    0.9630607\n",
       "21 2552    0.9619299\n",
       "23 2549    0.9550393\n",
       "20 2545    0.9553303\n",
       "25 2545    0.9535407\n",
       "26 2544    0.9549550\n",
       "24 2541    0.9520420\n",
       "27 2541    0.9606805\n",
       "14 2539    0.9512926\n",
       "29 2538    0.9527027\n",
       "28 2537    0.9562759\n",
       "30 2537    0.9523273"
      ]
     },
     "metadata": {},
     "output_type": "display_data"
    }
   ],
   "source": [
    "rsq <- read.csv('D:/share/rule_seq')\n",
    "colnames(rsq) <- c(\"Regra\", \"Suporte\", \"Confiança\")\n",
    "rsq[order(rsq$Suporte, decreasing = TRUE), ]"
   ]
  },
  {
   "cell_type": "code",
   "execution_count": 17,
   "id": "26228d78-1397-41e8-b28b-9b30854662a1",
   "metadata": {},
   "outputs": [
    {
     "data": {
      "text/html": [
       "<table class=\"dataframe\">\n",
       "<caption>A tibble: 6 × 3</caption>\n",
       "<thead>\n",
       "\t<tr><th scope=col>ID DE ENDEREÇO</th><th scope=col>ENDEREÇO</th><th scope=col>SENTIDO</th></tr>\n",
       "\t<tr><th scope=col>&lt;chr&gt;</th><th scope=col>&lt;chr&gt;</th><th scope=col>&lt;fct&gt;</th></tr>\n",
       "</thead>\n",
       "<tbody>\n",
       "\t<tr><td>311</td><td>Av. do Contorno, oposto ao nº 10812</td><td>Centro/Barro Preto           </td></tr>\n",
       "\t<tr><td>328</td><td>Av. do Contorno, nº 10.730         </td><td>Barro Preto/Centro           </td></tr>\n",
       "\t<tr><td>349</td><td>Av. do Contorno, nº 629            </td><td>Praça da Estação / Rodoviária</td></tr>\n",
       "\t<tr><td>350</td><td>Av. do Contorno, nº 4.045          </td><td>Savassi / Sta. Efigênia      </td></tr>\n",
       "\t<tr><td>366</td><td>Av. do Contorno, oposto ao nº 5.445</td><td>São Lucas/Savassi            </td></tr>\n",
       "\t<tr><td>370</td><td>Av. do Contorno, oposto ao nº 4.045</td><td>Sta. Efigênia / Savassi      </td></tr>\n",
       "</tbody>\n",
       "</table>\n"
      ],
      "text/latex": [
       "A tibble: 6 × 3\n",
       "\\begin{tabular}{lll}\n",
       " ID DE ENDEREÇO & ENDEREÇO & SENTIDO\\\\\n",
       " <chr> & <chr> & <fct>\\\\\n",
       "\\hline\n",
       "\t 311 & Av. do Contorno, oposto ao nº 10812 & Centro/Barro Preto           \\\\\n",
       "\t 328 & Av. do Contorno, nº 10.730          & Barro Preto/Centro           \\\\\n",
       "\t 349 & Av. do Contorno, nº 629             & Praça da Estação / Rodoviária\\\\\n",
       "\t 350 & Av. do Contorno, nº 4.045           & Savassi / Sta. Efigênia      \\\\\n",
       "\t 366 & Av. do Contorno, oposto ao nº 5.445 & São Lucas/Savassi            \\\\\n",
       "\t 370 & Av. do Contorno, oposto ao nº 4.045 & Sta. Efigênia / Savassi      \\\\\n",
       "\\end{tabular}\n"
      ],
      "text/markdown": [
       "\n",
       "A tibble: 6 × 3\n",
       "\n",
       "| ID DE ENDEREÇO &lt;chr&gt; | ENDEREÇO &lt;chr&gt; | SENTIDO &lt;fct&gt; |\n",
       "|---|---|---|\n",
       "| 311 | Av. do Contorno, oposto ao nº 10812 | Centro/Barro Preto            |\n",
       "| 328 | Av. do Contorno, nº 10.730          | Barro Preto/Centro            |\n",
       "| 349 | Av. do Contorno, nº 629             | Praça da Estação / Rodoviária |\n",
       "| 350 | Av. do Contorno, nº 4.045           | Savassi / Sta. Efigênia       |\n",
       "| 366 | Av. do Contorno, oposto ao nº 5.445 | São Lucas/Savassi             |\n",
       "| 370 | Av. do Contorno, oposto ao nº 4.045 | Sta. Efigênia / Savassi       |\n",
       "\n"
      ],
      "text/plain": [
       "  ID DE ENDEREÇO ENDEREÇO                           \n",
       "1 311            Av. do Contorno, oposto ao nº 10812\n",
       "2 328            Av. do Contorno, nº 10.730         \n",
       "3 349            Av. do Contorno, nº 629            \n",
       "4 350            Av. do Contorno, nº 4.045          \n",
       "5 366            Av. do Contorno, oposto ao nº 5.445\n",
       "6 370            Av. do Contorno, oposto ao nº 4.045\n",
       "  SENTIDO                      \n",
       "1 Centro/Barro Preto           \n",
       "2 Barro Preto/Centro           \n",
       "3 Praça da Estação / Rodoviária\n",
       "4 Savassi / Sta. Efigênia      \n",
       "5 São Lucas/Savassi            \n",
       "6 Sta. Efigênia / Savassi      "
      ]
     },
     "metadata": {},
     "output_type": "display_data"
    }
   ],
   "source": [
    "contorno %>% distinct(`ID DE ENDEREÇO`,ENDEREÇO, SENTIDO)"
   ]
  },
  {
   "cell_type": "markdown",
   "id": "bd7124a1-af68-43a4-956a-6a7883655cf1",
   "metadata": {},
   "source": [
    "# Conclusão\n",
    "\n",
    "Dentro do escopo da Av do Contorno no mês de fevereiro de 2022, podemos verificar os seguintes aspéctos:\n",
    "\n",
    "* O veículos que mais são captados na via são automóveis de tamanho médio ou pequeno com velocidade entre 41 Km/h e 60 Km/h circulando nos números:\n",
    "    * 4.045, sentido Savassi / Sta. Efigênia na faixa número 2;\n",
    "    * 629, sentido Praça da Estação / Rodoviária nas faixas de número 2, 3 e 4;\n",
    "    * oposto ao nº 5.445, sentido São Lucas/Savassi na faixa número 2.\n",
    "* As regras não foram produtivas, muito provavelmente pelo fato dos veículos serem independentes em relação à transação.\n",
    "* Neste caso a análise mais importante são os veículos que mais "
   ]
  },
  {
   "cell_type": "markdown",
   "id": "dc1b5ef5-1cff-4e83-a9f5-3fa9cd23651e",
   "metadata": {},
   "source": [
    "# Conclusão via Chat GPT\n",
    "\n",
    "## Itensets frequêntes:\n",
    "    A análise dos dados de tráfego da Avenida do Contorno em Belo Horizonte revelou que automóveis médios predominam no fluxo da via, seguidos pelos automóveis pequenos, que também apresentam uma participação significativa. A faixa de circulação 2 foi identificada como a mais utilizada pelos motoristas, concentrando o maior volume de observações, enquanto as faixas 3 e 4 também apresentaram tráfego relevante, mas em menor escala. A faixa 1 mostrou-se menos utilizada, possivelmente devido a restrições específicas ou características da via. Quanto à velocidade, verificou-se que todos os veículos trafegam no intervalo de 41-60 km/h, indicando uma circulação dentro de limites moderados, possivelmente em conformidade com a regulamentação local. Além disso, algumas entradas nos dados indicam agrupamentos de registros, como a combinação de automóveis pequenos e médios, o que pode refletir situações de tráfego mais denso ou dinâmicas específicas de uso das faixas. Esses insights podem ser utilizados para embasar melhorias na infraestrutura viária, intensificar a fiscalização de velocidade ou readequar o uso das faixas para otimizar o fluxo de veículos."
   ]
  }
 ],
 "metadata": {
  "kernelspec": {
   "display_name": "R",
   "language": "R",
   "name": "ir"
  },
  "language_info": {
   "codemirror_mode": "r",
   "file_extension": ".r",
   "mimetype": "text/x-r-source",
   "name": "R",
   "pygments_lexer": "r",
   "version": "4.4.2"
  }
 },
 "nbformat": 4,
 "nbformat_minor": 5
}
