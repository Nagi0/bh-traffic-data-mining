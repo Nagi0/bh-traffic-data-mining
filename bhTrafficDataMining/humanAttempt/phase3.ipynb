{
 "cells": [
  {
   "cell_type": "markdown",
   "metadata": {},
   "source": [
    "Autores: Bruno Leal Fonseca & Guilherme Namen Pimenta"
   ]
  },
  {
   "cell_type": "markdown",
   "metadata": {},
   "source": [
    "Repositório Github: https://github.com/Nagi0/bh-traffic-data-mining"
   ]
  },
  {
   "cell_type": "markdown",
   "metadata": {},
   "source": [
    "# Business Understanding"
   ]
  },
  {
   "cell_type": "markdown",
   "metadata": {},
   "source": [
    "Os avanços nas tecnologias para Cidades Inteligentes estão propiciando um controle maior das atividades do cotidiano. Os pilares tecnológicos de Internet Das Coisas, Portais de Dados Abertos e os Algoritmos de Aprendizado de Máquina estão provendo meios de aperfeiçoamento das políticas públicas. Especificamente para este projeto, o foco se restringe aos dados de fluxo de veículos da capitados por radares (IOT) da Capital Mineira providos pelo Portal de Dados Abertos da Prefeitura de Belo Horizonte (Dados Abertos) a serem processados pelos algoritmos estudados na aula de mineração de dados (Algoritmos de Aprendizado de Máquina). A relevância dos resultados é importante para caracterizar o trânsito para prover bases para novas políticas públicas \n",
    "voltadas para o bem-estar do munícipe.\n",
    "\n",
    "O objetivo é encontrar determinados padrões de comportamento frequentes dos motoristas em uma determinada via de Belo Horizonte. A base é composta por uma grande quantidade de amostras, por se tratar de todos os dados de radares da cidade de Belo Horizonte. O volume de veículos e vias possíveis que podem ser analisadas é gigantesco, portanto, foi decidido focar em uma via específica,onde será possível encontrar padrões locais mais específicos, possibilitando trabalhar com um volume menor de dados e reduzindo o custo computacional para conduzir as análises e execução dos algoritmos. Almeja-se responder algumas perguntas que podem ajudar a descrever melhor o perfil dos motoristas que circulam na via. Como é a distribuição da velocidade em determinadas faixas de horário? Quais veículos geralmente estão acima da velocidade permitida? Em quais horários o trânsito aparenta estar mais rápido ou devagar? Em quais lugares é mais comum se encontrar maiores infrações de trânsito etc. Isso irá permitir descobrir qual o perfil dos motoristas em determinados locais e horários, afinal é comum que determinado grupo de pessoas use a via em diferentes horários e ou apenas certos trechos dela. "
   ]
  },
  {
   "cell_type": "markdown",
   "metadata": {},
   "source": [
    "# Mineração de Itemsets e Sequências"
   ]
  },
  {
   "cell_type": "markdown",
   "metadata": {},
   "source": [
    "## Data Understanding & Data Preparation"
   ]
  },
  {
   "cell_type": "markdown",
   "metadata": {},
   "source": [
    "Para processar a base de registros de veículos da cidade de Belo Horizonte foi escolhido o mês de fevereiro de 2022. A base é muito grande, por isso filtramos para processar apenas o mês de fevereiro os veículos registrados na Av. do Contorno. Para tal o comando Powershell foi executado para gerar a base filtrada:  \n",
    "```\n",
    "Get-ChildItem \".\" -Filter *.json -Recurse | select -ExpandProperty FullName | %{Get-Content $_ | Out-String | ConvertFrom-Json | Where-Object {$_.ENDEREÇO -like 'Av. do Contorno*'}} | Export-Csv\n",
    "```\n",
    "A bse resultante possui 4.903.487 registros."
   ]
  },
  {
   "cell_type": "code",
   "execution_count": null,
   "metadata": {},
   "outputs": [
    {
     "name": "stderr",
     "output_type": "stream",
     "text": [
      "Warning message in Sys.setlocale(locale = \"en_US.UTF-8\"):\n",
      "\"using locale code page other than 1252 may cause problems\"\n"
     ]
    },
    {
     "data": {
      "text/html": [
       "'LC_COLLATE=en_US.UTF-8;LC_CTYPE=en_US.UTF-8;LC_MONETARY=en_US.UTF-8;LC_NUMERIC=C;LC_TIME=en_US.UTF-8'"
      ],
      "text/latex": [
       "'LC\\_COLLATE=en\\_US.UTF-8;LC\\_CTYPE=en\\_US.UTF-8;LC\\_MONETARY=en\\_US.UTF-8;LC\\_NUMERIC=C;LC\\_TIME=en\\_US.UTF-8'"
      ],
      "text/markdown": [
       "'LC_COLLATE=en_US.UTF-8;LC_CTYPE=en_US.UTF-8;LC_MONETARY=en_US.UTF-8;LC_NUMERIC=C;LC_TIME=en_US.UTF-8'"
      ],
      "text/plain": [
       "[1] \"LC_COLLATE=en_US.UTF-8;LC_CTYPE=en_US.UTF-8;LC_MONETARY=en_US.UTF-8;LC_NUMERIC=C;LC_TIME=en_US.UTF-8\""
      ]
     },
     "metadata": {},
     "output_type": "display_data"
    },
    {
     "data": {
      "text/plain": [
       "R version 4.4.2 (2024-10-31 ucrt)\n",
       "Platform: x86_64-w64-mingw32/x64\n",
       "Running under: Windows Server 2019 x64 (build 17763)\n",
       "\n",
       "Matrix products: default\n",
       "\n",
       "\n",
       "locale:\n",
       "[1] LC_COLLATE=en_US.UTF-8  LC_CTYPE=en_US.UTF-8    LC_MONETARY=en_US.UTF-8\n",
       "[4] LC_NUMERIC=C            LC_TIME=en_US.UTF-8    \n",
       "system code page: 1252\n",
       "\n",
       "time zone: America/Sao_Paulo\n",
       "tzcode source: internal\n",
       "\n",
       "attached base packages:\n",
       "[1] stats     graphics  grDevices utils     datasets  methods   base     \n",
       "\n",
       "loaded via a namespace (and not attached):\n",
       " [1] digest_0.6.37     IRdisplay_1.1     utf8_1.2.4        base64enc_0.1-3  \n",
       " [5] fastmap_1.2.0     glue_1.8.0        htmltools_0.5.8.1 repr_1.1.7       \n",
       " [9] lifecycle_1.0.4   cli_3.6.3         fansi_1.0.6       vctrs_0.6.5      \n",
       "[13] pbdZMQ_0.3-13     compiler_4.4.2    tools_4.4.2       evaluate_1.0.1   \n",
       "[17] pillar_1.9.0      crayon_1.5.3      rlang_1.1.4       jsonlite_1.8.9   \n",
       "[21] IRkernel_1.3.2    uuid_1.2-1       "
      ]
     },
     "metadata": {},
     "output_type": "display_data"
    }
   ],
   "source": [
    "Sys.setlocale(locale = 'en_US.UTF-8')\n",
    "sessionInfo()"
   ]
  },
  {
   "cell_type": "code",
   "execution_count": null,
   "metadata": {},
   "outputs": [
    {
     "name": "stderr",
     "output_type": "stream",
     "text": [
      "── \u001b[1mAttaching core tidyverse packages\u001b[22m ──────────────────────── tidyverse 2.0.0 ──\n",
      "\u001b[32m✔\u001b[39m \u001b[34mdplyr    \u001b[39m 1.1.4     \u001b[32m✔\u001b[39m \u001b[34mreadr    \u001b[39m 2.1.5\n",
      "\u001b[32m✔\u001b[39m \u001b[34mforcats  \u001b[39m 1.0.0     \u001b[32m✔\u001b[39m \u001b[34mstringr  \u001b[39m 1.5.1\n",
      "\u001b[32m✔\u001b[39m \u001b[34mggplot2  \u001b[39m 3.5.1     \u001b[32m✔\u001b[39m \u001b[34mtibble   \u001b[39m 3.2.1\n",
      "\u001b[32m✔\u001b[39m \u001b[34mlubridate\u001b[39m 1.9.3     \u001b[32m✔\u001b[39m \u001b[34mtidyr    \u001b[39m 1.3.1\n",
      "\u001b[32m✔\u001b[39m \u001b[34mpurrr    \u001b[39m 1.0.2     \n",
      "── \u001b[1mConflicts\u001b[22m ────────────────────────────────────────── tidyverse_conflicts() ──\n",
      "\u001b[31m✖\u001b[39m \u001b[34mdplyr\u001b[39m::\u001b[32mfilter()\u001b[39m masks \u001b[34mstats\u001b[39m::filter()\n",
      "\u001b[31m✖\u001b[39m \u001b[34mdplyr\u001b[39m::\u001b[32mlag()\u001b[39m    masks \u001b[34mstats\u001b[39m::lag()\n",
      "\u001b[36mℹ\u001b[39m Use the conflicted package (\u001b[3m\u001b[34m<http://conflicted.r-lib.org/>\u001b[39m\u001b[23m) to force all conflicts to become errors\n"
     ]
    }
   ],
   "source": [
    "library(tidyverse)\n",
    "#Função para gerar o banco de dados\n",
    "gera_banco_dados <- function() {\n",
    "  \n",
    "  #Carrega arquivo\n",
    "  contorno <- read_csv('contorno.csv')\n",
    "  #Filtra veículos com comprimento inválido e classificação indefinida\n",
    "  contorno <- contorno %>% filter(`CLASSIFICAÇÃO` != 'INDEFINIDO')\n",
    "  contorno <- contorno %>% filter(TAMANHO < 20)\n",
    "  #Faz o parser da data\n",
    "  contorno$`DATA HORA` <-\n",
    "    parse_date_time(\n",
    "      contorno$`DATA HORA`,\n",
    "      '%d/%m/%Y %I:%M:%S %p',\n",
    "      tz = \"America/Sao_Paulo\")\n",
    "  #Realiza a transformação da velocidade em fatores\n",
    "  velocidade <- c(\"0-40\", \"41-60\", \"61-100\", \">100\", \"NA\")\n",
    "  cut_points <- c(0, 41, 61, Inf)\n",
    "  i <- findInterval(contorno$`VELOCIDADE AFERIDA`, cut_points)\n",
    "  v_fac <- velocidade[i]\n",
    "  v_fac[is.na(contorno$`VELOCIDADE AFERIDA`)] <- velocidade[length(velocidade)]\n",
    "  contorno$`VELOCIDADE AFERIDA` <- factor(v_fac, levels = velocidade)\n",
    "  #Transforma valores em fatores\n",
    "  contorno$CLASSIFICAÇÃO <- factor(contorno$CLASSIFICAÇÃO,ordered =FALSE)\n",
    "  contorno$SENTIDO <- factor(contorno$SENTIDO,ordered =FALSE)\n",
    "  contorno$FAIXA <- factor(contorno$FAIXA,ordered =FALSE)\n",
    "  contorno$`ID DE ENDEREÇO` <- factor(contorno$`ID DE ENDEREÇO`,ordered =FALSE)\n",
    "  \n",
    "  #Transforma o comprimento do veículo em 3 faixas proporcional à classificação do veículo\n",
    "  contorno <- \n",
    "    contorno %>%\n",
    "    group_by(`CLASSIFICAÇÃO`) %>%\n",
    "    mutate(BIN = cut(TAMANHO,3,c('PEQUENO','MÉDIO','GRANDE'))) %>%\n",
    "    ungroup()\n",
    "  return(contorno)\n",
    "}\n",
    "\n",
    "#Gera os registros do índices\n",
    "indices <- function(dados) {\n",
    "  A <- levels(dados$FAIXA)\n",
    "  B <- levels(dados$`ID DE ENDEREÇO`)\n",
    "  C <- levels(dados$`VELOCIDADE AFERIDA`)\n",
    "  D <- levels(dados$`CLASSIFICAÇÃO`)\n",
    "  E <- levels(dados$SENTIDO)\n",
    "  F <- levels(dados$BIN)\n",
    "  ind <-\n",
    "    crossing(\n",
    "      FAIXA=A,\n",
    "      `ID DE ENDEREÇO`=B,\n",
    "      #SENTIDO=E,\n",
    "      `CLASSIFICAÇÃO`=D,\n",
    "      BIN=F,\n",
    "      `VELOCIDADE AFERIDA`=C\n",
    "    )\n",
    "  ind$ID <- 1:dim(ind)[1]\n",
    "  return(ind)\n",
    "}\n",
    "\n",
    "#O preambulo é necessário para o processamento do arquivo pelo SPMF\n",
    "gera_preambulo <- function(arquivo, tipos) {\n",
    "  fileConn<-file(arquivo, encoding=\"UTF-8\")\n",
    "  writeLines(c(\"@CONVERTED_FROM_TEXT\"), fileConn)\n",
    "  close(fileConn)\n",
    "  \n",
    "  codigos <- tipos %>%\n",
    "    unite(\"NOME\", FAIXA:`VELOCIDADE AFERIDA`, remove = TRUE) %>%\n",
    "    unite(\"CODIGO\", ID, NOME, remove = TRUE, sep=\"=\") %>%\n",
    "    mutate(CODIGO=paste(\"@ITEM=\", CODIGO, sep = \"\"))\n",
    "  write.table(codigos,\n",
    "              file = arquivo,\n",
    "              sep = \"\",\n",
    "              col.names = FALSE,\n",
    "              row.names = FALSE,\n",
    "              quote = FALSE,\n",
    "              append=TRUE,\n",
    "              fileEncoding=\"UTF-8\")\n",
    "  fileConn<-file(arquivo, \"a\")\n",
    "  close(fileConn)\n",
    "}"
   ]
  },
  {
   "cell_type": "markdown",
   "metadata": {},
   "source": [
    "### Geração da Base\n",
    "\n",
    "#### Filtros\n",
    "Foram removidos os veículos classificados como INDEFINIDOS e os veículos de comprimento superior a 20 metros.\n",
    "\n",
    "#### Agrupamentos\n",
    "A velocidade aferida foi agrupada nos seguintes intervalos \"0-40\", \"41-60\", \"61-100\", \">100\".\n",
    "O comprimento dos veículos foram agrupados em 'PEQUENO','MÉDIO','GRANDE' de forma proporcial ao tipo de veículo"
   ]
  },
  {
   "cell_type": "code",
   "execution_count": null,
   "metadata": {},
   "outputs": [
    {
     "name": "stderr",
     "output_type": "stream",
     "text": [
      "\u001b[1mRows: \u001b[22m\u001b[34m4933535\u001b[39m \u001b[1mColumns: \u001b[22m\u001b[34m14\u001b[39m\n",
      "\u001b[36m──\u001b[39m \u001b[1mColumn specification\u001b[22m \u001b[36m────────────────────────────────────────────────────────\u001b[39m\n",
      "\u001b[1mDelimiter:\u001b[22m \",\"\n",
      "\u001b[31mchr\u001b[39m  (4): DATA HORA, CLASSIFICAÇÃO, ENDEREÇO, SENTIDO\n",
      "\u001b[32mdbl\u001b[39m (10): ID EQP, MILESEGUNDO, FAIXA, ID DE ENDEREÇO, VELOCIDADE DA VIA, VEL...\n",
      "\n",
      "\u001b[36mℹ\u001b[39m Use `spec()` to retrieve the full column specification for this data.\n",
      "\u001b[36mℹ\u001b[39m Specify the column types or set `show_col_types = FALSE` to quiet this message.\n"
     ]
    }
   ],
   "source": [
    "contorno <- gera_banco_dados()"
   ]
  },
  {
   "cell_type": "code",
   "execution_count": null,
   "metadata": {},
   "outputs": [
    {
     "data": {
      "text/html": [
       "<table class=\"dataframe\">\n",
       "<caption>A tibble: 3 × 15</caption>\n",
       "<thead>\n",
       "\t<tr><th scope=col>ID EQP</th><th scope=col>DATA HORA</th><th scope=col>MILESEGUNDO</th><th scope=col>FAIXA</th><th scope=col>ID DE ENDEREÇO</th><th scope=col>VELOCIDADE DA VIA</th><th scope=col>VELOCIDADE AFERIDA</th><th scope=col>CLASSIFICAÇÃO</th><th scope=col>TAMANHO</th><th scope=col>NUMERO DE SÉRIE</th><th scope=col>LATITUDE</th><th scope=col>LONGITUDE</th><th scope=col>ENDEREÇO</th><th scope=col>SENTIDO</th><th scope=col>BIN</th></tr>\n",
       "\t<tr><th scope=col>&lt;dbl&gt;</th><th scope=col>&lt;dttm&gt;</th><th scope=col>&lt;dbl&gt;</th><th scope=col>&lt;fct&gt;</th><th scope=col>&lt;fct&gt;</th><th scope=col>&lt;dbl&gt;</th><th scope=col>&lt;fct&gt;</th><th scope=col>&lt;fct&gt;</th><th scope=col>&lt;dbl&gt;</th><th scope=col>&lt;dbl&gt;</th><th scope=col>&lt;dbl&gt;</th><th scope=col>&lt;dbl&gt;</th><th scope=col>&lt;chr&gt;</th><th scope=col>&lt;fct&gt;</th><th scope=col>&lt;fct&gt;</th></tr>\n",
       "</thead>\n",
       "<tbody>\n",
       "\t<tr><td>193</td><td>2022-02-01 01:02:08</td><td>742</td><td>1</td><td>311</td><td>60</td><td>41-60</td><td>AUTOMÓVEL</td><td>4.1</td><td>3264</td><td>-19.9176</td><td>-43.94896</td><td>Av. do Contorno, oposto ao nº 10812</td><td>Centro/Barro Preto</td><td>MÉDIO</td></tr>\n",
       "\t<tr><td>193</td><td>2022-02-01 01:02:17</td><td>180</td><td>1</td><td>311</td><td>60</td><td>41-60</td><td>AUTOMÓVEL</td><td>3.9</td><td>3264</td><td>-19.9176</td><td>-43.94896</td><td>Av. do Contorno, oposto ao nº 10812</td><td>Centro/Barro Preto</td><td>MÉDIO</td></tr>\n",
       "\t<tr><td>193</td><td>2022-02-01 01:02:34</td><td>430</td><td>2</td><td>311</td><td>60</td><td>41-60</td><td>AUTOMÓVEL</td><td>4.7</td><td>3264</td><td>-19.9176</td><td>-43.94896</td><td>Av. do Contorno, oposto ao nº 10812</td><td>Centro/Barro Preto</td><td>MÉDIO</td></tr>\n",
       "</tbody>\n",
       "</table>\n"
      ],
      "text/latex": [
       "A tibble: 3 × 15\n",
       "\\begin{tabular}{lllllllllllllll}\n",
       " ID EQP & DATA HORA & MILESEGUNDO & FAIXA & ID DE ENDEREÇO & VELOCIDADE DA VIA & VELOCIDADE AFERIDA & CLASSIFICAÇÃO & TAMANHO & NUMERO DE SÉRIE & LATITUDE & LONGITUDE & ENDEREÇO & SENTIDO & BIN\\\\\n",
       " <dbl> & <dttm> & <dbl> & <fct> & <fct> & <dbl> & <fct> & <fct> & <dbl> & <dbl> & <dbl> & <dbl> & <chr> & <fct> & <fct>\\\\\n",
       "\\hline\n",
       "\t 193 & 2022-02-01 01:02:08 & 742 & 1 & 311 & 60 & 41-60 & AUTOMÓVEL & 4.1 & 3264 & -19.9176 & -43.94896 & Av. do Contorno, oposto ao nº 10812 & Centro/Barro Preto & MÉDIO\\\\\n",
       "\t 193 & 2022-02-01 01:02:17 & 180 & 1 & 311 & 60 & 41-60 & AUTOMÓVEL & 3.9 & 3264 & -19.9176 & -43.94896 & Av. do Contorno, oposto ao nº 10812 & Centro/Barro Preto & MÉDIO\\\\\n",
       "\t 193 & 2022-02-01 01:02:34 & 430 & 2 & 311 & 60 & 41-60 & AUTOMÓVEL & 4.7 & 3264 & -19.9176 & -43.94896 & Av. do Contorno, oposto ao nº 10812 & Centro/Barro Preto & MÉDIO\\\\\n",
       "\\end{tabular}\n"
      ],
      "text/markdown": [
       "\n",
       "A tibble: 3 × 15\n",
       "\n",
       "| ID EQP &lt;dbl&gt; | DATA HORA &lt;dttm&gt; | MILESEGUNDO &lt;dbl&gt; | FAIXA &lt;fct&gt; | ID DE ENDEREÇO &lt;fct&gt; | VELOCIDADE DA VIA &lt;dbl&gt; | VELOCIDADE AFERIDA &lt;fct&gt; | CLASSIFICAÇÃO &lt;fct&gt; | TAMANHO &lt;dbl&gt; | NUMERO DE SÉRIE &lt;dbl&gt; | LATITUDE &lt;dbl&gt; | LONGITUDE &lt;dbl&gt; | ENDEREÇO &lt;chr&gt; | SENTIDO &lt;fct&gt; | BIN &lt;fct&gt; |\n",
       "|---|---|---|---|---|---|---|---|---|---|---|---|---|---|---|\n",
       "| 193 | 2022-02-01 01:02:08 | 742 | 1 | 311 | 60 | 41-60 | AUTOMÓVEL | 4.1 | 3264 | -19.9176 | -43.94896 | Av. do Contorno, oposto ao nº 10812 | Centro/Barro Preto | MÉDIO |\n",
       "| 193 | 2022-02-01 01:02:17 | 180 | 1 | 311 | 60 | 41-60 | AUTOMÓVEL | 3.9 | 3264 | -19.9176 | -43.94896 | Av. do Contorno, oposto ao nº 10812 | Centro/Barro Preto | MÉDIO |\n",
       "| 193 | 2022-02-01 01:02:34 | 430 | 2 | 311 | 60 | 41-60 | AUTOMÓVEL | 4.7 | 3264 | -19.9176 | -43.94896 | Av. do Contorno, oposto ao nº 10812 | Centro/Barro Preto | MÉDIO |\n",
       "\n"
      ],
      "text/plain": [
       "  ID EQP DATA HORA           MILESEGUNDO FAIXA ID DE ENDEREÇO VELOCIDADE DA VIA\n",
       "1 193    2022-02-01 01:02:08 742         1     311            60               \n",
       "2 193    2022-02-01 01:02:17 180         1     311            60               \n",
       "3 193    2022-02-01 01:02:34 430         2     311            60               \n",
       "  VELOCIDADE AFERIDA CLASSIFICAÇÃO TAMANHO NUMERO DE SÉRIE LATITUDE LONGITUDE\n",
       "1 41-60              AUTOMÓVEL     4.1     3264            -19.9176 -43.94896\n",
       "2 41-60              AUTOMÓVEL     3.9     3264            -19.9176 -43.94896\n",
       "3 41-60              AUTOMÓVEL     4.7     3264            -19.9176 -43.94896\n",
       "  ENDEREÇO                            SENTIDO            BIN  \n",
       "1 Av. do Contorno, oposto ao nº 10812 Centro/Barro Preto MÉDIO\n",
       "2 Av. do Contorno, oposto ao nº 10812 Centro/Barro Preto MÉDIO\n",
       "3 Av. do Contorno, oposto ao nº 10812 Centro/Barro Preto MÉDIO"
      ]
     },
     "metadata": {},
     "output_type": "display_data"
    }
   ],
   "source": [
    "contorno[1:3,]"
   ]
  },
  {
   "cell_type": "markdown",
   "metadata": {},
   "source": [
    "### Geração do arquivo no formato SPMF\n",
    "O aplicativo SPMF https://www.philippe-fournier-viger.com/spmf/ possui duas partes um preambulo contendo o identificador númerico e o nome do item e em seguida o conjunto de itensets somente contendo o identificador. Para gerar o identificador numérico, uma tabela de índice foi criada contendo todos os itens e seu respectivo código.\n",
    "Em seguida os indentificadores são mesclados à base horiginal.\n",
    "\n",
    "#### Item\n",
    "O item constitui-se da faixa de trânsito seguida do id do endereço e do tipo, tamanho e velocidade do veículo."
   ]
  },
  {
   "cell_type": "code",
   "execution_count": null,
   "metadata": {},
   "outputs": [
    {
     "name": "stderr",
     "output_type": "stream",
     "text": [
      "\u001b[1m\u001b[22mJoining with `by = join_by(FAIXA, `ID DE ENDEREÇO`, `VELOCIDADE AFERIDA`,\n",
      "CLASSIFICAÇÃO, BIN)`\n"
     ]
    }
   ],
   "source": [
    "ind <- indices(contorno)\n",
    "contorno <- contorno %>% inner_join(ind)"
   ]
  },
  {
   "cell_type": "code",
   "execution_count": null,
   "metadata": {},
   "outputs": [
    {
     "data": {
      "text/html": [
       "<table class=\"dataframe\">\n",
       "<caption>A tibble: 3 × 6</caption>\n",
       "<thead>\n",
       "\t<tr><th scope=col>FAIXA</th><th scope=col>ID DE ENDEREÇO</th><th scope=col>CLASSIFICAÇÃO</th><th scope=col>BIN</th><th scope=col>VELOCIDADE AFERIDA</th><th scope=col>ID</th></tr>\n",
       "\t<tr><th scope=col>&lt;chr&gt;</th><th scope=col>&lt;chr&gt;</th><th scope=col>&lt;chr&gt;</th><th scope=col>&lt;chr&gt;</th><th scope=col>&lt;chr&gt;</th><th scope=col>&lt;int&gt;</th></tr>\n",
       "</thead>\n",
       "<tbody>\n",
       "\t<tr><td>1</td><td>311</td><td>AUTOMÓVEL</td><td>GRANDE</td><td>&gt;100 </td><td>1</td></tr>\n",
       "\t<tr><td>1</td><td>311</td><td>AUTOMÓVEL</td><td>GRANDE</td><td>0-40 </td><td>2</td></tr>\n",
       "\t<tr><td>1</td><td>311</td><td>AUTOMÓVEL</td><td>GRANDE</td><td>41-60</td><td>3</td></tr>\n",
       "</tbody>\n",
       "</table>\n"
      ],
      "text/latex": [
       "A tibble: 3 × 6\n",
       "\\begin{tabular}{llllll}\n",
       " FAIXA & ID DE ENDEREÇO & CLASSIFICAÇÃO & BIN & VELOCIDADE AFERIDA & ID\\\\\n",
       " <chr> & <chr> & <chr> & <chr> & <chr> & <int>\\\\\n",
       "\\hline\n",
       "\t 1 & 311 & AUTOMÓVEL & GRANDE & >100  & 1\\\\\n",
       "\t 1 & 311 & AUTOMÓVEL & GRANDE & 0-40  & 2\\\\\n",
       "\t 1 & 311 & AUTOMÓVEL & GRANDE & 41-60 & 3\\\\\n",
       "\\end{tabular}\n"
      ],
      "text/markdown": [
       "\n",
       "A tibble: 3 × 6\n",
       "\n",
       "| FAIXA &lt;chr&gt; | ID DE ENDEREÇO &lt;chr&gt; | CLASSIFICAÇÃO &lt;chr&gt; | BIN &lt;chr&gt; | VELOCIDADE AFERIDA &lt;chr&gt; | ID &lt;int&gt; |\n",
       "|---|---|---|---|---|---|\n",
       "| 1 | 311 | AUTOMÓVEL | GRANDE | &gt;100  | 1 |\n",
       "| 1 | 311 | AUTOMÓVEL | GRANDE | 0-40  | 2 |\n",
       "| 1 | 311 | AUTOMÓVEL | GRANDE | 41-60 | 3 |\n",
       "\n"
      ],
      "text/plain": [
       "  FAIXA ID DE ENDEREÇO CLASSIFICAÇÃO BIN    VELOCIDADE AFERIDA ID\n",
       "1 1     311            AUTOMÓVEL     GRANDE >100               1 \n",
       "2 1     311            AUTOMÓVEL     GRANDE 0-40               2 \n",
       "3 1     311            AUTOMÓVEL     GRANDE 41-60              3 "
      ]
     },
     "metadata": {},
     "output_type": "display_data"
    }
   ],
   "source": [
    "ind[1:3,]"
   ]
  },
  {
   "cell_type": "markdown",
   "metadata": {},
   "source": [
    "### Transação\n",
    "A transação é o agrupamento dos itens durante o perído de 5 minutos. Por tanto queremos verificar os itens mais comuns em um intervalo de cinco minutos"
   ]
  },
  {
   "cell_type": "code",
   "execution_count": null,
   "metadata": {},
   "outputs": [],
   "source": [
    "item_set <- contorno %>%\n",
    "  group_by(day(`DATA HORA`), floor_date(`DATA HORA`, unit = \"5minutes\")) %>%\n",
    "  summarise(\n",
    "    ITEMSET = paste0(unique(ID), collapse = \" \"),\n",
    "    .groups = 'drop') %>%\n",
    "  select(ITEMSET)"
   ]
  },
  {
   "cell_type": "code",
   "execution_count": null,
   "metadata": {},
   "outputs": [
    {
     "data": {
      "text/html": [
       "<table class=\"dataframe\">\n",
       "<caption>A tibble: 3 × 1</caption>\n",
       "<thead>\n",
       "\t<tr><th scope=col>ITEMSET</th></tr>\n",
       "\t<tr><th scope=col>&lt;chr&gt;</th></tr>\n",
       "</thead>\n",
       "<tbody>\n",
       "\t<tr><td>8 278 548 313 283 567 13 323 58 53 368 638 448 373 188 728 458 387 807 1037 367 493 1043 903 103 457 632 382 908 943 463 733 773 413 637 927               </td></tr>\n",
       "\t<tr><td>548 298 278 8 543 584 549 568 13 558 273 554 343 323 868 593 58 628 363 103 143 638 98 368 908 413 127 102 943 637 448 923 907 1042 458 412 373 132 134    </td></tr>\n",
       "\t<tr><td>277 548 313 278 549 294 569 553 8 543 274 283 593 328 603 323 58 908 1043 637 448 453 369 458 413 123 373 103 1042 808 1062 492 102 368 367 903 638 383 728</td></tr>\n",
       "</tbody>\n",
       "</table>\n"
      ],
      "text/latex": [
       "A tibble: 3 × 1\n",
       "\\begin{tabular}{l}\n",
       " ITEMSET\\\\\n",
       " <chr>\\\\\n",
       "\\hline\n",
       "\t 8 278 548 313 283 567 13 323 58 53 368 638 448 373 188 728 458 387 807 1037 367 493 1043 903 103 457 632 382 908 943 463 733 773 413 637 927               \\\\\n",
       "\t 548 298 278 8 543 584 549 568 13 558 273 554 343 323 868 593 58 628 363 103 143 638 98 368 908 413 127 102 943 637 448 923 907 1042 458 412 373 132 134    \\\\\n",
       "\t 277 548 313 278 549 294 569 553 8 543 274 283 593 328 603 323 58 908 1043 637 448 453 369 458 413 123 373 103 1042 808 1062 492 102 368 367 903 638 383 728\\\\\n",
       "\\end{tabular}\n"
      ],
      "text/markdown": [
       "\n",
       "A tibble: 3 × 1\n",
       "\n",
       "| ITEMSET &lt;chr&gt; |\n",
       "|---|\n",
       "| 8 278 548 313 283 567 13 323 58 53 368 638 448 373 188 728 458 387 807 1037 367 493 1043 903 103 457 632 382 908 943 463 733 773 413 637 927                |\n",
       "| 548 298 278 8 543 584 549 568 13 558 273 554 343 323 868 593 58 628 363 103 143 638 98 368 908 413 127 102 943 637 448 923 907 1042 458 412 373 132 134     |\n",
       "| 277 548 313 278 549 294 569 553 8 543 274 283 593 328 603 323 58 908 1043 637 448 453 369 458 413 123 373 103 1042 808 1062 492 102 368 367 903 638 383 728 |\n",
       "\n"
      ],
      "text/plain": [
       "  ITEMSET                                                                                                                                                    \n",
       "1 8 278 548 313 283 567 13 323 58 53 368 638 448 373 188 728 458 387 807 1037 367 493 1043 903 103 457 632 382 908 943 463 733 773 413 637 927               \n",
       "2 548 298 278 8 543 584 549 568 13 558 273 554 343 323 868 593 58 628 363 103 143 638 98 368 908 413 127 102 943 637 448 923 907 1042 458 412 373 132 134    \n",
       "3 277 548 313 278 549 294 569 553 8 543 274 283 593 328 603 323 58 908 1043 637 448 453 369 458 413 123 373 103 1042 808 1062 492 102 368 367 903 638 383 728"
      ]
     },
     "metadata": {},
     "output_type": "display_data"
    }
   ],
   "source": [
    "item_set[1:3,]"
   ]
  },
  {
   "cell_type": "markdown",
   "metadata": {},
   "source": [
    "### Gerar o arquivo SPMF\n",
    "Para gerar o arquivo escrevemos o preâmbulo e as transações."
   ]
  },
  {
   "cell_type": "code",
   "execution_count": null,
   "metadata": {},
   "outputs": [],
   "source": [
    "gera_preambulo(\"arquivo.txt\", ind)\n",
    "write(item_set$ITEMSET, \"arquivo.txt\", append = TRUE)"
   ]
  },
  {
   "cell_type": "markdown",
   "metadata": {},
   "source": [
    "## Modeling"
   ]
  },
  {
   "cell_type": "markdown",
   "metadata": {},
   "source": [
    "### Processamento da base\n",
    "Para processar a base para e verificar quais itens mais frequêntes, o algoritmo NegFIM foi utilizado com suporte igqual a 90% "
   ]
  },
  {
   "cell_type": "code",
   "execution_count": null,
   "metadata": {},
   "outputs": [
    {
     "data": {
      "text/html": [
       "<table class=\"dataframe\">\n",
       "<caption>A data.frame: 236 × 2</caption>\n",
       "<thead>\n",
       "\t<tr><th scope=col>Itemset</th><th scope=col>Suporte</th></tr>\n",
       "\t<tr><th scope=col>&lt;chr&gt;</th><th scope=col>&lt;dbl&gt;</th></tr>\n",
       "</thead>\n",
       "<tbody>\n",
       "\t<tr><td>4_328_AUTOMÓVEL_PEQUENO_41-60                                                          </td><td>7314</td></tr>\n",
       "\t<tr><td>3_366_AUTOMÓVEL_MÉDIO_41-60                                                            </td><td>7345</td></tr>\n",
       "\t<tr><td>3_366_AUTOMÓVEL_MÉDIO_41-60 4_349_AUTOMÓVEL_MÉDIO_41-60                                </td><td>7257</td></tr>\n",
       "\t<tr><td>3_366_AUTOMÓVEL_MÉDIO_41-60 2_350_AUTOMÓVEL_MÉDIO_41-60                                </td><td>7283</td></tr>\n",
       "\t<tr><td>2_349_AUTOMÓVEL_MÉDIO_0-40                                                             </td><td>7364</td></tr>\n",
       "\t<tr><td>2_349_AUTOMÓVEL_MÉDIO_0-40 4_349_AUTOMÓVEL_MÉDIO_41-60                                 </td><td>7262</td></tr>\n",
       "\t<tr><td>2_349_AUTOMÓVEL_MÉDIO_0-40 2_350_AUTOMÓVEL_MÉDIO_41-60                                 </td><td>7276</td></tr>\n",
       "\t<tr><td>2_349_AUTOMÓVEL_PEQUENO_0-40                                                           </td><td>7385</td></tr>\n",
       "\t<tr><td>2_349_AUTOMÓVEL_PEQUENO_0-40 4_349_AUTOMÓVEL_MÉDIO_41-60                               </td><td>7280</td></tr>\n",
       "\t<tr><td>2_349_AUTOMÓVEL_PEQUENO_0-40 2_349_AUTOMÓVEL_PEQUENO_41-60                             </td><td>7271</td></tr>\n",
       "\t<tr><td>2_349_AUTOMÓVEL_PEQUENO_0-40 2_349_AUTOMÓVEL_MÉDIO_41-60                               </td><td>7271</td></tr>\n",
       "\t<tr><td>2_349_AUTOMÓVEL_PEQUENO_0-40 2_350_AUTOMÓVEL_MÉDIO_41-60                               </td><td>7288</td></tr>\n",
       "\t<tr><td>2_328_AUTOMÓVEL_PEQUENO_41-60                                                          </td><td>7442</td></tr>\n",
       "\t<tr><td>2_328_AUTOMÓVEL_PEQUENO_41-60 1_328_AUTOMÓVEL_PEQUENO_41-60                            </td><td>7250</td></tr>\n",
       "\t<tr><td>2_328_AUTOMÓVEL_PEQUENO_41-60 2_328_AUTOMÓVEL_MÉDIO_41-60                              </td><td>7314</td></tr>\n",
       "\t<tr><td>2_328_AUTOMÓVEL_PEQUENO_41-60 3_349_AUTOMÓVEL_MÉDIO_41-60                              </td><td>7271</td></tr>\n",
       "\t<tr><td>2_328_AUTOMÓVEL_PEQUENO_41-60 4_349_AUTOMÓVEL_MÉDIO_41-60                              </td><td>7307</td></tr>\n",
       "\t<tr><td>2_328_AUTOMÓVEL_PEQUENO_41-60 2_349_AUTOMÓVEL_PEQUENO_41-60                            </td><td>7312</td></tr>\n",
       "\t<tr><td>2_328_AUTOMÓVEL_PEQUENO_41-60 2_349_AUTOMÓVEL_MÉDIO_41-60                              </td><td>7317</td></tr>\n",
       "\t<tr><td>2_328_AUTOMÓVEL_PEQUENO_41-60 2_350_AUTOMÓVEL_MÉDIO_41-60                              </td><td>7322</td></tr>\n",
       "\t<tr><td>1_328_AUTOMÓVEL_PEQUENO_41-60                                                          </td><td>7517</td></tr>\n",
       "\t<tr><td>1_328_AUTOMÓVEL_PEQUENO_41-60 2_328_AUTOMÓVEL_MÉDIO_41-60                              </td><td>7389</td></tr>\n",
       "\t<tr><td>1_328_AUTOMÓVEL_PEQUENO_41-60 2_328_AUTOMÓVEL_MÉDIO_41-60 4_349_AUTOMÓVEL_MÉDIO_41-60  </td><td>7267</td></tr>\n",
       "\t<tr><td>1_328_AUTOMÓVEL_PEQUENO_41-60 2_328_AUTOMÓVEL_MÉDIO_41-60 2_349_AUTOMÓVEL_PEQUENO_41-60</td><td>7275</td></tr>\n",
       "\t<tr><td>1_328_AUTOMÓVEL_PEQUENO_41-60 2_328_AUTOMÓVEL_MÉDIO_41-60 2_349_AUTOMÓVEL_MÉDIO_41-60  </td><td>7268</td></tr>\n",
       "\t<tr><td>1_328_AUTOMÓVEL_PEQUENO_41-60 2_328_AUTOMÓVEL_MÉDIO_41-60 2_350_AUTOMÓVEL_MÉDIO_41-60  </td><td>7287</td></tr>\n",
       "\t<tr><td>1_328_AUTOMÓVEL_PEQUENO_41-60 1_349_AUTOMÓVEL_PEQUENO_41-60                            </td><td>7272</td></tr>\n",
       "\t<tr><td>1_328_AUTOMÓVEL_PEQUENO_41-60 2_366_AUTOMÓVEL_MÉDIO_41-60                              </td><td>7250</td></tr>\n",
       "\t<tr><td>1_328_AUTOMÓVEL_PEQUENO_41-60 3_349_AUTOMÓVEL_MÉDIO_41-60                              </td><td>7338</td></tr>\n",
       "\t<tr><td>1_328_AUTOMÓVEL_PEQUENO_41-60 3_349_AUTOMÓVEL_MÉDIO_41-60 4_349_AUTOMÓVEL_MÉDIO_41-60  </td><td>7248</td></tr>\n",
       "\t<tr><td>...</td><td>...</td></tr>\n",
       "\t<tr><td>3_349_AUTOMÓVEL_MÉDIO_41-60 4_349_AUTOMÓVEL_MÉDIO_41-60                                                                                      </td><td>7680</td></tr>\n",
       "\t<tr><td>3_349_AUTOMÓVEL_MÉDIO_41-60 4_349_AUTOMÓVEL_MÉDIO_41-60 2_349_AUTOMÓVEL_PEQUENO_41-60                                                        </td><td>7584</td></tr>\n",
       "\t<tr><td>3_349_AUTOMÓVEL_MÉDIO_41-60 4_349_AUTOMÓVEL_MÉDIO_41-60 2_349_AUTOMÓVEL_PEQUENO_41-60 2_349_AUTOMÓVEL_MÉDIO_41-60                            </td><td>7510</td></tr>\n",
       "\t<tr><td>3_349_AUTOMÓVEL_MÉDIO_41-60 4_349_AUTOMÓVEL_MÉDIO_41-60 2_349_AUTOMÓVEL_PEQUENO_41-60 2_349_AUTOMÓVEL_MÉDIO_41-60 2_350_AUTOMÓVEL_MÉDIO_41-60</td><td>7417</td></tr>\n",
       "\t<tr><td>3_349_AUTOMÓVEL_MÉDIO_41-60 4_349_AUTOMÓVEL_MÉDIO_41-60 2_349_AUTOMÓVEL_PEQUENO_41-60 2_350_AUTOMÓVEL_MÉDIO_41-60                            </td><td>7481</td></tr>\n",
       "\t<tr><td>3_349_AUTOMÓVEL_MÉDIO_41-60 4_349_AUTOMÓVEL_MÉDIO_41-60 2_349_AUTOMÓVEL_MÉDIO_41-60                                                          </td><td>7582</td></tr>\n",
       "\t<tr><td>3_349_AUTOMÓVEL_MÉDIO_41-60 4_349_AUTOMÓVEL_MÉDIO_41-60 2_349_AUTOMÓVEL_MÉDIO_41-60 2_350_AUTOMÓVEL_MÉDIO_41-60                              </td><td>7478</td></tr>\n",
       "\t<tr><td>3_349_AUTOMÓVEL_MÉDIO_41-60 4_349_AUTOMÓVEL_MÉDIO_41-60 2_350_AUTOMÓVEL_MÉDIO_41-60                                                          </td><td>7561</td></tr>\n",
       "\t<tr><td>3_349_AUTOMÓVEL_MÉDIO_41-60 2_349_AUTOMÓVEL_PEQUENO_41-60                                                                                    </td><td>7697</td></tr>\n",
       "\t<tr><td>3_349_AUTOMÓVEL_MÉDIO_41-60 2_349_AUTOMÓVEL_PEQUENO_41-60 2_349_AUTOMÓVEL_MÉDIO_41-60                                                        </td><td>7606</td></tr>\n",
       "\t<tr><td>3_349_AUTOMÓVEL_MÉDIO_41-60 2_349_AUTOMÓVEL_PEQUENO_41-60 2_349_AUTOMÓVEL_MÉDIO_41-60 2_350_AUTOMÓVEL_MÉDIO_41-60                            </td><td>7501</td></tr>\n",
       "\t<tr><td>3_349_AUTOMÓVEL_MÉDIO_41-60 2_349_AUTOMÓVEL_PEQUENO_41-60 2_350_AUTOMÓVEL_MÉDIO_41-60                                                        </td><td>7576</td></tr>\n",
       "\t<tr><td>3_349_AUTOMÓVEL_MÉDIO_41-60 2_349_AUTOMÓVEL_MÉDIO_41-60                                                                                      </td><td>7689</td></tr>\n",
       "\t<tr><td>3_349_AUTOMÓVEL_MÉDIO_41-60 2_349_AUTOMÓVEL_MÉDIO_41-60 2_350_AUTOMÓVEL_MÉDIO_41-60                                                          </td><td>7571</td></tr>\n",
       "\t<tr><td>3_349_AUTOMÓVEL_MÉDIO_41-60 2_350_AUTOMÓVEL_MÉDIO_41-60                                                                                      </td><td>7670</td></tr>\n",
       "\t<tr><td>4_349_AUTOMÓVEL_MÉDIO_41-60                                                                                                                  </td><td>7858</td></tr>\n",
       "\t<tr><td>4_349_AUTOMÓVEL_MÉDIO_41-60 2_349_AUTOMÓVEL_PEQUENO_41-60                                                                                    </td><td>7722</td></tr>\n",
       "\t<tr><td>4_349_AUTOMÓVEL_MÉDIO_41-60 2_349_AUTOMÓVEL_PEQUENO_41-60 2_349_AUTOMÓVEL_MÉDIO_41-60                                                        </td><td>7635</td></tr>\n",
       "\t<tr><td>4_349_AUTOMÓVEL_MÉDIO_41-60 2_349_AUTOMÓVEL_PEQUENO_41-60 2_349_AUTOMÓVEL_MÉDIO_41-60 2_350_AUTOMÓVEL_MÉDIO_41-60                            </td><td>7527</td></tr>\n",
       "\t<tr><td>4_349_AUTOMÓVEL_MÉDIO_41-60 2_349_AUTOMÓVEL_PEQUENO_41-60 2_350_AUTOMÓVEL_MÉDIO_41-60                                                        </td><td>7601</td></tr>\n",
       "\t<tr><td>4_349_AUTOMÓVEL_MÉDIO_41-60 2_349_AUTOMÓVEL_MÉDIO_41-60                                                                                      </td><td>7723</td></tr>\n",
       "\t<tr><td>4_349_AUTOMÓVEL_MÉDIO_41-60 2_349_AUTOMÓVEL_MÉDIO_41-60 2_350_AUTOMÓVEL_MÉDIO_41-60                                                          </td><td>7603</td></tr>\n",
       "\t<tr><td>4_349_AUTOMÓVEL_MÉDIO_41-60 2_350_AUTOMÓVEL_MÉDIO_41-60                                                                                      </td><td>7720</td></tr>\n",
       "\t<tr><td>2_349_AUTOMÓVEL_PEQUENO_41-60                                                                                                                </td><td>7869</td></tr>\n",
       "\t<tr><td>2_349_AUTOMÓVEL_PEQUENO_41-60 2_349_AUTOMÓVEL_MÉDIO_41-60                                                                                    </td><td>7762</td></tr>\n",
       "\t<tr><td>2_349_AUTOMÓVEL_PEQUENO_41-60 2_349_AUTOMÓVEL_MÉDIO_41-60 2_350_AUTOMÓVEL_MÉDIO_41-60                                                        </td><td>7635</td></tr>\n",
       "\t<tr><td>2_349_AUTOMÓVEL_PEQUENO_41-60 2_350_AUTOMÓVEL_MÉDIO_41-60                                                                                    </td><td>7721</td></tr>\n",
       "\t<tr><td>2_349_AUTOMÓVEL_MÉDIO_41-60                                                                                                                  </td><td>7870</td></tr>\n",
       "\t<tr><td>2_349_AUTOMÓVEL_MÉDIO_41-60 2_350_AUTOMÓVEL_MÉDIO_41-60                                                                                      </td><td>7726</td></tr>\n",
       "\t<tr><td>2_350_AUTOMÓVEL_MÉDIO_41-60                                                                                                                  </td><td>7881</td></tr>\n",
       "</tbody>\n",
       "</table>\n"
      ],
      "text/latex": [
       "A data.frame: 236 × 2\n",
       "\\begin{tabular}{ll}\n",
       " Itemset & Suporte\\\\\n",
       " <chr> & <dbl>\\\\\n",
       "\\hline\n",
       "\t 4\\_328\\_AUTOMÓVEL\\_PEQUENO\\_41-60                                                           & 7314\\\\\n",
       "\t 3\\_366\\_AUTOMÓVEL\\_MÉDIO\\_41-60                                                             & 7345\\\\\n",
       "\t 3\\_366\\_AUTOMÓVEL\\_MÉDIO\\_41-60 4\\_349\\_AUTOMÓVEL\\_MÉDIO\\_41-60                                 & 7257\\\\\n",
       "\t 3\\_366\\_AUTOMÓVEL\\_MÉDIO\\_41-60 2\\_350\\_AUTOMÓVEL\\_MÉDIO\\_41-60                                 & 7283\\\\\n",
       "\t 2\\_349\\_AUTOMÓVEL\\_MÉDIO\\_0-40                                                              & 7364\\\\\n",
       "\t 2\\_349\\_AUTOMÓVEL\\_MÉDIO\\_0-40 4\\_349\\_AUTOMÓVEL\\_MÉDIO\\_41-60                                  & 7262\\\\\n",
       "\t 2\\_349\\_AUTOMÓVEL\\_MÉDIO\\_0-40 2\\_350\\_AUTOMÓVEL\\_MÉDIO\\_41-60                                  & 7276\\\\\n",
       "\t 2\\_349\\_AUTOMÓVEL\\_PEQUENO\\_0-40                                                            & 7385\\\\\n",
       "\t 2\\_349\\_AUTOMÓVEL\\_PEQUENO\\_0-40 4\\_349\\_AUTOMÓVEL\\_MÉDIO\\_41-60                                & 7280\\\\\n",
       "\t 2\\_349\\_AUTOMÓVEL\\_PEQUENO\\_0-40 2\\_349\\_AUTOMÓVEL\\_PEQUENO\\_41-60                              & 7271\\\\\n",
       "\t 2\\_349\\_AUTOMÓVEL\\_PEQUENO\\_0-40 2\\_349\\_AUTOMÓVEL\\_MÉDIO\\_41-60                                & 7271\\\\\n",
       "\t 2\\_349\\_AUTOMÓVEL\\_PEQUENO\\_0-40 2\\_350\\_AUTOMÓVEL\\_MÉDIO\\_41-60                                & 7288\\\\\n",
       "\t 2\\_328\\_AUTOMÓVEL\\_PEQUENO\\_41-60                                                           & 7442\\\\\n",
       "\t 2\\_328\\_AUTOMÓVEL\\_PEQUENO\\_41-60 1\\_328\\_AUTOMÓVEL\\_PEQUENO\\_41-60                             & 7250\\\\\n",
       "\t 2\\_328\\_AUTOMÓVEL\\_PEQUENO\\_41-60 2\\_328\\_AUTOMÓVEL\\_MÉDIO\\_41-60                               & 7314\\\\\n",
       "\t 2\\_328\\_AUTOMÓVEL\\_PEQUENO\\_41-60 3\\_349\\_AUTOMÓVEL\\_MÉDIO\\_41-60                               & 7271\\\\\n",
       "\t 2\\_328\\_AUTOMÓVEL\\_PEQUENO\\_41-60 4\\_349\\_AUTOMÓVEL\\_MÉDIO\\_41-60                               & 7307\\\\\n",
       "\t 2\\_328\\_AUTOMÓVEL\\_PEQUENO\\_41-60 2\\_349\\_AUTOMÓVEL\\_PEQUENO\\_41-60                             & 7312\\\\\n",
       "\t 2\\_328\\_AUTOMÓVEL\\_PEQUENO\\_41-60 2\\_349\\_AUTOMÓVEL\\_MÉDIO\\_41-60                               & 7317\\\\\n",
       "\t 2\\_328\\_AUTOMÓVEL\\_PEQUENO\\_41-60 2\\_350\\_AUTOMÓVEL\\_MÉDIO\\_41-60                               & 7322\\\\\n",
       "\t 1\\_328\\_AUTOMÓVEL\\_PEQUENO\\_41-60                                                           & 7517\\\\\n",
       "\t 1\\_328\\_AUTOMÓVEL\\_PEQUENO\\_41-60 2\\_328\\_AUTOMÓVEL\\_MÉDIO\\_41-60                               & 7389\\\\\n",
       "\t 1\\_328\\_AUTOMÓVEL\\_PEQUENO\\_41-60 2\\_328\\_AUTOMÓVEL\\_MÉDIO\\_41-60 4\\_349\\_AUTOMÓVEL\\_MÉDIO\\_41-60   & 7267\\\\\n",
       "\t 1\\_328\\_AUTOMÓVEL\\_PEQUENO\\_41-60 2\\_328\\_AUTOMÓVEL\\_MÉDIO\\_41-60 2\\_349\\_AUTOMÓVEL\\_PEQUENO\\_41-60 & 7275\\\\\n",
       "\t 1\\_328\\_AUTOMÓVEL\\_PEQUENO\\_41-60 2\\_328\\_AUTOMÓVEL\\_MÉDIO\\_41-60 2\\_349\\_AUTOMÓVEL\\_MÉDIO\\_41-60   & 7268\\\\\n",
       "\t 1\\_328\\_AUTOMÓVEL\\_PEQUENO\\_41-60 2\\_328\\_AUTOMÓVEL\\_MÉDIO\\_41-60 2\\_350\\_AUTOMÓVEL\\_MÉDIO\\_41-60   & 7287\\\\\n",
       "\t 1\\_328\\_AUTOMÓVEL\\_PEQUENO\\_41-60 1\\_349\\_AUTOMÓVEL\\_PEQUENO\\_41-60                             & 7272\\\\\n",
       "\t 1\\_328\\_AUTOMÓVEL\\_PEQUENO\\_41-60 2\\_366\\_AUTOMÓVEL\\_MÉDIO\\_41-60                               & 7250\\\\\n",
       "\t 1\\_328\\_AUTOMÓVEL\\_PEQUENO\\_41-60 3\\_349\\_AUTOMÓVEL\\_MÉDIO\\_41-60                               & 7338\\\\\n",
       "\t 1\\_328\\_AUTOMÓVEL\\_PEQUENO\\_41-60 3\\_349\\_AUTOMÓVEL\\_MÉDIO\\_41-60 4\\_349\\_AUTOMÓVEL\\_MÉDIO\\_41-60   & 7248\\\\\n",
       "\t ... & ...\\\\\n",
       "\t 3\\_349\\_AUTOMÓVEL\\_MÉDIO\\_41-60 4\\_349\\_AUTOMÓVEL\\_MÉDIO\\_41-60                                                                                       & 7680\\\\\n",
       "\t 3\\_349\\_AUTOMÓVEL\\_MÉDIO\\_41-60 4\\_349\\_AUTOMÓVEL\\_MÉDIO\\_41-60 2\\_349\\_AUTOMÓVEL\\_PEQUENO\\_41-60                                                         & 7584\\\\\n",
       "\t 3\\_349\\_AUTOMÓVEL\\_MÉDIO\\_41-60 4\\_349\\_AUTOMÓVEL\\_MÉDIO\\_41-60 2\\_349\\_AUTOMÓVEL\\_PEQUENO\\_41-60 2\\_349\\_AUTOMÓVEL\\_MÉDIO\\_41-60                             & 7510\\\\\n",
       "\t 3\\_349\\_AUTOMÓVEL\\_MÉDIO\\_41-60 4\\_349\\_AUTOMÓVEL\\_MÉDIO\\_41-60 2\\_349\\_AUTOMÓVEL\\_PEQUENO\\_41-60 2\\_349\\_AUTOMÓVEL\\_MÉDIO\\_41-60 2\\_350\\_AUTOMÓVEL\\_MÉDIO\\_41-60 & 7417\\\\\n",
       "\t 3\\_349\\_AUTOMÓVEL\\_MÉDIO\\_41-60 4\\_349\\_AUTOMÓVEL\\_MÉDIO\\_41-60 2\\_349\\_AUTOMÓVEL\\_PEQUENO\\_41-60 2\\_350\\_AUTOMÓVEL\\_MÉDIO\\_41-60                             & 7481\\\\\n",
       "\t 3\\_349\\_AUTOMÓVEL\\_MÉDIO\\_41-60 4\\_349\\_AUTOMÓVEL\\_MÉDIO\\_41-60 2\\_349\\_AUTOMÓVEL\\_MÉDIO\\_41-60                                                           & 7582\\\\\n",
       "\t 3\\_349\\_AUTOMÓVEL\\_MÉDIO\\_41-60 4\\_349\\_AUTOMÓVEL\\_MÉDIO\\_41-60 2\\_349\\_AUTOMÓVEL\\_MÉDIO\\_41-60 2\\_350\\_AUTOMÓVEL\\_MÉDIO\\_41-60                               & 7478\\\\\n",
       "\t 3\\_349\\_AUTOMÓVEL\\_MÉDIO\\_41-60 4\\_349\\_AUTOMÓVEL\\_MÉDIO\\_41-60 2\\_350\\_AUTOMÓVEL\\_MÉDIO\\_41-60                                                           & 7561\\\\\n",
       "\t 3\\_349\\_AUTOMÓVEL\\_MÉDIO\\_41-60 2\\_349\\_AUTOMÓVEL\\_PEQUENO\\_41-60                                                                                     & 7697\\\\\n",
       "\t 3\\_349\\_AUTOMÓVEL\\_MÉDIO\\_41-60 2\\_349\\_AUTOMÓVEL\\_PEQUENO\\_41-60 2\\_349\\_AUTOMÓVEL\\_MÉDIO\\_41-60                                                         & 7606\\\\\n",
       "\t 3\\_349\\_AUTOMÓVEL\\_MÉDIO\\_41-60 2\\_349\\_AUTOMÓVEL\\_PEQUENO\\_41-60 2\\_349\\_AUTOMÓVEL\\_MÉDIO\\_41-60 2\\_350\\_AUTOMÓVEL\\_MÉDIO\\_41-60                             & 7501\\\\\n",
       "\t 3\\_349\\_AUTOMÓVEL\\_MÉDIO\\_41-60 2\\_349\\_AUTOMÓVEL\\_PEQUENO\\_41-60 2\\_350\\_AUTOMÓVEL\\_MÉDIO\\_41-60                                                         & 7576\\\\\n",
       "\t 3\\_349\\_AUTOMÓVEL\\_MÉDIO\\_41-60 2\\_349\\_AUTOMÓVEL\\_MÉDIO\\_41-60                                                                                       & 7689\\\\\n",
       "\t 3\\_349\\_AUTOMÓVEL\\_MÉDIO\\_41-60 2\\_349\\_AUTOMÓVEL\\_MÉDIO\\_41-60 2\\_350\\_AUTOMÓVEL\\_MÉDIO\\_41-60                                                           & 7571\\\\\n",
       "\t 3\\_349\\_AUTOMÓVEL\\_MÉDIO\\_41-60 2\\_350\\_AUTOMÓVEL\\_MÉDIO\\_41-60                                                                                       & 7670\\\\\n",
       "\t 4\\_349\\_AUTOMÓVEL\\_MÉDIO\\_41-60                                                                                                                   & 7858\\\\\n",
       "\t 4\\_349\\_AUTOMÓVEL\\_MÉDIO\\_41-60 2\\_349\\_AUTOMÓVEL\\_PEQUENO\\_41-60                                                                                     & 7722\\\\\n",
       "\t 4\\_349\\_AUTOMÓVEL\\_MÉDIO\\_41-60 2\\_349\\_AUTOMÓVEL\\_PEQUENO\\_41-60 2\\_349\\_AUTOMÓVEL\\_MÉDIO\\_41-60                                                         & 7635\\\\\n",
       "\t 4\\_349\\_AUTOMÓVEL\\_MÉDIO\\_41-60 2\\_349\\_AUTOMÓVEL\\_PEQUENO\\_41-60 2\\_349\\_AUTOMÓVEL\\_MÉDIO\\_41-60 2\\_350\\_AUTOMÓVEL\\_MÉDIO\\_41-60                             & 7527\\\\\n",
       "\t 4\\_349\\_AUTOMÓVEL\\_MÉDIO\\_41-60 2\\_349\\_AUTOMÓVEL\\_PEQUENO\\_41-60 2\\_350\\_AUTOMÓVEL\\_MÉDIO\\_41-60                                                         & 7601\\\\\n",
       "\t 4\\_349\\_AUTOMÓVEL\\_MÉDIO\\_41-60 2\\_349\\_AUTOMÓVEL\\_MÉDIO\\_41-60                                                                                       & 7723\\\\\n",
       "\t 4\\_349\\_AUTOMÓVEL\\_MÉDIO\\_41-60 2\\_349\\_AUTOMÓVEL\\_MÉDIO\\_41-60 2\\_350\\_AUTOMÓVEL\\_MÉDIO\\_41-60                                                           & 7603\\\\\n",
       "\t 4\\_349\\_AUTOMÓVEL\\_MÉDIO\\_41-60 2\\_350\\_AUTOMÓVEL\\_MÉDIO\\_41-60                                                                                       & 7720\\\\\n",
       "\t 2\\_349\\_AUTOMÓVEL\\_PEQUENO\\_41-60                                                                                                                 & 7869\\\\\n",
       "\t 2\\_349\\_AUTOMÓVEL\\_PEQUENO\\_41-60 2\\_349\\_AUTOMÓVEL\\_MÉDIO\\_41-60                                                                                     & 7762\\\\\n",
       "\t 2\\_349\\_AUTOMÓVEL\\_PEQUENO\\_41-60 2\\_349\\_AUTOMÓVEL\\_MÉDIO\\_41-60 2\\_350\\_AUTOMÓVEL\\_MÉDIO\\_41-60                                                         & 7635\\\\\n",
       "\t 2\\_349\\_AUTOMÓVEL\\_PEQUENO\\_41-60 2\\_350\\_AUTOMÓVEL\\_MÉDIO\\_41-60                                                                                     & 7721\\\\\n",
       "\t 2\\_349\\_AUTOMÓVEL\\_MÉDIO\\_41-60                                                                                                                   & 7870\\\\\n",
       "\t 2\\_349\\_AUTOMÓVEL\\_MÉDIO\\_41-60 2\\_350\\_AUTOMÓVEL\\_MÉDIO\\_41-60                                                                                       & 7726\\\\\n",
       "\t 2\\_350\\_AUTOMÓVEL\\_MÉDIO\\_41-60                                                                                                                   & 7881\\\\\n",
       "\\end{tabular}\n"
      ],
      "text/markdown": [
       "\n",
       "A data.frame: 236 × 2\n",
       "\n",
       "| Itemset &lt;chr&gt; | Suporte &lt;dbl&gt; |\n",
       "|---|---|\n",
       "| 4_328_AUTOMÓVEL_PEQUENO_41-60                                                           | 7314 |\n",
       "| 3_366_AUTOMÓVEL_MÉDIO_41-60                                                             | 7345 |\n",
       "| 3_366_AUTOMÓVEL_MÉDIO_41-60 4_349_AUTOMÓVEL_MÉDIO_41-60                                 | 7257 |\n",
       "| 3_366_AUTOMÓVEL_MÉDIO_41-60 2_350_AUTOMÓVEL_MÉDIO_41-60                                 | 7283 |\n",
       "| 2_349_AUTOMÓVEL_MÉDIO_0-40                                                              | 7364 |\n",
       "| 2_349_AUTOMÓVEL_MÉDIO_0-40 4_349_AUTOMÓVEL_MÉDIO_41-60                                  | 7262 |\n",
       "| 2_349_AUTOMÓVEL_MÉDIO_0-40 2_350_AUTOMÓVEL_MÉDIO_41-60                                  | 7276 |\n",
       "| 2_349_AUTOMÓVEL_PEQUENO_0-40                                                            | 7385 |\n",
       "| 2_349_AUTOMÓVEL_PEQUENO_0-40 4_349_AUTOMÓVEL_MÉDIO_41-60                                | 7280 |\n",
       "| 2_349_AUTOMÓVEL_PEQUENO_0-40 2_349_AUTOMÓVEL_PEQUENO_41-60                              | 7271 |\n",
       "| 2_349_AUTOMÓVEL_PEQUENO_0-40 2_349_AUTOMÓVEL_MÉDIO_41-60                                | 7271 |\n",
       "| 2_349_AUTOMÓVEL_PEQUENO_0-40 2_350_AUTOMÓVEL_MÉDIO_41-60                                | 7288 |\n",
       "| 2_328_AUTOMÓVEL_PEQUENO_41-60                                                           | 7442 |\n",
       "| 2_328_AUTOMÓVEL_PEQUENO_41-60 1_328_AUTOMÓVEL_PEQUENO_41-60                             | 7250 |\n",
       "| 2_328_AUTOMÓVEL_PEQUENO_41-60 2_328_AUTOMÓVEL_MÉDIO_41-60                               | 7314 |\n",
       "| 2_328_AUTOMÓVEL_PEQUENO_41-60 3_349_AUTOMÓVEL_MÉDIO_41-60                               | 7271 |\n",
       "| 2_328_AUTOMÓVEL_PEQUENO_41-60 4_349_AUTOMÓVEL_MÉDIO_41-60                               | 7307 |\n",
       "| 2_328_AUTOMÓVEL_PEQUENO_41-60 2_349_AUTOMÓVEL_PEQUENO_41-60                             | 7312 |\n",
       "| 2_328_AUTOMÓVEL_PEQUENO_41-60 2_349_AUTOMÓVEL_MÉDIO_41-60                               | 7317 |\n",
       "| 2_328_AUTOMÓVEL_PEQUENO_41-60 2_350_AUTOMÓVEL_MÉDIO_41-60                               | 7322 |\n",
       "| 1_328_AUTOMÓVEL_PEQUENO_41-60                                                           | 7517 |\n",
       "| 1_328_AUTOMÓVEL_PEQUENO_41-60 2_328_AUTOMÓVEL_MÉDIO_41-60                               | 7389 |\n",
       "| 1_328_AUTOMÓVEL_PEQUENO_41-60 2_328_AUTOMÓVEL_MÉDIO_41-60 4_349_AUTOMÓVEL_MÉDIO_41-60   | 7267 |\n",
       "| 1_328_AUTOMÓVEL_PEQUENO_41-60 2_328_AUTOMÓVEL_MÉDIO_41-60 2_349_AUTOMÓVEL_PEQUENO_41-60 | 7275 |\n",
       "| 1_328_AUTOMÓVEL_PEQUENO_41-60 2_328_AUTOMÓVEL_MÉDIO_41-60 2_349_AUTOMÓVEL_MÉDIO_41-60   | 7268 |\n",
       "| 1_328_AUTOMÓVEL_PEQUENO_41-60 2_328_AUTOMÓVEL_MÉDIO_41-60 2_350_AUTOMÓVEL_MÉDIO_41-60   | 7287 |\n",
       "| 1_328_AUTOMÓVEL_PEQUENO_41-60 1_349_AUTOMÓVEL_PEQUENO_41-60                             | 7272 |\n",
       "| 1_328_AUTOMÓVEL_PEQUENO_41-60 2_366_AUTOMÓVEL_MÉDIO_41-60                               | 7250 |\n",
       "| 1_328_AUTOMÓVEL_PEQUENO_41-60 3_349_AUTOMÓVEL_MÉDIO_41-60                               | 7338 |\n",
       "| 1_328_AUTOMÓVEL_PEQUENO_41-60 3_349_AUTOMÓVEL_MÉDIO_41-60 4_349_AUTOMÓVEL_MÉDIO_41-60   | 7248 |\n",
       "| ... | ... |\n",
       "| 3_349_AUTOMÓVEL_MÉDIO_41-60 4_349_AUTOMÓVEL_MÉDIO_41-60                                                                                       | 7680 |\n",
       "| 3_349_AUTOMÓVEL_MÉDIO_41-60 4_349_AUTOMÓVEL_MÉDIO_41-60 2_349_AUTOMÓVEL_PEQUENO_41-60                                                         | 7584 |\n",
       "| 3_349_AUTOMÓVEL_MÉDIO_41-60 4_349_AUTOMÓVEL_MÉDIO_41-60 2_349_AUTOMÓVEL_PEQUENO_41-60 2_349_AUTOMÓVEL_MÉDIO_41-60                             | 7510 |\n",
       "| 3_349_AUTOMÓVEL_MÉDIO_41-60 4_349_AUTOMÓVEL_MÉDIO_41-60 2_349_AUTOMÓVEL_PEQUENO_41-60 2_349_AUTOMÓVEL_MÉDIO_41-60 2_350_AUTOMÓVEL_MÉDIO_41-60 | 7417 |\n",
       "| 3_349_AUTOMÓVEL_MÉDIO_41-60 4_349_AUTOMÓVEL_MÉDIO_41-60 2_349_AUTOMÓVEL_PEQUENO_41-60 2_350_AUTOMÓVEL_MÉDIO_41-60                             | 7481 |\n",
       "| 3_349_AUTOMÓVEL_MÉDIO_41-60 4_349_AUTOMÓVEL_MÉDIO_41-60 2_349_AUTOMÓVEL_MÉDIO_41-60                                                           | 7582 |\n",
       "| 3_349_AUTOMÓVEL_MÉDIO_41-60 4_349_AUTOMÓVEL_MÉDIO_41-60 2_349_AUTOMÓVEL_MÉDIO_41-60 2_350_AUTOMÓVEL_MÉDIO_41-60                               | 7478 |\n",
       "| 3_349_AUTOMÓVEL_MÉDIO_41-60 4_349_AUTOMÓVEL_MÉDIO_41-60 2_350_AUTOMÓVEL_MÉDIO_41-60                                                           | 7561 |\n",
       "| 3_349_AUTOMÓVEL_MÉDIO_41-60 2_349_AUTOMÓVEL_PEQUENO_41-60                                                                                     | 7697 |\n",
       "| 3_349_AUTOMÓVEL_MÉDIO_41-60 2_349_AUTOMÓVEL_PEQUENO_41-60 2_349_AUTOMÓVEL_MÉDIO_41-60                                                         | 7606 |\n",
       "| 3_349_AUTOMÓVEL_MÉDIO_41-60 2_349_AUTOMÓVEL_PEQUENO_41-60 2_349_AUTOMÓVEL_MÉDIO_41-60 2_350_AUTOMÓVEL_MÉDIO_41-60                             | 7501 |\n",
       "| 3_349_AUTOMÓVEL_MÉDIO_41-60 2_349_AUTOMÓVEL_PEQUENO_41-60 2_350_AUTOMÓVEL_MÉDIO_41-60                                                         | 7576 |\n",
       "| 3_349_AUTOMÓVEL_MÉDIO_41-60 2_349_AUTOMÓVEL_MÉDIO_41-60                                                                                       | 7689 |\n",
       "| 3_349_AUTOMÓVEL_MÉDIO_41-60 2_349_AUTOMÓVEL_MÉDIO_41-60 2_350_AUTOMÓVEL_MÉDIO_41-60                                                           | 7571 |\n",
       "| 3_349_AUTOMÓVEL_MÉDIO_41-60 2_350_AUTOMÓVEL_MÉDIO_41-60                                                                                       | 7670 |\n",
       "| 4_349_AUTOMÓVEL_MÉDIO_41-60                                                                                                                   | 7858 |\n",
       "| 4_349_AUTOMÓVEL_MÉDIO_41-60 2_349_AUTOMÓVEL_PEQUENO_41-60                                                                                     | 7722 |\n",
       "| 4_349_AUTOMÓVEL_MÉDIO_41-60 2_349_AUTOMÓVEL_PEQUENO_41-60 2_349_AUTOMÓVEL_MÉDIO_41-60                                                         | 7635 |\n",
       "| 4_349_AUTOMÓVEL_MÉDIO_41-60 2_349_AUTOMÓVEL_PEQUENO_41-60 2_349_AUTOMÓVEL_MÉDIO_41-60 2_350_AUTOMÓVEL_MÉDIO_41-60                             | 7527 |\n",
       "| 4_349_AUTOMÓVEL_MÉDIO_41-60 2_349_AUTOMÓVEL_PEQUENO_41-60 2_350_AUTOMÓVEL_MÉDIO_41-60                                                         | 7601 |\n",
       "| 4_349_AUTOMÓVEL_MÉDIO_41-60 2_349_AUTOMÓVEL_MÉDIO_41-60                                                                                       | 7723 |\n",
       "| 4_349_AUTOMÓVEL_MÉDIO_41-60 2_349_AUTOMÓVEL_MÉDIO_41-60 2_350_AUTOMÓVEL_MÉDIO_41-60                                                           | 7603 |\n",
       "| 4_349_AUTOMÓVEL_MÉDIO_41-60 2_350_AUTOMÓVEL_MÉDIO_41-60                                                                                       | 7720 |\n",
       "| 2_349_AUTOMÓVEL_PEQUENO_41-60                                                                                                                 | 7869 |\n",
       "| 2_349_AUTOMÓVEL_PEQUENO_41-60 2_349_AUTOMÓVEL_MÉDIO_41-60                                                                                     | 7762 |\n",
       "| 2_349_AUTOMÓVEL_PEQUENO_41-60 2_349_AUTOMÓVEL_MÉDIO_41-60 2_350_AUTOMÓVEL_MÉDIO_41-60                                                         | 7635 |\n",
       "| 2_349_AUTOMÓVEL_PEQUENO_41-60 2_350_AUTOMÓVEL_MÉDIO_41-60                                                                                     | 7721 |\n",
       "| 2_349_AUTOMÓVEL_MÉDIO_41-60                                                                                                                   | 7870 |\n",
       "| 2_349_AUTOMÓVEL_MÉDIO_41-60 2_350_AUTOMÓVEL_MÉDIO_41-60                                                                                       | 7726 |\n",
       "| 2_350_AUTOMÓVEL_MÉDIO_41-60                                                                                                                   | 7881 |\n",
       "\n"
      ],
      "text/plain": [
       "    Itemset                                                                                                                                      \n",
       "1   4_328_AUTOMÓVEL_PEQUENO_41-60                                                                                                                \n",
       "2   3_366_AUTOMÓVEL_MÉDIO_41-60                                                                                                                  \n",
       "3   3_366_AUTOMÓVEL_MÉDIO_41-60 4_349_AUTOMÓVEL_MÉDIO_41-60                                                                                      \n",
       "4   3_366_AUTOMÓVEL_MÉDIO_41-60 2_350_AUTOMÓVEL_MÉDIO_41-60                                                                                      \n",
       "5   2_349_AUTOMÓVEL_MÉDIO_0-40                                                                                                                   \n",
       "6   2_349_AUTOMÓVEL_MÉDIO_0-40 4_349_AUTOMÓVEL_MÉDIO_41-60                                                                                       \n",
       "7   2_349_AUTOMÓVEL_MÉDIO_0-40 2_350_AUTOMÓVEL_MÉDIO_41-60                                                                                       \n",
       "8   2_349_AUTOMÓVEL_PEQUENO_0-40                                                                                                                 \n",
       "9   2_349_AUTOMÓVEL_PEQUENO_0-40 4_349_AUTOMÓVEL_MÉDIO_41-60                                                                                     \n",
       "10  2_349_AUTOMÓVEL_PEQUENO_0-40 2_349_AUTOMÓVEL_PEQUENO_41-60                                                                                   \n",
       "11  2_349_AUTOMÓVEL_PEQUENO_0-40 2_349_AUTOMÓVEL_MÉDIO_41-60                                                                                     \n",
       "12  2_349_AUTOMÓVEL_PEQUENO_0-40 2_350_AUTOMÓVEL_MÉDIO_41-60                                                                                     \n",
       "13  2_328_AUTOMÓVEL_PEQUENO_41-60                                                                                                                \n",
       "14  2_328_AUTOMÓVEL_PEQUENO_41-60 1_328_AUTOMÓVEL_PEQUENO_41-60                                                                                  \n",
       "15  2_328_AUTOMÓVEL_PEQUENO_41-60 2_328_AUTOMÓVEL_MÉDIO_41-60                                                                                    \n",
       "16  2_328_AUTOMÓVEL_PEQUENO_41-60 3_349_AUTOMÓVEL_MÉDIO_41-60                                                                                    \n",
       "17  2_328_AUTOMÓVEL_PEQUENO_41-60 4_349_AUTOMÓVEL_MÉDIO_41-60                                                                                    \n",
       "18  2_328_AUTOMÓVEL_PEQUENO_41-60 2_349_AUTOMÓVEL_PEQUENO_41-60                                                                                  \n",
       "19  2_328_AUTOMÓVEL_PEQUENO_41-60 2_349_AUTOMÓVEL_MÉDIO_41-60                                                                                    \n",
       "20  2_328_AUTOMÓVEL_PEQUENO_41-60 2_350_AUTOMÓVEL_MÉDIO_41-60                                                                                    \n",
       "21  1_328_AUTOMÓVEL_PEQUENO_41-60                                                                                                                \n",
       "22  1_328_AUTOMÓVEL_PEQUENO_41-60 2_328_AUTOMÓVEL_MÉDIO_41-60                                                                                    \n",
       "23  1_328_AUTOMÓVEL_PEQUENO_41-60 2_328_AUTOMÓVEL_MÉDIO_41-60 4_349_AUTOMÓVEL_MÉDIO_41-60                                                        \n",
       "24  1_328_AUTOMÓVEL_PEQUENO_41-60 2_328_AUTOMÓVEL_MÉDIO_41-60 2_349_AUTOMÓVEL_PEQUENO_41-60                                                      \n",
       "25  1_328_AUTOMÓVEL_PEQUENO_41-60 2_328_AUTOMÓVEL_MÉDIO_41-60 2_349_AUTOMÓVEL_MÉDIO_41-60                                                        \n",
       "26  1_328_AUTOMÓVEL_PEQUENO_41-60 2_328_AUTOMÓVEL_MÉDIO_41-60 2_350_AUTOMÓVEL_MÉDIO_41-60                                                        \n",
       "27  1_328_AUTOMÓVEL_PEQUENO_41-60 1_349_AUTOMÓVEL_PEQUENO_41-60                                                                                  \n",
       "28  1_328_AUTOMÓVEL_PEQUENO_41-60 2_366_AUTOMÓVEL_MÉDIO_41-60                                                                                    \n",
       "29  1_328_AUTOMÓVEL_PEQUENO_41-60 3_349_AUTOMÓVEL_MÉDIO_41-60                                                                                    \n",
       "30  1_328_AUTOMÓVEL_PEQUENO_41-60 3_349_AUTOMÓVEL_MÉDIO_41-60 4_349_AUTOMÓVEL_MÉDIO_41-60                                                        \n",
       "... ...                                                                                                                                          \n",
       "207 3_349_AUTOMÓVEL_MÉDIO_41-60 4_349_AUTOMÓVEL_MÉDIO_41-60                                                                                      \n",
       "208 3_349_AUTOMÓVEL_MÉDIO_41-60 4_349_AUTOMÓVEL_MÉDIO_41-60 2_349_AUTOMÓVEL_PEQUENO_41-60                                                        \n",
       "209 3_349_AUTOMÓVEL_MÉDIO_41-60 4_349_AUTOMÓVEL_MÉDIO_41-60 2_349_AUTOMÓVEL_PEQUENO_41-60 2_349_AUTOMÓVEL_MÉDIO_41-60                            \n",
       "210 3_349_AUTOMÓVEL_MÉDIO_41-60 4_349_AUTOMÓVEL_MÉDIO_41-60 2_349_AUTOMÓVEL_PEQUENO_41-60 2_349_AUTOMÓVEL_MÉDIO_41-60 2_350_AUTOMÓVEL_MÉDIO_41-60\n",
       "211 3_349_AUTOMÓVEL_MÉDIO_41-60 4_349_AUTOMÓVEL_MÉDIO_41-60 2_349_AUTOMÓVEL_PEQUENO_41-60 2_350_AUTOMÓVEL_MÉDIO_41-60                            \n",
       "212 3_349_AUTOMÓVEL_MÉDIO_41-60 4_349_AUTOMÓVEL_MÉDIO_41-60 2_349_AUTOMÓVEL_MÉDIO_41-60                                                          \n",
       "213 3_349_AUTOMÓVEL_MÉDIO_41-60 4_349_AUTOMÓVEL_MÉDIO_41-60 2_349_AUTOMÓVEL_MÉDIO_41-60 2_350_AUTOMÓVEL_MÉDIO_41-60                              \n",
       "214 3_349_AUTOMÓVEL_MÉDIO_41-60 4_349_AUTOMÓVEL_MÉDIO_41-60 2_350_AUTOMÓVEL_MÉDIO_41-60                                                          \n",
       "215 3_349_AUTOMÓVEL_MÉDIO_41-60 2_349_AUTOMÓVEL_PEQUENO_41-60                                                                                    \n",
       "216 3_349_AUTOMÓVEL_MÉDIO_41-60 2_349_AUTOMÓVEL_PEQUENO_41-60 2_349_AUTOMÓVEL_MÉDIO_41-60                                                        \n",
       "217 3_349_AUTOMÓVEL_MÉDIO_41-60 2_349_AUTOMÓVEL_PEQUENO_41-60 2_349_AUTOMÓVEL_MÉDIO_41-60 2_350_AUTOMÓVEL_MÉDIO_41-60                            \n",
       "218 3_349_AUTOMÓVEL_MÉDIO_41-60 2_349_AUTOMÓVEL_PEQUENO_41-60 2_350_AUTOMÓVEL_MÉDIO_41-60                                                        \n",
       "219 3_349_AUTOMÓVEL_MÉDIO_41-60 2_349_AUTOMÓVEL_MÉDIO_41-60                                                                                      \n",
       "220 3_349_AUTOMÓVEL_MÉDIO_41-60 2_349_AUTOMÓVEL_MÉDIO_41-60 2_350_AUTOMÓVEL_MÉDIO_41-60                                                          \n",
       "221 3_349_AUTOMÓVEL_MÉDIO_41-60 2_350_AUTOMÓVEL_MÉDIO_41-60                                                                                      \n",
       "222 4_349_AUTOMÓVEL_MÉDIO_41-60                                                                                                                  \n",
       "223 4_349_AUTOMÓVEL_MÉDIO_41-60 2_349_AUTOMÓVEL_PEQUENO_41-60                                                                                    \n",
       "224 4_349_AUTOMÓVEL_MÉDIO_41-60 2_349_AUTOMÓVEL_PEQUENO_41-60 2_349_AUTOMÓVEL_MÉDIO_41-60                                                        \n",
       "225 4_349_AUTOMÓVEL_MÉDIO_41-60 2_349_AUTOMÓVEL_PEQUENO_41-60 2_349_AUTOMÓVEL_MÉDIO_41-60 2_350_AUTOMÓVEL_MÉDIO_41-60                            \n",
       "226 4_349_AUTOMÓVEL_MÉDIO_41-60 2_349_AUTOMÓVEL_PEQUENO_41-60 2_350_AUTOMÓVEL_MÉDIO_41-60                                                        \n",
       "227 4_349_AUTOMÓVEL_MÉDIO_41-60 2_349_AUTOMÓVEL_MÉDIO_41-60                                                                                      \n",
       "228 4_349_AUTOMÓVEL_MÉDIO_41-60 2_349_AUTOMÓVEL_MÉDIO_41-60 2_350_AUTOMÓVEL_MÉDIO_41-60                                                          \n",
       "229 4_349_AUTOMÓVEL_MÉDIO_41-60 2_350_AUTOMÓVEL_MÉDIO_41-60                                                                                      \n",
       "230 2_349_AUTOMÓVEL_PEQUENO_41-60                                                                                                                \n",
       "231 2_349_AUTOMÓVEL_PEQUENO_41-60 2_349_AUTOMÓVEL_MÉDIO_41-60                                                                                    \n",
       "232 2_349_AUTOMÓVEL_PEQUENO_41-60 2_349_AUTOMÓVEL_MÉDIO_41-60 2_350_AUTOMÓVEL_MÉDIO_41-60                                                        \n",
       "233 2_349_AUTOMÓVEL_PEQUENO_41-60 2_350_AUTOMÓVEL_MÉDIO_41-60                                                                                    \n",
       "234 2_349_AUTOMÓVEL_MÉDIO_41-60                                                                                                                  \n",
       "235 2_349_AUTOMÓVEL_MÉDIO_41-60 2_350_AUTOMÓVEL_MÉDIO_41-60                                                                                      \n",
       "236 2_350_AUTOMÓVEL_MÉDIO_41-60                                                                                                                  \n",
       "    Suporte\n",
       "1   7314   \n",
       "2   7345   \n",
       "3   7257   \n",
       "4   7283   \n",
       "5   7364   \n",
       "6   7262   \n",
       "7   7276   \n",
       "8   7385   \n",
       "9   7280   \n",
       "10  7271   \n",
       "11  7271   \n",
       "12  7288   \n",
       "13  7442   \n",
       "14  7250   \n",
       "15  7314   \n",
       "16  7271   \n",
       "17  7307   \n",
       "18  7312   \n",
       "19  7317   \n",
       "20  7322   \n",
       "21  7517   \n",
       "22  7389   \n",
       "23  7267   \n",
       "24  7275   \n",
       "25  7268   \n",
       "26  7287   \n",
       "27  7272   \n",
       "28  7250   \n",
       "29  7338   \n",
       "30  7248   \n",
       "... ...    \n",
       "207 7680   \n",
       "208 7584   \n",
       "209 7510   \n",
       "210 7417   \n",
       "211 7481   \n",
       "212 7582   \n",
       "213 7478   \n",
       "214 7561   \n",
       "215 7697   \n",
       "216 7606   \n",
       "217 7501   \n",
       "218 7576   \n",
       "219 7689   \n",
       "220 7571   \n",
       "221 7670   \n",
       "222 7858   \n",
       "223 7722   \n",
       "224 7635   \n",
       "225 7527   \n",
       "226 7601   \n",
       "227 7723   \n",
       "228 7603   \n",
       "229 7720   \n",
       "230 7869   \n",
       "231 7762   \n",
       "232 7635   \n",
       "233 7721   \n",
       "234 7870   \n",
       "235 7726   \n",
       "236 7881   "
      ]
     },
     "metadata": {},
     "output_type": "display_data"
    }
   ],
   "source": [
    "frequentes <- read.csv('frequentes.csv')\n",
    "colnames(frequentes) <- c(\"Itemset\", \"Suporte\")\n",
    "frequentes"
   ]
  },
  {
   "cell_type": "markdown",
   "metadata": {},
   "source": [
    "### Processamento de sequencias\n",
    "Para processar dos dados em sequência agrupamos os registros em três sequências de 5 minutos, o número -1 divide as sequências."
   ]
  },
  {
   "cell_type": "code",
   "execution_count": null,
   "metadata": {},
   "outputs": [],
   "source": [
    "sequencia <- contorno %>%\n",
    "  group_by(Dia = day(`DATA HORA`), Minuto = floor_date(`DATA HORA`, unit = \"5minutes\")) %>%\n",
    "  summarise(\n",
    "    ITEMSET = paste0(unique(ID), collapse = \" \"),\n",
    "    .groups = 'drop') %>%\n",
    "  group_by(Dia, floor_date(Minuto, unit = \"15minutes\")) %>%\n",
    "  summarise(ITEMSET = paste0(ITEMSET, collapse = \" -1 \"), .groups = 'drop')"
   ]
  },
  {
   "cell_type": "code",
   "execution_count": null,
   "metadata": {},
   "outputs": [],
   "source": [
    "sequencia$ITEMSET = paste(sequencia$ITEMSET, \"-2\")\n",
    "gera_preambulo(\"arquivoseq.txt\", ind)\n",
    "write(sequencia$ITEMSET, \"arquivoseq.txt\", append = TRUE)"
   ]
  },
  {
   "cell_type": "markdown",
   "metadata": {},
   "source": [
    "O algoritmo utilizado foi o SPADE Paralelizado com suporte mínimo de 0.95"
   ]
  },
  {
   "cell_type": "code",
   "execution_count": null,
   "metadata": {},
   "outputs": [
    {
     "data": {
      "text/html": [
       "<table class=\"dataframe\">\n",
       "<caption>A data.frame: 69 × 2</caption>\n",
       "<thead>\n",
       "\t<tr><th scope=col>Regra</th><th scope=col>Suporte</th></tr>\n",
       "\t<tr><th scope=col>&lt;chr&gt;</th><th scope=col>&lt;dbl&gt;</th></tr>\n",
       "</thead>\n",
       "<tbody>\n",
       "\t<tr><td>1_328_AUTOMÓVEL_PEQUENO_41-60 -1                               </td><td>2607</td></tr>\n",
       "\t<tr><td>1_349_AUTOMÓVEL_MÉDIO_41-60 -1                                 </td><td>2595</td></tr>\n",
       "\t<tr><td>1_349_AUTOMÓVEL_PEQUENO_0-40 -1                                </td><td>2624</td></tr>\n",
       "\t<tr><td>1_349_AUTOMÓVEL_PEQUENO_41-60 -1                               </td><td>2667</td></tr>\n",
       "\t<tr><td>2_328_AUTOMÓVEL_MÉDIO_41-60 -1                                 </td><td>2623</td></tr>\n",
       "\t<tr><td>2_328_AUTOMÓVEL_PEQUENO_41-60 -1                               </td><td>2612</td></tr>\n",
       "\t<tr><td>2_349_AUTOMÓVEL_MÉDIO_0-40 -1                                  </td><td>2655</td></tr>\n",
       "\t<tr><td>2_349_AUTOMÓVEL_MÉDIO_41-60 -1                                 </td><td>2677</td></tr>\n",
       "\t<tr><td>2_349_AUTOMÓVEL_PEQUENO_0-40 -1                                </td><td>2650</td></tr>\n",
       "\t<tr><td>2_349_AUTOMÓVEL_PEQUENO_41-60 -1                               </td><td>2677</td></tr>\n",
       "\t<tr><td>2_350_AUTOMÓVEL_MÉDIO_0-40 -1                                  </td><td>2570</td></tr>\n",
       "\t<tr><td>2_350_AUTOMÓVEL_MÉDIO_41-60 -1                                 </td><td>2680</td></tr>\n",
       "\t<tr><td>2_366_AUTOMÓVEL_MÉDIO_0-40 -1                                  </td><td>2587</td></tr>\n",
       "\t<tr><td>2_366_AUTOMÓVEL_MÉDIO_41-60 -1                                 </td><td>2631</td></tr>\n",
       "\t<tr><td>3_349_AUTOMÓVEL_MÉDIO_0-40 -1                                  </td><td>2611</td></tr>\n",
       "\t<tr><td>3_349_AUTOMÓVEL_MÉDIO_41-60 -1                                 </td><td>2674</td></tr>\n",
       "\t<tr><td>3_349_AUTOMÓVEL_PEQUENO_41-60 -1                               </td><td>2566</td></tr>\n",
       "\t<tr><td>3_366_AUTOMÓVEL_MÉDIO_0-40 -1                                  </td><td>2596</td></tr>\n",
       "\t<tr><td>3_366_AUTOMÓVEL_MÉDIO_41-60 -1                                 </td><td>2607</td></tr>\n",
       "\t<tr><td>4_328_AUTOMÓVEL_PEQUENO_41-60 -1                               </td><td>2600</td></tr>\n",
       "\t<tr><td>4_349_AUTOMÓVEL_GRANDE_41-60 -1                                </td><td>2607</td></tr>\n",
       "\t<tr><td>4_349_AUTOMÓVEL_MÉDIO_41-60 -1                                 </td><td>2683</td></tr>\n",
       "\t<tr><td>4_370_AUTOMÓVEL_MÉDIO_0-40 -1                                  </td><td>2671</td></tr>\n",
       "\t<tr><td>4_370_AUTOMÓVEL_MÉDIO_41-60 -1                                 </td><td>2588</td></tr>\n",
       "\t<tr><td>2_328_AUTOMÓVEL_MÉDIO_41-60 1_349_AUTOMÓVEL_PEQUENO_41-60 -1   </td><td>2552</td></tr>\n",
       "\t<tr><td>2_349_AUTOMÓVEL_MÉDIO_41-60 -1 2_349_AUTOMÓVEL_MÉDIO_41-60 -1  </td><td>2575</td></tr>\n",
       "\t<tr><td>2_349_AUTOMÓVEL_PEQUENO_41-60 -1 2_349_AUTOMÓVEL_MÉDIO_41-60 -1</td><td>2574</td></tr>\n",
       "\t<tr><td>2_350_AUTOMÓVEL_MÉDIO_41-60 -1 2_349_AUTOMÓVEL_MÉDIO_41-60 -1  </td><td>2571</td></tr>\n",
       "\t<tr><td>4_349_AUTOMÓVEL_MÉDIO_41-60 -1 2_349_AUTOMÓVEL_MÉDIO_41-60 -1  </td><td>2566</td></tr>\n",
       "\t<tr><td>3_349_AUTOMÓVEL_MÉDIO_41-60 -1 2_349_AUTOMÓVEL_MÉDIO_41-60 -1  </td><td>2555</td></tr>\n",
       "\t<tr><td>...</td><td>...</td></tr>\n",
       "\t<tr><td>2_349_AUTOMÓVEL_MÉDIO_41-60 -1 2_350_AUTOMÓVEL_MÉDIO_41-60 -1                                </td><td>2565</td></tr>\n",
       "\t<tr><td>2_350_AUTOMÓVEL_MÉDIO_41-60 -1 2_350_AUTOMÓVEL_MÉDIO_41-60 -1                                </td><td>2584</td></tr>\n",
       "\t<tr><td>4_349_AUTOMÓVEL_MÉDIO_41-60 -1 2_350_AUTOMÓVEL_MÉDIO_41-60 -1                                </td><td>2564</td></tr>\n",
       "\t<tr><td>3_349_AUTOMÓVEL_MÉDIO_41-60 -1 2_350_AUTOMÓVEL_MÉDIO_41-60 -1                                </td><td>2552</td></tr>\n",
       "\t<tr><td>2_328_AUTOMÓVEL_MÉDIO_41-60 2_350_AUTOMÓVEL_MÉDIO_41-60 -1                                   </td><td>2579</td></tr>\n",
       "\t<tr><td>2_349_AUTOMÓVEL_MÉDIO_41-60 -1 3_349_AUTOMÓVEL_MÉDIO_41-60 -1                                </td><td>2558</td></tr>\n",
       "\t<tr><td>2_349_AUTOMÓVEL_PEQUENO_41-60 -1 3_349_AUTOMÓVEL_MÉDIO_41-60 -1                              </td><td>2557</td></tr>\n",
       "\t<tr><td>2_350_AUTOMÓVEL_MÉDIO_41-60 -1 3_349_AUTOMÓVEL_MÉDIO_41-60 -1                                </td><td>2567</td></tr>\n",
       "\t<tr><td>4_349_AUTOMÓVEL_MÉDIO_41-60 -1 3_349_AUTOMÓVEL_MÉDIO_41-60 -1                                </td><td>2559</td></tr>\n",
       "\t<tr><td>3_349_AUTOMÓVEL_MÉDIO_41-60 -1 3_349_AUTOMÓVEL_MÉDIO_41-60 -1                                </td><td>2551</td></tr>\n",
       "\t<tr><td>2_328_AUTOMÓVEL_MÉDIO_41-60 3_349_AUTOMÓVEL_MÉDIO_41-60 -1                                   </td><td>2566</td></tr>\n",
       "\t<tr><td>2_349_AUTOMÓVEL_PEQUENO_41-60 -1 4_349_AUTOMÓVEL_MÉDIO_41-60 -1                              </td><td>2567</td></tr>\n",
       "\t<tr><td>2_350_AUTOMÓVEL_MÉDIO_41-60 -1 4_349_AUTOMÓVEL_MÉDIO_41-60 -1                                </td><td>2577</td></tr>\n",
       "\t<tr><td>4_349_AUTOMÓVEL_MÉDIO_41-60 -1 4_349_AUTOMÓVEL_MÉDIO_41-60 -1                                </td><td>2572</td></tr>\n",
       "\t<tr><td>3_349_AUTOMÓVEL_MÉDIO_41-60 -1 4_349_AUTOMÓVEL_MÉDIO_41-60 -1                                </td><td>2555</td></tr>\n",
       "\t<tr><td>2_349_AUTOMÓVEL_MÉDIO_41-60 -1 4_349_AUTOMÓVEL_MÉDIO_41-60 -1                                </td><td>2569</td></tr>\n",
       "\t<tr><td>2_328_AUTOMÓVEL_MÉDIO_41-60 4_349_AUTOMÓVEL_MÉDIO_41-60 -1                                   </td><td>2581</td></tr>\n",
       "\t<tr><td>3_349_AUTOMÓVEL_MÉDIO_41-60 4_370_AUTOMÓVEL_MÉDIO_0-40 -1                                    </td><td>2576</td></tr>\n",
       "\t<tr><td>2_349_AUTOMÓVEL_MÉDIO_41-60 4_370_AUTOMÓVEL_MÉDIO_0-40 -1                                    </td><td>2588</td></tr>\n",
       "\t<tr><td>2_349_AUTOMÓVEL_PEQUENO_41-60 4_370_AUTOMÓVEL_MÉDIO_0-40 -1                                  </td><td>2587</td></tr>\n",
       "\t<tr><td>2_350_AUTOMÓVEL_MÉDIO_41-60 4_370_AUTOMÓVEL_MÉDIO_0-40 -1                                    </td><td>2600</td></tr>\n",
       "\t<tr><td>4_349_AUTOMÓVEL_MÉDIO_41-60 4_370_AUTOMÓVEL_MÉDIO_0-40 -1                                    </td><td>2583</td></tr>\n",
       "\t<tr><td>1_349_AUTOMÓVEL_PEQUENO_41-60 4_370_AUTOMÓVEL_MÉDIO_0-40 -1                                  </td><td>2555</td></tr>\n",
       "\t<tr><td>2_328_AUTOMÓVEL_MÉDIO_41-60 2_350_AUTOMÓVEL_MÉDIO_41-60 4_349_AUTOMÓVEL_MÉDIO_41-60 -1       </td><td>2554</td></tr>\n",
       "\t<tr><td>2_349_AUTOMÓVEL_PEQUENO_41-60 -1 2_349_AUTOMÓVEL_MÉDIO_41-60 2_349_AUTOMÓVEL_PEQUENO_41-60 -1</td><td>2553</td></tr>\n",
       "\t<tr><td>2_328_AUTOMÓVEL_MÉDIO_41-60 2_349_AUTOMÓVEL_PEQUENO_41-60 4_349_AUTOMÓVEL_MÉDIO_41-60 -1     </td><td>2554</td></tr>\n",
       "\t<tr><td>2_328_AUTOMÓVEL_MÉDIO_41-60 2_349_AUTOMÓVEL_MÉDIO_41-60 4_349_AUTOMÓVEL_MÉDIO_41-60 -1       </td><td>2550</td></tr>\n",
       "\t<tr><td>2_328_AUTOMÓVEL_MÉDIO_41-60 2_349_AUTOMÓVEL_MÉDIO_41-60 2_350_AUTOMÓVEL_MÉDIO_41-60 -1       </td><td>2551</td></tr>\n",
       "\t<tr><td>2_349_AUTOMÓVEL_MÉDIO_41-60 -1 2_349_AUTOMÓVEL_MÉDIO_41-60 2_349_AUTOMÓVEL_PEQUENO_41-60 -1  </td><td>2554</td></tr>\n",
       "\t<tr><td>2_328_AUTOMÓVEL_MÉDIO_41-60 2_349_AUTOMÓVEL_MÉDIO_41-60 2_349_AUTOMÓVEL_PEQUENO_41-60 -1     </td><td>2555</td></tr>\n",
       "</tbody>\n",
       "</table>\n"
      ],
      "text/latex": [
       "A data.frame: 69 × 2\n",
       "\\begin{tabular}{ll}\n",
       " Regra & Suporte\\\\\n",
       " <chr> & <dbl>\\\\\n",
       "\\hline\n",
       "\t 1\\_328\\_AUTOMÓVEL\\_PEQUENO\\_41-60 -1                                & 2607\\\\\n",
       "\t 1\\_349\\_AUTOMÓVEL\\_MÉDIO\\_41-60 -1                                  & 2595\\\\\n",
       "\t 1\\_349\\_AUTOMÓVEL\\_PEQUENO\\_0-40 -1                                 & 2624\\\\\n",
       "\t 1\\_349\\_AUTOMÓVEL\\_PEQUENO\\_41-60 -1                                & 2667\\\\\n",
       "\t 2\\_328\\_AUTOMÓVEL\\_MÉDIO\\_41-60 -1                                  & 2623\\\\\n",
       "\t 2\\_328\\_AUTOMÓVEL\\_PEQUENO\\_41-60 -1                                & 2612\\\\\n",
       "\t 2\\_349\\_AUTOMÓVEL\\_MÉDIO\\_0-40 -1                                   & 2655\\\\\n",
       "\t 2\\_349\\_AUTOMÓVEL\\_MÉDIO\\_41-60 -1                                  & 2677\\\\\n",
       "\t 2\\_349\\_AUTOMÓVEL\\_PEQUENO\\_0-40 -1                                 & 2650\\\\\n",
       "\t 2\\_349\\_AUTOMÓVEL\\_PEQUENO\\_41-60 -1                                & 2677\\\\\n",
       "\t 2\\_350\\_AUTOMÓVEL\\_MÉDIO\\_0-40 -1                                   & 2570\\\\\n",
       "\t 2\\_350\\_AUTOMÓVEL\\_MÉDIO\\_41-60 -1                                  & 2680\\\\\n",
       "\t 2\\_366\\_AUTOMÓVEL\\_MÉDIO\\_0-40 -1                                   & 2587\\\\\n",
       "\t 2\\_366\\_AUTOMÓVEL\\_MÉDIO\\_41-60 -1                                  & 2631\\\\\n",
       "\t 3\\_349\\_AUTOMÓVEL\\_MÉDIO\\_0-40 -1                                   & 2611\\\\\n",
       "\t 3\\_349\\_AUTOMÓVEL\\_MÉDIO\\_41-60 -1                                  & 2674\\\\\n",
       "\t 3\\_349\\_AUTOMÓVEL\\_PEQUENO\\_41-60 -1                                & 2566\\\\\n",
       "\t 3\\_366\\_AUTOMÓVEL\\_MÉDIO\\_0-40 -1                                   & 2596\\\\\n",
       "\t 3\\_366\\_AUTOMÓVEL\\_MÉDIO\\_41-60 -1                                  & 2607\\\\\n",
       "\t 4\\_328\\_AUTOMÓVEL\\_PEQUENO\\_41-60 -1                                & 2600\\\\\n",
       "\t 4\\_349\\_AUTOMÓVEL\\_GRANDE\\_41-60 -1                                 & 2607\\\\\n",
       "\t 4\\_349\\_AUTOMÓVEL\\_MÉDIO\\_41-60 -1                                  & 2683\\\\\n",
       "\t 4\\_370\\_AUTOMÓVEL\\_MÉDIO\\_0-40 -1                                   & 2671\\\\\n",
       "\t 4\\_370\\_AUTOMÓVEL\\_MÉDIO\\_41-60 -1                                  & 2588\\\\\n",
       "\t 2\\_328\\_AUTOMÓVEL\\_MÉDIO\\_41-60 1\\_349\\_AUTOMÓVEL\\_PEQUENO\\_41-60 -1    & 2552\\\\\n",
       "\t 2\\_349\\_AUTOMÓVEL\\_MÉDIO\\_41-60 -1 2\\_349\\_AUTOMÓVEL\\_MÉDIO\\_41-60 -1   & 2575\\\\\n",
       "\t 2\\_349\\_AUTOMÓVEL\\_PEQUENO\\_41-60 -1 2\\_349\\_AUTOMÓVEL\\_MÉDIO\\_41-60 -1 & 2574\\\\\n",
       "\t 2\\_350\\_AUTOMÓVEL\\_MÉDIO\\_41-60 -1 2\\_349\\_AUTOMÓVEL\\_MÉDIO\\_41-60 -1   & 2571\\\\\n",
       "\t 4\\_349\\_AUTOMÓVEL\\_MÉDIO\\_41-60 -1 2\\_349\\_AUTOMÓVEL\\_MÉDIO\\_41-60 -1   & 2566\\\\\n",
       "\t 3\\_349\\_AUTOMÓVEL\\_MÉDIO\\_41-60 -1 2\\_349\\_AUTOMÓVEL\\_MÉDIO\\_41-60 -1   & 2555\\\\\n",
       "\t ... & ...\\\\\n",
       "\t 2\\_349\\_AUTOMÓVEL\\_MÉDIO\\_41-60 -1 2\\_350\\_AUTOMÓVEL\\_MÉDIO\\_41-60 -1                                 & 2565\\\\\n",
       "\t 2\\_350\\_AUTOMÓVEL\\_MÉDIO\\_41-60 -1 2\\_350\\_AUTOMÓVEL\\_MÉDIO\\_41-60 -1                                 & 2584\\\\\n",
       "\t 4\\_349\\_AUTOMÓVEL\\_MÉDIO\\_41-60 -1 2\\_350\\_AUTOMÓVEL\\_MÉDIO\\_41-60 -1                                 & 2564\\\\\n",
       "\t 3\\_349\\_AUTOMÓVEL\\_MÉDIO\\_41-60 -1 2\\_350\\_AUTOMÓVEL\\_MÉDIO\\_41-60 -1                                 & 2552\\\\\n",
       "\t 2\\_328\\_AUTOMÓVEL\\_MÉDIO\\_41-60 2\\_350\\_AUTOMÓVEL\\_MÉDIO\\_41-60 -1                                    & 2579\\\\\n",
       "\t 2\\_349\\_AUTOMÓVEL\\_MÉDIO\\_41-60 -1 3\\_349\\_AUTOMÓVEL\\_MÉDIO\\_41-60 -1                                 & 2558\\\\\n",
       "\t 2\\_349\\_AUTOMÓVEL\\_PEQUENO\\_41-60 -1 3\\_349\\_AUTOMÓVEL\\_MÉDIO\\_41-60 -1                               & 2557\\\\\n",
       "\t 2\\_350\\_AUTOMÓVEL\\_MÉDIO\\_41-60 -1 3\\_349\\_AUTOMÓVEL\\_MÉDIO\\_41-60 -1                                 & 2567\\\\\n",
       "\t 4\\_349\\_AUTOMÓVEL\\_MÉDIO\\_41-60 -1 3\\_349\\_AUTOMÓVEL\\_MÉDIO\\_41-60 -1                                 & 2559\\\\\n",
       "\t 3\\_349\\_AUTOMÓVEL\\_MÉDIO\\_41-60 -1 3\\_349\\_AUTOMÓVEL\\_MÉDIO\\_41-60 -1                                 & 2551\\\\\n",
       "\t 2\\_328\\_AUTOMÓVEL\\_MÉDIO\\_41-60 3\\_349\\_AUTOMÓVEL\\_MÉDIO\\_41-60 -1                                    & 2566\\\\\n",
       "\t 2\\_349\\_AUTOMÓVEL\\_PEQUENO\\_41-60 -1 4\\_349\\_AUTOMÓVEL\\_MÉDIO\\_41-60 -1                               & 2567\\\\\n",
       "\t 2\\_350\\_AUTOMÓVEL\\_MÉDIO\\_41-60 -1 4\\_349\\_AUTOMÓVEL\\_MÉDIO\\_41-60 -1                                 & 2577\\\\\n",
       "\t 4\\_349\\_AUTOMÓVEL\\_MÉDIO\\_41-60 -1 4\\_349\\_AUTOMÓVEL\\_MÉDIO\\_41-60 -1                                 & 2572\\\\\n",
       "\t 3\\_349\\_AUTOMÓVEL\\_MÉDIO\\_41-60 -1 4\\_349\\_AUTOMÓVEL\\_MÉDIO\\_41-60 -1                                 & 2555\\\\\n",
       "\t 2\\_349\\_AUTOMÓVEL\\_MÉDIO\\_41-60 -1 4\\_349\\_AUTOMÓVEL\\_MÉDIO\\_41-60 -1                                 & 2569\\\\\n",
       "\t 2\\_328\\_AUTOMÓVEL\\_MÉDIO\\_41-60 4\\_349\\_AUTOMÓVEL\\_MÉDIO\\_41-60 -1                                    & 2581\\\\\n",
       "\t 3\\_349\\_AUTOMÓVEL\\_MÉDIO\\_41-60 4\\_370\\_AUTOMÓVEL\\_MÉDIO\\_0-40 -1                                     & 2576\\\\\n",
       "\t 2\\_349\\_AUTOMÓVEL\\_MÉDIO\\_41-60 4\\_370\\_AUTOMÓVEL\\_MÉDIO\\_0-40 -1                                     & 2588\\\\\n",
       "\t 2\\_349\\_AUTOMÓVEL\\_PEQUENO\\_41-60 4\\_370\\_AUTOMÓVEL\\_MÉDIO\\_0-40 -1                                   & 2587\\\\\n",
       "\t 2\\_350\\_AUTOMÓVEL\\_MÉDIO\\_41-60 4\\_370\\_AUTOMÓVEL\\_MÉDIO\\_0-40 -1                                     & 2600\\\\\n",
       "\t 4\\_349\\_AUTOMÓVEL\\_MÉDIO\\_41-60 4\\_370\\_AUTOMÓVEL\\_MÉDIO\\_0-40 -1                                     & 2583\\\\\n",
       "\t 1\\_349\\_AUTOMÓVEL\\_PEQUENO\\_41-60 4\\_370\\_AUTOMÓVEL\\_MÉDIO\\_0-40 -1                                   & 2555\\\\\n",
       "\t 2\\_328\\_AUTOMÓVEL\\_MÉDIO\\_41-60 2\\_350\\_AUTOMÓVEL\\_MÉDIO\\_41-60 4\\_349\\_AUTOMÓVEL\\_MÉDIO\\_41-60 -1        & 2554\\\\\n",
       "\t 2\\_349\\_AUTOMÓVEL\\_PEQUENO\\_41-60 -1 2\\_349\\_AUTOMÓVEL\\_MÉDIO\\_41-60 2\\_349\\_AUTOMÓVEL\\_PEQUENO\\_41-60 -1 & 2553\\\\\n",
       "\t 2\\_328\\_AUTOMÓVEL\\_MÉDIO\\_41-60 2\\_349\\_AUTOMÓVEL\\_PEQUENO\\_41-60 4\\_349\\_AUTOMÓVEL\\_MÉDIO\\_41-60 -1      & 2554\\\\\n",
       "\t 2\\_328\\_AUTOMÓVEL\\_MÉDIO\\_41-60 2\\_349\\_AUTOMÓVEL\\_MÉDIO\\_41-60 4\\_349\\_AUTOMÓVEL\\_MÉDIO\\_41-60 -1        & 2550\\\\\n",
       "\t 2\\_328\\_AUTOMÓVEL\\_MÉDIO\\_41-60 2\\_349\\_AUTOMÓVEL\\_MÉDIO\\_41-60 2\\_350\\_AUTOMÓVEL\\_MÉDIO\\_41-60 -1        & 2551\\\\\n",
       "\t 2\\_349\\_AUTOMÓVEL\\_MÉDIO\\_41-60 -1 2\\_349\\_AUTOMÓVEL\\_MÉDIO\\_41-60 2\\_349\\_AUTOMÓVEL\\_PEQUENO\\_41-60 -1   & 2554\\\\\n",
       "\t 2\\_328\\_AUTOMÓVEL\\_MÉDIO\\_41-60 2\\_349\\_AUTOMÓVEL\\_MÉDIO\\_41-60 2\\_349\\_AUTOMÓVEL\\_PEQUENO\\_41-60 -1      & 2555\\\\\n",
       "\\end{tabular}\n"
      ],
      "text/markdown": [
       "\n",
       "A data.frame: 69 × 2\n",
       "\n",
       "| Regra &lt;chr&gt; | Suporte &lt;dbl&gt; |\n",
       "|---|---|\n",
       "| 1_328_AUTOMÓVEL_PEQUENO_41-60 -1                                | 2607 |\n",
       "| 1_349_AUTOMÓVEL_MÉDIO_41-60 -1                                  | 2595 |\n",
       "| 1_349_AUTOMÓVEL_PEQUENO_0-40 -1                                 | 2624 |\n",
       "| 1_349_AUTOMÓVEL_PEQUENO_41-60 -1                                | 2667 |\n",
       "| 2_328_AUTOMÓVEL_MÉDIO_41-60 -1                                  | 2623 |\n",
       "| 2_328_AUTOMÓVEL_PEQUENO_41-60 -1                                | 2612 |\n",
       "| 2_349_AUTOMÓVEL_MÉDIO_0-40 -1                                   | 2655 |\n",
       "| 2_349_AUTOMÓVEL_MÉDIO_41-60 -1                                  | 2677 |\n",
       "| 2_349_AUTOMÓVEL_PEQUENO_0-40 -1                                 | 2650 |\n",
       "| 2_349_AUTOMÓVEL_PEQUENO_41-60 -1                                | 2677 |\n",
       "| 2_350_AUTOMÓVEL_MÉDIO_0-40 -1                                   | 2570 |\n",
       "| 2_350_AUTOMÓVEL_MÉDIO_41-60 -1                                  | 2680 |\n",
       "| 2_366_AUTOMÓVEL_MÉDIO_0-40 -1                                   | 2587 |\n",
       "| 2_366_AUTOMÓVEL_MÉDIO_41-60 -1                                  | 2631 |\n",
       "| 3_349_AUTOMÓVEL_MÉDIO_0-40 -1                                   | 2611 |\n",
       "| 3_349_AUTOMÓVEL_MÉDIO_41-60 -1                                  | 2674 |\n",
       "| 3_349_AUTOMÓVEL_PEQUENO_41-60 -1                                | 2566 |\n",
       "| 3_366_AUTOMÓVEL_MÉDIO_0-40 -1                                   | 2596 |\n",
       "| 3_366_AUTOMÓVEL_MÉDIO_41-60 -1                                  | 2607 |\n",
       "| 4_328_AUTOMÓVEL_PEQUENO_41-60 -1                                | 2600 |\n",
       "| 4_349_AUTOMÓVEL_GRANDE_41-60 -1                                 | 2607 |\n",
       "| 4_349_AUTOMÓVEL_MÉDIO_41-60 -1                                  | 2683 |\n",
       "| 4_370_AUTOMÓVEL_MÉDIO_0-40 -1                                   | 2671 |\n",
       "| 4_370_AUTOMÓVEL_MÉDIO_41-60 -1                                  | 2588 |\n",
       "| 2_328_AUTOMÓVEL_MÉDIO_41-60 1_349_AUTOMÓVEL_PEQUENO_41-60 -1    | 2552 |\n",
       "| 2_349_AUTOMÓVEL_MÉDIO_41-60 -1 2_349_AUTOMÓVEL_MÉDIO_41-60 -1   | 2575 |\n",
       "| 2_349_AUTOMÓVEL_PEQUENO_41-60 -1 2_349_AUTOMÓVEL_MÉDIO_41-60 -1 | 2574 |\n",
       "| 2_350_AUTOMÓVEL_MÉDIO_41-60 -1 2_349_AUTOMÓVEL_MÉDIO_41-60 -1   | 2571 |\n",
       "| 4_349_AUTOMÓVEL_MÉDIO_41-60 -1 2_349_AUTOMÓVEL_MÉDIO_41-60 -1   | 2566 |\n",
       "| 3_349_AUTOMÓVEL_MÉDIO_41-60 -1 2_349_AUTOMÓVEL_MÉDIO_41-60 -1   | 2555 |\n",
       "| ... | ... |\n",
       "| 2_349_AUTOMÓVEL_MÉDIO_41-60 -1 2_350_AUTOMÓVEL_MÉDIO_41-60 -1                                 | 2565 |\n",
       "| 2_350_AUTOMÓVEL_MÉDIO_41-60 -1 2_350_AUTOMÓVEL_MÉDIO_41-60 -1                                 | 2584 |\n",
       "| 4_349_AUTOMÓVEL_MÉDIO_41-60 -1 2_350_AUTOMÓVEL_MÉDIO_41-60 -1                                 | 2564 |\n",
       "| 3_349_AUTOMÓVEL_MÉDIO_41-60 -1 2_350_AUTOMÓVEL_MÉDIO_41-60 -1                                 | 2552 |\n",
       "| 2_328_AUTOMÓVEL_MÉDIO_41-60 2_350_AUTOMÓVEL_MÉDIO_41-60 -1                                    | 2579 |\n",
       "| 2_349_AUTOMÓVEL_MÉDIO_41-60 -1 3_349_AUTOMÓVEL_MÉDIO_41-60 -1                                 | 2558 |\n",
       "| 2_349_AUTOMÓVEL_PEQUENO_41-60 -1 3_349_AUTOMÓVEL_MÉDIO_41-60 -1                               | 2557 |\n",
       "| 2_350_AUTOMÓVEL_MÉDIO_41-60 -1 3_349_AUTOMÓVEL_MÉDIO_41-60 -1                                 | 2567 |\n",
       "| 4_349_AUTOMÓVEL_MÉDIO_41-60 -1 3_349_AUTOMÓVEL_MÉDIO_41-60 -1                                 | 2559 |\n",
       "| 3_349_AUTOMÓVEL_MÉDIO_41-60 -1 3_349_AUTOMÓVEL_MÉDIO_41-60 -1                                 | 2551 |\n",
       "| 2_328_AUTOMÓVEL_MÉDIO_41-60 3_349_AUTOMÓVEL_MÉDIO_41-60 -1                                    | 2566 |\n",
       "| 2_349_AUTOMÓVEL_PEQUENO_41-60 -1 4_349_AUTOMÓVEL_MÉDIO_41-60 -1                               | 2567 |\n",
       "| 2_350_AUTOMÓVEL_MÉDIO_41-60 -1 4_349_AUTOMÓVEL_MÉDIO_41-60 -1                                 | 2577 |\n",
       "| 4_349_AUTOMÓVEL_MÉDIO_41-60 -1 4_349_AUTOMÓVEL_MÉDIO_41-60 -1                                 | 2572 |\n",
       "| 3_349_AUTOMÓVEL_MÉDIO_41-60 -1 4_349_AUTOMÓVEL_MÉDIO_41-60 -1                                 | 2555 |\n",
       "| 2_349_AUTOMÓVEL_MÉDIO_41-60 -1 4_349_AUTOMÓVEL_MÉDIO_41-60 -1                                 | 2569 |\n",
       "| 2_328_AUTOMÓVEL_MÉDIO_41-60 4_349_AUTOMÓVEL_MÉDIO_41-60 -1                                    | 2581 |\n",
       "| 3_349_AUTOMÓVEL_MÉDIO_41-60 4_370_AUTOMÓVEL_MÉDIO_0-40 -1                                     | 2576 |\n",
       "| 2_349_AUTOMÓVEL_MÉDIO_41-60 4_370_AUTOMÓVEL_MÉDIO_0-40 -1                                     | 2588 |\n",
       "| 2_349_AUTOMÓVEL_PEQUENO_41-60 4_370_AUTOMÓVEL_MÉDIO_0-40 -1                                   | 2587 |\n",
       "| 2_350_AUTOMÓVEL_MÉDIO_41-60 4_370_AUTOMÓVEL_MÉDIO_0-40 -1                                     | 2600 |\n",
       "| 4_349_AUTOMÓVEL_MÉDIO_41-60 4_370_AUTOMÓVEL_MÉDIO_0-40 -1                                     | 2583 |\n",
       "| 1_349_AUTOMÓVEL_PEQUENO_41-60 4_370_AUTOMÓVEL_MÉDIO_0-40 -1                                   | 2555 |\n",
       "| 2_328_AUTOMÓVEL_MÉDIO_41-60 2_350_AUTOMÓVEL_MÉDIO_41-60 4_349_AUTOMÓVEL_MÉDIO_41-60 -1        | 2554 |\n",
       "| 2_349_AUTOMÓVEL_PEQUENO_41-60 -1 2_349_AUTOMÓVEL_MÉDIO_41-60 2_349_AUTOMÓVEL_PEQUENO_41-60 -1 | 2553 |\n",
       "| 2_328_AUTOMÓVEL_MÉDIO_41-60 2_349_AUTOMÓVEL_PEQUENO_41-60 4_349_AUTOMÓVEL_MÉDIO_41-60 -1      | 2554 |\n",
       "| 2_328_AUTOMÓVEL_MÉDIO_41-60 2_349_AUTOMÓVEL_MÉDIO_41-60 4_349_AUTOMÓVEL_MÉDIO_41-60 -1        | 2550 |\n",
       "| 2_328_AUTOMÓVEL_MÉDIO_41-60 2_349_AUTOMÓVEL_MÉDIO_41-60 2_350_AUTOMÓVEL_MÉDIO_41-60 -1        | 2551 |\n",
       "| 2_349_AUTOMÓVEL_MÉDIO_41-60 -1 2_349_AUTOMÓVEL_MÉDIO_41-60 2_349_AUTOMÓVEL_PEQUENO_41-60 -1   | 2554 |\n",
       "| 2_328_AUTOMÓVEL_MÉDIO_41-60 2_349_AUTOMÓVEL_MÉDIO_41-60 2_349_AUTOMÓVEL_PEQUENO_41-60 -1      | 2555 |\n",
       "\n"
      ],
      "text/plain": [
       "    Regra                                                                                        \n",
       "1   1_328_AUTOMÓVEL_PEQUENO_41-60 -1                                                             \n",
       "2   1_349_AUTOMÓVEL_MÉDIO_41-60 -1                                                               \n",
       "3   1_349_AUTOMÓVEL_PEQUENO_0-40 -1                                                              \n",
       "4   1_349_AUTOMÓVEL_PEQUENO_41-60 -1                                                             \n",
       "5   2_328_AUTOMÓVEL_MÉDIO_41-60 -1                                                               \n",
       "6   2_328_AUTOMÓVEL_PEQUENO_41-60 -1                                                             \n",
       "7   2_349_AUTOMÓVEL_MÉDIO_0-40 -1                                                                \n",
       "8   2_349_AUTOMÓVEL_MÉDIO_41-60 -1                                                               \n",
       "9   2_349_AUTOMÓVEL_PEQUENO_0-40 -1                                                              \n",
       "10  2_349_AUTOMÓVEL_PEQUENO_41-60 -1                                                             \n",
       "11  2_350_AUTOMÓVEL_MÉDIO_0-40 -1                                                                \n",
       "12  2_350_AUTOMÓVEL_MÉDIO_41-60 -1                                                               \n",
       "13  2_366_AUTOMÓVEL_MÉDIO_0-40 -1                                                                \n",
       "14  2_366_AUTOMÓVEL_MÉDIO_41-60 -1                                                               \n",
       "15  3_349_AUTOMÓVEL_MÉDIO_0-40 -1                                                                \n",
       "16  3_349_AUTOMÓVEL_MÉDIO_41-60 -1                                                               \n",
       "17  3_349_AUTOMÓVEL_PEQUENO_41-60 -1                                                             \n",
       "18  3_366_AUTOMÓVEL_MÉDIO_0-40 -1                                                                \n",
       "19  3_366_AUTOMÓVEL_MÉDIO_41-60 -1                                                               \n",
       "20  4_328_AUTOMÓVEL_PEQUENO_41-60 -1                                                             \n",
       "21  4_349_AUTOMÓVEL_GRANDE_41-60 -1                                                              \n",
       "22  4_349_AUTOMÓVEL_MÉDIO_41-60 -1                                                               \n",
       "23  4_370_AUTOMÓVEL_MÉDIO_0-40 -1                                                                \n",
       "24  4_370_AUTOMÓVEL_MÉDIO_41-60 -1                                                               \n",
       "25  2_328_AUTOMÓVEL_MÉDIO_41-60 1_349_AUTOMÓVEL_PEQUENO_41-60 -1                                 \n",
       "26  2_349_AUTOMÓVEL_MÉDIO_41-60 -1 2_349_AUTOMÓVEL_MÉDIO_41-60 -1                                \n",
       "27  2_349_AUTOMÓVEL_PEQUENO_41-60 -1 2_349_AUTOMÓVEL_MÉDIO_41-60 -1                              \n",
       "28  2_350_AUTOMÓVEL_MÉDIO_41-60 -1 2_349_AUTOMÓVEL_MÉDIO_41-60 -1                                \n",
       "29  4_349_AUTOMÓVEL_MÉDIO_41-60 -1 2_349_AUTOMÓVEL_MÉDIO_41-60 -1                                \n",
       "30  3_349_AUTOMÓVEL_MÉDIO_41-60 -1 2_349_AUTOMÓVEL_MÉDIO_41-60 -1                                \n",
       "... ...                                                                                          \n",
       "40  2_349_AUTOMÓVEL_MÉDIO_41-60 -1 2_350_AUTOMÓVEL_MÉDIO_41-60 -1                                \n",
       "41  2_350_AUTOMÓVEL_MÉDIO_41-60 -1 2_350_AUTOMÓVEL_MÉDIO_41-60 -1                                \n",
       "42  4_349_AUTOMÓVEL_MÉDIO_41-60 -1 2_350_AUTOMÓVEL_MÉDIO_41-60 -1                                \n",
       "43  3_349_AUTOMÓVEL_MÉDIO_41-60 -1 2_350_AUTOMÓVEL_MÉDIO_41-60 -1                                \n",
       "44  2_328_AUTOMÓVEL_MÉDIO_41-60 2_350_AUTOMÓVEL_MÉDIO_41-60 -1                                   \n",
       "45  2_349_AUTOMÓVEL_MÉDIO_41-60 -1 3_349_AUTOMÓVEL_MÉDIO_41-60 -1                                \n",
       "46  2_349_AUTOMÓVEL_PEQUENO_41-60 -1 3_349_AUTOMÓVEL_MÉDIO_41-60 -1                              \n",
       "47  2_350_AUTOMÓVEL_MÉDIO_41-60 -1 3_349_AUTOMÓVEL_MÉDIO_41-60 -1                                \n",
       "48  4_349_AUTOMÓVEL_MÉDIO_41-60 -1 3_349_AUTOMÓVEL_MÉDIO_41-60 -1                                \n",
       "49  3_349_AUTOMÓVEL_MÉDIO_41-60 -1 3_349_AUTOMÓVEL_MÉDIO_41-60 -1                                \n",
       "50  2_328_AUTOMÓVEL_MÉDIO_41-60 3_349_AUTOMÓVEL_MÉDIO_41-60 -1                                   \n",
       "51  2_349_AUTOMÓVEL_PEQUENO_41-60 -1 4_349_AUTOMÓVEL_MÉDIO_41-60 -1                              \n",
       "52  2_350_AUTOMÓVEL_MÉDIO_41-60 -1 4_349_AUTOMÓVEL_MÉDIO_41-60 -1                                \n",
       "53  4_349_AUTOMÓVEL_MÉDIO_41-60 -1 4_349_AUTOMÓVEL_MÉDIO_41-60 -1                                \n",
       "54  3_349_AUTOMÓVEL_MÉDIO_41-60 -1 4_349_AUTOMÓVEL_MÉDIO_41-60 -1                                \n",
       "55  2_349_AUTOMÓVEL_MÉDIO_41-60 -1 4_349_AUTOMÓVEL_MÉDIO_41-60 -1                                \n",
       "56  2_328_AUTOMÓVEL_MÉDIO_41-60 4_349_AUTOMÓVEL_MÉDIO_41-60 -1                                   \n",
       "57  3_349_AUTOMÓVEL_MÉDIO_41-60 4_370_AUTOMÓVEL_MÉDIO_0-40 -1                                    \n",
       "58  2_349_AUTOMÓVEL_MÉDIO_41-60 4_370_AUTOMÓVEL_MÉDIO_0-40 -1                                    \n",
       "59  2_349_AUTOMÓVEL_PEQUENO_41-60 4_370_AUTOMÓVEL_MÉDIO_0-40 -1                                  \n",
       "60  2_350_AUTOMÓVEL_MÉDIO_41-60 4_370_AUTOMÓVEL_MÉDIO_0-40 -1                                    \n",
       "61  4_349_AUTOMÓVEL_MÉDIO_41-60 4_370_AUTOMÓVEL_MÉDIO_0-40 -1                                    \n",
       "62  1_349_AUTOMÓVEL_PEQUENO_41-60 4_370_AUTOMÓVEL_MÉDIO_0-40 -1                                  \n",
       "63  2_328_AUTOMÓVEL_MÉDIO_41-60 2_350_AUTOMÓVEL_MÉDIO_41-60 4_349_AUTOMÓVEL_MÉDIO_41-60 -1       \n",
       "64  2_349_AUTOMÓVEL_PEQUENO_41-60 -1 2_349_AUTOMÓVEL_MÉDIO_41-60 2_349_AUTOMÓVEL_PEQUENO_41-60 -1\n",
       "65  2_328_AUTOMÓVEL_MÉDIO_41-60 2_349_AUTOMÓVEL_PEQUENO_41-60 4_349_AUTOMÓVEL_MÉDIO_41-60 -1     \n",
       "66  2_328_AUTOMÓVEL_MÉDIO_41-60 2_349_AUTOMÓVEL_MÉDIO_41-60 4_349_AUTOMÓVEL_MÉDIO_41-60 -1       \n",
       "67  2_328_AUTOMÓVEL_MÉDIO_41-60 2_349_AUTOMÓVEL_MÉDIO_41-60 2_350_AUTOMÓVEL_MÉDIO_41-60 -1       \n",
       "68  2_349_AUTOMÓVEL_MÉDIO_41-60 -1 2_349_AUTOMÓVEL_MÉDIO_41-60 2_349_AUTOMÓVEL_PEQUENO_41-60 -1  \n",
       "69  2_328_AUTOMÓVEL_MÉDIO_41-60 2_349_AUTOMÓVEL_MÉDIO_41-60 2_349_AUTOMÓVEL_PEQUENO_41-60 -1     \n",
       "    Suporte\n",
       "1   2607   \n",
       "2   2595   \n",
       "3   2624   \n",
       "4   2667   \n",
       "5   2623   \n",
       "6   2612   \n",
       "7   2655   \n",
       "8   2677   \n",
       "9   2650   \n",
       "10  2677   \n",
       "11  2570   \n",
       "12  2680   \n",
       "13  2587   \n",
       "14  2631   \n",
       "15  2611   \n",
       "16  2674   \n",
       "17  2566   \n",
       "18  2596   \n",
       "19  2607   \n",
       "20  2600   \n",
       "21  2607   \n",
       "22  2683   \n",
       "23  2671   \n",
       "24  2588   \n",
       "25  2552   \n",
       "26  2575   \n",
       "27  2574   \n",
       "28  2571   \n",
       "29  2566   \n",
       "30  2555   \n",
       "... ...    \n",
       "40  2565   \n",
       "41  2584   \n",
       "42  2564   \n",
       "43  2552   \n",
       "44  2579   \n",
       "45  2558   \n",
       "46  2557   \n",
       "47  2567   \n",
       "48  2559   \n",
       "49  2551   \n",
       "50  2566   \n",
       "51  2567   \n",
       "52  2577   \n",
       "53  2572   \n",
       "54  2555   \n",
       "55  2569   \n",
       "56  2581   \n",
       "57  2576   \n",
       "58  2588   \n",
       "59  2587   \n",
       "60  2600   \n",
       "61  2583   \n",
       "62  2555   \n",
       "63  2554   \n",
       "64  2553   \n",
       "65  2554   \n",
       "66  2550   \n",
       "67  2551   \n",
       "68  2554   \n",
       "69  2555   "
      ]
     },
     "metadata": {},
     "output_type": "display_data"
    }
   ],
   "source": [
    "sq <- read.csv('seq.csv')\n",
    "colnames(sq) <- c(\"Regra\", \"Suporte\")\n",
    "sq"
   ]
  },
  {
   "cell_type": "markdown",
   "metadata": {},
   "source": [
    "### Processamento de regras sequências\n",
    "Para processar as regras sequências foi utilizado o algoritmo TRulerGrowth com os seguintes parâmetros:\n",
    "MinSup| Confiança Mínima | Tamanho da Janela\n",
    "--|--|--|\n",
    "0.9|0.9|3"
   ]
  },
  {
   "cell_type": "code",
   "execution_count": null,
   "metadata": {},
   "outputs": [
    {
     "data": {
      "text/html": [
       "<table class=\"dataframe\">\n",
       "<caption>A data.frame: 680 × 3</caption>\n",
       "<thead>\n",
       "\t<tr><th scope=col>Regra</th><th scope=col>Suporte</th><th scope=col>Confiança</th></tr>\n",
       "\t<tr><th scope=col>&lt;chr&gt;</th><th scope=col>&lt;dbl&gt;</th><th scope=col>&lt;dbl&gt;</th></tr>\n",
       "</thead>\n",
       "<tbody>\n",
       "\t<tr><td><span style=white-space:pre-wrap>4_370_AUTOMÓVEL_MÉDIO_0-40 ==&gt; 1_349_AUTOMÓVEL_PEQUENO_41-60                                                                                      </span></td><td>2468</td><td>0.9341408</td></tr>\n",
       "\t<tr><td><span style=white-space:pre-wrap>4_370_AUTOMÓVEL_MÉDIO_0-40 ==&gt; 1_349_AUTOMÓVEL_PEQUENO_41-60,4_349_AUTOMÓVEL_MÉDIO_41-60                                                          </span></td><td>2444</td><td>0.9250568</td></tr>\n",
       "\t<tr><td><span style=white-space:pre-wrap>4_370_AUTOMÓVEL_MÉDIO_0-40 ==&gt; 1_349_AUTOMÓVEL_PEQUENO_41-60,2_349_AUTOMÓVEL_MÉDIO_41-60                                                          </span></td><td>2446</td><td>0.9258138</td></tr>\n",
       "\t<tr><td><span style=white-space:pre-wrap>4_370_AUTOMÓVEL_MÉDIO_0-40 ==&gt; 1_349_AUTOMÓVEL_PEQUENO_41-60,2_349_AUTOMÓVEL_MÉDIO_41-60,4_349_AUTOMÓVEL_MÉDIO_41-60                              </span></td><td>2427</td><td>0.9186223</td></tr>\n",
       "\t<tr><td><span style=white-space:pre-wrap>4_370_AUTOMÓVEL_MÉDIO_0-40 ==&gt; 1_349_AUTOMÓVEL_PEQUENO_41-60,2_349_AUTOMÓVEL_MÉDIO_41-60,2_349_AUTOMÓVEL_PEQUENO_41-60                            </span></td><td>2435</td><td>0.9216503</td></tr>\n",
       "\t<tr><td>4_370_AUTOMÓVEL_MÉDIO_0-40 ==&gt; 1_349_AUTOMÓVEL_PEQUENO_41-60,2_349_AUTOMÓVEL_MÉDIO_41-60,2_349_AUTOMÓVEL_PEQUENO_41-60,4_349_AUTOMÓVEL_MÉDIO_41-60</td><td>2417</td><td>0.9148372</td></tr>\n",
       "\t<tr><td><span style=white-space:pre-wrap>4_370_AUTOMÓVEL_MÉDIO_0-40 ==&gt; 1_349_AUTOMÓVEL_PEQUENO_41-60,2_349_AUTOMÓVEL_MÉDIO_41-60,2_350_AUTOMÓVEL_MÉDIO_41-60                              </span></td><td>2425</td><td>0.9178653</td></tr>\n",
       "\t<tr><td><span style=white-space:pre-wrap>4_370_AUTOMÓVEL_MÉDIO_0-40 ==&gt; 1_349_AUTOMÓVEL_PEQUENO_41-60,2_349_AUTOMÓVEL_MÉDIO_41-60,3_349_AUTOMÓVEL_MÉDIO_41-60                              </span></td><td>2422</td><td>0.9167298</td></tr>\n",
       "\t<tr><td><span style=white-space:pre-wrap>4_370_AUTOMÓVEL_MÉDIO_0-40 ==&gt; 1_349_AUTOMÓVEL_PEQUENO_41-60,2_349_AUTOMÓVEL_PEQUENO_41-60                                                        </span></td><td>2454</td><td>0.9288418</td></tr>\n",
       "\t<tr><td><span style=white-space:pre-wrap>4_370_AUTOMÓVEL_MÉDIO_0-40 ==&gt; 1_349_AUTOMÓVEL_PEQUENO_41-60,2_349_AUTOMÓVEL_PEQUENO_41-60,4_349_AUTOMÓVEL_MÉDIO_41-60                            </span></td><td>2432</td><td>0.9205148</td></tr>\n",
       "\t<tr><td><span style=white-space:pre-wrap>4_370_AUTOMÓVEL_MÉDIO_0-40 ==&gt; 1_349_AUTOMÓVEL_PEQUENO_41-60,2_349_AUTOMÓVEL_PEQUENO_41-60,2_350_AUTOMÓVEL_MÉDIO_41-60                            </span></td><td>2432</td><td>0.9205148</td></tr>\n",
       "\t<tr><td><span style=white-space:pre-wrap>4_370_AUTOMÓVEL_MÉDIO_0-40 ==&gt; 1_349_AUTOMÓVEL_PEQUENO_41-60,2_349_AUTOMÓVEL_PEQUENO_41-60,3_349_AUTOMÓVEL_MÉDIO_41-60                            </span></td><td>2428</td><td>0.9190008</td></tr>\n",
       "\t<tr><td><span style=white-space:pre-wrap>4_370_AUTOMÓVEL_MÉDIO_0-40 ==&gt; 1_349_AUTOMÓVEL_PEQUENO_41-60,2_350_AUTOMÓVEL_MÉDIO_41-60                                                          </span></td><td>2445</td><td>0.9254353</td></tr>\n",
       "\t<tr><td><span style=white-space:pre-wrap>4_370_AUTOMÓVEL_MÉDIO_0-40 ==&gt; 1_349_AUTOMÓVEL_PEQUENO_41-60,2_350_AUTOMÓVEL_MÉDIO_41-60,4_349_AUTOMÓVEL_MÉDIO_41-60                              </span></td><td>2424</td><td>0.9174868</td></tr>\n",
       "\t<tr><td><span style=white-space:pre-wrap>4_370_AUTOMÓVEL_MÉDIO_0-40 ==&gt; 1_349_AUTOMÓVEL_PEQUENO_41-60,2_350_AUTOMÓVEL_MÉDIO_41-60,3_349_AUTOMÓVEL_MÉDIO_41-60                              </span></td><td>2422</td><td>0.9167298</td></tr>\n",
       "\t<tr><td><span style=white-space:pre-wrap>4_370_AUTOMÓVEL_MÉDIO_0-40 ==&gt; 1_349_AUTOMÓVEL_PEQUENO_41-60,3_349_AUTOMÓVEL_MÉDIO_41-60                                                          </span></td><td>2440</td><td>0.9235428</td></tr>\n",
       "\t<tr><td><span style=white-space:pre-wrap>4_370_AUTOMÓVEL_MÉDIO_0-40 ==&gt; 1_349_AUTOMÓVEL_PEQUENO_41-60,3_349_AUTOMÓVEL_MÉDIO_41-60,4_349_AUTOMÓVEL_MÉDIO_41-60                              </span></td><td>2421</td><td>0.9163512</td></tr>\n",
       "\t<tr><td><span style=white-space:pre-wrap>1_349_AUTOMÓVEL_PEQUENO_41-60 ==&gt; 4_370_AUTOMÓVEL_MÉDIO_0-40                                                                                      </span></td><td>2474</td><td>0.9353497</td></tr>\n",
       "\t<tr><td><span style=white-space:pre-wrap>4_370_AUTOMÓVEL_MÉDIO_0-40 ==&gt; 2_328_AUTOMÓVEL_MÉDIO_41-60                                                                                        </span></td><td>2426</td><td>0.9182438</td></tr>\n",
       "\t<tr><td><span style=white-space:pre-wrap>2_328_AUTOMÓVEL_MÉDIO_41-60 ==&gt; 4_370_AUTOMÓVEL_MÉDIO_0-40                                                                                        </span></td><td>2430</td><td>0.9324635</td></tr>\n",
       "\t<tr><td><span style=white-space:pre-wrap>4_370_AUTOMÓVEL_MÉDIO_0-40 ==&gt; 2_349_AUTOMÓVEL_MÉDIO_41-60                                                                                        </span></td><td>2493</td><td>0.9436033</td></tr>\n",
       "\t<tr><td><span style=white-space:pre-wrap>4_370_AUTOMÓVEL_MÉDIO_0-40 ==&gt; 2_349_AUTOMÓVEL_MÉDIO_41-60,4_349_AUTOMÓVEL_MÉDIO_41-60                                                            </span></td><td>2467</td><td>0.9337623</td></tr>\n",
       "\t<tr><td><span style=white-space:pre-wrap>4_370_AUTOMÓVEL_MÉDIO_0-40 ==&gt; 2_349_AUTOMÓVEL_MÉDIO_41-60,2_349_AUTOMÓVEL_PEQUENO_41-60                                                          </span></td><td>2476</td><td>0.9371688</td></tr>\n",
       "\t<tr><td><span style=white-space:pre-wrap>4_370_AUTOMÓVEL_MÉDIO_0-40 ==&gt; 2_349_AUTOMÓVEL_MÉDIO_41-60,2_349_AUTOMÓVEL_PEQUENO_41-60,4_349_AUTOMÓVEL_MÉDIO_41-60                              </span></td><td>2453</td><td>0.9284633</td></tr>\n",
       "\t<tr><td><span style=white-space:pre-wrap>4_370_AUTOMÓVEL_MÉDIO_0-40 ==&gt; 2_349_AUTOMÓVEL_MÉDIO_41-60,2_349_AUTOMÓVEL_PEQUENO_41-60,2_350_AUTOMÓVEL_MÉDIO_41-60                              </span></td><td>2447</td><td>0.9261923</td></tr>\n",
       "\t<tr><td><span style=white-space:pre-wrap>4_370_AUTOMÓVEL_MÉDIO_0-40 ==&gt; 2_349_AUTOMÓVEL_MÉDIO_41-60,2_349_AUTOMÓVEL_PEQUENO_41-60,2_350_AUTOMÓVEL_MÉDIO_41-60,4_349_AUTOMÓVEL_MÉDIO_41-60  </span></td><td>2427</td><td>0.9186223</td></tr>\n",
       "\t<tr><td><span style=white-space:pre-wrap>4_370_AUTOMÓVEL_MÉDIO_0-40 ==&gt; 2_349_AUTOMÓVEL_MÉDIO_41-60,2_349_AUTOMÓVEL_PEQUENO_41-60,2_350_AUTOMÓVEL_MÉDIO_41-60,3_349_AUTOMÓVEL_MÉDIO_41-60  </span></td><td>2423</td><td>0.9171083</td></tr>\n",
       "\t<tr><td><span style=white-space:pre-wrap>4_370_AUTOMÓVEL_MÉDIO_0-40 ==&gt; 2_349_AUTOMÓVEL_MÉDIO_41-60,2_349_AUTOMÓVEL_PEQUENO_41-60,3_349_AUTOMÓVEL_MÉDIO_41-60                              </span></td><td>2447</td><td>0.9261923</td></tr>\n",
       "\t<tr><td><span style=white-space:pre-wrap>4_370_AUTOMÓVEL_MÉDIO_0-40 ==&gt; 2_349_AUTOMÓVEL_MÉDIO_41-60,2_349_AUTOMÓVEL_PEQUENO_41-60,3_349_AUTOMÓVEL_MÉDIO_41-60,4_349_AUTOMÓVEL_MÉDIO_41-60  </span></td><td>2427</td><td>0.9186223</td></tr>\n",
       "\t<tr><td><span style=white-space:pre-wrap>4_370_AUTOMÓVEL_MÉDIO_0-40 ==&gt; 2_349_AUTOMÓVEL_MÉDIO_41-60,2_350_AUTOMÓVEL_MÉDIO_41-60                                                            </span></td><td>2462</td><td>0.9318698</td></tr>\n",
       "\t<tr><td>...</td><td>...</td><td>...</td></tr>\n",
       "\t<tr><td><span style=white-space:pre-wrap>3_349_AUTOMÓVEL_MÉDIO_41-60 ==&gt; 2_350_AUTOMÓVEL_MÉDIO_41-60,2_366_AUTOMÓVEL_MÉDIO_41-60                            </span></td><td>2464</td><td>0.9287599</td></tr>\n",
       "\t<tr><td>3_349_AUTOMÓVEL_MÉDIO_41-60 ==&gt; 2_350_AUTOMÓVEL_MÉDIO_41-60,2_366_AUTOMÓVEL_MÉDIO_41-60,4_349_AUTOMÓVEL_MÉDIO_41-60</td><td>2431</td><td>0.9163211</td></tr>\n",
       "\t<tr><td><span style=white-space:pre-wrap>3_349_AUTOMÓVEL_MÉDIO_41-60 ==&gt; 2_350_AUTOMÓVEL_MÉDIO_41-60,4_349_AUTOMÓVEL_MÉDIO_41-60                            </span></td><td>2515</td><td>0.9479834</td></tr>\n",
       "\t<tr><td>3_349_AUTOMÓVEL_MÉDIO_41-60 ==&gt; 2_350_AUTOMÓVEL_MÉDIO_41-60,4_349_AUTOMÓVEL_MÉDIO_41-60,4_370_AUTOMÓVEL_MÉDIO_0-40 </td><td>2439</td><td>0.9193366</td></tr>\n",
       "\t<tr><td><span style=white-space:pre-wrap>3_349_AUTOMÓVEL_MÉDIO_41-60 ==&gt; 2_350_AUTOMÓVEL_MÉDIO_41-60,4_370_AUTOMÓVEL_MÉDIO_0-40                             </span></td><td>2471</td><td>0.9313984</td></tr>\n",
       "\t<tr><td><span style=white-space:pre-wrap>2_350_AUTOMÓVEL_MÉDIO_41-60 ==&gt; 3_366_AUTOMÓVEL_MÉDIO_41-60                                                        </span></td><td>2421</td><td>0.9070813</td></tr>\n",
       "\t<tr><td><span style=white-space:pre-wrap>3_366_AUTOMÓVEL_MÉDIO_41-60 ==&gt; 2_350_AUTOMÓVEL_MÉDIO_41-60                                                        </span></td><td>2433</td><td>0.9496487</td></tr>\n",
       "\t<tr><td><span style=white-space:pre-wrap>2_350_AUTOMÓVEL_MÉDIO_41-60 ==&gt; 4_349_AUTOMÓVEL_MÉDIO_41-60                                                        </span></td><td>2577</td><td>0.9655302</td></tr>\n",
       "\t<tr><td><span style=white-space:pre-wrap>2_350_AUTOMÓVEL_MÉDIO_41-60 ==&gt; 4_349_AUTOMÓVEL_MÉDIO_41-60,4_370_AUTOMÓVEL_MÉDIO_0-40                             </span></td><td>2475</td><td>0.9273136</td></tr>\n",
       "\t<tr><td><span style=white-space:pre-wrap>4_349_AUTOMÓVEL_MÉDIO_41-60 ==&gt; 2_350_AUTOMÓVEL_MÉDIO_41-60                                                        </span></td><td>2564</td><td>0.9624625</td></tr>\n",
       "\t<tr><td><span style=white-space:pre-wrap>4_349_AUTOMÓVEL_MÉDIO_41-60 ==&gt; 2_350_AUTOMÓVEL_MÉDIO_41-60,2_366_AUTOMÓVEL_MÉDIO_41-60                            </span></td><td>2476</td><td>0.9294294</td></tr>\n",
       "\t<tr><td>4_349_AUTOMÓVEL_MÉDIO_41-60 ==&gt; 2_350_AUTOMÓVEL_MÉDIO_41-60,2_366_AUTOMÓVEL_MÉDIO_41-60,3_349_AUTOMÓVEL_MÉDIO_41-60</td><td>2436</td><td>0.9144144</td></tr>\n",
       "\t<tr><td><span style=white-space:pre-wrap>4_349_AUTOMÓVEL_MÉDIO_41-60 ==&gt; 2_350_AUTOMÓVEL_MÉDIO_41-60,4_370_AUTOMÓVEL_MÉDIO_0-40                             </span></td><td>2477</td><td>0.9298048</td></tr>\n",
       "\t<tr><td><span style=white-space:pre-wrap>4_349_AUTOMÓVEL_MÉDIO_41-60 ==&gt; 2_350_AUTOMÓVEL_MÉDIO_41-60,3_349_AUTOMÓVEL_MÉDIO_41-60                            </span></td><td>2517</td><td>0.9448198</td></tr>\n",
       "\t<tr><td>4_349_AUTOMÓVEL_MÉDIO_41-60 ==&gt; 2_350_AUTOMÓVEL_MÉDIO_41-60,3_349_AUTOMÓVEL_MÉDIO_41-60,4_370_AUTOMÓVEL_MÉDIO_0-40 </td><td>2439</td><td>0.9155405</td></tr>\n",
       "\t<tr><td><span style=white-space:pre-wrap>2_366_AUTOMÓVEL_MÉDIO_41-60 ==&gt; 3_349_AUTOMÓVEL_MÉDIO_41-60                                                        </span></td><td>2508</td><td>0.9565217</td></tr>\n",
       "\t<tr><td><span style=white-space:pre-wrap>2_366_AUTOMÓVEL_MÉDIO_41-60 ==&gt; 3_349_AUTOMÓVEL_MÉDIO_41-60,4_370_AUTOMÓVEL_MÉDIO_0-40                             </span></td><td>2418</td><td>0.9221968</td></tr>\n",
       "\t<tr><td><span style=white-space:pre-wrap>2_366_AUTOMÓVEL_MÉDIO_41-60 ==&gt; 3_349_AUTOMÓVEL_MÉDIO_41-60,4_349_AUTOMÓVEL_MÉDIO_41-60                            </span></td><td>2479</td><td>0.9454615</td></tr>\n",
       "\t<tr><td><span style=white-space:pre-wrap>3_349_AUTOMÓVEL_MÉDIO_41-60 ==&gt; 2_366_AUTOMÓVEL_MÉDIO_41-60                                                        </span></td><td>2494</td><td>0.9400678</td></tr>\n",
       "\t<tr><td><span style=white-space:pre-wrap>3_349_AUTOMÓVEL_MÉDIO_41-60 ==&gt; 2_366_AUTOMÓVEL_MÉDIO_41-60,4_349_AUTOMÓVEL_MÉDIO_41-60                            </span></td><td>2456</td><td>0.9257444</td></tr>\n",
       "\t<tr><td><span style=white-space:pre-wrap>2_366_AUTOMÓVEL_MÉDIO_41-60 ==&gt; 4_349_AUTOMÓVEL_MÉDIO_41-60                                                        </span></td><td>2527</td><td>0.9637681</td></tr>\n",
       "\t<tr><td><span style=white-space:pre-wrap>2_366_AUTOMÓVEL_MÉDIO_41-60 ==&gt; 4_349_AUTOMÓVEL_MÉDIO_41-60,4_370_AUTOMÓVEL_MÉDIO_0-40                             </span></td><td>2429</td><td>0.9263921</td></tr>\n",
       "\t<tr><td><span style=white-space:pre-wrap>4_349_AUTOMÓVEL_MÉDIO_41-60 ==&gt; 2_366_AUTOMÓVEL_MÉDIO_41-60                                                        </span></td><td>2507</td><td>0.9410661</td></tr>\n",
       "\t<tr><td><span style=white-space:pre-wrap>4_349_AUTOMÓVEL_MÉDIO_41-60 ==&gt; 2_366_AUTOMÓVEL_MÉDIO_41-60,4_370_AUTOMÓVEL_MÉDIO_0-40                             </span></td><td>2423</td><td>0.9095345</td></tr>\n",
       "\t<tr><td><span style=white-space:pre-wrap>4_349_AUTOMÓVEL_MÉDIO_41-60 ==&gt; 2_366_AUTOMÓVEL_MÉDIO_41-60,3_349_AUTOMÓVEL_MÉDIO_41-60                            </span></td><td>2459</td><td>0.9230480</td></tr>\n",
       "\t<tr><td><span style=white-space:pre-wrap>3_349_AUTOMÓVEL_MÉDIO_41-60 ==&gt; 4_349_AUTOMÓVEL_MÉDIO_41-60                                                        </span></td><td>2555</td><td>0.9630607</td></tr>\n",
       "\t<tr><td><span style=white-space:pre-wrap>3_349_AUTOMÓVEL_MÉDIO_41-60 ==&gt; 4_349_AUTOMÓVEL_MÉDIO_41-60,4_370_AUTOMÓVEL_MÉDIO_0-40                             </span></td><td>2458</td><td>0.9264983</td></tr>\n",
       "\t<tr><td><span style=white-space:pre-wrap>4_349_AUTOMÓVEL_MÉDIO_41-60 ==&gt; 3_349_AUTOMÓVEL_MÉDIO_41-60                                                        </span></td><td>2559</td><td>0.9605856</td></tr>\n",
       "\t<tr><td><span style=white-space:pre-wrap>4_349_AUTOMÓVEL_MÉDIO_41-60 ==&gt; 3_349_AUTOMÓVEL_MÉDIO_41-60,4_370_AUTOMÓVEL_MÉDIO_0-40                             </span></td><td>2462</td><td>0.9241742</td></tr>\n",
       "\t<tr><td><span style=white-space:pre-wrap>3_366_AUTOMÓVEL_MÉDIO_41-60 ==&gt; 4_349_AUTOMÓVEL_MÉDIO_41-60                                                        </span></td><td>2427</td><td>0.9473068</td></tr>\n",
       "</tbody>\n",
       "</table>\n"
      ],
      "text/latex": [
       "A data.frame: 680 × 3\n",
       "\\begin{tabular}{lll}\n",
       " Regra & Suporte & Confiança\\\\\n",
       " <chr> & <dbl> & <dbl>\\\\\n",
       "\\hline\n",
       "\t 4\\_370\\_AUTOMÓVEL\\_MÉDIO\\_0-40 ==> 1\\_349\\_AUTOMÓVEL\\_PEQUENO\\_41-60                                                                                       & 2468 & 0.9341408\\\\\n",
       "\t 4\\_370\\_AUTOMÓVEL\\_MÉDIO\\_0-40 ==> 1\\_349\\_AUTOMÓVEL\\_PEQUENO\\_41-60,4\\_349\\_AUTOMÓVEL\\_MÉDIO\\_41-60                                                           & 2444 & 0.9250568\\\\\n",
       "\t 4\\_370\\_AUTOMÓVEL\\_MÉDIO\\_0-40 ==> 1\\_349\\_AUTOMÓVEL\\_PEQUENO\\_41-60,2\\_349\\_AUTOMÓVEL\\_MÉDIO\\_41-60                                                           & 2446 & 0.9258138\\\\\n",
       "\t 4\\_370\\_AUTOMÓVEL\\_MÉDIO\\_0-40 ==> 1\\_349\\_AUTOMÓVEL\\_PEQUENO\\_41-60,2\\_349\\_AUTOMÓVEL\\_MÉDIO\\_41-60,4\\_349\\_AUTOMÓVEL\\_MÉDIO\\_41-60                               & 2427 & 0.9186223\\\\\n",
       "\t 4\\_370\\_AUTOMÓVEL\\_MÉDIO\\_0-40 ==> 1\\_349\\_AUTOMÓVEL\\_PEQUENO\\_41-60,2\\_349\\_AUTOMÓVEL\\_MÉDIO\\_41-60,2\\_349\\_AUTOMÓVEL\\_PEQUENO\\_41-60                             & 2435 & 0.9216503\\\\\n",
       "\t 4\\_370\\_AUTOMÓVEL\\_MÉDIO\\_0-40 ==> 1\\_349\\_AUTOMÓVEL\\_PEQUENO\\_41-60,2\\_349\\_AUTOMÓVEL\\_MÉDIO\\_41-60,2\\_349\\_AUTOMÓVEL\\_PEQUENO\\_41-60,4\\_349\\_AUTOMÓVEL\\_MÉDIO\\_41-60 & 2417 & 0.9148372\\\\\n",
       "\t 4\\_370\\_AUTOMÓVEL\\_MÉDIO\\_0-40 ==> 1\\_349\\_AUTOMÓVEL\\_PEQUENO\\_41-60,2\\_349\\_AUTOMÓVEL\\_MÉDIO\\_41-60,2\\_350\\_AUTOMÓVEL\\_MÉDIO\\_41-60                               & 2425 & 0.9178653\\\\\n",
       "\t 4\\_370\\_AUTOMÓVEL\\_MÉDIO\\_0-40 ==> 1\\_349\\_AUTOMÓVEL\\_PEQUENO\\_41-60,2\\_349\\_AUTOMÓVEL\\_MÉDIO\\_41-60,3\\_349\\_AUTOMÓVEL\\_MÉDIO\\_41-60                               & 2422 & 0.9167298\\\\\n",
       "\t 4\\_370\\_AUTOMÓVEL\\_MÉDIO\\_0-40 ==> 1\\_349\\_AUTOMÓVEL\\_PEQUENO\\_41-60,2\\_349\\_AUTOMÓVEL\\_PEQUENO\\_41-60                                                         & 2454 & 0.9288418\\\\\n",
       "\t 4\\_370\\_AUTOMÓVEL\\_MÉDIO\\_0-40 ==> 1\\_349\\_AUTOMÓVEL\\_PEQUENO\\_41-60,2\\_349\\_AUTOMÓVEL\\_PEQUENO\\_41-60,4\\_349\\_AUTOMÓVEL\\_MÉDIO\\_41-60                             & 2432 & 0.9205148\\\\\n",
       "\t 4\\_370\\_AUTOMÓVEL\\_MÉDIO\\_0-40 ==> 1\\_349\\_AUTOMÓVEL\\_PEQUENO\\_41-60,2\\_349\\_AUTOMÓVEL\\_PEQUENO\\_41-60,2\\_350\\_AUTOMÓVEL\\_MÉDIO\\_41-60                             & 2432 & 0.9205148\\\\\n",
       "\t 4\\_370\\_AUTOMÓVEL\\_MÉDIO\\_0-40 ==> 1\\_349\\_AUTOMÓVEL\\_PEQUENO\\_41-60,2\\_349\\_AUTOMÓVEL\\_PEQUENO\\_41-60,3\\_349\\_AUTOMÓVEL\\_MÉDIO\\_41-60                             & 2428 & 0.9190008\\\\\n",
       "\t 4\\_370\\_AUTOMÓVEL\\_MÉDIO\\_0-40 ==> 1\\_349\\_AUTOMÓVEL\\_PEQUENO\\_41-60,2\\_350\\_AUTOMÓVEL\\_MÉDIO\\_41-60                                                           & 2445 & 0.9254353\\\\\n",
       "\t 4\\_370\\_AUTOMÓVEL\\_MÉDIO\\_0-40 ==> 1\\_349\\_AUTOMÓVEL\\_PEQUENO\\_41-60,2\\_350\\_AUTOMÓVEL\\_MÉDIO\\_41-60,4\\_349\\_AUTOMÓVEL\\_MÉDIO\\_41-60                               & 2424 & 0.9174868\\\\\n",
       "\t 4\\_370\\_AUTOMÓVEL\\_MÉDIO\\_0-40 ==> 1\\_349\\_AUTOMÓVEL\\_PEQUENO\\_41-60,2\\_350\\_AUTOMÓVEL\\_MÉDIO\\_41-60,3\\_349\\_AUTOMÓVEL\\_MÉDIO\\_41-60                               & 2422 & 0.9167298\\\\\n",
       "\t 4\\_370\\_AUTOMÓVEL\\_MÉDIO\\_0-40 ==> 1\\_349\\_AUTOMÓVEL\\_PEQUENO\\_41-60,3\\_349\\_AUTOMÓVEL\\_MÉDIO\\_41-60                                                           & 2440 & 0.9235428\\\\\n",
       "\t 4\\_370\\_AUTOMÓVEL\\_MÉDIO\\_0-40 ==> 1\\_349\\_AUTOMÓVEL\\_PEQUENO\\_41-60,3\\_349\\_AUTOMÓVEL\\_MÉDIO\\_41-60,4\\_349\\_AUTOMÓVEL\\_MÉDIO\\_41-60                               & 2421 & 0.9163512\\\\\n",
       "\t 1\\_349\\_AUTOMÓVEL\\_PEQUENO\\_41-60 ==> 4\\_370\\_AUTOMÓVEL\\_MÉDIO\\_0-40                                                                                       & 2474 & 0.9353497\\\\\n",
       "\t 4\\_370\\_AUTOMÓVEL\\_MÉDIO\\_0-40 ==> 2\\_328\\_AUTOMÓVEL\\_MÉDIO\\_41-60                                                                                         & 2426 & 0.9182438\\\\\n",
       "\t 2\\_328\\_AUTOMÓVEL\\_MÉDIO\\_41-60 ==> 4\\_370\\_AUTOMÓVEL\\_MÉDIO\\_0-40                                                                                         & 2430 & 0.9324635\\\\\n",
       "\t 4\\_370\\_AUTOMÓVEL\\_MÉDIO\\_0-40 ==> 2\\_349\\_AUTOMÓVEL\\_MÉDIO\\_41-60                                                                                         & 2493 & 0.9436033\\\\\n",
       "\t 4\\_370\\_AUTOMÓVEL\\_MÉDIO\\_0-40 ==> 2\\_349\\_AUTOMÓVEL\\_MÉDIO\\_41-60,4\\_349\\_AUTOMÓVEL\\_MÉDIO\\_41-60                                                             & 2467 & 0.9337623\\\\\n",
       "\t 4\\_370\\_AUTOMÓVEL\\_MÉDIO\\_0-40 ==> 2\\_349\\_AUTOMÓVEL\\_MÉDIO\\_41-60,2\\_349\\_AUTOMÓVEL\\_PEQUENO\\_41-60                                                           & 2476 & 0.9371688\\\\\n",
       "\t 4\\_370\\_AUTOMÓVEL\\_MÉDIO\\_0-40 ==> 2\\_349\\_AUTOMÓVEL\\_MÉDIO\\_41-60,2\\_349\\_AUTOMÓVEL\\_PEQUENO\\_41-60,4\\_349\\_AUTOMÓVEL\\_MÉDIO\\_41-60                               & 2453 & 0.9284633\\\\\n",
       "\t 4\\_370\\_AUTOMÓVEL\\_MÉDIO\\_0-40 ==> 2\\_349\\_AUTOMÓVEL\\_MÉDIO\\_41-60,2\\_349\\_AUTOMÓVEL\\_PEQUENO\\_41-60,2\\_350\\_AUTOMÓVEL\\_MÉDIO\\_41-60                               & 2447 & 0.9261923\\\\\n",
       "\t 4\\_370\\_AUTOMÓVEL\\_MÉDIO\\_0-40 ==> 2\\_349\\_AUTOMÓVEL\\_MÉDIO\\_41-60,2\\_349\\_AUTOMÓVEL\\_PEQUENO\\_41-60,2\\_350\\_AUTOMÓVEL\\_MÉDIO\\_41-60,4\\_349\\_AUTOMÓVEL\\_MÉDIO\\_41-60   & 2427 & 0.9186223\\\\\n",
       "\t 4\\_370\\_AUTOMÓVEL\\_MÉDIO\\_0-40 ==> 2\\_349\\_AUTOMÓVEL\\_MÉDIO\\_41-60,2\\_349\\_AUTOMÓVEL\\_PEQUENO\\_41-60,2\\_350\\_AUTOMÓVEL\\_MÉDIO\\_41-60,3\\_349\\_AUTOMÓVEL\\_MÉDIO\\_41-60   & 2423 & 0.9171083\\\\\n",
       "\t 4\\_370\\_AUTOMÓVEL\\_MÉDIO\\_0-40 ==> 2\\_349\\_AUTOMÓVEL\\_MÉDIO\\_41-60,2\\_349\\_AUTOMÓVEL\\_PEQUENO\\_41-60,3\\_349\\_AUTOMÓVEL\\_MÉDIO\\_41-60                               & 2447 & 0.9261923\\\\\n",
       "\t 4\\_370\\_AUTOMÓVEL\\_MÉDIO\\_0-40 ==> 2\\_349\\_AUTOMÓVEL\\_MÉDIO\\_41-60,2\\_349\\_AUTOMÓVEL\\_PEQUENO\\_41-60,3\\_349\\_AUTOMÓVEL\\_MÉDIO\\_41-60,4\\_349\\_AUTOMÓVEL\\_MÉDIO\\_41-60   & 2427 & 0.9186223\\\\\n",
       "\t 4\\_370\\_AUTOMÓVEL\\_MÉDIO\\_0-40 ==> 2\\_349\\_AUTOMÓVEL\\_MÉDIO\\_41-60,2\\_350\\_AUTOMÓVEL\\_MÉDIO\\_41-60                                                             & 2462 & 0.9318698\\\\\n",
       "\t ... & ... & ...\\\\\n",
       "\t 3\\_349\\_AUTOMÓVEL\\_MÉDIO\\_41-60 ==> 2\\_350\\_AUTOMÓVEL\\_MÉDIO\\_41-60,2\\_366\\_AUTOMÓVEL\\_MÉDIO\\_41-60                             & 2464 & 0.9287599\\\\\n",
       "\t 3\\_349\\_AUTOMÓVEL\\_MÉDIO\\_41-60 ==> 2\\_350\\_AUTOMÓVEL\\_MÉDIO\\_41-60,2\\_366\\_AUTOMÓVEL\\_MÉDIO\\_41-60,4\\_349\\_AUTOMÓVEL\\_MÉDIO\\_41-60 & 2431 & 0.9163211\\\\\n",
       "\t 3\\_349\\_AUTOMÓVEL\\_MÉDIO\\_41-60 ==> 2\\_350\\_AUTOMÓVEL\\_MÉDIO\\_41-60,4\\_349\\_AUTOMÓVEL\\_MÉDIO\\_41-60                             & 2515 & 0.9479834\\\\\n",
       "\t 3\\_349\\_AUTOMÓVEL\\_MÉDIO\\_41-60 ==> 2\\_350\\_AUTOMÓVEL\\_MÉDIO\\_41-60,4\\_349\\_AUTOMÓVEL\\_MÉDIO\\_41-60,4\\_370\\_AUTOMÓVEL\\_MÉDIO\\_0-40  & 2439 & 0.9193366\\\\\n",
       "\t 3\\_349\\_AUTOMÓVEL\\_MÉDIO\\_41-60 ==> 2\\_350\\_AUTOMÓVEL\\_MÉDIO\\_41-60,4\\_370\\_AUTOMÓVEL\\_MÉDIO\\_0-40                              & 2471 & 0.9313984\\\\\n",
       "\t 2\\_350\\_AUTOMÓVEL\\_MÉDIO\\_41-60 ==> 3\\_366\\_AUTOMÓVEL\\_MÉDIO\\_41-60                                                         & 2421 & 0.9070813\\\\\n",
       "\t 3\\_366\\_AUTOMÓVEL\\_MÉDIO\\_41-60 ==> 2\\_350\\_AUTOMÓVEL\\_MÉDIO\\_41-60                                                         & 2433 & 0.9496487\\\\\n",
       "\t 2\\_350\\_AUTOMÓVEL\\_MÉDIO\\_41-60 ==> 4\\_349\\_AUTOMÓVEL\\_MÉDIO\\_41-60                                                         & 2577 & 0.9655302\\\\\n",
       "\t 2\\_350\\_AUTOMÓVEL\\_MÉDIO\\_41-60 ==> 4\\_349\\_AUTOMÓVEL\\_MÉDIO\\_41-60,4\\_370\\_AUTOMÓVEL\\_MÉDIO\\_0-40                              & 2475 & 0.9273136\\\\\n",
       "\t 4\\_349\\_AUTOMÓVEL\\_MÉDIO\\_41-60 ==> 2\\_350\\_AUTOMÓVEL\\_MÉDIO\\_41-60                                                         & 2564 & 0.9624625\\\\\n",
       "\t 4\\_349\\_AUTOMÓVEL\\_MÉDIO\\_41-60 ==> 2\\_350\\_AUTOMÓVEL\\_MÉDIO\\_41-60,2\\_366\\_AUTOMÓVEL\\_MÉDIO\\_41-60                             & 2476 & 0.9294294\\\\\n",
       "\t 4\\_349\\_AUTOMÓVEL\\_MÉDIO\\_41-60 ==> 2\\_350\\_AUTOMÓVEL\\_MÉDIO\\_41-60,2\\_366\\_AUTOMÓVEL\\_MÉDIO\\_41-60,3\\_349\\_AUTOMÓVEL\\_MÉDIO\\_41-60 & 2436 & 0.9144144\\\\\n",
       "\t 4\\_349\\_AUTOMÓVEL\\_MÉDIO\\_41-60 ==> 2\\_350\\_AUTOMÓVEL\\_MÉDIO\\_41-60,4\\_370\\_AUTOMÓVEL\\_MÉDIO\\_0-40                              & 2477 & 0.9298048\\\\\n",
       "\t 4\\_349\\_AUTOMÓVEL\\_MÉDIO\\_41-60 ==> 2\\_350\\_AUTOMÓVEL\\_MÉDIO\\_41-60,3\\_349\\_AUTOMÓVEL\\_MÉDIO\\_41-60                             & 2517 & 0.9448198\\\\\n",
       "\t 4\\_349\\_AUTOMÓVEL\\_MÉDIO\\_41-60 ==> 2\\_350\\_AUTOMÓVEL\\_MÉDIO\\_41-60,3\\_349\\_AUTOMÓVEL\\_MÉDIO\\_41-60,4\\_370\\_AUTOMÓVEL\\_MÉDIO\\_0-40  & 2439 & 0.9155405\\\\\n",
       "\t 2\\_366\\_AUTOMÓVEL\\_MÉDIO\\_41-60 ==> 3\\_349\\_AUTOMÓVEL\\_MÉDIO\\_41-60                                                         & 2508 & 0.9565217\\\\\n",
       "\t 2\\_366\\_AUTOMÓVEL\\_MÉDIO\\_41-60 ==> 3\\_349\\_AUTOMÓVEL\\_MÉDIO\\_41-60,4\\_370\\_AUTOMÓVEL\\_MÉDIO\\_0-40                              & 2418 & 0.9221968\\\\\n",
       "\t 2\\_366\\_AUTOMÓVEL\\_MÉDIO\\_41-60 ==> 3\\_349\\_AUTOMÓVEL\\_MÉDIO\\_41-60,4\\_349\\_AUTOMÓVEL\\_MÉDIO\\_41-60                             & 2479 & 0.9454615\\\\\n",
       "\t 3\\_349\\_AUTOMÓVEL\\_MÉDIO\\_41-60 ==> 2\\_366\\_AUTOMÓVEL\\_MÉDIO\\_41-60                                                         & 2494 & 0.9400678\\\\\n",
       "\t 3\\_349\\_AUTOMÓVEL\\_MÉDIO\\_41-60 ==> 2\\_366\\_AUTOMÓVEL\\_MÉDIO\\_41-60,4\\_349\\_AUTOMÓVEL\\_MÉDIO\\_41-60                             & 2456 & 0.9257444\\\\\n",
       "\t 2\\_366\\_AUTOMÓVEL\\_MÉDIO\\_41-60 ==> 4\\_349\\_AUTOMÓVEL\\_MÉDIO\\_41-60                                                         & 2527 & 0.9637681\\\\\n",
       "\t 2\\_366\\_AUTOMÓVEL\\_MÉDIO\\_41-60 ==> 4\\_349\\_AUTOMÓVEL\\_MÉDIO\\_41-60,4\\_370\\_AUTOMÓVEL\\_MÉDIO\\_0-40                              & 2429 & 0.9263921\\\\\n",
       "\t 4\\_349\\_AUTOMÓVEL\\_MÉDIO\\_41-60 ==> 2\\_366\\_AUTOMÓVEL\\_MÉDIO\\_41-60                                                         & 2507 & 0.9410661\\\\\n",
       "\t 4\\_349\\_AUTOMÓVEL\\_MÉDIO\\_41-60 ==> 2\\_366\\_AUTOMÓVEL\\_MÉDIO\\_41-60,4\\_370\\_AUTOMÓVEL\\_MÉDIO\\_0-40                              & 2423 & 0.9095345\\\\\n",
       "\t 4\\_349\\_AUTOMÓVEL\\_MÉDIO\\_41-60 ==> 2\\_366\\_AUTOMÓVEL\\_MÉDIO\\_41-60,3\\_349\\_AUTOMÓVEL\\_MÉDIO\\_41-60                             & 2459 & 0.9230480\\\\\n",
       "\t 3\\_349\\_AUTOMÓVEL\\_MÉDIO\\_41-60 ==> 4\\_349\\_AUTOMÓVEL\\_MÉDIO\\_41-60                                                         & 2555 & 0.9630607\\\\\n",
       "\t 3\\_349\\_AUTOMÓVEL\\_MÉDIO\\_41-60 ==> 4\\_349\\_AUTOMÓVEL\\_MÉDIO\\_41-60,4\\_370\\_AUTOMÓVEL\\_MÉDIO\\_0-40                              & 2458 & 0.9264983\\\\\n",
       "\t 4\\_349\\_AUTOMÓVEL\\_MÉDIO\\_41-60 ==> 3\\_349\\_AUTOMÓVEL\\_MÉDIO\\_41-60                                                         & 2559 & 0.9605856\\\\\n",
       "\t 4\\_349\\_AUTOMÓVEL\\_MÉDIO\\_41-60 ==> 3\\_349\\_AUTOMÓVEL\\_MÉDIO\\_41-60,4\\_370\\_AUTOMÓVEL\\_MÉDIO\\_0-40                              & 2462 & 0.9241742\\\\\n",
       "\t 3\\_366\\_AUTOMÓVEL\\_MÉDIO\\_41-60 ==> 4\\_349\\_AUTOMÓVEL\\_MÉDIO\\_41-60                                                         & 2427 & 0.9473068\\\\\n",
       "\\end{tabular}\n"
      ],
      "text/markdown": [
       "\n",
       "A data.frame: 680 × 3\n",
       "\n",
       "| Regra &lt;chr&gt; | Suporte &lt;dbl&gt; | Confiança &lt;dbl&gt; |\n",
       "|---|---|---|\n",
       "| 4_370_AUTOMÓVEL_MÉDIO_0-40 ==&gt; 1_349_AUTOMÓVEL_PEQUENO_41-60                                                                                       | 2468 | 0.9341408 |\n",
       "| 4_370_AUTOMÓVEL_MÉDIO_0-40 ==&gt; 1_349_AUTOMÓVEL_PEQUENO_41-60,4_349_AUTOMÓVEL_MÉDIO_41-60                                                           | 2444 | 0.9250568 |\n",
       "| 4_370_AUTOMÓVEL_MÉDIO_0-40 ==&gt; 1_349_AUTOMÓVEL_PEQUENO_41-60,2_349_AUTOMÓVEL_MÉDIO_41-60                                                           | 2446 | 0.9258138 |\n",
       "| 4_370_AUTOMÓVEL_MÉDIO_0-40 ==&gt; 1_349_AUTOMÓVEL_PEQUENO_41-60,2_349_AUTOMÓVEL_MÉDIO_41-60,4_349_AUTOMÓVEL_MÉDIO_41-60                               | 2427 | 0.9186223 |\n",
       "| 4_370_AUTOMÓVEL_MÉDIO_0-40 ==&gt; 1_349_AUTOMÓVEL_PEQUENO_41-60,2_349_AUTOMÓVEL_MÉDIO_41-60,2_349_AUTOMÓVEL_PEQUENO_41-60                             | 2435 | 0.9216503 |\n",
       "| 4_370_AUTOMÓVEL_MÉDIO_0-40 ==&gt; 1_349_AUTOMÓVEL_PEQUENO_41-60,2_349_AUTOMÓVEL_MÉDIO_41-60,2_349_AUTOMÓVEL_PEQUENO_41-60,4_349_AUTOMÓVEL_MÉDIO_41-60 | 2417 | 0.9148372 |\n",
       "| 4_370_AUTOMÓVEL_MÉDIO_0-40 ==&gt; 1_349_AUTOMÓVEL_PEQUENO_41-60,2_349_AUTOMÓVEL_MÉDIO_41-60,2_350_AUTOMÓVEL_MÉDIO_41-60                               | 2425 | 0.9178653 |\n",
       "| 4_370_AUTOMÓVEL_MÉDIO_0-40 ==&gt; 1_349_AUTOMÓVEL_PEQUENO_41-60,2_349_AUTOMÓVEL_MÉDIO_41-60,3_349_AUTOMÓVEL_MÉDIO_41-60                               | 2422 | 0.9167298 |\n",
       "| 4_370_AUTOMÓVEL_MÉDIO_0-40 ==&gt; 1_349_AUTOMÓVEL_PEQUENO_41-60,2_349_AUTOMÓVEL_PEQUENO_41-60                                                         | 2454 | 0.9288418 |\n",
       "| 4_370_AUTOMÓVEL_MÉDIO_0-40 ==&gt; 1_349_AUTOMÓVEL_PEQUENO_41-60,2_349_AUTOMÓVEL_PEQUENO_41-60,4_349_AUTOMÓVEL_MÉDIO_41-60                             | 2432 | 0.9205148 |\n",
       "| 4_370_AUTOMÓVEL_MÉDIO_0-40 ==&gt; 1_349_AUTOMÓVEL_PEQUENO_41-60,2_349_AUTOMÓVEL_PEQUENO_41-60,2_350_AUTOMÓVEL_MÉDIO_41-60                             | 2432 | 0.9205148 |\n",
       "| 4_370_AUTOMÓVEL_MÉDIO_0-40 ==&gt; 1_349_AUTOMÓVEL_PEQUENO_41-60,2_349_AUTOMÓVEL_PEQUENO_41-60,3_349_AUTOMÓVEL_MÉDIO_41-60                             | 2428 | 0.9190008 |\n",
       "| 4_370_AUTOMÓVEL_MÉDIO_0-40 ==&gt; 1_349_AUTOMÓVEL_PEQUENO_41-60,2_350_AUTOMÓVEL_MÉDIO_41-60                                                           | 2445 | 0.9254353 |\n",
       "| 4_370_AUTOMÓVEL_MÉDIO_0-40 ==&gt; 1_349_AUTOMÓVEL_PEQUENO_41-60,2_350_AUTOMÓVEL_MÉDIO_41-60,4_349_AUTOMÓVEL_MÉDIO_41-60                               | 2424 | 0.9174868 |\n",
       "| 4_370_AUTOMÓVEL_MÉDIO_0-40 ==&gt; 1_349_AUTOMÓVEL_PEQUENO_41-60,2_350_AUTOMÓVEL_MÉDIO_41-60,3_349_AUTOMÓVEL_MÉDIO_41-60                               | 2422 | 0.9167298 |\n",
       "| 4_370_AUTOMÓVEL_MÉDIO_0-40 ==&gt; 1_349_AUTOMÓVEL_PEQUENO_41-60,3_349_AUTOMÓVEL_MÉDIO_41-60                                                           | 2440 | 0.9235428 |\n",
       "| 4_370_AUTOMÓVEL_MÉDIO_0-40 ==&gt; 1_349_AUTOMÓVEL_PEQUENO_41-60,3_349_AUTOMÓVEL_MÉDIO_41-60,4_349_AUTOMÓVEL_MÉDIO_41-60                               | 2421 | 0.9163512 |\n",
       "| 1_349_AUTOMÓVEL_PEQUENO_41-60 ==&gt; 4_370_AUTOMÓVEL_MÉDIO_0-40                                                                                       | 2474 | 0.9353497 |\n",
       "| 4_370_AUTOMÓVEL_MÉDIO_0-40 ==&gt; 2_328_AUTOMÓVEL_MÉDIO_41-60                                                                                         | 2426 | 0.9182438 |\n",
       "| 2_328_AUTOMÓVEL_MÉDIO_41-60 ==&gt; 4_370_AUTOMÓVEL_MÉDIO_0-40                                                                                         | 2430 | 0.9324635 |\n",
       "| 4_370_AUTOMÓVEL_MÉDIO_0-40 ==&gt; 2_349_AUTOMÓVEL_MÉDIO_41-60                                                                                         | 2493 | 0.9436033 |\n",
       "| 4_370_AUTOMÓVEL_MÉDIO_0-40 ==&gt; 2_349_AUTOMÓVEL_MÉDIO_41-60,4_349_AUTOMÓVEL_MÉDIO_41-60                                                             | 2467 | 0.9337623 |\n",
       "| 4_370_AUTOMÓVEL_MÉDIO_0-40 ==&gt; 2_349_AUTOMÓVEL_MÉDIO_41-60,2_349_AUTOMÓVEL_PEQUENO_41-60                                                           | 2476 | 0.9371688 |\n",
       "| 4_370_AUTOMÓVEL_MÉDIO_0-40 ==&gt; 2_349_AUTOMÓVEL_MÉDIO_41-60,2_349_AUTOMÓVEL_PEQUENO_41-60,4_349_AUTOMÓVEL_MÉDIO_41-60                               | 2453 | 0.9284633 |\n",
       "| 4_370_AUTOMÓVEL_MÉDIO_0-40 ==&gt; 2_349_AUTOMÓVEL_MÉDIO_41-60,2_349_AUTOMÓVEL_PEQUENO_41-60,2_350_AUTOMÓVEL_MÉDIO_41-60                               | 2447 | 0.9261923 |\n",
       "| 4_370_AUTOMÓVEL_MÉDIO_0-40 ==&gt; 2_349_AUTOMÓVEL_MÉDIO_41-60,2_349_AUTOMÓVEL_PEQUENO_41-60,2_350_AUTOMÓVEL_MÉDIO_41-60,4_349_AUTOMÓVEL_MÉDIO_41-60   | 2427 | 0.9186223 |\n",
       "| 4_370_AUTOMÓVEL_MÉDIO_0-40 ==&gt; 2_349_AUTOMÓVEL_MÉDIO_41-60,2_349_AUTOMÓVEL_PEQUENO_41-60,2_350_AUTOMÓVEL_MÉDIO_41-60,3_349_AUTOMÓVEL_MÉDIO_41-60   | 2423 | 0.9171083 |\n",
       "| 4_370_AUTOMÓVEL_MÉDIO_0-40 ==&gt; 2_349_AUTOMÓVEL_MÉDIO_41-60,2_349_AUTOMÓVEL_PEQUENO_41-60,3_349_AUTOMÓVEL_MÉDIO_41-60                               | 2447 | 0.9261923 |\n",
       "| 4_370_AUTOMÓVEL_MÉDIO_0-40 ==&gt; 2_349_AUTOMÓVEL_MÉDIO_41-60,2_349_AUTOMÓVEL_PEQUENO_41-60,3_349_AUTOMÓVEL_MÉDIO_41-60,4_349_AUTOMÓVEL_MÉDIO_41-60   | 2427 | 0.9186223 |\n",
       "| 4_370_AUTOMÓVEL_MÉDIO_0-40 ==&gt; 2_349_AUTOMÓVEL_MÉDIO_41-60,2_350_AUTOMÓVEL_MÉDIO_41-60                                                             | 2462 | 0.9318698 |\n",
       "| ... | ... | ... |\n",
       "| 3_349_AUTOMÓVEL_MÉDIO_41-60 ==&gt; 2_350_AUTOMÓVEL_MÉDIO_41-60,2_366_AUTOMÓVEL_MÉDIO_41-60                             | 2464 | 0.9287599 |\n",
       "| 3_349_AUTOMÓVEL_MÉDIO_41-60 ==&gt; 2_350_AUTOMÓVEL_MÉDIO_41-60,2_366_AUTOMÓVEL_MÉDIO_41-60,4_349_AUTOMÓVEL_MÉDIO_41-60 | 2431 | 0.9163211 |\n",
       "| 3_349_AUTOMÓVEL_MÉDIO_41-60 ==&gt; 2_350_AUTOMÓVEL_MÉDIO_41-60,4_349_AUTOMÓVEL_MÉDIO_41-60                             | 2515 | 0.9479834 |\n",
       "| 3_349_AUTOMÓVEL_MÉDIO_41-60 ==&gt; 2_350_AUTOMÓVEL_MÉDIO_41-60,4_349_AUTOMÓVEL_MÉDIO_41-60,4_370_AUTOMÓVEL_MÉDIO_0-40  | 2439 | 0.9193366 |\n",
       "| 3_349_AUTOMÓVEL_MÉDIO_41-60 ==&gt; 2_350_AUTOMÓVEL_MÉDIO_41-60,4_370_AUTOMÓVEL_MÉDIO_0-40                              | 2471 | 0.9313984 |\n",
       "| 2_350_AUTOMÓVEL_MÉDIO_41-60 ==&gt; 3_366_AUTOMÓVEL_MÉDIO_41-60                                                         | 2421 | 0.9070813 |\n",
       "| 3_366_AUTOMÓVEL_MÉDIO_41-60 ==&gt; 2_350_AUTOMÓVEL_MÉDIO_41-60                                                         | 2433 | 0.9496487 |\n",
       "| 2_350_AUTOMÓVEL_MÉDIO_41-60 ==&gt; 4_349_AUTOMÓVEL_MÉDIO_41-60                                                         | 2577 | 0.9655302 |\n",
       "| 2_350_AUTOMÓVEL_MÉDIO_41-60 ==&gt; 4_349_AUTOMÓVEL_MÉDIO_41-60,4_370_AUTOMÓVEL_MÉDIO_0-40                              | 2475 | 0.9273136 |\n",
       "| 4_349_AUTOMÓVEL_MÉDIO_41-60 ==&gt; 2_350_AUTOMÓVEL_MÉDIO_41-60                                                         | 2564 | 0.9624625 |\n",
       "| 4_349_AUTOMÓVEL_MÉDIO_41-60 ==&gt; 2_350_AUTOMÓVEL_MÉDIO_41-60,2_366_AUTOMÓVEL_MÉDIO_41-60                             | 2476 | 0.9294294 |\n",
       "| 4_349_AUTOMÓVEL_MÉDIO_41-60 ==&gt; 2_350_AUTOMÓVEL_MÉDIO_41-60,2_366_AUTOMÓVEL_MÉDIO_41-60,3_349_AUTOMÓVEL_MÉDIO_41-60 | 2436 | 0.9144144 |\n",
       "| 4_349_AUTOMÓVEL_MÉDIO_41-60 ==&gt; 2_350_AUTOMÓVEL_MÉDIO_41-60,4_370_AUTOMÓVEL_MÉDIO_0-40                              | 2477 | 0.9298048 |\n",
       "| 4_349_AUTOMÓVEL_MÉDIO_41-60 ==&gt; 2_350_AUTOMÓVEL_MÉDIO_41-60,3_349_AUTOMÓVEL_MÉDIO_41-60                             | 2517 | 0.9448198 |\n",
       "| 4_349_AUTOMÓVEL_MÉDIO_41-60 ==&gt; 2_350_AUTOMÓVEL_MÉDIO_41-60,3_349_AUTOMÓVEL_MÉDIO_41-60,4_370_AUTOMÓVEL_MÉDIO_0-40  | 2439 | 0.9155405 |\n",
       "| 2_366_AUTOMÓVEL_MÉDIO_41-60 ==&gt; 3_349_AUTOMÓVEL_MÉDIO_41-60                                                         | 2508 | 0.9565217 |\n",
       "| 2_366_AUTOMÓVEL_MÉDIO_41-60 ==&gt; 3_349_AUTOMÓVEL_MÉDIO_41-60,4_370_AUTOMÓVEL_MÉDIO_0-40                              | 2418 | 0.9221968 |\n",
       "| 2_366_AUTOMÓVEL_MÉDIO_41-60 ==&gt; 3_349_AUTOMÓVEL_MÉDIO_41-60,4_349_AUTOMÓVEL_MÉDIO_41-60                             | 2479 | 0.9454615 |\n",
       "| 3_349_AUTOMÓVEL_MÉDIO_41-60 ==&gt; 2_366_AUTOMÓVEL_MÉDIO_41-60                                                         | 2494 | 0.9400678 |\n",
       "| 3_349_AUTOMÓVEL_MÉDIO_41-60 ==&gt; 2_366_AUTOMÓVEL_MÉDIO_41-60,4_349_AUTOMÓVEL_MÉDIO_41-60                             | 2456 | 0.9257444 |\n",
       "| 2_366_AUTOMÓVEL_MÉDIO_41-60 ==&gt; 4_349_AUTOMÓVEL_MÉDIO_41-60                                                         | 2527 | 0.9637681 |\n",
       "| 2_366_AUTOMÓVEL_MÉDIO_41-60 ==&gt; 4_349_AUTOMÓVEL_MÉDIO_41-60,4_370_AUTOMÓVEL_MÉDIO_0-40                              | 2429 | 0.9263921 |\n",
       "| 4_349_AUTOMÓVEL_MÉDIO_41-60 ==&gt; 2_366_AUTOMÓVEL_MÉDIO_41-60                                                         | 2507 | 0.9410661 |\n",
       "| 4_349_AUTOMÓVEL_MÉDIO_41-60 ==&gt; 2_366_AUTOMÓVEL_MÉDIO_41-60,4_370_AUTOMÓVEL_MÉDIO_0-40                              | 2423 | 0.9095345 |\n",
       "| 4_349_AUTOMÓVEL_MÉDIO_41-60 ==&gt; 2_366_AUTOMÓVEL_MÉDIO_41-60,3_349_AUTOMÓVEL_MÉDIO_41-60                             | 2459 | 0.9230480 |\n",
       "| 3_349_AUTOMÓVEL_MÉDIO_41-60 ==&gt; 4_349_AUTOMÓVEL_MÉDIO_41-60                                                         | 2555 | 0.9630607 |\n",
       "| 3_349_AUTOMÓVEL_MÉDIO_41-60 ==&gt; 4_349_AUTOMÓVEL_MÉDIO_41-60,4_370_AUTOMÓVEL_MÉDIO_0-40                              | 2458 | 0.9264983 |\n",
       "| 4_349_AUTOMÓVEL_MÉDIO_41-60 ==&gt; 3_349_AUTOMÓVEL_MÉDIO_41-60                                                         | 2559 | 0.9605856 |\n",
       "| 4_349_AUTOMÓVEL_MÉDIO_41-60 ==&gt; 3_349_AUTOMÓVEL_MÉDIO_41-60,4_370_AUTOMÓVEL_MÉDIO_0-40                              | 2462 | 0.9241742 |\n",
       "| 3_366_AUTOMÓVEL_MÉDIO_41-60 ==&gt; 4_349_AUTOMÓVEL_MÉDIO_41-60                                                         | 2427 | 0.9473068 |\n",
       "\n"
      ],
      "text/plain": [
       "    Regra                                                                                                                                             \n",
       "1   4_370_AUTOMÓVEL_MÉDIO_0-40 ==> 1_349_AUTOMÓVEL_PEQUENO_41-60                                                                                      \n",
       "2   4_370_AUTOMÓVEL_MÉDIO_0-40 ==> 1_349_AUTOMÓVEL_PEQUENO_41-60,4_349_AUTOMÓVEL_MÉDIO_41-60                                                          \n",
       "3   4_370_AUTOMÓVEL_MÉDIO_0-40 ==> 1_349_AUTOMÓVEL_PEQUENO_41-60,2_349_AUTOMÓVEL_MÉDIO_41-60                                                          \n",
       "4   4_370_AUTOMÓVEL_MÉDIO_0-40 ==> 1_349_AUTOMÓVEL_PEQUENO_41-60,2_349_AUTOMÓVEL_MÉDIO_41-60,4_349_AUTOMÓVEL_MÉDIO_41-60                              \n",
       "5   4_370_AUTOMÓVEL_MÉDIO_0-40 ==> 1_349_AUTOMÓVEL_PEQUENO_41-60,2_349_AUTOMÓVEL_MÉDIO_41-60,2_349_AUTOMÓVEL_PEQUENO_41-60                            \n",
       "6   4_370_AUTOMÓVEL_MÉDIO_0-40 ==> 1_349_AUTOMÓVEL_PEQUENO_41-60,2_349_AUTOMÓVEL_MÉDIO_41-60,2_349_AUTOMÓVEL_PEQUENO_41-60,4_349_AUTOMÓVEL_MÉDIO_41-60\n",
       "7   4_370_AUTOMÓVEL_MÉDIO_0-40 ==> 1_349_AUTOMÓVEL_PEQUENO_41-60,2_349_AUTOMÓVEL_MÉDIO_41-60,2_350_AUTOMÓVEL_MÉDIO_41-60                              \n",
       "8   4_370_AUTOMÓVEL_MÉDIO_0-40 ==> 1_349_AUTOMÓVEL_PEQUENO_41-60,2_349_AUTOMÓVEL_MÉDIO_41-60,3_349_AUTOMÓVEL_MÉDIO_41-60                              \n",
       "9   4_370_AUTOMÓVEL_MÉDIO_0-40 ==> 1_349_AUTOMÓVEL_PEQUENO_41-60,2_349_AUTOMÓVEL_PEQUENO_41-60                                                        \n",
       "10  4_370_AUTOMÓVEL_MÉDIO_0-40 ==> 1_349_AUTOMÓVEL_PEQUENO_41-60,2_349_AUTOMÓVEL_PEQUENO_41-60,4_349_AUTOMÓVEL_MÉDIO_41-60                            \n",
       "11  4_370_AUTOMÓVEL_MÉDIO_0-40 ==> 1_349_AUTOMÓVEL_PEQUENO_41-60,2_349_AUTOMÓVEL_PEQUENO_41-60,2_350_AUTOMÓVEL_MÉDIO_41-60                            \n",
       "12  4_370_AUTOMÓVEL_MÉDIO_0-40 ==> 1_349_AUTOMÓVEL_PEQUENO_41-60,2_349_AUTOMÓVEL_PEQUENO_41-60,3_349_AUTOMÓVEL_MÉDIO_41-60                            \n",
       "13  4_370_AUTOMÓVEL_MÉDIO_0-40 ==> 1_349_AUTOMÓVEL_PEQUENO_41-60,2_350_AUTOMÓVEL_MÉDIO_41-60                                                          \n",
       "14  4_370_AUTOMÓVEL_MÉDIO_0-40 ==> 1_349_AUTOMÓVEL_PEQUENO_41-60,2_350_AUTOMÓVEL_MÉDIO_41-60,4_349_AUTOMÓVEL_MÉDIO_41-60                              \n",
       "15  4_370_AUTOMÓVEL_MÉDIO_0-40 ==> 1_349_AUTOMÓVEL_PEQUENO_41-60,2_350_AUTOMÓVEL_MÉDIO_41-60,3_349_AUTOMÓVEL_MÉDIO_41-60                              \n",
       "16  4_370_AUTOMÓVEL_MÉDIO_0-40 ==> 1_349_AUTOMÓVEL_PEQUENO_41-60,3_349_AUTOMÓVEL_MÉDIO_41-60                                                          \n",
       "17  4_370_AUTOMÓVEL_MÉDIO_0-40 ==> 1_349_AUTOMÓVEL_PEQUENO_41-60,3_349_AUTOMÓVEL_MÉDIO_41-60,4_349_AUTOMÓVEL_MÉDIO_41-60                              \n",
       "18  1_349_AUTOMÓVEL_PEQUENO_41-60 ==> 4_370_AUTOMÓVEL_MÉDIO_0-40                                                                                      \n",
       "19  4_370_AUTOMÓVEL_MÉDIO_0-40 ==> 2_328_AUTOMÓVEL_MÉDIO_41-60                                                                                        \n",
       "20  2_328_AUTOMÓVEL_MÉDIO_41-60 ==> 4_370_AUTOMÓVEL_MÉDIO_0-40                                                                                        \n",
       "21  4_370_AUTOMÓVEL_MÉDIO_0-40 ==> 2_349_AUTOMÓVEL_MÉDIO_41-60                                                                                        \n",
       "22  4_370_AUTOMÓVEL_MÉDIO_0-40 ==> 2_349_AUTOMÓVEL_MÉDIO_41-60,4_349_AUTOMÓVEL_MÉDIO_41-60                                                            \n",
       "23  4_370_AUTOMÓVEL_MÉDIO_0-40 ==> 2_349_AUTOMÓVEL_MÉDIO_41-60,2_349_AUTOMÓVEL_PEQUENO_41-60                                                          \n",
       "24  4_370_AUTOMÓVEL_MÉDIO_0-40 ==> 2_349_AUTOMÓVEL_MÉDIO_41-60,2_349_AUTOMÓVEL_PEQUENO_41-60,4_349_AUTOMÓVEL_MÉDIO_41-60                              \n",
       "25  4_370_AUTOMÓVEL_MÉDIO_0-40 ==> 2_349_AUTOMÓVEL_MÉDIO_41-60,2_349_AUTOMÓVEL_PEQUENO_41-60,2_350_AUTOMÓVEL_MÉDIO_41-60                              \n",
       "26  4_370_AUTOMÓVEL_MÉDIO_0-40 ==> 2_349_AUTOMÓVEL_MÉDIO_41-60,2_349_AUTOMÓVEL_PEQUENO_41-60,2_350_AUTOMÓVEL_MÉDIO_41-60,4_349_AUTOMÓVEL_MÉDIO_41-60  \n",
       "27  4_370_AUTOMÓVEL_MÉDIO_0-40 ==> 2_349_AUTOMÓVEL_MÉDIO_41-60,2_349_AUTOMÓVEL_PEQUENO_41-60,2_350_AUTOMÓVEL_MÉDIO_41-60,3_349_AUTOMÓVEL_MÉDIO_41-60  \n",
       "28  4_370_AUTOMÓVEL_MÉDIO_0-40 ==> 2_349_AUTOMÓVEL_MÉDIO_41-60,2_349_AUTOMÓVEL_PEQUENO_41-60,3_349_AUTOMÓVEL_MÉDIO_41-60                              \n",
       "29  4_370_AUTOMÓVEL_MÉDIO_0-40 ==> 2_349_AUTOMÓVEL_MÉDIO_41-60,2_349_AUTOMÓVEL_PEQUENO_41-60,3_349_AUTOMÓVEL_MÉDIO_41-60,4_349_AUTOMÓVEL_MÉDIO_41-60  \n",
       "30  4_370_AUTOMÓVEL_MÉDIO_0-40 ==> 2_349_AUTOMÓVEL_MÉDIO_41-60,2_350_AUTOMÓVEL_MÉDIO_41-60                                                            \n",
       "... ...                                                                                                                                               \n",
       "651 3_349_AUTOMÓVEL_MÉDIO_41-60 ==> 2_350_AUTOMÓVEL_MÉDIO_41-60,2_366_AUTOMÓVEL_MÉDIO_41-60                                                           \n",
       "652 3_349_AUTOMÓVEL_MÉDIO_41-60 ==> 2_350_AUTOMÓVEL_MÉDIO_41-60,2_366_AUTOMÓVEL_MÉDIO_41-60,4_349_AUTOMÓVEL_MÉDIO_41-60                               \n",
       "653 3_349_AUTOMÓVEL_MÉDIO_41-60 ==> 2_350_AUTOMÓVEL_MÉDIO_41-60,4_349_AUTOMÓVEL_MÉDIO_41-60                                                           \n",
       "654 3_349_AUTOMÓVEL_MÉDIO_41-60 ==> 2_350_AUTOMÓVEL_MÉDIO_41-60,4_349_AUTOMÓVEL_MÉDIO_41-60,4_370_AUTOMÓVEL_MÉDIO_0-40                                \n",
       "655 3_349_AUTOMÓVEL_MÉDIO_41-60 ==> 2_350_AUTOMÓVEL_MÉDIO_41-60,4_370_AUTOMÓVEL_MÉDIO_0-40                                                            \n",
       "656 2_350_AUTOMÓVEL_MÉDIO_41-60 ==> 3_366_AUTOMÓVEL_MÉDIO_41-60                                                                                       \n",
       "657 3_366_AUTOMÓVEL_MÉDIO_41-60 ==> 2_350_AUTOMÓVEL_MÉDIO_41-60                                                                                       \n",
       "658 2_350_AUTOMÓVEL_MÉDIO_41-60 ==> 4_349_AUTOMÓVEL_MÉDIO_41-60                                                                                       \n",
       "659 2_350_AUTOMÓVEL_MÉDIO_41-60 ==> 4_349_AUTOMÓVEL_MÉDIO_41-60,4_370_AUTOMÓVEL_MÉDIO_0-40                                                            \n",
       "660 4_349_AUTOMÓVEL_MÉDIO_41-60 ==> 2_350_AUTOMÓVEL_MÉDIO_41-60                                                                                       \n",
       "661 4_349_AUTOMÓVEL_MÉDIO_41-60 ==> 2_350_AUTOMÓVEL_MÉDIO_41-60,2_366_AUTOMÓVEL_MÉDIO_41-60                                                           \n",
       "662 4_349_AUTOMÓVEL_MÉDIO_41-60 ==> 2_350_AUTOMÓVEL_MÉDIO_41-60,2_366_AUTOMÓVEL_MÉDIO_41-60,3_349_AUTOMÓVEL_MÉDIO_41-60                               \n",
       "663 4_349_AUTOMÓVEL_MÉDIO_41-60 ==> 2_350_AUTOMÓVEL_MÉDIO_41-60,4_370_AUTOMÓVEL_MÉDIO_0-40                                                            \n",
       "664 4_349_AUTOMÓVEL_MÉDIO_41-60 ==> 2_350_AUTOMÓVEL_MÉDIO_41-60,3_349_AUTOMÓVEL_MÉDIO_41-60                                                           \n",
       "665 4_349_AUTOMÓVEL_MÉDIO_41-60 ==> 2_350_AUTOMÓVEL_MÉDIO_41-60,3_349_AUTOMÓVEL_MÉDIO_41-60,4_370_AUTOMÓVEL_MÉDIO_0-40                                \n",
       "666 2_366_AUTOMÓVEL_MÉDIO_41-60 ==> 3_349_AUTOMÓVEL_MÉDIO_41-60                                                                                       \n",
       "667 2_366_AUTOMÓVEL_MÉDIO_41-60 ==> 3_349_AUTOMÓVEL_MÉDIO_41-60,4_370_AUTOMÓVEL_MÉDIO_0-40                                                            \n",
       "668 2_366_AUTOMÓVEL_MÉDIO_41-60 ==> 3_349_AUTOMÓVEL_MÉDIO_41-60,4_349_AUTOMÓVEL_MÉDIO_41-60                                                           \n",
       "669 3_349_AUTOMÓVEL_MÉDIO_41-60 ==> 2_366_AUTOMÓVEL_MÉDIO_41-60                                                                                       \n",
       "670 3_349_AUTOMÓVEL_MÉDIO_41-60 ==> 2_366_AUTOMÓVEL_MÉDIO_41-60,4_349_AUTOMÓVEL_MÉDIO_41-60                                                           \n",
       "671 2_366_AUTOMÓVEL_MÉDIO_41-60 ==> 4_349_AUTOMÓVEL_MÉDIO_41-60                                                                                       \n",
       "672 2_366_AUTOMÓVEL_MÉDIO_41-60 ==> 4_349_AUTOMÓVEL_MÉDIO_41-60,4_370_AUTOMÓVEL_MÉDIO_0-40                                                            \n",
       "673 4_349_AUTOMÓVEL_MÉDIO_41-60 ==> 2_366_AUTOMÓVEL_MÉDIO_41-60                                                                                       \n",
       "674 4_349_AUTOMÓVEL_MÉDIO_41-60 ==> 2_366_AUTOMÓVEL_MÉDIO_41-60,4_370_AUTOMÓVEL_MÉDIO_0-40                                                            \n",
       "675 4_349_AUTOMÓVEL_MÉDIO_41-60 ==> 2_366_AUTOMÓVEL_MÉDIO_41-60,3_349_AUTOMÓVEL_MÉDIO_41-60                                                           \n",
       "676 3_349_AUTOMÓVEL_MÉDIO_41-60 ==> 4_349_AUTOMÓVEL_MÉDIO_41-60                                                                                       \n",
       "677 3_349_AUTOMÓVEL_MÉDIO_41-60 ==> 4_349_AUTOMÓVEL_MÉDIO_41-60,4_370_AUTOMÓVEL_MÉDIO_0-40                                                            \n",
       "678 4_349_AUTOMÓVEL_MÉDIO_41-60 ==> 3_349_AUTOMÓVEL_MÉDIO_41-60                                                                                       \n",
       "679 4_349_AUTOMÓVEL_MÉDIO_41-60 ==> 3_349_AUTOMÓVEL_MÉDIO_41-60,4_370_AUTOMÓVEL_MÉDIO_0-40                                                            \n",
       "680 3_366_AUTOMÓVEL_MÉDIO_41-60 ==> 4_349_AUTOMÓVEL_MÉDIO_41-60                                                                                       \n",
       "    Suporte Confiança\n",
       "1   2468    0.9341408\n",
       "2   2444    0.9250568\n",
       "3   2446    0.9258138\n",
       "4   2427    0.9186223\n",
       "5   2435    0.9216503\n",
       "6   2417    0.9148372\n",
       "7   2425    0.9178653\n",
       "8   2422    0.9167298\n",
       "9   2454    0.9288418\n",
       "10  2432    0.9205148\n",
       "11  2432    0.9205148\n",
       "12  2428    0.9190008\n",
       "13  2445    0.9254353\n",
       "14  2424    0.9174868\n",
       "15  2422    0.9167298\n",
       "16  2440    0.9235428\n",
       "17  2421    0.9163512\n",
       "18  2474    0.9353497\n",
       "19  2426    0.9182438\n",
       "20  2430    0.9324635\n",
       "21  2493    0.9436033\n",
       "22  2467    0.9337623\n",
       "23  2476    0.9371688\n",
       "24  2453    0.9284633\n",
       "25  2447    0.9261923\n",
       "26  2427    0.9186223\n",
       "27  2423    0.9171083\n",
       "28  2447    0.9261923\n",
       "29  2427    0.9186223\n",
       "30  2462    0.9318698\n",
       "... ...     ...      \n",
       "651 2464    0.9287599\n",
       "652 2431    0.9163211\n",
       "653 2515    0.9479834\n",
       "654 2439    0.9193366\n",
       "655 2471    0.9313984\n",
       "656 2421    0.9070813\n",
       "657 2433    0.9496487\n",
       "658 2577    0.9655302\n",
       "659 2475    0.9273136\n",
       "660 2564    0.9624625\n",
       "661 2476    0.9294294\n",
       "662 2436    0.9144144\n",
       "663 2477    0.9298048\n",
       "664 2517    0.9448198\n",
       "665 2439    0.9155405\n",
       "666 2508    0.9565217\n",
       "667 2418    0.9221968\n",
       "668 2479    0.9454615\n",
       "669 2494    0.9400678\n",
       "670 2456    0.9257444\n",
       "671 2527    0.9637681\n",
       "672 2429    0.9263921\n",
       "673 2507    0.9410661\n",
       "674 2423    0.9095345\n",
       "675 2459    0.9230480\n",
       "676 2555    0.9630607\n",
       "677 2458    0.9264983\n",
       "678 2559    0.9605856\n",
       "679 2462    0.9241742\n",
       "680 2427    0.9473068"
      ]
     },
     "metadata": {},
     "output_type": "display_data"
    }
   ],
   "source": [
    "rsq <- read.csv('rule_seq.txt')\n",
    "colnames(rsq) <- c(\"Regra\", \"Suporte\", \"Confiança\")\n",
    "#rsq[order(rsq$Confiança, decreasing = TRUE), ]\n",
    "rsq"
   ]
  },
  {
   "cell_type": "code",
   "execution_count": null,
   "metadata": {},
   "outputs": [
    {
     "data": {
      "text/html": [
       "<table class=\"dataframe\">\n",
       "<caption>A tibble: 6 × 3</caption>\n",
       "<thead>\n",
       "\t<tr><th scope=col>ID DE ENDEREÇO</th><th scope=col>ENDEREÇO</th><th scope=col>SENTIDO</th></tr>\n",
       "\t<tr><th scope=col>&lt;chr&gt;</th><th scope=col>&lt;chr&gt;</th><th scope=col>&lt;fct&gt;</th></tr>\n",
       "</thead>\n",
       "<tbody>\n",
       "\t<tr><td>311</td><td>Av. do Contorno, oposto ao nº 10812</td><td>Centro/Barro Preto           </td></tr>\n",
       "\t<tr><td>328</td><td>Av. do Contorno, nº 10.730         </td><td>Barro Preto/Centro           </td></tr>\n",
       "\t<tr><td>349</td><td>Av. do Contorno, nº 629            </td><td>Praça da Estação / Rodoviária</td></tr>\n",
       "\t<tr><td>350</td><td>Av. do Contorno, nº 4.045          </td><td>Savassi / Sta. Efigênia      </td></tr>\n",
       "\t<tr><td>366</td><td>Av. do Contorno, oposto ao nº 5.445</td><td>São Lucas/Savassi            </td></tr>\n",
       "\t<tr><td>370</td><td>Av. do Contorno, oposto ao nº 4.045</td><td>Sta. Efigênia / Savassi      </td></tr>\n",
       "</tbody>\n",
       "</table>\n"
      ],
      "text/latex": [
       "A tibble: 6 × 3\n",
       "\\begin{tabular}{lll}\n",
       " ID DE ENDEREÇO & ENDEREÇO & SENTIDO\\\\\n",
       " <chr> & <chr> & <fct>\\\\\n",
       "\\hline\n",
       "\t 311 & Av. do Contorno, oposto ao nº 10812 & Centro/Barro Preto           \\\\\n",
       "\t 328 & Av. do Contorno, nº 10.730          & Barro Preto/Centro           \\\\\n",
       "\t 349 & Av. do Contorno, nº 629             & Praça da Estação / Rodoviária\\\\\n",
       "\t 350 & Av. do Contorno, nº 4.045           & Savassi / Sta. Efigênia      \\\\\n",
       "\t 366 & Av. do Contorno, oposto ao nº 5.445 & São Lucas/Savassi            \\\\\n",
       "\t 370 & Av. do Contorno, oposto ao nº 4.045 & Sta. Efigênia / Savassi      \\\\\n",
       "\\end{tabular}\n"
      ],
      "text/markdown": [
       "\n",
       "A tibble: 6 × 3\n",
       "\n",
       "| ID DE ENDEREÇO &lt;chr&gt; | ENDEREÇO &lt;chr&gt; | SENTIDO &lt;fct&gt; |\n",
       "|---|---|---|\n",
       "| 311 | Av. do Contorno, oposto ao nº 10812 | Centro/Barro Preto            |\n",
       "| 328 | Av. do Contorno, nº 10.730          | Barro Preto/Centro            |\n",
       "| 349 | Av. do Contorno, nº 629             | Praça da Estação / Rodoviária |\n",
       "| 350 | Av. do Contorno, nº 4.045           | Savassi / Sta. Efigênia       |\n",
       "| 366 | Av. do Contorno, oposto ao nº 5.445 | São Lucas/Savassi             |\n",
       "| 370 | Av. do Contorno, oposto ao nº 4.045 | Sta. Efigênia / Savassi       |\n",
       "\n"
      ],
      "text/plain": [
       "  ID DE ENDEREÇO ENDEREÇO                           \n",
       "1 311            Av. do Contorno, oposto ao nº 10812\n",
       "2 328            Av. do Contorno, nº 10.730         \n",
       "3 349            Av. do Contorno, nº 629            \n",
       "4 350            Av. do Contorno, nº 4.045          \n",
       "5 366            Av. do Contorno, oposto ao nº 5.445\n",
       "6 370            Av. do Contorno, oposto ao nº 4.045\n",
       "  SENTIDO                      \n",
       "1 Centro/Barro Preto           \n",
       "2 Barro Preto/Centro           \n",
       "3 Praça da Estação / Rodoviária\n",
       "4 Savassi / Sta. Efigênia      \n",
       "5 São Lucas/Savassi            \n",
       "6 Sta. Efigênia / Savassi      "
      ]
     },
     "metadata": {},
     "output_type": "display_data"
    }
   ],
   "source": [
    "contorno %>% distinct(`ID DE ENDEREÇO`,ENDEREÇO, SENTIDO)"
   ]
  },
  {
   "cell_type": "markdown",
   "metadata": {},
   "source": [
    "## Evaluation"
   ]
  },
  {
   "cell_type": "markdown",
   "metadata": {},
   "source": [
    "Dentro do escopo da Av do Contorno no mês de fevereiro de 2022, podemos verificar os seguintes aspéctos:\n",
    "### Itensets frequêntes:\n",
    "* O veículos que mais são captados na via são automóveis de tamanho médio ou pequeno com velocidade entre 41 Km/h e 60 Km/h circulando nos números:\n",
    "    * 4.045, sentido Savassi / Sta. Efigênia na faixa número 2;\n",
    "    * 629, sentido Praça da Estação / Rodoviária nas faixas de número 2, 3 e 4;\n",
    "    * oposto ao nº 5.445, sentido São Lucas/Savassi na faixa número 2.\n",
    "### Regras frequêntes:\n",
    "As regras, na interpretação dos autores, não foram muito produtivas. Acredita-se que o evento de um veículo se captado por um radar seja totalmente idependete dos demais. Porém a base é muito grande e talvez haja regras mais produtivas, mas para isto seria necessário um poder computacional maior. O que seria interessante é executar o algoritmo OPUS Miner que consegue obter regras com valor de lift alto, mas mesmos estas regras podem não ser interessantes pelo fato de ter um suporte muito baixo.\n",
    "\n",
    "### Itemset sequencial\n",
    "Devido o tamanho da base as regras de maior frequencia são semelhantes aos resultados dos itens frequêntes. Foi observado um relação entre o tráfego dos números 629, sentido Praça da Estação / Rodoviária e 10.730 sentido Barro Preto/Centro em sequência. Indicando, provavelmente, que o fluxo dos dois ponto convergem simultaneamente para o centro da cidade. Um outra análise é que outros endereço em sequencia geram fluxo para o número 10.730, indicando um possível concentração de fluxo de trânsito. Este ponto tem sua importância por ligar bairros populares ao centro indicando o provável fluxo de pessoas para o trabalho.\n",
    "\n",
    "### Regras sequenciais\n",
    "O resultado mostra alguns posívies pontos de trânsito intenso como o número número 4.045 que recebe transito nos dois sentidos indicando que provavelmente neste ponto o fluxo é inteso e independete do sentido."
   ]
  },
  {
   "cell_type": "markdown",
   "metadata": {},
   "source": [
    "### Análise via Chat GPT\n",
    "\n",
    "### Itensets frequêntes:\n",
    "    Prompt : Tarefa: Descrever em um texto corrido os resultados do tráfego da av do contorno de belo horizonte.\n",
    "    Precondições: A primeira coluna os dados estão separados pelo caractere _ na seguinte ordem: faixa de circulação, código do endereço, tipo do veículo, porte do veículo e intervalo de velocidade aferida, podendo haver mais de um registro. A segunda coluna é a quantidade de observações. \n",
    "    Resultado obtido:\n",
    "    2_350_AUTOMÓVEL_MÉDIO_41-60\t7881\n",
    "    2_349_AUTOMÓVEL_MÉDIO_41-60\t7870\n",
    "    2_349_AUTOMÓVEL_PEQUENO_41-60\t7869\n",
    "    4_349_AUTOMÓVEL_MÉDIO_41-60\t7858\n",
    "    3_349_AUTOMÓVEL_MÉDIO_41-60\t7809\n",
    "    2_349_AUTOMÓVEL_PEQUENO_41-60 2_349_AUTOMÓVEL_MÉDIO_41-60\t7762\n",
    "    2_349_AUTOMÓVEL_MÉDIO_41-60 2_350_AUTOMÓVEL_MÉDIO_41-60\t7726\n",
    "    4_349_AUTOMÓVEL_MÉDIO_41-60 2_349_AUTOMÓVEL_MÉDIO_41-60\t7723\n",
    "    4_349_AUTOMÓVEL_MÉDIO_41-60 2_349_AUTOMÓVEL_PEQUENO_41-60\t7722\n",
    "    2_349_AUTOMÓVEL_PEQUENO_41-60 2_350_AUTOMÓVEL_MÉDIO_41-60\t7721\n",
    "    4_349_AUTOMÓVEL_MÉDIO_41-60 2_350_AUTOMÓVEL_MÉDIO_41-60\t7720\n",
    "    2_366_AUTOMÓVEL_MÉDIO_41-60\t7707\n",
    "    1_349_AUTOMÓVEL_PEQUENO_41-60\t7706\n",
    "    3_349_AUTOMÓVEL_MÉDIO_41-60 2_349_AUTOMÓVEL_PEQUENO_41-60\t7697\n",
    "    3_349_AUTOMÓVEL_MÉDIO_41-60 2_349_AUTOMÓVEL_MÉDIO_41-60\t7689\n",
    "    \n",
    "    Tabela dos códigos dos endereços:\n",
    "    ID DE ENDEREÇO\tENDEREÇO\tSENTIDO\n",
    "    <chr>\t<chr>\t<fct>\n",
    "    311\tAv. do Contorno, oposto ao nº 10812\tCentro/Barro Preto\n",
    "    328\tAv. do Contorno, nº 10.730\tBarro Preto/Centro\n",
    "    349\tAv. do Contorno, nº 629\tPraça da Estação / Rodoviária\n",
    "    350\tAv. do Contorno, nº 4.045\tSavassi / Sta. Efigênia\n",
    "    366\tAv. do Contorno, oposto ao nº 5.445\tSão Lucas/Savassi\n",
    "    370\tAv. do Contorno, oposto ao nº 4.045\tSta. Efigênia / Savassi\n",
    "\n",
    "    Resultado: Os dados de tráfego na Av. do Contorno em Belo Horizonte revelam informações detalhadas sobre a circulação de veículos em diferentes trechos e faixas da via. Observou-se que a maior concentração de veículos foi registrada na faixa 2, no endereço nº 350 (Savassi/Sta. Efigênia), com predominância de automóveis médios trafegando no intervalo de velocidade de 41 a 60 km/h, totalizando 7.881 observações. Esse padrão também foi observado na faixa 2 do endereço nº 349 (Praça da Estação/Rodoviária), com 7.870 registros do mesmo tipo de veículo e velocidade.\n",
    "\n",
    "    Automóveis pequenos também apresentaram volume significativo de tráfego, com destaque para a faixa 2 do endereço nº 349, onde houve 7.869 observações no mesmo intervalo de velocidade. Outros trechos da via, como o nº 366 (São Lucas/Savassi) e nº 350, também registraram volumes consideráveis de veículos médios na faixa 2, com 7.707 e 7.726 observações, respectivamente.\n",
    "\n",
    "    Além disso, combinações de registros múltiplos indicam fluxos intensos em determinados trechos. Por exemplo, o tráfego combinado de automóveis médios nas faixas 2 e 4 do endereço nº 349 totalizou 7.723 observações, sugerindo um movimento sincronizado ou simultâneo entre essas faixas.\n",
    "\n",
    "    No endereço nº 629 (Praça da Estação/Rodoviária), a faixa 3 teve um tráfego expressivo de automóveis médios, com 7.809 observações, enquanto a faixa 1 apresentou 7.706 registros de automóveis pequenos, demonstrando a diversidade de veículos e padrões de uso entre as faixas.\n",
    "\n",
    "    Em síntese, os dados apontam uma predominância de automóveis médios e pequenos na faixa 2 da Av. do Contorno, especialmente nos trechos nº 350 e nº 349, com velocidades entre 41 e 60 km/h. Esses resultados evidenciam padrões consistentes de fluxo e podem subsidiar futuras intervenções para otimizar a circulação na região."
   ]
  },
  {
   "cell_type": "markdown",
   "metadata": {},
   "source": [
    "### Regras frequentes\n",
    "    O Chat GPT não conseguiu gerar uma interpretação de boa qualidade das regras frequêntes. Talvez seja pela complexidade das regras geradas."
   ]
  },
  {
   "cell_type": "markdown",
   "metadata": {},
   "source": [
    "### Conclusão\n",
    "\n",
    "Os algoritmos de mineração de dados geram uma grande quantidade de informações quando são submetidos a bases muito grandes e quando há uma fraca correlação dos itens com suas transações. No caso a mineração de itens frequêntes serviu mais para ter uma visão geral das informações. No caso de dados de trânsito a mineração de itens frequêntes tem vantagem para caracterizar os principais veículos das vias e sua velocidade. Acredita-se que a análise de itens sequenciais frequentes gere mais informações válidas como pontos de trânsito de mesma intesidade nas duas vias e fluxo contínuo para o Centro da Cidade."
   ]
  },
  {
   "cell_type": "markdown",
   "metadata": {},
   "source": [
    "# Minerando Padrões em Casos de Infração de Trânsito"
   ]
  },
  {
   "cell_type": "markdown",
   "metadata": {},
   "source": [
    "## Data Understanding & Data Preparation"
   ]
  },
  {
   "cell_type": "markdown",
   "metadata": {},
   "source": [
    "A base de dados consiste em pastas contendo o mês e ano dos registros feitos pelos radares de Belo Horizonte. Cada mês contém subpastas para os respectivos dias, onde é possível encontrar conjuntos de arquivos no formato JSON. Nelas há registros de todos os radares. Um exemplo da estrutura de pastas é dado abaixo: \n",
    "\n",
    "ABRIL_2022/ \n",
    "\n",
    "┣ 20220401/ \n",
    "\n",
    "┃ ┣ 20220401_00.json \n",
    "\n",
    "┃ ┣ 20220401_01.json \n",
    "\n",
    "┃ ┣ 20220401_02.json \n",
    "\n",
    "┃ ┣ 20220401_03.json \n",
    "\n",
    "┃ ┣ 20220401_04.json \n",
    "\n",
    "┃ ┣ 20220401_05.json  \n",
    "\n",
    "Nota-se que cada arquivo JSON contem os dados de uma faixa de horário no respectivo dia.\n",
    "\n",
    "Uma das primeiras suposições é que se deve encontrar associações diretas entre as velocidades registradas com os horários, tipos de veículos e localização na via. Um determinado local pode ser mais comum encontrar velocidades mais altas em determinados horários ou em determinados tipos de veículos. Velocidades mais baixas ou altas também podem ser encontradas em horários bem comuns.Além do mais, pode-se encontrar padrões frequentes em casos que se registra infrações por excesso de velocidade.\n",
    "\n",
    "Foram adquiridos dados do ano de 2022 inteiro, mesclando todo os JSON em dataframes. Contudo o volume de dados é muito grande, portanto, usar biblioteca como pandas não será o suficiente. A solução foi usar um framework mais adequado para Big Data, o `Polars`. Uma vez que os dado estiverem processados, transformados e as informações necessárias filtradas, eles serão levados até a modelagem.\n",
    "\n",
    "Os atributos da base são as seguintes:\n",
    "- ID EQP: Número de identificação do equipamento no sistema de \n",
    "processamento. \n",
    "- DATA HORA: Data e hora de ocorrência do evento. \n",
    "- MILESEGUNDO: Milésimo de segundo de ocorrência do evento. \n",
    "- FAIXA: Faixa de circulação da via onde ocorreu o evento. \n",
    "- ID DE ENDEREÇO: Localização do equipamento no sistema de processamento. \n",
    "- VELOCIDADE DA VIA: Velocidade regulamentada para a via. \n",
    "- VELOCIDADE AFERIDA: Velocidade medida pelo equipamento. \n",
    "- CLASSIFICACAO: Tipo de veículo registrado pelo equipamento (Automóvel/Motocicleta/Caminhão ou ônibus). \n",
    "- TAMANHO: Comprimento do veículo detectado pelo equipamento. \n",
    "- NUM SERIE: Número de identificação do equipamento. \n",
    "- LATITUDE: Localização de coordenada geográfica latitude do equipamento. \n",
    "- LONGITUDE: Localização de coordenada geográfica longitude do equipamento. \n",
    "- ENDEREÇO: Localização da via onde o equipamento se encontra instalado. \n",
    "- SENTIDO: Sentido da via fiscalizado pelo equipamento. \n",
    "\n",
    "As colunas que serão usadas serão as seguintes:\n",
    "- \"ENDEREÇO\"\n",
    "- \"SENTIDO\"\n",
    "- \"FAIXA\"\n",
    "- \"CLASSIFICAÇÃO\"\n",
    "- \"TAMANHO\"\n",
    "- \"VELOCIDADE DA VIA\"\n",
    "- \"VELOCIDADE AFERIDA\"\n",
    "\n",
    "Os dados contínuos serão discretizados de forma arbitrária usando visualização de histogramas. E serão gerados dois novos atributos a partir da DATA HORA, VELOCIDADE DA VIA e VELOCIDADE AFERIDA:\n",
    "- \"PERIODO DIA\"\n",
    "- \"ULTRAPASSOU LIMITE\"\n",
    "Espera-se obter informações mais ricas usando dessa nova representação discreta dos horários, e minerar padrões em casos onde houveram infrações de trânsito.\n",
    "\n",
    "Os códigos abaixo consistem em uma dataclass usada para modelar o banco de dados usando `Polars` dataframes, e a chamada da classe para gerar arquivos CSV que serão usados na modelagem"
   ]
  },
  {
   "cell_type": "code",
   "execution_count": null,
   "metadata": {},
   "outputs": [],
   "source": [
    "import os\n",
    "from glob import glob\n",
    "from dataclasses import dataclass\n",
    "from tqdm import tqdm\n",
    "import polars as pl\n",
    "\n",
    "\n",
    "@dataclass\n",
    "class DataLoader:\n",
    "    dir: str\n",
    "    target: str\n",
    "\n",
    "    def list_files(self):\n",
    "        months_folders = os.listdir(self.dir)\n",
    "        json_files_list = []\n",
    "\n",
    "        for m_folder in months_folders:\n",
    "            m_folder = os.path.join(self.dir, m_folder)\n",
    "            if os.path.isdir(m_folder):\n",
    "                d_folder_list = os.listdir(m_folder)\n",
    "                for d_folder in d_folder_list:\n",
    "                    d_folder = os.path.join(m_folder, d_folder)\n",
    "                    json_files = glob(f\"{d_folder}/*.json\")\n",
    "                    json_files_list.extend(json_files)\n",
    "\n",
    "        return json_files_list\n",
    "\n",
    "    def filter_location(self, p_df: pl.DataFrame):\n",
    "        filtered_df = (\n",
    "            p_df.lazy()\n",
    "            .filter(pl.col(\"ENDEREÇO\").str.contains(f\"{self.target}\"))\n",
    "            .collect()\n",
    "        )\n",
    "\n",
    "        return filtered_df\n",
    "\n",
    "    def check_above_speed_limite(self, p_df: pl.DataFrame):\n",
    "        df = p_df.with_columns(\n",
    "            pl.col(\"VELOCIDADE AFERIDA\").cast(pl.Float32),\n",
    "            pl.col(\"VELOCIDADE DA VIA\").cast(pl.Float32),\n",
    "        )\n",
    "        df = df.with_columns(\n",
    "            (pl.col(\"VELOCIDADE AFERIDA\") > pl.col(\"VELOCIDADE DA VIA\")).alias(\n",
    "                \"ULTRAPASSOU LIMITE\"\n",
    "            )\n",
    "        )\n",
    "\n",
    "        return df\n",
    "\n",
    "    def categorize_time_of_day_extended(self, hour):\n",
    "        if 0 <= hour < 6:\n",
    "            return \"Madrugada\"\n",
    "        elif 6 <= hour < 9 or 17 <= hour < 20:\n",
    "            return \"Pico\"\n",
    "        elif 9 <= hour < 12:\n",
    "            return \"Manhã\"\n",
    "        elif 12 <= hour < 17:\n",
    "            return \"Tarde\"\n",
    "        else:\n",
    "            return \"Noite\"\n",
    "\n",
    "    def discretize_datetime(self, p_df: pl.DataFrame):\n",
    "        df = p_df.with_columns(\n",
    "            pl.col(\"DATA HORA\").str.strptime(pl.Datetime, format=\"%Y-%m-%dT%H:%M:%S\")\n",
    "        )\n",
    "\n",
    "        df = (\n",
    "            df.lazy()\n",
    "            .with_columns(\n",
    "                pl.col(\"DATA HORA\")\n",
    "                .dt.hour()\n",
    "                .map_elements(\n",
    "                    self.categorize_time_of_day_extended, return_dtype=pl.String\n",
    "                )\n",
    "                .alias(\"PERIODO DIA\")\n",
    "            )\n",
    "            .collect()\n",
    "        )\n",
    "\n",
    "        return df\n",
    "\n",
    "    def load_data(self) -> pl.DataFrame:\n",
    "        json_files_list = self.list_files()\n",
    "        dataframes_list = []\n",
    "\n",
    "        for file in tqdm(json_files_list):\n",
    "            df = pl.read_json(file)\n",
    "            filtered_df = self.filter_location(df)\n",
    "            filtered_df = self.check_above_speed_limite(filtered_df)\n",
    "\n",
    "            filtered_df = self.discretize_datetime(filtered_df)\n",
    "\n",
    "            filtered_df = filtered_df[\n",
    "                \"PERIODO DIA\",\n",
    "                \"ENDEREÇO\",\n",
    "                \"SENTIDO\",\n",
    "                \"FAIXA\",\n",
    "                \"CLASSIFICAÇÃO\",\n",
    "                \"TAMANHO\",\n",
    "                \"VELOCIDADE DA VIA\",\n",
    "                \"VELOCIDADE AFERIDA\",\n",
    "                \"ULTRAPASSOU LIMITE\",\n",
    "            ]\n",
    "            dataframes_list.append(filtered_df)\n",
    "\n",
    "        months_df = pl.concat(dataframes_list)\n",
    "\n",
    "        return months_df"
   ]
  },
  {
   "cell_type": "code",
   "execution_count": null,
   "metadata": {},
   "outputs": [],
   "source": [
    "import os\n",
    "from dotenv import load_dotenv\n",
    "from dataLoader import DataLoader\n",
    "\n",
    "\n",
    "if __name__ == \"__main__\":\n",
    "    load_dotenv(\"bhTrafficDataMining/humanAttempt/dataProcessing/config/.env\")\n",
    "    data_loader = DataLoader(\"bhTrafficDataMining/data\", os.environ[\"TARGET\"])\n",
    "    df = data_loader.load_data()\n",
    "    df.write_csv(\n",
    "        \"bhTrafficDataMining/humanAttempt/dataProcessing/dataProcessed/ABRIL_2022.csv\",\n",
    "    )\n",
    "    print(df[\"ENDEREÇO\"].value_counts())\n"
   ]
  },
  {
   "cell_type": "markdown",
   "metadata": {},
   "source": [
    "## Modeling"
   ]
  },
  {
   "cell_type": "markdown",
   "metadata": {},
   "source": [
    "Usando dos dados salvos em CSV, pode-se filtrar apenas os casos onde houveram infrações de trânsito. O Python conta com a biblioteca `mlxtend` que permite minerar padrões frequentes com algoritmos vistos em aula e gerar regras de associação. É possível selecionar qual métrica será usada para gerar as regras de associação entre os itemsets frequentes, no caso foi usada a `Confiança` com um limiar arbitrário de `75%`. A saída retornada pela biblioteca é um dataframe que contêm as regras de associação, ordenadas pelo suporte, contendo informações de várias métricas comumente usadas para avaliar regras de associação, dentre elas estão:\n",
    "\n",
    "- support(A->C) = support(A+C) [aka 'support'], range: [0, 1]\n",
    "- confidence(A->C) = support(A+C) / support(A), range: [0, 1]\n",
    "- lift(A->C) = confidence(A->C) / support(C), range: [0, inf]\n",
    "- leverage(A->C) = support(A->C) - support(A)*support(C), range: [-1, 1]\n",
    "- conviction = [1 - support(C)] / [1 - confidence(A->C)], range: [0, inf]\n",
    "- zhangs_metric(A->C) = leverage(A->C) / max(support(A->C)(1-support(A)), support(A)(support(C)-support(A->C))) range: [-1,1]\n",
    "\n",
    "Abaixo está o código da dataclass usada para preprocessar os dados, transformando os atributos citados anteriormente em one-hot-encoders para cada classe dos atributos. Em seguida está a chamada dessa classe, levando-os para a execução dos algoritmos."
   ]
  },
  {
   "cell_type": "code",
   "execution_count": null,
   "metadata": {},
   "outputs": [],
   "source": [
    "from glob import glob\n",
    "from dataclasses import dataclass\n",
    "from tqdm import tqdm\n",
    "import polars as pl\n",
    "\n",
    "\n",
    "@dataclass\n",
    "class DataPreprocessor:\n",
    "    dir: str\n",
    "\n",
    "    def load_database(self, p_percentage) -> pl.DataFrame:\n",
    "        csv_files_list = glob(f\"{self.dir}/*.csv\")\n",
    "        percent_index = int(round(len(csv_files_list) * p_percentage))\n",
    "        dataframes_list = []\n",
    "        for file in tqdm(csv_files_list[:percent_index]):\n",
    "            df = pl.read_csv(file)\n",
    "            df = self.discretize_speed(df)\n",
    "            dataframes_list.append(df)\n",
    "\n",
    "        return pl.concat(dataframes_list)\n",
    "\n",
    "    def get_speep_intervals(self, p_speed):\n",
    "        if 0 <= p_speed < 50:\n",
    "            return \"velocidadeModerada\"\n",
    "        elif 50 <= p_speed < 100:\n",
    "            return \"velocidadeAlta\"\n",
    "        elif p_speed >= 100:\n",
    "            return \"velocidadeAltissima\"\n",
    "\n",
    "    def discretize_speed(self, p_df: pl.DataFrame):\n",
    "        df = (\n",
    "            p_df.lazy()\n",
    "            .with_columns(\n",
    "                pl.col(\"VELOCIDADE AFERIDA\")\n",
    "                .map_elements(self.get_speep_intervals, return_dtype=pl.String)\n",
    "                .alias(\"VELCOIDADE\")\n",
    "            )\n",
    "            .collect()\n",
    "        )\n",
    "\n",
    "        return df\n",
    "\n",
    "    def drop_undesired_columns(\n",
    "        self, p_df: pl.DataFrame, p_undesired_columns: list\n",
    "    ) -> pl.DataFrame:\n",
    "        return p_df.drop(p_undesired_columns)\n",
    "\n",
    "    def get_preprocessed_database(self, p_percentage: float, p_undesired_columns: list):\n",
    "        df = self.load_database(p_percentage)\n",
    "        df = self.drop_undesired_columns(df, p_undesired_columns)\n",
    "        df = df.to_dummies()\n",
    "        df = df.cast(pl.Boolean)\n",
    "\n",
    "        return df\n",
    "\n",
    "\n",
    "if __name__ == \"__main__\":\n",
    "    data_preprocessor = DataPreprocessor(\n",
    "        \"bhTrafficDataMining/humanAttempt/dataProcessing/dataProcessed\"\n",
    "    )\n",
    "\n",
    "    df = data_preprocessor.get_preprocessed_database(\n",
    "        0.5, p_undesired_columns=[\"VELOCIDADE AFERIDA\", \"VELOCIDADE DA VIA\", \"TAMANHO\"]\n",
    "    )\n",
    "    print(df)\n"
   ]
  },
  {
   "cell_type": "code",
   "execution_count": null,
   "metadata": {},
   "outputs": [],
   "source": [
    "import polars as pl\n",
    "from mlxtend.frequent_patterns import fpgrowth, association_rules\n",
    "from preprocessor import DataPreprocessor\n",
    "\n",
    "\n",
    "if __name__ == \"__main__\":\n",
    "    data_preprocessor = DataPreprocessor(\n",
    "        \"bhTrafficDataMining/humanAttempt/dataProcessing/dataProcessed\"\n",
    "    )\n",
    "\n",
    "    df = data_preprocessor.get_preprocessed_database(\n",
    "        1.0, p_undesired_columns=[\"VELOCIDADE AFERIDA\", \"VELOCIDADE DA VIA\", \"TAMANHO\"]\n",
    "    )\n",
    "    df = df.lazy().filter(pl.col(\"ULTRAPASSOU LIMITE_true\") == True).collect()\n",
    "    df = df.drop([\"ULTRAPASSOU LIMITE_true\", \"ULTRAPASSOU LIMITE_false\"])\n",
    "    df = df.to_pandas()\n",
    "    print(df)\n",
    "\n",
    "    frequent_itemsets = fpgrowth(df, min_support=0.25, use_colnames=True, verbose=1)\n",
    "    print(frequent_itemsets)\n",
    "    frequent_itemsets.to_csv(\"bhTrafficDataMining/humanAttempt/resultados.csv\")\n",
    "\n",
    "    rules = association_rules(\n",
    "        frequent_itemsets,\n",
    "        metric=\"confidence\",\n",
    "        min_threshold=0.75,\n",
    "        num_itemsets=df.shape[0],\n",
    "    )\n",
    "    print(rules)\n",
    "    rules.to_csv(\"bhTrafficDataMining/humanAttempt/association_rules_conf75.csv\")\n"
   ]
  },
  {
   "cell_type": "markdown",
   "metadata": {},
   "source": [
    "## Evaluation"
   ]
  },
  {
   "cell_type": "markdown",
   "metadata": {},
   "source": [
    "A seguir estão alguns exemplos de regras de associação com métricas de qualidade que indicam que são extremamente informativas, estabelecendo uma boa confiança, convicção, e correlações bem positivas. Em algumas delas o `Coeficiente de Jaccard` é relativamente baixo, indicando um grau de pertencimento não tão interessante do antecedente e o consequente à regra.\n",
    "\n",
    "Procurou-se regras onde tanto a medida relativa do `Lift` e a absoluta do `Levarage` indicassem uma correlação positiva entre antecedente e consequente.\n",
    "\n",
    "Pode-se notar que algumas regras apontam que é muito comum as infrações serem registradas por alta velocidade (sendo que altíssima velocidade é apenas quando a velocidade registrada está acima de 100 km/h), sendo possível achar regras que estabelecem vínculo entre o endereço e o sentido que comumente ocorrem, qual tipo de veículo que comumente comentem infrações e em qual faixa é comum esses eventos ocorrerem.\n",
    "\n",
    "Entre os itemsets minerados, considerando o `minsup=0.25`, não se constatou eventos o suficiente onde a velocidade é altíssima.\n",
    "\n",
    "Outro aspecto notável é que a maioria das infrações se dá na faixa de alta velocidade, ou seja, a FAIXA3 que fica mais à esquerda da via.\n",
    "\n",
    "Descobriu-se que a maioria das infrações foram cometidas por automóveis, apenas uma das regras retornadas estabelece uma associação entre motocicletas e a alta velocidade; mas como é possível notar, apesar da `Confiança` e `Suporte` atenderem requisitos mínimos, as demais métricas apontam que essa regra não é tão forte, mostrando que a relação entre MOTOS e ALTA VELOCIDADE é fraca."
   ]
  },
  {
   "cell_type": "code",
   "execution_count": 14,
   "metadata": {},
   "outputs": [
    {
     "name": "stdout",
     "output_type": "stream",
     "text": [
      "Regras de boa qualidade:\n"
     ]
    },
    {
     "data": {
      "text/html": [
       "<div>\n",
       "<style scoped>\n",
       "    .dataframe tbody tr th:only-of-type {\n",
       "        vertical-align: middle;\n",
       "    }\n",
       "\n",
       "    .dataframe tbody tr th {\n",
       "        vertical-align: top;\n",
       "    }\n",
       "\n",
       "    .dataframe thead th {\n",
       "        text-align: right;\n",
       "    }\n",
       "</style>\n",
       "<table border=\"1\" class=\"dataframe\">\n",
       "  <thead>\n",
       "    <tr style=\"text-align: right;\">\n",
       "      <th></th>\n",
       "      <th>antecedents</th>\n",
       "      <th>consequents</th>\n",
       "      <th>antecedent support</th>\n",
       "      <th>consequent support</th>\n",
       "      <th>support</th>\n",
       "      <th>confidence</th>\n",
       "      <th>lift</th>\n",
       "      <th>representativity</th>\n",
       "      <th>leverage</th>\n",
       "      <th>conviction</th>\n",
       "      <th>zhangs_metric</th>\n",
       "      <th>jaccard</th>\n",
       "      <th>certainty</th>\n",
       "      <th>kulczynski</th>\n",
       "    </tr>\n",
       "  </thead>\n",
       "  <tbody>\n",
       "    <tr>\n",
       "      <th>2</th>\n",
       "      <td>frozenset({'VELCOIDADE_velocidadeAlta', 'ENDER...</td>\n",
       "      <td>frozenset({'CLASSIFICAÇÃO_AUTOMÓVEL'})</td>\n",
       "      <td>0.429657</td>\n",
       "      <td>0.566884</td>\n",
       "      <td>0.326879</td>\n",
       "      <td>0.760790</td>\n",
       "      <td>1.342055</td>\n",
       "      <td>1.0</td>\n",
       "      <td>0.083313</td>\n",
       "      <td>1.810607</td>\n",
       "      <td>0.446879</td>\n",
       "      <td>0.488125</td>\n",
       "      <td>0.447699</td>\n",
       "      <td>0.668707</td>\n",
       "    </tr>\n",
       "    <tr>\n",
       "      <th>9</th>\n",
       "      <td>frozenset({'VELCOIDADE_velocidadeAlta', 'ENDER...</td>\n",
       "      <td>frozenset({'SENTIDO_Centro/Barro Preto'})</td>\n",
       "      <td>0.429657</td>\n",
       "      <td>0.445195</td>\n",
       "      <td>0.429657</td>\n",
       "      <td>1.000000</td>\n",
       "      <td>2.246206</td>\n",
       "      <td>1.0</td>\n",
       "      <td>0.238376</td>\n",
       "      <td>inf</td>\n",
       "      <td>0.972757</td>\n",
       "      <td>0.965099</td>\n",
       "      <td>1.000000</td>\n",
       "      <td>0.982550</td>\n",
       "    </tr>\n",
       "    <tr>\n",
       "      <th>13</th>\n",
       "      <td>frozenset({'CLASSIFICAÇÃO_AUTOMÓVEL', 'ENDEREÇ...</td>\n",
       "      <td>frozenset({'SENTIDO_Centro/Barro Preto'})</td>\n",
       "      <td>0.332006</td>\n",
       "      <td>0.445195</td>\n",
       "      <td>0.332006</td>\n",
       "      <td>1.000000</td>\n",
       "      <td>2.246206</td>\n",
       "      <td>1.0</td>\n",
       "      <td>0.184198</td>\n",
       "      <td>inf</td>\n",
       "      <td>0.830553</td>\n",
       "      <td>0.745754</td>\n",
       "      <td>1.000000</td>\n",
       "      <td>0.872877</td>\n",
       "    </tr>\n",
       "    <tr>\n",
       "      <th>23</th>\n",
       "      <td>frozenset({'CLASSIFICAÇÃO_AUTOMÓVEL', 'ENDEREÇ...</td>\n",
       "      <td>frozenset({'SENTIDO_Centro/Barro Preto', 'VELC...</td>\n",
       "      <td>0.332006</td>\n",
       "      <td>0.429657</td>\n",
       "      <td>0.326879</td>\n",
       "      <td>0.984558</td>\n",
       "      <td>2.291496</td>\n",
       "      <td>1.0</td>\n",
       "      <td>0.184230</td>\n",
       "      <td>36.934424</td>\n",
       "      <td>0.843726</td>\n",
       "      <td>0.751819</td>\n",
       "      <td>0.972925</td>\n",
       "      <td>0.872674</td>\n",
       "    </tr>\n",
       "    <tr>\n",
       "      <th>36</th>\n",
       "      <td>frozenset({'VELCOIDADE_velocidadeAlta', 'ENDER...</td>\n",
       "      <td>frozenset({'SENTIDO_Centro/Barro Preto'})</td>\n",
       "      <td>0.318417</td>\n",
       "      <td>0.445195</td>\n",
       "      <td>0.318417</td>\n",
       "      <td>1.000000</td>\n",
       "      <td>2.246206</td>\n",
       "      <td>1.0</td>\n",
       "      <td>0.176659</td>\n",
       "      <td>inf</td>\n",
       "      <td>0.813994</td>\n",
       "      <td>0.715230</td>\n",
       "      <td>1.000000</td>\n",
       "      <td>0.857615</td>\n",
       "    </tr>\n",
       "    <tr>\n",
       "      <th>39</th>\n",
       "      <td>frozenset({'ENDEREÇO_Av. do Contorno, oposto a...</td>\n",
       "      <td>frozenset({'SENTIDO_Centro/Barro Preto', 'VELC...</td>\n",
       "      <td>0.330505</td>\n",
       "      <td>0.429657</td>\n",
       "      <td>0.318417</td>\n",
       "      <td>0.963425</td>\n",
       "      <td>2.242310</td>\n",
       "      <td>1.0</td>\n",
       "      <td>0.176413</td>\n",
       "      <td>15.593785</td>\n",
       "      <td>0.827536</td>\n",
       "      <td>0.720815</td>\n",
       "      <td>0.935872</td>\n",
       "      <td>0.852260</td>\n",
       "    </tr>\n",
       "    <tr>\n",
       "      <th>56</th>\n",
       "      <td>frozenset({'SENTIDO_Centro/Barro Preto', 'ENDE...</td>\n",
       "      <td>frozenset({'CLASSIFICAÇÃO_AUTOMÓVEL'})</td>\n",
       "      <td>0.330505</td>\n",
       "      <td>0.566884</td>\n",
       "      <td>0.261191</td>\n",
       "      <td>0.790278</td>\n",
       "      <td>1.394072</td>\n",
       "      <td>1.0</td>\n",
       "      <td>0.073833</td>\n",
       "      <td>2.065186</td>\n",
       "      <td>0.422224</td>\n",
       "      <td>0.410549</td>\n",
       "      <td>0.515782</td>\n",
       "      <td>0.625513</td>\n",
       "    </tr>\n",
       "    <tr>\n",
       "      <th>61</th>\n",
       "      <td>frozenset({'CLASSIFICAÇÃO_AUTOMÓVEL', 'FAIXA_3'})</td>\n",
       "      <td>frozenset({'SENTIDO_Centro/Barro Preto', 'ENDE...</td>\n",
       "      <td>0.304165</td>\n",
       "      <td>0.445195</td>\n",
       "      <td>0.261191</td>\n",
       "      <td>0.858715</td>\n",
       "      <td>1.928850</td>\n",
       "      <td>1.0</td>\n",
       "      <td>0.125778</td>\n",
       "      <td>3.926842</td>\n",
       "      <td>0.692055</td>\n",
       "      <td>0.535041</td>\n",
       "      <td>0.745342</td>\n",
       "      <td>0.722701</td>\n",
       "    </tr>\n",
       "    <tr>\n",
       "      <th>64</th>\n",
       "      <td>frozenset({'SENTIDO_Centro/Barro Preto', 'VELC...</td>\n",
       "      <td>frozenset({'CLASSIFICAÇÃO_AUTOMÓVEL'})</td>\n",
       "      <td>0.318417</td>\n",
       "      <td>0.566884</td>\n",
       "      <td>0.256847</td>\n",
       "      <td>0.806638</td>\n",
       "      <td>1.422933</td>\n",
       "      <td>1.0</td>\n",
       "      <td>0.076342</td>\n",
       "      <td>2.239926</td>\n",
       "      <td>0.436082</td>\n",
       "      <td>0.408697</td>\n",
       "      <td>0.553557</td>\n",
       "      <td>0.629862</td>\n",
       "    </tr>\n",
       "    <tr>\n",
       "      <th>64</th>\n",
       "      <td>frozenset({'SENTIDO_Centro/Barro Preto', 'VELC...</td>\n",
       "      <td>frozenset({'CLASSIFICAÇÃO_AUTOMÓVEL'})</td>\n",
       "      <td>0.318417</td>\n",
       "      <td>0.566884</td>\n",
       "      <td>0.256847</td>\n",
       "      <td>0.806638</td>\n",
       "      <td>1.422933</td>\n",
       "      <td>1.0</td>\n",
       "      <td>0.076342</td>\n",
       "      <td>2.239926</td>\n",
       "      <td>0.436082</td>\n",
       "      <td>0.408697</td>\n",
       "      <td>0.553557</td>\n",
       "      <td>0.629862</td>\n",
       "    </tr>\n",
       "    <tr>\n",
       "      <th>66</th>\n",
       "      <td>frozenset({'VELCOIDADE_velocidadeAlta', 'CLASS...</td>\n",
       "      <td>frozenset({'SENTIDO_Centro/Barro Preto'})</td>\n",
       "      <td>0.297608</td>\n",
       "      <td>0.445195</td>\n",
       "      <td>0.256847</td>\n",
       "      <td>0.863038</td>\n",
       "      <td>1.938562</td>\n",
       "      <td>1.0</td>\n",
       "      <td>0.124354</td>\n",
       "      <td>4.050799</td>\n",
       "      <td>0.689293</td>\n",
       "      <td>0.528540</td>\n",
       "      <td>0.753135</td>\n",
       "      <td>0.719985</td>\n",
       "    </tr>\n",
       "    <tr>\n",
       "      <th>67</th>\n",
       "      <td>frozenset({'SENTIDO_Centro/Barro Preto', 'CLAS...</td>\n",
       "      <td>frozenset({'VELCOIDADE_velocidadeAlta', 'FAIXA...</td>\n",
       "      <td>0.332006</td>\n",
       "      <td>0.403862</td>\n",
       "      <td>0.256847</td>\n",
       "      <td>0.773623</td>\n",
       "      <td>1.915560</td>\n",
       "      <td>1.0</td>\n",
       "      <td>0.122763</td>\n",
       "      <td>2.633380</td>\n",
       "      <td>0.715514</td>\n",
       "      <td>0.536192</td>\n",
       "      <td>0.620260</td>\n",
       "      <td>0.704800</td>\n",
       "    </tr>\n",
       "    <tr>\n",
       "      <th>89</th>\n",
       "      <td>frozenset({'CLASSIFICAÇÃO_MOTO'})</td>\n",
       "      <td>frozenset({'VELCOIDADE_velocidadeAlta'})</td>\n",
       "      <td>0.323768</td>\n",
       "      <td>0.921192</td>\n",
       "      <td>0.309513</td>\n",
       "      <td>0.955972</td>\n",
       "      <td>1.037756</td>\n",
       "      <td>1.0</td>\n",
       "      <td>0.011261</td>\n",
       "      <td>1.789977</td>\n",
       "      <td>0.053802</td>\n",
       "      <td>0.330872</td>\n",
       "      <td>0.441333</td>\n",
       "      <td>0.645982</td>\n",
       "    </tr>\n",
       "    <tr>\n",
       "      <th>95</th>\n",
       "      <td>frozenset({'VELCOIDADE_velocidadeAlta', 'ENDER...</td>\n",
       "      <td>frozenset({'SENTIDO_Praça da Estação / Rodoviá...</td>\n",
       "      <td>0.273753</td>\n",
       "      <td>0.313633</td>\n",
       "      <td>0.273753</td>\n",
       "      <td>1.000000</td>\n",
       "      <td>3.188437</td>\n",
       "      <td>1.0</td>\n",
       "      <td>0.187895</td>\n",
       "      <td>inf</td>\n",
       "      <td>0.945087</td>\n",
       "      <td>0.872845</td>\n",
       "      <td>1.000000</td>\n",
       "      <td>0.936422</td>\n",
       "    </tr>\n",
       "  </tbody>\n",
       "</table>\n",
       "</div>"
      ],
      "text/plain": [
       "                                          antecedents  \\\n",
       "2   frozenset({'VELCOIDADE_velocidadeAlta', 'ENDER...   \n",
       "9   frozenset({'VELCOIDADE_velocidadeAlta', 'ENDER...   \n",
       "13  frozenset({'CLASSIFICAÇÃO_AUTOMÓVEL', 'ENDEREÇ...   \n",
       "23  frozenset({'CLASSIFICAÇÃO_AUTOMÓVEL', 'ENDEREÇ...   \n",
       "36  frozenset({'VELCOIDADE_velocidadeAlta', 'ENDER...   \n",
       "39  frozenset({'ENDEREÇO_Av. do Contorno, oposto a...   \n",
       "56  frozenset({'SENTIDO_Centro/Barro Preto', 'ENDE...   \n",
       "61  frozenset({'CLASSIFICAÇÃO_AUTOMÓVEL', 'FAIXA_3'})   \n",
       "64  frozenset({'SENTIDO_Centro/Barro Preto', 'VELC...   \n",
       "64  frozenset({'SENTIDO_Centro/Barro Preto', 'VELC...   \n",
       "66  frozenset({'VELCOIDADE_velocidadeAlta', 'CLASS...   \n",
       "67  frozenset({'SENTIDO_Centro/Barro Preto', 'CLAS...   \n",
       "89                  frozenset({'CLASSIFICAÇÃO_MOTO'})   \n",
       "95  frozenset({'VELCOIDADE_velocidadeAlta', 'ENDER...   \n",
       "\n",
       "                                          consequents  antecedent support  \\\n",
       "2              frozenset({'CLASSIFICAÇÃO_AUTOMÓVEL'})            0.429657   \n",
       "9           frozenset({'SENTIDO_Centro/Barro Preto'})            0.429657   \n",
       "13          frozenset({'SENTIDO_Centro/Barro Preto'})            0.332006   \n",
       "23  frozenset({'SENTIDO_Centro/Barro Preto', 'VELC...            0.332006   \n",
       "36          frozenset({'SENTIDO_Centro/Barro Preto'})            0.318417   \n",
       "39  frozenset({'SENTIDO_Centro/Barro Preto', 'VELC...            0.330505   \n",
       "56             frozenset({'CLASSIFICAÇÃO_AUTOMÓVEL'})            0.330505   \n",
       "61  frozenset({'SENTIDO_Centro/Barro Preto', 'ENDE...            0.304165   \n",
       "64             frozenset({'CLASSIFICAÇÃO_AUTOMÓVEL'})            0.318417   \n",
       "64             frozenset({'CLASSIFICAÇÃO_AUTOMÓVEL'})            0.318417   \n",
       "66          frozenset({'SENTIDO_Centro/Barro Preto'})            0.297608   \n",
       "67  frozenset({'VELCOIDADE_velocidadeAlta', 'FAIXA...            0.332006   \n",
       "89           frozenset({'VELCOIDADE_velocidadeAlta'})            0.323768   \n",
       "95  frozenset({'SENTIDO_Praça da Estação / Rodoviá...            0.273753   \n",
       "\n",
       "    consequent support   support  confidence      lift  representativity  \\\n",
       "2             0.566884  0.326879    0.760790  1.342055               1.0   \n",
       "9             0.445195  0.429657    1.000000  2.246206               1.0   \n",
       "13            0.445195  0.332006    1.000000  2.246206               1.0   \n",
       "23            0.429657  0.326879    0.984558  2.291496               1.0   \n",
       "36            0.445195  0.318417    1.000000  2.246206               1.0   \n",
       "39            0.429657  0.318417    0.963425  2.242310               1.0   \n",
       "56            0.566884  0.261191    0.790278  1.394072               1.0   \n",
       "61            0.445195  0.261191    0.858715  1.928850               1.0   \n",
       "64            0.566884  0.256847    0.806638  1.422933               1.0   \n",
       "64            0.566884  0.256847    0.806638  1.422933               1.0   \n",
       "66            0.445195  0.256847    0.863038  1.938562               1.0   \n",
       "67            0.403862  0.256847    0.773623  1.915560               1.0   \n",
       "89            0.921192  0.309513    0.955972  1.037756               1.0   \n",
       "95            0.313633  0.273753    1.000000  3.188437               1.0   \n",
       "\n",
       "    leverage  conviction  zhangs_metric   jaccard  certainty  kulczynski  \n",
       "2   0.083313    1.810607       0.446879  0.488125   0.447699    0.668707  \n",
       "9   0.238376         inf       0.972757  0.965099   1.000000    0.982550  \n",
       "13  0.184198         inf       0.830553  0.745754   1.000000    0.872877  \n",
       "23  0.184230   36.934424       0.843726  0.751819   0.972925    0.872674  \n",
       "36  0.176659         inf       0.813994  0.715230   1.000000    0.857615  \n",
       "39  0.176413   15.593785       0.827536  0.720815   0.935872    0.852260  \n",
       "56  0.073833    2.065186       0.422224  0.410549   0.515782    0.625513  \n",
       "61  0.125778    3.926842       0.692055  0.535041   0.745342    0.722701  \n",
       "64  0.076342    2.239926       0.436082  0.408697   0.553557    0.629862  \n",
       "64  0.076342    2.239926       0.436082  0.408697   0.553557    0.629862  \n",
       "66  0.124354    4.050799       0.689293  0.528540   0.753135    0.719985  \n",
       "67  0.122763    2.633380       0.715514  0.536192   0.620260    0.704800  \n",
       "89  0.011261    1.789977       0.053802  0.330872   0.441333    0.645982  \n",
       "95  0.187895         inf       0.945087  0.872845   1.000000    0.936422  "
      ]
     },
     "metadata": {},
     "output_type": "display_data"
    }
   ],
   "source": [
    "import pandas as pd\n",
    "\n",
    "df = pd.read_csv(\"association_rules_conf75.csv\").drop(columns=[\"Unnamed: 0\"])\n",
    "df = df.iloc[[2, 9, 13, 23, 36, 39, 56, 61, 64, 64, 66, 67, 89, 95]]\n",
    "print(\"Regras de boa qualidade:\")\n",
    "display(df)"
   ]
  },
  {
   "cell_type": "markdown",
   "metadata": {},
   "source": [
    "- 2\tfrozenset({'VELCOIDADE_velocidadeAlta', 'ENDEREÇO_Av. do Contorno, oposto ao nº 10812'})\tfrozenset({'CLASSIFICAÇÃO_AUTOMÓVEL'})\t0.4296573672710922\t0.5668843394993642\t0.326878965006077\t0.7607898523472374\t1.342054806134031\t1.0\t0.0833129321495681\t1.8106073874815145\t0.4468786529788451\t0.4881247598527578\t0.4476991495152564\t0.6687067935421507\n",
    "\n",
    "- 9\tfrozenset({'VELCOIDADE_velocidadeAlta', 'ENDEREÇO_Av. do Contorno, oposto ao nº 10812'})\tfrozenset({'SENTIDO_Centro/Barro Preto'})\t0.4296573672710922\t0.4451950976190643\t0.4296573672710922\t1.0\t2.2462062258728195\t1.0\t0.2383760137060881\tinf\t0.9727571998718928\t0.9650990533564522\t1.0\t0.982549526678226\n",
    "\n",
    "- 13\tfrozenset({'CLASSIFICAÇÃO_AUTOMÓVEL', 'ENDEREÇO_Av. do Contorno, oposto ao nº 10812'})\tfrozenset({'SENTIDO_Centro/Barro Preto'})\t0.3320058100731353\t0.4451950976190643\t0.3320058100731353\t1.0\t2.2462062258728195\t1.0\t0.1841984510475293\tinf\t0.8305534849662067\t0.7457535176122254\t1.0\t0.8728767588061127\n",
    "\n",
    "- 23\tfrozenset({'CLASSIFICAÇÃO_AUTOMÓVEL', 'ENDEREÇO_Av. do Contorno, oposto ao nº 10812'})\tfrozenset({'SENTIDO_Centro/Barro Preto', 'VELCOIDADE_velocidadeAlta'})\t0.3320058100731353\t0.4296573672710922\t0.326878965006077\t0.9845579658201498\t2.2914955981633223\t1.0\t0.1842302227313474\t36.93442367023948\t0.8437255832438068\t0.7518188465220746\t0.972924987027596\t0.8726739090836936\n",
    "\n",
    "- 36\tfrozenset({'VELCOIDADE_velocidadeAlta', 'ENDEREÇO_Av. do Contorno, oposto ao nº 10812', 'FAIXA_3'})\tfrozenset({'SENTIDO_Centro/Barro Preto'})\t0.3184167726343447\t0.4451950976190643\t0.3184167726343447\t1.0\t2.2462062258728195\t1.0\t0.1766591864578502\tinf\t0.8139943591705997\t0.7152297371135952\t1.0\t0.8576148685567977\n",
    "\n",
    "- 39\tfrozenset({'ENDEREÇO_Av. do Contorno, oposto ao nº 10812', 'FAIXA_3'})\tfrozenset({'SENTIDO_Centro/Barro Preto', 'VELCOIDADE_velocidadeAlta'})\t0.3305049916045497\t0.4296573672710922\t0.3184167726343447\t0.9634250033213764\t2.2423099816498744\t1.0\t0.1764128680715794\t15.59378494932973\t0.8275361625722831\t0.7208148367563182\t0.9358718872134386\t0.852259822490683\n",
    "\n",
    "- 56\tfrozenset({'SENTIDO_Centro/Barro Preto', 'ENDEREÇO_Av. do Contorno, oposto ao nº 10812', 'FAIXA_3'})\tfrozenset({'CLASSIFICAÇÃO_AUTOMÓVEL'})\t0.3305049916045497\t0.5668843394993642\t0.2611907137186576\t0.7902776670652318\t1.3940721448808309\t1.0\t0.0738326098516695\t2.065186165153673\t0.4222242226024719\t0.4105490118669827\t0.5157821522954137\t0.6255127348026037\n",
    "\n",
    "- 61\tfrozenset({'CLASSIFICAÇÃO_AUTOMÓVEL', 'FAIXA_3'})\tfrozenset({'SENTIDO_Centro/Barro Preto', 'ENDEREÇO_Av. do Contorno, oposto ao nº 10812'})\t0.3041647053864366\t0.4451950976190643\t0.2611907137186576\t0.8587147328182565\t1.9288503791050824\t1.0\t0.125778078011869\t3.9268418671513534\t0.6920552513057459\t0.5350414834749698\t0.7453424319514479\t0.7227014700566352\n",
    "\n",
    "- 64\tfrozenset({'SENTIDO_Centro/Barro Preto', 'VELCOIDADE_velocidadeAlta', 'FAIXA_3'})\tfrozenset({'CLASSIFICAÇÃO_AUTOMÓVEL'})\t0.3184167726343447\t0.5668843394993642\t0.2568472098300536\t0.8066384433994788\t1.4229330168334688\t1.0\t0.0763417279897138\t2.239926426510099\t0.4360820785437995\t0.4086969766414953\t0.5535567650058745\t0.6298620911472219\n",
    "\n",
    "- 66\tfrozenset({'VELCOIDADE_velocidadeAlta', 'CLASSIFICAÇÃO_AUTOMÓVEL', 'FAIXA_3'})\tfrozenset({'SENTIDO_Centro/Barro Preto'})\t0.2976081748501816\t0.4451950976190643\t0.2568472098300536\t0.8630381539732657\t1.9385616746205343\t1.0\t0.1243535093753954\t4.050798952232581\t0.6892928051651762\t0.5285399845309778\t0.7531351193203865\t0.7199849778957972\n",
    "\n",
    "- 67\tfrozenset({'SENTIDO_Centro/Barro Preto', 'CLASSIFICAÇÃO_AUTOMÓVEL'})\tfrozenset({'VELCOIDADE_velocidadeAlta', 'FAIXA_3'})\t0.3320058100731353\t0.4038624340482931\t0.2568472098300536\t0.773622635620366\t1.9155597807541007\t1.0\t0.1227625352557418\t2.633379744416436\t0.715514289416129\t0.5361919236177441\t0.6202598572726538\t0.7047998061865743\n",
    "\n",
    "- 89\tfrozenset({'CLASSIFICAÇÃO_MOTO'})\tfrozenset({'VELCOIDADE_velocidadeAlta'})\t0.323767554921701\t0.9211916621586494\t0.3095128531182599\t0.9559724203776736\t1.0377562668527869\t1.0\t0.0112608810468963\t1.7899766127817534\t0.0538019080860279\t0.3308718330010026\t0.4413334828738753\t0.6459821147506364\n",
    "\n",
    "- 95\tfrozenset({'VELCOIDADE_velocidadeAlta', 'ENDEREÇO_Av. do Contorno, nº 629'})\tfrozenset({'SENTIDO_Praça da Estação / Rodoviária'})\t0.2737531526847877\t0.3136332979717435\t0.2737531526847877\t1.0\t3.1884369627426934\t1.0\t0.1878950485780955\tinf\t0.9450873412609162\t0.8728446706875216\t1.0\t0.9364223353437606\n"
   ]
  },
  {
   "cell_type": "markdown",
   "metadata": {},
   "source": [
    "A seguir pode-se observar algumas regras de associação não tão interessantes, apesar de fornecerem boas métricas de qualidade a associação que revelam não é muito interessante ou não acrescenta tanta informação. Muito disso se dá pelo fato de relacionarem endereços dos semáforos com o sentido da via que estão monitorando. O que em termos estatísticos tem boa correlação, mas é uma informação pouco rica sobre o mundo real."
   ]
  },
  {
   "cell_type": "code",
   "execution_count": null,
   "metadata": {},
   "outputs": [
    {
     "name": "stdout",
     "output_type": "stream",
     "text": [
      "Regras de boa qualidade:\n"
     ]
    },
    {
     "data": {
      "text/html": [
       "<div>\n",
       "<style scoped>\n",
       "    .dataframe tbody tr th:only-of-type {\n",
       "        vertical-align: middle;\n",
       "    }\n",
       "\n",
       "    .dataframe tbody tr th {\n",
       "        vertical-align: top;\n",
       "    }\n",
       "\n",
       "    .dataframe thead th {\n",
       "        text-align: right;\n",
       "    }\n",
       "</style>\n",
       "<table border=\"1\" class=\"dataframe\">\n",
       "  <thead>\n",
       "    <tr style=\"text-align: right;\">\n",
       "      <th></th>\n",
       "      <th>antecedents</th>\n",
       "      <th>consequents</th>\n",
       "      <th>antecedent support</th>\n",
       "      <th>consequent support</th>\n",
       "      <th>support</th>\n",
       "      <th>confidence</th>\n",
       "      <th>lift</th>\n",
       "      <th>representativity</th>\n",
       "      <th>leverage</th>\n",
       "      <th>conviction</th>\n",
       "      <th>zhangs_metric</th>\n",
       "      <th>jaccard</th>\n",
       "      <th>certainty</th>\n",
       "      <th>kulczynski</th>\n",
       "    </tr>\n",
       "  </thead>\n",
       "  <tbody>\n",
       "    <tr>\n",
       "      <th>5</th>\n",
       "      <td>frozenset({'ENDEREÇO_Av. do Contorno, oposto a...</td>\n",
       "      <td>frozenset({'SENTIDO_Centro/Barro Preto'})</td>\n",
       "      <td>0.445195</td>\n",
       "      <td>0.445195</td>\n",
       "      <td>0.445195</td>\n",
       "      <td>1.000000</td>\n",
       "      <td>2.246206</td>\n",
       "      <td>1.0</td>\n",
       "      <td>0.246996</td>\n",
       "      <td>inf</td>\n",
       "      <td>1.000000</td>\n",
       "      <td>1.000000</td>\n",
       "      <td>1.000000</td>\n",
       "      <td>1.000000</td>\n",
       "    </tr>\n",
       "    <tr>\n",
       "      <th>7</th>\n",
       "      <td>frozenset({'SENTIDO_Centro/Barro Preto', 'VELC...</td>\n",
       "      <td>frozenset({'ENDEREÇO_Av. do Contorno, oposto a...</td>\n",
       "      <td>0.429657</td>\n",
       "      <td>0.445195</td>\n",
       "      <td>0.429657</td>\n",
       "      <td>1.000000</td>\n",
       "      <td>2.246206</td>\n",
       "      <td>1.0</td>\n",
       "      <td>0.238376</td>\n",
       "      <td>inf</td>\n",
       "      <td>0.972757</td>\n",
       "      <td>0.965099</td>\n",
       "      <td>1.000000</td>\n",
       "      <td>0.982550</td>\n",
       "    </tr>\n",
       "    <tr>\n",
       "      <th>8</th>\n",
       "      <td>frozenset({'SENTIDO_Centro/Barro Preto', 'ENDE...</td>\n",
       "      <td>frozenset({'VELCOIDADE_velocidadeAlta'})</td>\n",
       "      <td>0.445195</td>\n",
       "      <td>0.921192</td>\n",
       "      <td>0.429657</td>\n",
       "      <td>0.965099</td>\n",
       "      <td>1.047664</td>\n",
       "      <td>1.0</td>\n",
       "      <td>0.019547</td>\n",
       "      <td>2.258057</td>\n",
       "      <td>0.082002</td>\n",
       "      <td>0.458678</td>\n",
       "      <td>0.557141</td>\n",
       "      <td>0.715757</td>\n",
       "    </tr>\n",
       "    <tr>\n",
       "      <th>30</th>\n",
       "      <td>frozenset({'ENDEREÇO_Av. do Contorno, oposto a...</td>\n",
       "      <td>frozenset({'SENTIDO_Centro/Barro Preto'})</td>\n",
       "      <td>0.330505</td>\n",
       "      <td>0.445195</td>\n",
       "      <td>0.330505</td>\n",
       "      <td>1.000000</td>\n",
       "      <td>2.246206</td>\n",
       "      <td>1.0</td>\n",
       "      <td>0.183366</td>\n",
       "      <td>inf</td>\n",
       "      <td>0.828692</td>\n",
       "      <td>0.742382</td>\n",
       "      <td>1.000000</td>\n",
       "      <td>0.871191</td>\n",
       "    </tr>\n",
       "    <tr>\n",
       "      <th>41</th>\n",
       "      <td>frozenset({'CLASSIFICAÇÃO_AUTOMÓVEL', 'ENDEREÇ...</td>\n",
       "      <td>frozenset({'FAIXA_3'})</td>\n",
       "      <td>0.332006</td>\n",
       "      <td>0.424710</td>\n",
       "      <td>0.261191</td>\n",
       "      <td>0.786705</td>\n",
       "      <td>1.852337</td>\n",
       "      <td>1.0</td>\n",
       "      <td>0.120185</td>\n",
       "      <td>2.697161</td>\n",
       "      <td>0.688840</td>\n",
       "      <td>0.527099</td>\n",
       "      <td>0.629240</td>\n",
       "      <td>0.700846</td>\n",
       "    </tr>\n",
       "    <tr>\n",
       "      <th>42</th>\n",
       "      <td>frozenset({'CLASSIFICAÇÃO_AUTOMÓVEL', 'FAIXA_3'})</td>\n",
       "      <td>frozenset({'ENDEREÇO_Av. do Contorno, oposto a...</td>\n",
       "      <td>0.304165</td>\n",
       "      <td>0.445195</td>\n",
       "      <td>0.261191</td>\n",
       "      <td>0.858715</td>\n",
       "      <td>1.928850</td>\n",
       "      <td>1.0</td>\n",
       "      <td>0.125778</td>\n",
       "      <td>3.926842</td>\n",
       "      <td>0.692055</td>\n",
       "      <td>0.535041</td>\n",
       "      <td>0.745342</td>\n",
       "      <td>0.722701</td>\n",
       "    </tr>\n",
       "    <tr>\n",
       "      <th>55</th>\n",
       "      <td>frozenset({'SENTIDO_Centro/Barro Preto', 'CLAS...</td>\n",
       "      <td>frozenset({'ENDEREÇO_Av. do Contorno, oposto a...</td>\n",
       "      <td>0.261191</td>\n",
       "      <td>0.445195</td>\n",
       "      <td>0.261191</td>\n",
       "      <td>1.000000</td>\n",
       "      <td>2.246206</td>\n",
       "      <td>1.0</td>\n",
       "      <td>0.144910</td>\n",
       "      <td>inf</td>\n",
       "      <td>0.750945</td>\n",
       "      <td>0.586688</td>\n",
       "      <td>1.000000</td>\n",
       "      <td>0.793344</td>\n",
       "    </tr>\n",
       "    <tr>\n",
       "      <th>56</th>\n",
       "      <td>frozenset({'SENTIDO_Centro/Barro Preto', 'ENDE...</td>\n",
       "      <td>frozenset({'CLASSIFICAÇÃO_AUTOMÓVEL'})</td>\n",
       "      <td>0.330505</td>\n",
       "      <td>0.566884</td>\n",
       "      <td>0.261191</td>\n",
       "      <td>0.790278</td>\n",
       "      <td>1.394072</td>\n",
       "      <td>1.0</td>\n",
       "      <td>0.073833</td>\n",
       "      <td>2.065186</td>\n",
       "      <td>0.422224</td>\n",
       "      <td>0.410549</td>\n",
       "      <td>0.515782</td>\n",
       "      <td>0.625513</td>\n",
       "    </tr>\n",
       "    <tr>\n",
       "      <th>57</th>\n",
       "      <td>frozenset({'CLASSIFICAÇÃO_AUTOMÓVEL', 'ENDEREÇ...</td>\n",
       "      <td>frozenset({'SENTIDO_Centro/Barro Preto'})</td>\n",
       "      <td>0.261191</td>\n",
       "      <td>0.445195</td>\n",
       "      <td>0.261191</td>\n",
       "      <td>1.000000</td>\n",
       "      <td>2.246206</td>\n",
       "      <td>1.0</td>\n",
       "      <td>0.144910</td>\n",
       "      <td>inf</td>\n",
       "      <td>0.750945</td>\n",
       "      <td>0.586688</td>\n",
       "      <td>1.000000</td>\n",
       "      <td>0.793344</td>\n",
       "    </tr>\n",
       "    <tr>\n",
       "      <th>62</th>\n",
       "      <td>frozenset({'ENDEREÇO_Av. do Contorno, oposto a...</td>\n",
       "      <td>frozenset({'SENTIDO_Centro/Barro Preto', 'CLAS...</td>\n",
       "      <td>0.330505</td>\n",
       "      <td>0.332006</td>\n",
       "      <td>0.261191</td>\n",
       "      <td>0.790278</td>\n",
       "      <td>2.380313</td>\n",
       "      <td>1.0</td>\n",
       "      <td>0.151461</td>\n",
       "      <td>3.185136</td>\n",
       "      <td>0.866156</td>\n",
       "      <td>0.650829</td>\n",
       "      <td>0.686042</td>\n",
       "      <td>0.788491</td>\n",
       "    </tr>\n",
       "    <tr>\n",
       "      <th>91</th>\n",
       "      <td>frozenset({'SENTIDO_Praça da Estação / Rodoviá...</td>\n",
       "      <td>frozenset({'ENDEREÇO_Av. do Contorno, nº 629'})</td>\n",
       "      <td>0.313633</td>\n",
       "      <td>0.313633</td>\n",
       "      <td>0.313633</td>\n",
       "      <td>1.000000</td>\n",
       "      <td>3.188437</td>\n",
       "      <td>1.0</td>\n",
       "      <td>0.215267</td>\n",
       "      <td>inf</td>\n",
       "      <td>1.000000</td>\n",
       "      <td>1.000000</td>\n",
       "      <td>1.000000</td>\n",
       "      <td>1.000000</td>\n",
       "    </tr>\n",
       "    <tr>\n",
       "      <th>96</th>\n",
       "      <td>frozenset({'SENTIDO_Praça da Estação / Rodoviá...</td>\n",
       "      <td>frozenset({'VELCOIDADE_velocidadeAlta'})</td>\n",
       "      <td>0.313633</td>\n",
       "      <td>0.921192</td>\n",
       "      <td>0.273753</td>\n",
       "      <td>0.872845</td>\n",
       "      <td>0.947517</td>\n",
       "      <td>1.0</td>\n",
       "      <td>-0.015163</td>\n",
       "      <td>0.619780</td>\n",
       "      <td>-0.074674</td>\n",
       "      <td>0.284842</td>\n",
       "      <td>-0.613476</td>\n",
       "      <td>0.585009</td>\n",
       "    </tr>\n",
       "  </tbody>\n",
       "</table>\n",
       "</div>"
      ],
      "text/plain": [
       "                                          antecedents  \\\n",
       "5   frozenset({'ENDEREÇO_Av. do Contorno, oposto a...   \n",
       "7   frozenset({'SENTIDO_Centro/Barro Preto', 'VELC...   \n",
       "8   frozenset({'SENTIDO_Centro/Barro Preto', 'ENDE...   \n",
       "30  frozenset({'ENDEREÇO_Av. do Contorno, oposto a...   \n",
       "41  frozenset({'CLASSIFICAÇÃO_AUTOMÓVEL', 'ENDEREÇ...   \n",
       "42  frozenset({'CLASSIFICAÇÃO_AUTOMÓVEL', 'FAIXA_3'})   \n",
       "55  frozenset({'SENTIDO_Centro/Barro Preto', 'CLAS...   \n",
       "56  frozenset({'SENTIDO_Centro/Barro Preto', 'ENDE...   \n",
       "57  frozenset({'CLASSIFICAÇÃO_AUTOMÓVEL', 'ENDEREÇ...   \n",
       "62  frozenset({'ENDEREÇO_Av. do Contorno, oposto a...   \n",
       "91  frozenset({'SENTIDO_Praça da Estação / Rodoviá...   \n",
       "96  frozenset({'SENTIDO_Praça da Estação / Rodoviá...   \n",
       "\n",
       "                                          consequents  antecedent support  \\\n",
       "5           frozenset({'SENTIDO_Centro/Barro Preto'})            0.445195   \n",
       "7   frozenset({'ENDEREÇO_Av. do Contorno, oposto a...            0.429657   \n",
       "8            frozenset({'VELCOIDADE_velocidadeAlta'})            0.445195   \n",
       "30          frozenset({'SENTIDO_Centro/Barro Preto'})            0.330505   \n",
       "41                             frozenset({'FAIXA_3'})            0.332006   \n",
       "42  frozenset({'ENDEREÇO_Av. do Contorno, oposto a...            0.304165   \n",
       "55  frozenset({'ENDEREÇO_Av. do Contorno, oposto a...            0.261191   \n",
       "56             frozenset({'CLASSIFICAÇÃO_AUTOMÓVEL'})            0.330505   \n",
       "57          frozenset({'SENTIDO_Centro/Barro Preto'})            0.261191   \n",
       "62  frozenset({'SENTIDO_Centro/Barro Preto', 'CLAS...            0.330505   \n",
       "91    frozenset({'ENDEREÇO_Av. do Contorno, nº 629'})            0.313633   \n",
       "96           frozenset({'VELCOIDADE_velocidadeAlta'})            0.313633   \n",
       "\n",
       "    consequent support   support  confidence      lift  representativity  \\\n",
       "5             0.445195  0.445195    1.000000  2.246206               1.0   \n",
       "7             0.445195  0.429657    1.000000  2.246206               1.0   \n",
       "8             0.921192  0.429657    0.965099  1.047664               1.0   \n",
       "30            0.445195  0.330505    1.000000  2.246206               1.0   \n",
       "41            0.424710  0.261191    0.786705  1.852337               1.0   \n",
       "42            0.445195  0.261191    0.858715  1.928850               1.0   \n",
       "55            0.445195  0.261191    1.000000  2.246206               1.0   \n",
       "56            0.566884  0.261191    0.790278  1.394072               1.0   \n",
       "57            0.445195  0.261191    1.000000  2.246206               1.0   \n",
       "62            0.332006  0.261191    0.790278  2.380313               1.0   \n",
       "91            0.313633  0.313633    1.000000  3.188437               1.0   \n",
       "96            0.921192  0.273753    0.872845  0.947517               1.0   \n",
       "\n",
       "    leverage  conviction  zhangs_metric   jaccard  certainty  kulczynski  \n",
       "5   0.246996         inf       1.000000  1.000000   1.000000    1.000000  \n",
       "7   0.238376         inf       0.972757  0.965099   1.000000    0.982550  \n",
       "8   0.019547    2.258057       0.082002  0.458678   0.557141    0.715757  \n",
       "30  0.183366         inf       0.828692  0.742382   1.000000    0.871191  \n",
       "41  0.120185    2.697161       0.688840  0.527099   0.629240    0.700846  \n",
       "42  0.125778    3.926842       0.692055  0.535041   0.745342    0.722701  \n",
       "55  0.144910         inf       0.750945  0.586688   1.000000    0.793344  \n",
       "56  0.073833    2.065186       0.422224  0.410549   0.515782    0.625513  \n",
       "57  0.144910         inf       0.750945  0.586688   1.000000    0.793344  \n",
       "62  0.151461    3.185136       0.866156  0.650829   0.686042    0.788491  \n",
       "91  0.215267         inf       1.000000  1.000000   1.000000    1.000000  \n",
       "96 -0.015163    0.619780      -0.074674  0.284842  -0.613476    0.585009  "
      ]
     },
     "metadata": {},
     "output_type": "display_data"
    }
   ],
   "source": [
    "import pandas as pd\n",
    "\n",
    "df = pd.read_csv(\"association_rules_conf75.csv\").drop(columns=[\"Unnamed: 0\"])\n",
    "df = df.iloc[[5, 7, 8, 30, 41, 42, 55, 62, 91, 96]]\n",
    "print(\"Regras de boa qualidade:\")\n",
    "display(df)"
   ]
  },
  {
   "cell_type": "markdown",
   "metadata": {},
   "source": [
    "- frozenset({'ENDEREÇO_Av. do Contorno, oposto ao nº 10812'})\tfrozenset({'SENTIDO_Centro/Barro Preto'})\t0.4451950976190643\t0.4451950976190643\t0.4451950976190643\t1.0\t2.2462062258728195\t1.0\t0.2469964226750161\tinf\t1.0000000000000002\t1.0\t1.0\t1.0\n",
    "\n",
    "- frozenset({'SENTIDO_Centro/Barro Preto', 'VELCOIDADE_velocidadeAlta'})\tfrozenset({'ENDEREÇO_Av. do Contorno, oposto ao nº 10812'})\t0.4296573672710922\t0.4451950976190643\t0.4296573672710922\t1.0\t2.2462062258728195\t1.0\t0.2383760137060881\tinf\t0.9727571998718928\t0.9650990533564522\t1.0\t0.982549526678226\n",
    "\n",
    "- frozenset({'SENTIDO_Centro/Barro Preto', 'ENDEREÇO_Av. do Contorno, oposto ao nº 10812'})\tfrozenset({'VELCOIDADE_velocidadeAlta'})\t0.4451950976190643\t0.9211916621586494\t0.4296573672710922\t0.965099053356452\t1.0476636871581246\t1.0\t0.0195473553105041\t2.2580573142109803\t0.0820021906004585\t0.4586782166847136\t0.5571414446805465\t0.7157568954163811\n",
    "\n",
    "- frozenset({'ENDEREÇO_Av. do Contorno, oposto ao nº 10812', 'FAIXA_3'})\tfrozenset({'SENTIDO_Centro/Barro Preto'})\t0.3305049916045497\t0.4451950976190643\t0.3305049916045497\t1.0\t2.2462062258728195\t1.0\t0.1833657896035741\tinf\t0.8286916189421824\t0.7423823698241835\t1.0\t0.8711911849120917\n",
    "\n",
    "- frozenset({'CLASSIFICAÇÃO_AUTOMÓVEL', 'ENDEREÇO_Av. do Contorno, oposto ao nº 10812'})\tfrozenset({'FAIXA_3'})\t0.3320058100731353\t0.4247096719802724\t0.2611907137186576\t0.7867052497097015\t1.8523365527362972\t1.0\t0.1201846350269516\t2.6971612158140115\t0.6888402754583336\t0.5270992095842344\t0.6292398117929346\t0.7008458737144974\n",
    "\n",
    "- frozenset({'CLASSIFICAÇÃO_AUTOMÓVEL', 'FAIXA_3'})\tfrozenset({'ENDEREÇO_Av. do Contorno, oposto ao nº 10812'})\t0.3041647053864366\t0.4451950976190643\t0.2611907137186576\t0.8587147328182565\t1.9288503791050824\t1.0\t0.125778078011869\t3.9268418671513534\t0.6920552513057459\t0.5350414834749698\t0.7453424319514479\t0.7227014700566352\n",
    "\n",
    "- frozenset({'SENTIDO_Centro/Barro Preto', 'CLASSIFICAÇÃO_AUTOMÓVEL', 'FAIXA_3'})\tfrozenset({'ENDEREÇO_Av. do Contorno, oposto ao nº 10812'})\t0.2611907137186576\t0.4451950976190643\t0.2611907137186576\t1.0\t2.2462062258728195\t1.0\t0.1449098884274867\tinf\t0.7509446790706189\t0.5866882072950139\t1.0\t0.793344103647507\n",
    "\n",
    "- frozenset({'ENDEREÇO_Av. do Contorno, oposto ao nº 10812', 'FAIXA_3'})\tfrozenset({'SENTIDO_Centro/Barro Preto', 'CLASSIFICAÇÃO_AUTOMÓVEL'})\t0.3305049916045497\t0.3320058100731353\t0.2611907137186576\t0.7902776670652318\t2.380312762873478\t1.0\t0.1514611362477743\t3.185136177817729\t0.8661560336981305\t0.6508289057918369\t0.686041681054547\t0.7884914583874667\n",
    "\n",
    "- frozenset({'SENTIDO_Praça da Estação / Rodoviária'})\tfrozenset({'ENDEREÇO_Av. do Contorno, nº 629'})\t0.3136332979717435\t0.3136332979717435\t0.3136332979717435\t1.0\t3.1884369627426934\t1.0\t0.215267452375111\tinf\t1.0000000000000002\t1.0\t1.0\t1.0\n",
    "\n",
    "- frozenset({'SENTIDO_Praça da Estação / Rodoviária', 'ENDEREÇO_Av. do Contorno, nº 629'})\tfrozenset({'VELCOIDADE_velocidadeAlta'})\t0.3136332979717435\t0.9211916621586494\t0.2737531526847877\t0.8728446706875214\t0.9475169028800852\t1.0\t-0.0151632263821016\t0.6197800616573649\t-0.0746742598156805\t0.2848415181508502\t-0.6134755889466372\t0.5850087609108874"
   ]
  },
  {
   "cell_type": "markdown",
   "metadata": {},
   "source": [
    "Como visto na disciplina, uma métrica única não consegue descrever, em completude, a qualidade de uma regra de associação. É necessário, portanto, utilizar de algumas delas, cada qual fornecendo um determinado tipo de informação, cruzando-as é possível entender as características das regras e avaliar quais podem ser uteis.\n",
    "Outro ponto essencial é o discernimento humano e conhecimento de um especialista, isso pode ser indispensável para certos projetos, afinal algumas regras podem retornar informação redundantes, nada surpreendentes ou mesmo incoerentes com a realidade."
   ]
  },
  {
   "cell_type": "markdown",
   "metadata": {},
   "source": [
    "Algo que vale ressaltar é o fato de que nenhuma regra estabelece qualquer relação com os horários em que as infrações ocorreram. Não pelo fato deles não serem itemsets infrequentes, mas foram eliminados pelo limiar de `Confiança` mínima de 75%. Foi então gerado outro dataframe, mas dessa vez usando o `Lift` como métrica e um limiar de `1.0`; isso foi feito com o objetivo de encontrar qualquer correlação minimamente surpreendente. \n",
    "\n",
    "O `Lift` tem a virtude de retorna se a ocorrência do antecedente o consequente juntos é maior que a ocorrência deles separadamente, ou seja uma razão entre a probabilidade conjunta deles e o produto das probabilidade individuas; se o `Lift` for menor que `1.0` então existe uma correlação negativa entre o antecedente e o consequente, se for igual a `1.0` não existe qualquer correlação, e se for bem maior que `1.0` então há uma regra interessante, pois existem uma correlação forte entre eles.\n",
    "\n",
    "Contudo, mesmo assim, não foi retornada qualquer regra de associação para os dados de infração de trânsito que constate qualquer correlação positiva desses eventos com os horários. Pode-se concluir que, muito provavelmente, uma infração de trânsito de Belo Horizonte pode ocorrer em qualquer horário, pois não há correlações positivas entre os horários que as infrações ocorreram com outros atributos frequentes minerados, considerando um `minsup=0.25`"
   ]
  },
  {
   "cell_type": "markdown",
   "metadata": {},
   "source": [
    "Concluindo, usando os algoritmos de minerações de padrões frequentes, foi possível constatar os perfis comuns das infrações de trânsito na Av.Contorno em Belo Horizonte. Em certos locais e em determinados sentidos é comum observar esses eventos mais do que outros. A maioria dos casos são causados por automóveis utilizando a pista de velocidade mais alta. Portanto, é possível tomar medidas que podem conscientizar os motoristas que circulam por essas vias, medidas essas que quando focadas em um determinado público podem ser mais eficientes. Por fim, o algoritmos conseguiu atingir seu objetivo e forneceu novas informações sobre usuários que comentem infrações na via. Inegavelmente, os algoritmos retornaram associações pouco valiosas ou que não adicionam nenhuma informação nova, como nos casos onde se associa sentidos de uma via com o endereço onde o radar foi instalado. interpretando os resultados pode-se obter informações além daquelas citas pelas regras, como por exemplo, a ausência de correlação entre horários e infrações de trânsito.\n",
    "\n",
    "Nesse caso, como foram filtradas apenas as infrações, foi possível carregar a base de dados do ano inteiro de 2022. Em casos deseja-se minerar padrões em todas as amostras, os recursos de hardware foram insuficientes e o processo de mineração foi extremamente lento, sendo quase inviável.\n",
    "\n",
    "Fazendo o uso das métricas de qualidade vistas nas aulas e analisando os resultados usando a semântica do que cada uma significa, pode-se distinguir bem as regras fortes, robustas e ricas retornadas pelos algoritmos."
   ]
  },
  {
   "cell_type": "code",
   "execution_count": 1,
   "metadata": {},
   "outputs": [
    {
     "data": {
      "application/vnd.plotly.v1+json": {
       "config": {
        "plotlyServerURL": "https://plot.ly"
       },
       "data": [
        {
         "hovertemplate": "support=%{x}<br>confidence=%{y}<br>index=%{text}<extra></extra>",
         "legendgroup": "",
         "marker": {
          "color": "#636efa",
          "symbol": "circle"
         },
         "mode": "markers+text",
         "name": "",
         "orientation": "v",
         "showlegend": false,
         "text": [
          0,
          1,
          2,
          3,
          4,
          5,
          6,
          7,
          8,
          9,
          10,
          11,
          12,
          13,
          14,
          15,
          16,
          17,
          18,
          19,
          20,
          21,
          22,
          23,
          24,
          25,
          26,
          27,
          28,
          29,
          30,
          31,
          32,
          33,
          34,
          35,
          36,
          37,
          38,
          39,
          40,
          41,
          42,
          43,
          44,
          45,
          46,
          47,
          48,
          49,
          50,
          51,
          52,
          53,
          54,
          55,
          56,
          57,
          58,
          59,
          60,
          61,
          62,
          63,
          64,
          65,
          66,
          67,
          68,
          69,
          70,
          71,
          72,
          73,
          74,
          75,
          76,
          77,
          78,
          79,
          80,
          81,
          82,
          83,
          84,
          85,
          86,
          87,
          88,
          89,
          90,
          91,
          92,
          93,
          94,
          95,
          96,
          97,
          98
         ],
         "textposition": "top center",
         "type": "scatter",
         "x": [
          0.5483098448071154,
          0.4296573672710922,
          0.326878965006077,
          0.326878965006077,
          0.4451950976190643,
          0.4451950976190643,
          0.4296573672710922,
          0.4296573672710922,
          0.4296573672710922,
          0.4296573672710922,
          0.4296573672710922,
          0.4296573672710922,
          0.3320058100731353,
          0.3320058100731353,
          0.326878965006077,
          0.326878965006077,
          0.326878965006077,
          0.326878965006077,
          0.326878965006077,
          0.326878965006077,
          0.326878965006077,
          0.326878965006077,
          0.326878965006077,
          0.326878965006077,
          0.4038624340482931,
          0.3305049916045497,
          0.3305049916045497,
          0.3184167726343447,
          0.3184167726343447,
          0.3305049916045497,
          0.3305049916045497,
          0.3305049916045497,
          0.3184167726343447,
          0.3184167726343447,
          0.3184167726343447,
          0.3184167726343447,
          0.3184167726343447,
          0.3184167726343447,
          0.3184167726343447,
          0.3184167726343447,
          0.2976081748501816,
          0.2611907137186576,
          0.2611907137186576,
          0.2611907137186576,
          0.2611907137186576,
          0.2611907137186576,
          0.2611907137186576,
          0.2568472098300536,
          0.2568472098300536,
          0.2568472098300536,
          0.2568472098300536,
          0.2568472098300536,
          0.2568472098300536,
          0.2568472098300536,
          0.2611907137186576,
          0.2611907137186576,
          0.2611907137186576,
          0.2611907137186576,
          0.2611907137186576,
          0.2611907137186576,
          0.2611907137186576,
          0.2611907137186576,
          0.2611907137186576,
          0.2568472098300536,
          0.2568472098300536,
          0.2568472098300536,
          0.2568472098300536,
          0.2568472098300536,
          0.2568472098300536,
          0.2568472098300536,
          0.2568472098300536,
          0.2568472098300536,
          0.2568472098300536,
          0.2568472098300536,
          0.2568472098300536,
          0.2568472098300536,
          0.2568472098300536,
          0.2568472098300536,
          0.2568472098300536,
          0.2568472098300536,
          0.2568472098300536,
          0.2568472098300536,
          0.2568472098300536,
          0.2568472098300536,
          0.2568472098300536,
          0.2568472098300536,
          0.2568472098300536,
          0.2568472098300536,
          0.2568472098300536,
          0.3095128531182599,
          0.2737531526847877,
          0.3136332979717435,
          0.3136332979717435,
          0.2737531526847877,
          0.2737531526847877,
          0.2737531526847877,
          0.2737531526847877,
          0.2737531526847877,
          0.2737531526847877
         ],
         "xaxis": "x",
         "y": [
          0.9672340662847512,
          0.965099053356452,
          0.7607898523472374,
          0.9845579658201498,
          1,
          1,
          0.965099053356452,
          1,
          0.965099053356452,
          1,
          0.965099053356452,
          0.965099053356452,
          1,
          1,
          0.7607898523472374,
          0.9845579658201498,
          1,
          0.7607898523472374,
          0.9845579658201498,
          1,
          0.7607898523472374,
          0.9845579658201498,
          0.7607898523472374,
          0.9845579658201498,
          0.9509141436907336,
          0.7781904049030028,
          0.7781904049030028,
          0.9634250033213764,
          0.7884287960198573,
          1,
          1,
          0.7781904049030028,
          0.7884287960198573,
          0.9634250033213764,
          1,
          0.9634250033213764,
          1,
          0.9634250033213764,
          0.7884287960198573,
          0.9634250033213764,
          0.9784441441753572,
          0.7867052497097015,
          0.8587147328182565,
          0.7902776670652318,
          0.7867052497097015,
          0.7902776670652318,
          0.8587147328182565,
          0.7857563114386346,
          0.8630381539732657,
          0.8066384433994788,
          0.9833703739816624,
          0.773622635620366,
          0.8444346279550521,
          0.7771356450112926,
          0.7867052497097015,
          1,
          0.7902776670652318,
          1,
          0.7867052497097015,
          0.7902776670652318,
          0.7867052497097015,
          0.8587147328182565,
          0.7902776670652318,
          0.7857563114386346,
          0.8066384433994788,
          0.9833703739816624,
          0.8630381539732657,
          0.773622635620366,
          0.7771356450112926,
          0.8444346279550521,
          0.8066384433994788,
          0.7857563114386346,
          1,
          1,
          0.9833703739816624,
          0.8066384433994788,
          0.7857563114386346,
          0.8066384433994788,
          0.7857563114386346,
          0.8630381539732657,
          0.7771356450112926,
          0.773622635620366,
          0.9833703739816624,
          0.9833703739816624,
          0.7771356450112926,
          0.773622635620366,
          0.7771356450112926,
          0.773622635620366,
          0.8444346279550521,
          0.9559724203776736,
          0.8728446706875214,
          1,
          1,
          0.8728446706875214,
          1,
          1,
          0.8728446706875214,
          0.8728446706875214,
          0.8728446706875214
         ],
         "yaxis": "y"
        }
       ],
       "layout": {
        "height": 800,
        "legend": {
         "tracegroupgap": 0
        },
        "margin": {
         "t": 60
        },
        "template": {
         "data": {
          "bar": [
           {
            "error_x": {
             "color": "#2a3f5f"
            },
            "error_y": {
             "color": "#2a3f5f"
            },
            "marker": {
             "line": {
              "color": "#E5ECF6",
              "width": 0.5
             },
             "pattern": {
              "fillmode": "overlay",
              "size": 10,
              "solidity": 0.2
             }
            },
            "type": "bar"
           }
          ],
          "barpolar": [
           {
            "marker": {
             "line": {
              "color": "#E5ECF6",
              "width": 0.5
             },
             "pattern": {
              "fillmode": "overlay",
              "size": 10,
              "solidity": 0.2
             }
            },
            "type": "barpolar"
           }
          ],
          "carpet": [
           {
            "aaxis": {
             "endlinecolor": "#2a3f5f",
             "gridcolor": "white",
             "linecolor": "white",
             "minorgridcolor": "white",
             "startlinecolor": "#2a3f5f"
            },
            "baxis": {
             "endlinecolor": "#2a3f5f",
             "gridcolor": "white",
             "linecolor": "white",
             "minorgridcolor": "white",
             "startlinecolor": "#2a3f5f"
            },
            "type": "carpet"
           }
          ],
          "choropleth": [
           {
            "colorbar": {
             "outlinewidth": 0,
             "ticks": ""
            },
            "type": "choropleth"
           }
          ],
          "contour": [
           {
            "colorbar": {
             "outlinewidth": 0,
             "ticks": ""
            },
            "colorscale": [
             [
              0,
              "#0d0887"
             ],
             [
              0.1111111111111111,
              "#46039f"
             ],
             [
              0.2222222222222222,
              "#7201a8"
             ],
             [
              0.3333333333333333,
              "#9c179e"
             ],
             [
              0.4444444444444444,
              "#bd3786"
             ],
             [
              0.5555555555555556,
              "#d8576b"
             ],
             [
              0.6666666666666666,
              "#ed7953"
             ],
             [
              0.7777777777777778,
              "#fb9f3a"
             ],
             [
              0.8888888888888888,
              "#fdca26"
             ],
             [
              1,
              "#f0f921"
             ]
            ],
            "type": "contour"
           }
          ],
          "contourcarpet": [
           {
            "colorbar": {
             "outlinewidth": 0,
             "ticks": ""
            },
            "type": "contourcarpet"
           }
          ],
          "heatmap": [
           {
            "colorbar": {
             "outlinewidth": 0,
             "ticks": ""
            },
            "colorscale": [
             [
              0,
              "#0d0887"
             ],
             [
              0.1111111111111111,
              "#46039f"
             ],
             [
              0.2222222222222222,
              "#7201a8"
             ],
             [
              0.3333333333333333,
              "#9c179e"
             ],
             [
              0.4444444444444444,
              "#bd3786"
             ],
             [
              0.5555555555555556,
              "#d8576b"
             ],
             [
              0.6666666666666666,
              "#ed7953"
             ],
             [
              0.7777777777777778,
              "#fb9f3a"
             ],
             [
              0.8888888888888888,
              "#fdca26"
             ],
             [
              1,
              "#f0f921"
             ]
            ],
            "type": "heatmap"
           }
          ],
          "heatmapgl": [
           {
            "colorbar": {
             "outlinewidth": 0,
             "ticks": ""
            },
            "colorscale": [
             [
              0,
              "#0d0887"
             ],
             [
              0.1111111111111111,
              "#46039f"
             ],
             [
              0.2222222222222222,
              "#7201a8"
             ],
             [
              0.3333333333333333,
              "#9c179e"
             ],
             [
              0.4444444444444444,
              "#bd3786"
             ],
             [
              0.5555555555555556,
              "#d8576b"
             ],
             [
              0.6666666666666666,
              "#ed7953"
             ],
             [
              0.7777777777777778,
              "#fb9f3a"
             ],
             [
              0.8888888888888888,
              "#fdca26"
             ],
             [
              1,
              "#f0f921"
             ]
            ],
            "type": "heatmapgl"
           }
          ],
          "histogram": [
           {
            "marker": {
             "pattern": {
              "fillmode": "overlay",
              "size": 10,
              "solidity": 0.2
             }
            },
            "type": "histogram"
           }
          ],
          "histogram2d": [
           {
            "colorbar": {
             "outlinewidth": 0,
             "ticks": ""
            },
            "colorscale": [
             [
              0,
              "#0d0887"
             ],
             [
              0.1111111111111111,
              "#46039f"
             ],
             [
              0.2222222222222222,
              "#7201a8"
             ],
             [
              0.3333333333333333,
              "#9c179e"
             ],
             [
              0.4444444444444444,
              "#bd3786"
             ],
             [
              0.5555555555555556,
              "#d8576b"
             ],
             [
              0.6666666666666666,
              "#ed7953"
             ],
             [
              0.7777777777777778,
              "#fb9f3a"
             ],
             [
              0.8888888888888888,
              "#fdca26"
             ],
             [
              1,
              "#f0f921"
             ]
            ],
            "type": "histogram2d"
           }
          ],
          "histogram2dcontour": [
           {
            "colorbar": {
             "outlinewidth": 0,
             "ticks": ""
            },
            "colorscale": [
             [
              0,
              "#0d0887"
             ],
             [
              0.1111111111111111,
              "#46039f"
             ],
             [
              0.2222222222222222,
              "#7201a8"
             ],
             [
              0.3333333333333333,
              "#9c179e"
             ],
             [
              0.4444444444444444,
              "#bd3786"
             ],
             [
              0.5555555555555556,
              "#d8576b"
             ],
             [
              0.6666666666666666,
              "#ed7953"
             ],
             [
              0.7777777777777778,
              "#fb9f3a"
             ],
             [
              0.8888888888888888,
              "#fdca26"
             ],
             [
              1,
              "#f0f921"
             ]
            ],
            "type": "histogram2dcontour"
           }
          ],
          "mesh3d": [
           {
            "colorbar": {
             "outlinewidth": 0,
             "ticks": ""
            },
            "type": "mesh3d"
           }
          ],
          "parcoords": [
           {
            "line": {
             "colorbar": {
              "outlinewidth": 0,
              "ticks": ""
             }
            },
            "type": "parcoords"
           }
          ],
          "pie": [
           {
            "automargin": true,
            "type": "pie"
           }
          ],
          "scatter": [
           {
            "fillpattern": {
             "fillmode": "overlay",
             "size": 10,
             "solidity": 0.2
            },
            "type": "scatter"
           }
          ],
          "scatter3d": [
           {
            "line": {
             "colorbar": {
              "outlinewidth": 0,
              "ticks": ""
             }
            },
            "marker": {
             "colorbar": {
              "outlinewidth": 0,
              "ticks": ""
             }
            },
            "type": "scatter3d"
           }
          ],
          "scattercarpet": [
           {
            "marker": {
             "colorbar": {
              "outlinewidth": 0,
              "ticks": ""
             }
            },
            "type": "scattercarpet"
           }
          ],
          "scattergeo": [
           {
            "marker": {
             "colorbar": {
              "outlinewidth": 0,
              "ticks": ""
             }
            },
            "type": "scattergeo"
           }
          ],
          "scattergl": [
           {
            "marker": {
             "colorbar": {
              "outlinewidth": 0,
              "ticks": ""
             }
            },
            "type": "scattergl"
           }
          ],
          "scattermapbox": [
           {
            "marker": {
             "colorbar": {
              "outlinewidth": 0,
              "ticks": ""
             }
            },
            "type": "scattermapbox"
           }
          ],
          "scatterpolar": [
           {
            "marker": {
             "colorbar": {
              "outlinewidth": 0,
              "ticks": ""
             }
            },
            "type": "scatterpolar"
           }
          ],
          "scatterpolargl": [
           {
            "marker": {
             "colorbar": {
              "outlinewidth": 0,
              "ticks": ""
             }
            },
            "type": "scatterpolargl"
           }
          ],
          "scatterternary": [
           {
            "marker": {
             "colorbar": {
              "outlinewidth": 0,
              "ticks": ""
             }
            },
            "type": "scatterternary"
           }
          ],
          "surface": [
           {
            "colorbar": {
             "outlinewidth": 0,
             "ticks": ""
            },
            "colorscale": [
             [
              0,
              "#0d0887"
             ],
             [
              0.1111111111111111,
              "#46039f"
             ],
             [
              0.2222222222222222,
              "#7201a8"
             ],
             [
              0.3333333333333333,
              "#9c179e"
             ],
             [
              0.4444444444444444,
              "#bd3786"
             ],
             [
              0.5555555555555556,
              "#d8576b"
             ],
             [
              0.6666666666666666,
              "#ed7953"
             ],
             [
              0.7777777777777778,
              "#fb9f3a"
             ],
             [
              0.8888888888888888,
              "#fdca26"
             ],
             [
              1,
              "#f0f921"
             ]
            ],
            "type": "surface"
           }
          ],
          "table": [
           {
            "cells": {
             "fill": {
              "color": "#EBF0F8"
             },
             "line": {
              "color": "white"
             }
            },
            "header": {
             "fill": {
              "color": "#C8D4E3"
             },
             "line": {
              "color": "white"
             }
            },
            "type": "table"
           }
          ]
         },
         "layout": {
          "annotationdefaults": {
           "arrowcolor": "#2a3f5f",
           "arrowhead": 0,
           "arrowwidth": 1
          },
          "autotypenumbers": "strict",
          "coloraxis": {
           "colorbar": {
            "outlinewidth": 0,
            "ticks": ""
           }
          },
          "colorscale": {
           "diverging": [
            [
             0,
             "#8e0152"
            ],
            [
             0.1,
             "#c51b7d"
            ],
            [
             0.2,
             "#de77ae"
            ],
            [
             0.3,
             "#f1b6da"
            ],
            [
             0.4,
             "#fde0ef"
            ],
            [
             0.5,
             "#f7f7f7"
            ],
            [
             0.6,
             "#e6f5d0"
            ],
            [
             0.7,
             "#b8e186"
            ],
            [
             0.8,
             "#7fbc41"
            ],
            [
             0.9,
             "#4d9221"
            ],
            [
             1,
             "#276419"
            ]
           ],
           "sequential": [
            [
             0,
             "#0d0887"
            ],
            [
             0.1111111111111111,
             "#46039f"
            ],
            [
             0.2222222222222222,
             "#7201a8"
            ],
            [
             0.3333333333333333,
             "#9c179e"
            ],
            [
             0.4444444444444444,
             "#bd3786"
            ],
            [
             0.5555555555555556,
             "#d8576b"
            ],
            [
             0.6666666666666666,
             "#ed7953"
            ],
            [
             0.7777777777777778,
             "#fb9f3a"
            ],
            [
             0.8888888888888888,
             "#fdca26"
            ],
            [
             1,
             "#f0f921"
            ]
           ],
           "sequentialminus": [
            [
             0,
             "#0d0887"
            ],
            [
             0.1111111111111111,
             "#46039f"
            ],
            [
             0.2222222222222222,
             "#7201a8"
            ],
            [
             0.3333333333333333,
             "#9c179e"
            ],
            [
             0.4444444444444444,
             "#bd3786"
            ],
            [
             0.5555555555555556,
             "#d8576b"
            ],
            [
             0.6666666666666666,
             "#ed7953"
            ],
            [
             0.7777777777777778,
             "#fb9f3a"
            ],
            [
             0.8888888888888888,
             "#fdca26"
            ],
            [
             1,
             "#f0f921"
            ]
           ]
          },
          "colorway": [
           "#636efa",
           "#EF553B",
           "#00cc96",
           "#ab63fa",
           "#FFA15A",
           "#19d3f3",
           "#FF6692",
           "#B6E880",
           "#FF97FF",
           "#FECB52"
          ],
          "font": {
           "color": "#2a3f5f"
          },
          "geo": {
           "bgcolor": "white",
           "lakecolor": "white",
           "landcolor": "#E5ECF6",
           "showlakes": true,
           "showland": true,
           "subunitcolor": "white"
          },
          "hoverlabel": {
           "align": "left"
          },
          "hovermode": "closest",
          "mapbox": {
           "style": "light"
          },
          "paper_bgcolor": "white",
          "plot_bgcolor": "#E5ECF6",
          "polar": {
           "angularaxis": {
            "gridcolor": "white",
            "linecolor": "white",
            "ticks": ""
           },
           "bgcolor": "#E5ECF6",
           "radialaxis": {
            "gridcolor": "white",
            "linecolor": "white",
            "ticks": ""
           }
          },
          "scene": {
           "xaxis": {
            "backgroundcolor": "#E5ECF6",
            "gridcolor": "white",
            "gridwidth": 2,
            "linecolor": "white",
            "showbackground": true,
            "ticks": "",
            "zerolinecolor": "white"
           },
           "yaxis": {
            "backgroundcolor": "#E5ECF6",
            "gridcolor": "white",
            "gridwidth": 2,
            "linecolor": "white",
            "showbackground": true,
            "ticks": "",
            "zerolinecolor": "white"
           },
           "zaxis": {
            "backgroundcolor": "#E5ECF6",
            "gridcolor": "white",
            "gridwidth": 2,
            "linecolor": "white",
            "showbackground": true,
            "ticks": "",
            "zerolinecolor": "white"
           }
          },
          "shapedefaults": {
           "line": {
            "color": "#2a3f5f"
           }
          },
          "ternary": {
           "aaxis": {
            "gridcolor": "white",
            "linecolor": "white",
            "ticks": ""
           },
           "baxis": {
            "gridcolor": "white",
            "linecolor": "white",
            "ticks": ""
           },
           "bgcolor": "#E5ECF6",
           "caxis": {
            "gridcolor": "white",
            "linecolor": "white",
            "ticks": ""
           }
          },
          "title": {
           "x": 0.05
          },
          "xaxis": {
           "automargin": true,
           "gridcolor": "white",
           "linecolor": "white",
           "ticks": "",
           "title": {
            "standoff": 15
           },
           "zerolinecolor": "white",
           "zerolinewidth": 2
          },
          "yaxis": {
           "automargin": true,
           "gridcolor": "white",
           "linecolor": "white",
           "ticks": "",
           "title": {
            "standoff": 15
           },
           "zerolinecolor": "white",
           "zerolinewidth": 2
          }
         }
        },
        "title": {
         "text": "Support x Confidence"
        },
        "xaxis": {
         "anchor": "y",
         "domain": [
          0,
          1
         ],
         "title": {
          "text": "support"
         },
         "type": "log"
        },
        "yaxis": {
         "anchor": "x",
         "domain": [
          0,
          1
         ],
         "title": {
          "text": "confidence"
         }
        }
       }
      }
     },
     "metadata": {},
     "output_type": "display_data"
    }
   ],
   "source": [
    "import pandas as pd\n",
    "import plotly.express as px\n",
    "\n",
    "df = pd.read_csv(\"association_rules_conf75.csv\").drop(columns=[\"Unnamed: 0\"])\n",
    "\n",
    "fig = px.scatter(df, x=\"support\", y=\"confidence\", text=df.index, log_x=True, size_max=60)\n",
    "\n",
    "fig.update_traces(textposition='top center')\n",
    "\n",
    "fig.update_layout(\n",
    "    height=800,\n",
    "    title_text='Support x Confidence'\n",
    ")\n",
    "\n",
    "fig.show()"
   ]
  },
  {
   "attachments": {
    "image.png": {
     "image/png": "[encoded data removed]"
    }
   },
   "cell_type": "markdown",
   "metadata": {},
   "source": [
    "![image.png](attachment:image.png)"
   ]
  },
  {
   "cell_type": "code",
   "execution_count": 2,
   "metadata": {},
   "outputs": [
    {
     "data": {
      "application/vnd.plotly.v1+json": {
       "config": {
        "plotlyServerURL": "https://plot.ly"
       },
       "data": [
        {
         "hovertemplate": "lift=%{x}<br>conviction=%{y}<br>index=%{text}<extra></extra>",
         "legendgroup": "",
         "marker": {
          "color": "#636efa",
          "symbol": "circle"
         },
         "mode": "markers+text",
         "name": "",
         "orientation": "v",
         "showlegend": false,
         "text": [
          0,
          1,
          2,
          3,
          4,
          5,
          6,
          7,
          8,
          9,
          10,
          11,
          12,
          13,
          14,
          15,
          16,
          17,
          18,
          19,
          20,
          21,
          22,
          23,
          24,
          25,
          26,
          27,
          28,
          29,
          30,
          31,
          32,
          33,
          34,
          35,
          36,
          37,
          38,
          39,
          40,
          41,
          42,
          43,
          44,
          45,
          46,
          47,
          48,
          49,
          50,
          51,
          52,
          53,
          54,
          55,
          56,
          57,
          58,
          59,
          60,
          61,
          62,
          63,
          64,
          65,
          66,
          67,
          68,
          69,
          70,
          71,
          72,
          73,
          74,
          75,
          76,
          77,
          78,
          79,
          80,
          81,
          82,
          83,
          84,
          85,
          86,
          87,
          88,
          89,
          90,
          91,
          92,
          93,
          94,
          95,
          96,
          97,
          98
         ],
         "textposition": "top center",
         "type": "scatter",
         "x": [
          1.0499813513489793,
          1.0476636871581246,
          1.342054806134031,
          1.068787317845466,
          2.2462062258728195,
          2.2462062258728195,
          1.0476636871581246,
          2.2462062258728195,
          1.0476636871581246,
          2.2462062258728195,
          2.2462062258728195,
          2.2462062258728195,
          2.2462062258728195,
          2.2462062258728195,
          1.342054806134031,
          1.068787317845466,
          2.2462062258728195,
          1.342054806134031,
          1.068787317845466,
          2.2462062258728195,
          2.291495598163322,
          2.2914955981633223,
          2.291495598163322,
          2.2914955981633223,
          1.0322652524475036,
          1.7479761324076153,
          1.7479761324076153,
          1.045846421431736,
          1.7709736702772148,
          2.2462062258728195,
          2.2462062258728195,
          1.7479761324076153,
          1.7709736702772148,
          1.045846421431736,
          2.2462062258728195,
          1.045846421431736,
          2.2462062258728195,
          2.2423099816498744,
          1.7709736702772148,
          2.2423099816498744,
          1.062150456162995,
          1.8523365527362972,
          1.9288503791050824,
          1.3940721448808309,
          1.8523365527362972,
          1.3940721448808309,
          1.9288503791050824,
          1.85010223048354,
          1.9385616746205343,
          1.4229330168334688,
          1.0674981270209372,
          1.9155597807541007,
          1.9653675050851769,
          1.417329366545796,
          1.8523365527362972,
          2.2462062258728195,
          1.3940721448808309,
          2.2462062258728195,
          2.380312762873478,
          2.380312762873478,
          2.380312762873478,
          1.9288503791050824,
          2.380312762873478,
          1.85010223048354,
          1.4229330168334688,
          1.0674981270209372,
          1.9385616746205343,
          1.9155597807541007,
          1.417329366545796,
          1.9653675050851769,
          1.4229330168334688,
          1.85010223048354,
          2.2462062258728195,
          2.2462062258728195,
          1.0674981270209372,
          2.429591347277296,
          2.377441586052638,
          2.429591347277296,
          2.377441586052638,
          1.9385616746205343,
          1.417329366545796,
          1.9155597807541007,
          2.288731554232154,
          2.288731554232154,
          2.377441586052638,
          2.429591347277296,
          2.377441586052638,
          2.429591347277296,
          1.9653675050851769,
          1.0377562668527869,
          0.9475169028800852,
          3.1884369627426934,
          3.1884369627426934,
          0.9475169028800852,
          3.1884369627426934,
          3.1884369627426934,
          0.9475169028800852,
          3.1884369627426934,
          3.1884369627426934
         ],
         "xaxis": "x",
         "y": [
          2.4051912735413428,
          2.2580573142109803,
          1.8106073874815145,
          5.103494586495913,
          null,
          null,
          2.2580573142109803,
          null,
          2.2580573142109803,
          null,
          16.341752519035065,
          16.341752519035065,
          null,
          null,
          1.8106073874815145,
          5.103494586495913,
          null,
          1.8106073874815145,
          5.103494586495913,
          null,
          2.792499383832683,
          36.93442367023948,
          2.792499383832683,
          36.93442367023948,
          1.6055202815413303,
          2.5012664674777474,
          2.5012664674777474,
          2.1547052631015027,
          2.6223081966911126,
          null,
          null,
          2.5012664674777474,
          2.6223081966911126,
          2.1547052631015027,
          null,
          2.1547052631015027,
          null,
          15.59378494932973,
          2.6223081966911126,
          15.59378494932973,
          3.656005981968774,
          2.6971612158140115,
          3.9268418671513534,
          2.065186165153673,
          2.6971612158140115,
          2.065186165153673,
          3.9268418671513534,
          2.685214821882364,
          4.050798952232581,
          2.239926426510099,
          4.739032480613061,
          2.633379744416436,
          3.66625699043176,
          2.0267492090234525,
          2.6971612158140115,
          null,
          2.065186165153673,
          null,
          3.1388255336066817,
          3.185136177817729,
          3.1388255336066817,
          3.9268418671513534,
          3.185136177817729,
          2.685214821882364,
          2.239926426510099,
          4.739032480613061,
          4.050798952232581,
          2.633379744416436,
          2.0267492090234525,
          3.66625699043176,
          2.239926426510099,
          2.685214821882364,
          null,
          null,
          4.739032480613061,
          3.454638045280734,
          3.12492289920451,
          3.454638045280734,
          3.12492289920451,
          4.050798952232581,
          2.0267492090234525,
          2.633379744416436,
          34.29678046277064,
          34.29678046277064,
          3.020317156720868,
          3.01082764716106,
          3.020317156720868,
          3.01082764716106,
          3.66625699043176,
          1.7899766127817534,
          0.6197800616573649,
          null,
          null,
          0.6197800616573649,
          null,
          null,
          0.6197800616573649,
          5.711493582235099,
          5.711493582235099
         ],
         "yaxis": "y"
        }
       ],
       "layout": {
        "height": 800,
        "legend": {
         "tracegroupgap": 0
        },
        "margin": {
         "t": 60
        },
        "template": {
         "data": {
          "bar": [
           {
            "error_x": {
             "color": "#2a3f5f"
            },
            "error_y": {
             "color": "#2a3f5f"
            },
            "marker": {
             "line": {
              "color": "#E5ECF6",
              "width": 0.5
             },
             "pattern": {
              "fillmode": "overlay",
              "size": 10,
              "solidity": 0.2
             }
            },
            "type": "bar"
           }
          ],
          "barpolar": [
           {
            "marker": {
             "line": {
              "color": "#E5ECF6",
              "width": 0.5
             },
             "pattern": {
              "fillmode": "overlay",
              "size": 10,
              "solidity": 0.2
             }
            },
            "type": "barpolar"
           }
          ],
          "carpet": [
           {
            "aaxis": {
             "endlinecolor": "#2a3f5f",
             "gridcolor": "white",
             "linecolor": "white",
             "minorgridcolor": "white",
             "startlinecolor": "#2a3f5f"
            },
            "baxis": {
             "endlinecolor": "#2a3f5f",
             "gridcolor": "white",
             "linecolor": "white",
             "minorgridcolor": "white",
             "startlinecolor": "#2a3f5f"
            },
            "type": "carpet"
           }
          ],
          "choropleth": [
           {
            "colorbar": {
             "outlinewidth": 0,
             "ticks": ""
            },
            "type": "choropleth"
           }
          ],
          "contour": [
           {
            "colorbar": {
             "outlinewidth": 0,
             "ticks": ""
            },
            "colorscale": [
             [
              0,
              "#0d0887"
             ],
             [
              0.1111111111111111,
              "#46039f"
             ],
             [
              0.2222222222222222,
              "#7201a8"
             ],
             [
              0.3333333333333333,
              "#9c179e"
             ],
             [
              0.4444444444444444,
              "#bd3786"
             ],
             [
              0.5555555555555556,
              "#d8576b"
             ],
             [
              0.6666666666666666,
              "#ed7953"
             ],
             [
              0.7777777777777778,
              "#fb9f3a"
             ],
             [
              0.8888888888888888,
              "#fdca26"
             ],
             [
              1,
              "#f0f921"
             ]
            ],
            "type": "contour"
           }
          ],
          "contourcarpet": [
           {
            "colorbar": {
             "outlinewidth": 0,
             "ticks": ""
            },
            "type": "contourcarpet"
           }
          ],
          "heatmap": [
           {
            "colorbar": {
             "outlinewidth": 0,
             "ticks": ""
            },
            "colorscale": [
             [
              0,
              "#0d0887"
             ],
             [
              0.1111111111111111,
              "#46039f"
             ],
             [
              0.2222222222222222,
              "#7201a8"
             ],
             [
              0.3333333333333333,
              "#9c179e"
             ],
             [
              0.4444444444444444,
              "#bd3786"
             ],
             [
              0.5555555555555556,
              "#d8576b"
             ],
             [
              0.6666666666666666,
              "#ed7953"
             ],
             [
              0.7777777777777778,
              "#fb9f3a"
             ],
             [
              0.8888888888888888,
              "#fdca26"
             ],
             [
              1,
              "#f0f921"
             ]
            ],
            "type": "heatmap"
           }
          ],
          "heatmapgl": [
           {
            "colorbar": {
             "outlinewidth": 0,
             "ticks": ""
            },
            "colorscale": [
             [
              0,
              "#0d0887"
             ],
             [
              0.1111111111111111,
              "#46039f"
             ],
             [
              0.2222222222222222,
              "#7201a8"
             ],
             [
              0.3333333333333333,
              "#9c179e"
             ],
             [
              0.4444444444444444,
              "#bd3786"
             ],
             [
              0.5555555555555556,
              "#d8576b"
             ],
             [
              0.6666666666666666,
              "#ed7953"
             ],
             [
              0.7777777777777778,
              "#fb9f3a"
             ],
             [
              0.8888888888888888,
              "#fdca26"
             ],
             [
              1,
              "#f0f921"
             ]
            ],
            "type": "heatmapgl"
           }
          ],
          "histogram": [
           {
            "marker": {
             "pattern": {
              "fillmode": "overlay",
              "size": 10,
              "solidity": 0.2
             }
            },
            "type": "histogram"
           }
          ],
          "histogram2d": [
           {
            "colorbar": {
             "outlinewidth": 0,
             "ticks": ""
            },
            "colorscale": [
             [
              0,
              "#0d0887"
             ],
             [
              0.1111111111111111,
              "#46039f"
             ],
             [
              0.2222222222222222,
              "#7201a8"
             ],
             [
              0.3333333333333333,
              "#9c179e"
             ],
             [
              0.4444444444444444,
              "#bd3786"
             ],
             [
              0.5555555555555556,
              "#d8576b"
             ],
             [
              0.6666666666666666,
              "#ed7953"
             ],
             [
              0.7777777777777778,
              "#fb9f3a"
             ],
             [
              0.8888888888888888,
              "#fdca26"
             ],
             [
              1,
              "#f0f921"
             ]
            ],
            "type": "histogram2d"
           }
          ],
          "histogram2dcontour": [
           {
            "colorbar": {
             "outlinewidth": 0,
             "ticks": ""
            },
            "colorscale": [
             [
              0,
              "#0d0887"
             ],
             [
              0.1111111111111111,
              "#46039f"
             ],
             [
              0.2222222222222222,
              "#7201a8"
             ],
             [
              0.3333333333333333,
              "#9c179e"
             ],
             [
              0.4444444444444444,
              "#bd3786"
             ],
             [
              0.5555555555555556,
              "#d8576b"
             ],
             [
              0.6666666666666666,
              "#ed7953"
             ],
             [
              0.7777777777777778,
              "#fb9f3a"
             ],
             [
              0.8888888888888888,
              "#fdca26"
             ],
             [
              1,
              "#f0f921"
             ]
            ],
            "type": "histogram2dcontour"
           }
          ],
          "mesh3d": [
           {
            "colorbar": {
             "outlinewidth": 0,
             "ticks": ""
            },
            "type": "mesh3d"
           }
          ],
          "parcoords": [
           {
            "line": {
             "colorbar": {
              "outlinewidth": 0,
              "ticks": ""
             }
            },
            "type": "parcoords"
           }
          ],
          "pie": [
           {
            "automargin": true,
            "type": "pie"
           }
          ],
          "scatter": [
           {
            "fillpattern": {
             "fillmode": "overlay",
             "size": 10,
             "solidity": 0.2
            },
            "type": "scatter"
           }
          ],
          "scatter3d": [
           {
            "line": {
             "colorbar": {
              "outlinewidth": 0,
              "ticks": ""
             }
            },
            "marker": {
             "colorbar": {
              "outlinewidth": 0,
              "ticks": ""
             }
            },
            "type": "scatter3d"
           }
          ],
          "scattercarpet": [
           {
            "marker": {
             "colorbar": {
              "outlinewidth": 0,
              "ticks": ""
             }
            },
            "type": "scattercarpet"
           }
          ],
          "scattergeo": [
           {
            "marker": {
             "colorbar": {
              "outlinewidth": 0,
              "ticks": ""
             }
            },
            "type": "scattergeo"
           }
          ],
          "scattergl": [
           {
            "marker": {
             "colorbar": {
              "outlinewidth": 0,
              "ticks": ""
             }
            },
            "type": "scattergl"
           }
          ],
          "scattermapbox": [
           {
            "marker": {
             "colorbar": {
              "outlinewidth": 0,
              "ticks": ""
             }
            },
            "type": "scattermapbox"
           }
          ],
          "scatterpolar": [
           {
            "marker": {
             "colorbar": {
              "outlinewidth": 0,
              "ticks": ""
             }
            },
            "type": "scatterpolar"
           }
          ],
          "scatterpolargl": [
           {
            "marker": {
             "colorbar": {
              "outlinewidth": 0,
              "ticks": ""
             }
            },
            "type": "scatterpolargl"
           }
          ],
          "scatterternary": [
           {
            "marker": {
             "colorbar": {
              "outlinewidth": 0,
              "ticks": ""
             }
            },
            "type": "scatterternary"
           }
          ],
          "surface": [
           {
            "colorbar": {
             "outlinewidth": 0,
             "ticks": ""
            },
            "colorscale": [
             [
              0,
              "#0d0887"
             ],
             [
              0.1111111111111111,
              "#46039f"
             ],
             [
              0.2222222222222222,
              "#7201a8"
             ],
             [
              0.3333333333333333,
              "#9c179e"
             ],
             [
              0.4444444444444444,
              "#bd3786"
             ],
             [
              0.5555555555555556,
              "#d8576b"
             ],
             [
              0.6666666666666666,
              "#ed7953"
             ],
             [
              0.7777777777777778,
              "#fb9f3a"
             ],
             [
              0.8888888888888888,
              "#fdca26"
             ],
             [
              1,
              "#f0f921"
             ]
            ],
            "type": "surface"
           }
          ],
          "table": [
           {
            "cells": {
             "fill": {
              "color": "#EBF0F8"
             },
             "line": {
              "color": "white"
             }
            },
            "header": {
             "fill": {
              "color": "#C8D4E3"
             },
             "line": {
              "color": "white"
             }
            },
            "type": "table"
           }
          ]
         },
         "layout": {
          "annotationdefaults": {
           "arrowcolor": "#2a3f5f",
           "arrowhead": 0,
           "arrowwidth": 1
          },
          "autotypenumbers": "strict",
          "coloraxis": {
           "colorbar": {
            "outlinewidth": 0,
            "ticks": ""
           }
          },
          "colorscale": {
           "diverging": [
            [
             0,
             "#8e0152"
            ],
            [
             0.1,
             "#c51b7d"
            ],
            [
             0.2,
             "#de77ae"
            ],
            [
             0.3,
             "#f1b6da"
            ],
            [
             0.4,
             "#fde0ef"
            ],
            [
             0.5,
             "#f7f7f7"
            ],
            [
             0.6,
             "#e6f5d0"
            ],
            [
             0.7,
             "#b8e186"
            ],
            [
             0.8,
             "#7fbc41"
            ],
            [
             0.9,
             "#4d9221"
            ],
            [
             1,
             "#276419"
            ]
           ],
           "sequential": [
            [
             0,
             "#0d0887"
            ],
            [
             0.1111111111111111,
             "#46039f"
            ],
            [
             0.2222222222222222,
             "#7201a8"
            ],
            [
             0.3333333333333333,
             "#9c179e"
            ],
            [
             0.4444444444444444,
             "#bd3786"
            ],
            [
             0.5555555555555556,
             "#d8576b"
            ],
            [
             0.6666666666666666,
             "#ed7953"
            ],
            [
             0.7777777777777778,
             "#fb9f3a"
            ],
            [
             0.8888888888888888,
             "#fdca26"
            ],
            [
             1,
             "#f0f921"
            ]
           ],
           "sequentialminus": [
            [
             0,
             "#0d0887"
            ],
            [
             0.1111111111111111,
             "#46039f"
            ],
            [
             0.2222222222222222,
             "#7201a8"
            ],
            [
             0.3333333333333333,
             "#9c179e"
            ],
            [
             0.4444444444444444,
             "#bd3786"
            ],
            [
             0.5555555555555556,
             "#d8576b"
            ],
            [
             0.6666666666666666,
             "#ed7953"
            ],
            [
             0.7777777777777778,
             "#fb9f3a"
            ],
            [
             0.8888888888888888,
             "#fdca26"
            ],
            [
             1,
             "#f0f921"
            ]
           ]
          },
          "colorway": [
           "#636efa",
           "#EF553B",
           "#00cc96",
           "#ab63fa",
           "#FFA15A",
           "#19d3f3",
           "#FF6692",
           "#B6E880",
           "#FF97FF",
           "#FECB52"
          ],
          "font": {
           "color": "#2a3f5f"
          },
          "geo": {
           "bgcolor": "white",
           "lakecolor": "white",
           "landcolor": "#E5ECF6",
           "showlakes": true,
           "showland": true,
           "subunitcolor": "white"
          },
          "hoverlabel": {
           "align": "left"
          },
          "hovermode": "closest",
          "mapbox": {
           "style": "light"
          },
          "paper_bgcolor": "white",
          "plot_bgcolor": "#E5ECF6",
          "polar": {
           "angularaxis": {
            "gridcolor": "white",
            "linecolor": "white",
            "ticks": ""
           },
           "bgcolor": "#E5ECF6",
           "radialaxis": {
            "gridcolor": "white",
            "linecolor": "white",
            "ticks": ""
           }
          },
          "scene": {
           "xaxis": {
            "backgroundcolor": "#E5ECF6",
            "gridcolor": "white",
            "gridwidth": 2,
            "linecolor": "white",
            "showbackground": true,
            "ticks": "",
            "zerolinecolor": "white"
           },
           "yaxis": {
            "backgroundcolor": "#E5ECF6",
            "gridcolor": "white",
            "gridwidth": 2,
            "linecolor": "white",
            "showbackground": true,
            "ticks": "",
            "zerolinecolor": "white"
           },
           "zaxis": {
            "backgroundcolor": "#E5ECF6",
            "gridcolor": "white",
            "gridwidth": 2,
            "linecolor": "white",
            "showbackground": true,
            "ticks": "",
            "zerolinecolor": "white"
           }
          },
          "shapedefaults": {
           "line": {
            "color": "#2a3f5f"
           }
          },
          "ternary": {
           "aaxis": {
            "gridcolor": "white",
            "linecolor": "white",
            "ticks": ""
           },
           "baxis": {
            "gridcolor": "white",
            "linecolor": "white",
            "ticks": ""
           },
           "bgcolor": "#E5ECF6",
           "caxis": {
            "gridcolor": "white",
            "linecolor": "white",
            "ticks": ""
           }
          },
          "title": {
           "x": 0.05
          },
          "xaxis": {
           "automargin": true,
           "gridcolor": "white",
           "linecolor": "white",
           "ticks": "",
           "title": {
            "standoff": 15
           },
           "zerolinecolor": "white",
           "zerolinewidth": 2
          },
          "yaxis": {
           "automargin": true,
           "gridcolor": "white",
           "linecolor": "white",
           "ticks": "",
           "title": {
            "standoff": 15
           },
           "zerolinecolor": "white",
           "zerolinewidth": 2
          }
         }
        },
        "title": {
         "text": "Lift x Conviction"
        },
        "xaxis": {
         "anchor": "y",
         "domain": [
          0,
          1
         ],
         "title": {
          "text": "lift"
         },
         "type": "log"
        },
        "yaxis": {
         "anchor": "x",
         "domain": [
          0,
          1
         ],
         "title": {
          "text": "conviction"
         }
        }
       }
      }
     },
     "metadata": {},
     "output_type": "display_data"
    }
   ],
   "source": [
    "import pandas as pd\n",
    "import plotly.express as px\n",
    "\n",
    "df = pd.read_csv(\"association_rules_conf75.csv\").drop(columns=[\"Unnamed: 0\"])\n",
    "\n",
    "fig = px.scatter(df, x=\"lift\", y=\"conviction\", text=df.index, log_x=True, size_max=60)\n",
    "\n",
    "fig.update_traces(textposition='top center')\n",
    "\n",
    "fig.update_layout(\n",
    "    height=800,\n",
    "    title_text='Lift x Conviction'\n",
    ")\n",
    "\n",
    "fig.show()"
   ]
  },
  {
   "attachments": {
    "image.png": {
     "image/png": "[encoded data removed]"
    }
   },
   "cell_type": "markdown",
   "metadata": {},
   "source": [
    "![image.png](attachment:image.png)"
   ]
  },
  {
   "cell_type": "markdown",
   "metadata": {},
   "source": [
    "É possível plotar um gráfico que permite correlacionar métricas para buscar padrões de interesse. Nos gráficos os pontos se comportam de forma bem diferente. No primeiro, é possível achar regras fortes, consistentes e populares, graças ao `Suporte`; no segundo também é possível medir a força dessas regras, mas também é levado em conta o teor informativo do antecedente com o consequente, graças ao `Lift`. Para encontrar as que são mais interessantes deve-se ter a clareza com o que procura-se encontrar com essas informações. No caso, o objetivo é encontrar correlações interessantes para traçar um comportamento comum em motoristas infratores, portanto o suporte não pode ser muito baixo\n",
    "\n",
    "Anteriormente, foi feita uma análise manual dos padrões encontrados, usando o discernimento humano e conhecimento da semântica das métricas.\n",
    "\n",
    "Estabelecendo alguns limiares, com o auxílio dos gráficos é possível filtrar ainda mais e encontrar padrões interessantes. Isso facilita a análise de resultados, pois muitas vezes, podem ser retornados centenas de regras para analisar."
   ]
  },
  {
   "cell_type": "code",
   "execution_count": 1,
   "metadata": {},
   "outputs": [
    {
     "data": {
      "text/html": [
       "<div>\n",
       "<style scoped>\n",
       "    .dataframe tbody tr th:only-of-type {\n",
       "        vertical-align: middle;\n",
       "    }\n",
       "\n",
       "    .dataframe tbody tr th {\n",
       "        vertical-align: top;\n",
       "    }\n",
       "\n",
       "    .dataframe thead th {\n",
       "        text-align: right;\n",
       "    }\n",
       "</style>\n",
       "<table border=\"1\" class=\"dataframe\">\n",
       "  <thead>\n",
       "    <tr style=\"text-align: right;\">\n",
       "      <th></th>\n",
       "      <th>antecedents</th>\n",
       "      <th>consequents</th>\n",
       "      <th>antecedent support</th>\n",
       "      <th>consequent support</th>\n",
       "      <th>support</th>\n",
       "      <th>confidence</th>\n",
       "      <th>lift</th>\n",
       "      <th>representativity</th>\n",
       "      <th>leverage</th>\n",
       "      <th>conviction</th>\n",
       "      <th>zhangs_metric</th>\n",
       "      <th>jaccard</th>\n",
       "      <th>certainty</th>\n",
       "      <th>kulczynski</th>\n",
       "    </tr>\n",
       "  </thead>\n",
       "  <tbody>\n",
       "    <tr>\n",
       "      <th>4</th>\n",
       "      <td>frozenset({'SENTIDO_Centro/Barro Preto'})</td>\n",
       "      <td>frozenset({'ENDEREÇO_Av. do Contorno, oposto a...</td>\n",
       "      <td>0.445195</td>\n",
       "      <td>0.445195</td>\n",
       "      <td>0.445195</td>\n",
       "      <td>1.000000</td>\n",
       "      <td>2.246206</td>\n",
       "      <td>1.0</td>\n",
       "      <td>0.246996</td>\n",
       "      <td>inf</td>\n",
       "      <td>1.000000</td>\n",
       "      <td>1.000000</td>\n",
       "      <td>1.000000</td>\n",
       "      <td>1.00000</td>\n",
       "    </tr>\n",
       "    <tr>\n",
       "      <th>5</th>\n",
       "      <td>frozenset({'ENDEREÇO_Av. do Contorno, oposto a...</td>\n",
       "      <td>frozenset({'SENTIDO_Centro/Barro Preto'})</td>\n",
       "      <td>0.445195</td>\n",
       "      <td>0.445195</td>\n",
       "      <td>0.445195</td>\n",
       "      <td>1.000000</td>\n",
       "      <td>2.246206</td>\n",
       "      <td>1.0</td>\n",
       "      <td>0.246996</td>\n",
       "      <td>inf</td>\n",
       "      <td>1.000000</td>\n",
       "      <td>1.000000</td>\n",
       "      <td>1.000000</td>\n",
       "      <td>1.00000</td>\n",
       "    </tr>\n",
       "    <tr>\n",
       "      <th>7</th>\n",
       "      <td>frozenset({'SENTIDO_Centro/Barro Preto', 'VELC...</td>\n",
       "      <td>frozenset({'ENDEREÇO_Av. do Contorno, oposto a...</td>\n",
       "      <td>0.429657</td>\n",
       "      <td>0.445195</td>\n",
       "      <td>0.429657</td>\n",
       "      <td>1.000000</td>\n",
       "      <td>2.246206</td>\n",
       "      <td>1.0</td>\n",
       "      <td>0.238376</td>\n",
       "      <td>inf</td>\n",
       "      <td>0.972757</td>\n",
       "      <td>0.965099</td>\n",
       "      <td>1.000000</td>\n",
       "      <td>0.98255</td>\n",
       "    </tr>\n",
       "    <tr>\n",
       "      <th>9</th>\n",
       "      <td>frozenset({'VELCOIDADE_velocidadeAlta', 'ENDER...</td>\n",
       "      <td>frozenset({'SENTIDO_Centro/Barro Preto'})</td>\n",
       "      <td>0.429657</td>\n",
       "      <td>0.445195</td>\n",
       "      <td>0.429657</td>\n",
       "      <td>1.000000</td>\n",
       "      <td>2.246206</td>\n",
       "      <td>1.0</td>\n",
       "      <td>0.238376</td>\n",
       "      <td>inf</td>\n",
       "      <td>0.972757</td>\n",
       "      <td>0.965099</td>\n",
       "      <td>1.000000</td>\n",
       "      <td>0.98255</td>\n",
       "    </tr>\n",
       "    <tr>\n",
       "      <th>10</th>\n",
       "      <td>frozenset({'SENTIDO_Centro/Barro Preto'})</td>\n",
       "      <td>frozenset({'VELCOIDADE_velocidadeAlta', 'ENDER...</td>\n",
       "      <td>0.445195</td>\n",
       "      <td>0.429657</td>\n",
       "      <td>0.429657</td>\n",
       "      <td>0.965099</td>\n",
       "      <td>2.246206</td>\n",
       "      <td>1.0</td>\n",
       "      <td>0.238376</td>\n",
       "      <td>16.341753</td>\n",
       "      <td>1.000000</td>\n",
       "      <td>0.965099</td>\n",
       "      <td>0.938807</td>\n",
       "      <td>0.98255</td>\n",
       "    </tr>\n",
       "    <tr>\n",
       "      <th>11</th>\n",
       "      <td>frozenset({'ENDEREÇO_Av. do Contorno, oposto a...</td>\n",
       "      <td>frozenset({'SENTIDO_Centro/Barro Preto', 'VELC...</td>\n",
       "      <td>0.445195</td>\n",
       "      <td>0.429657</td>\n",
       "      <td>0.429657</td>\n",
       "      <td>0.965099</td>\n",
       "      <td>2.246206</td>\n",
       "      <td>1.0</td>\n",
       "      <td>0.238376</td>\n",
       "      <td>16.341753</td>\n",
       "      <td>1.000000</td>\n",
       "      <td>0.965099</td>\n",
       "      <td>0.938807</td>\n",
       "      <td>0.98255</td>\n",
       "    </tr>\n",
       "  </tbody>\n",
       "</table>\n",
       "</div>"
      ],
      "text/plain": [
       "                                          antecedents  \\\n",
       "4           frozenset({'SENTIDO_Centro/Barro Preto'})   \n",
       "5   frozenset({'ENDEREÇO_Av. do Contorno, oposto a...   \n",
       "7   frozenset({'SENTIDO_Centro/Barro Preto', 'VELC...   \n",
       "9   frozenset({'VELCOIDADE_velocidadeAlta', 'ENDER...   \n",
       "10          frozenset({'SENTIDO_Centro/Barro Preto'})   \n",
       "11  frozenset({'ENDEREÇO_Av. do Contorno, oposto a...   \n",
       "\n",
       "                                          consequents  antecedent support  \\\n",
       "4   frozenset({'ENDEREÇO_Av. do Contorno, oposto a...            0.445195   \n",
       "5           frozenset({'SENTIDO_Centro/Barro Preto'})            0.445195   \n",
       "7   frozenset({'ENDEREÇO_Av. do Contorno, oposto a...            0.429657   \n",
       "9           frozenset({'SENTIDO_Centro/Barro Preto'})            0.429657   \n",
       "10  frozenset({'VELCOIDADE_velocidadeAlta', 'ENDER...            0.445195   \n",
       "11  frozenset({'SENTIDO_Centro/Barro Preto', 'VELC...            0.445195   \n",
       "\n",
       "    consequent support   support  confidence      lift  representativity  \\\n",
       "4             0.445195  0.445195    1.000000  2.246206               1.0   \n",
       "5             0.445195  0.445195    1.000000  2.246206               1.0   \n",
       "7             0.445195  0.429657    1.000000  2.246206               1.0   \n",
       "9             0.445195  0.429657    1.000000  2.246206               1.0   \n",
       "10            0.429657  0.429657    0.965099  2.246206               1.0   \n",
       "11            0.429657  0.429657    0.965099  2.246206               1.0   \n",
       "\n",
       "    leverage  conviction  zhangs_metric   jaccard  certainty  kulczynski  \n",
       "4   0.246996         inf       1.000000  1.000000   1.000000     1.00000  \n",
       "5   0.246996         inf       1.000000  1.000000   1.000000     1.00000  \n",
       "7   0.238376         inf       0.972757  0.965099   1.000000     0.98255  \n",
       "9   0.238376         inf       0.972757  0.965099   1.000000     0.98255  \n",
       "10  0.238376   16.341753       1.000000  0.965099   0.938807     0.98255  \n",
       "11  0.238376   16.341753       1.000000  0.965099   0.938807     0.98255  "
      ]
     },
     "metadata": {},
     "output_type": "display_data"
    }
   ],
   "source": [
    "import pandas as pd\n",
    "\n",
    "df = pd.read_csv(\"association_rules_conf75.csv\").drop(columns=[\"Unnamed: 0\"])\n",
    "df = df.loc[(df[\"support\"] > 0.4) & (df[\"confidence\"] > 0.90) & (df[\"lift\"] > 2.0)]\n",
    "\n",
    "display(df)"
   ]
  }
 ],
 "metadata": {
  "kernelspec": {
   "display_name": ".venv",
   "language": "python",
   "name": "python3"
  },
  "language_info": {
   "codemirror_mode": {
    "name": "ipython",
    "version": 3
   },
   "file_extension": ".py",
   "mimetype": "text/x-python",
   "name": "python",
   "nbconvert_exporter": "python",
   "pygments_lexer": "ipython3",
   "version": "3.12.4"
  }
 },
 "nbformat": 4,
 "nbformat_minor": 2
}
