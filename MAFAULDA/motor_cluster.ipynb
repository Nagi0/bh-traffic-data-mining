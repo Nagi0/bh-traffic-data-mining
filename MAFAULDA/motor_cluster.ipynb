{
 "cells": [
  {
   "cell_type": "markdown",
   "id": "691e6108-783e-4f67-8954-3eae0e0ef555",
   "metadata": {},
   "source": [
    "# Aplicação de Cluster no Dataset MAFAULDA"
   ]
  },
  {
   "cell_type": "code",
   "execution_count": 1,
   "id": "6c9c7f3d-eac0-40fb-915c-097d95ee6415",
   "metadata": {},
   "outputs": [
    {
     "name": "stderr",
     "output_type": "stream",
     "text": [
      "-- \u001b[1mAttaching core tidyverse packages\u001b[22m ---------------------------------------------------------------- tidyverse 2.0.0 --\n",
      "\u001b[32mv\u001b[39m \u001b[34mdplyr    \u001b[39m 1.1.4     \u001b[32mv\u001b[39m \u001b[34mreadr    \u001b[39m 2.1.5\n",
      "\u001b[32mv\u001b[39m \u001b[34mforcats  \u001b[39m 1.0.0     \u001b[32mv\u001b[39m \u001b[34mstringr  \u001b[39m 1.5.1\n",
      "\u001b[32mv\u001b[39m \u001b[34mggplot2  \u001b[39m 3.5.1     \u001b[32mv\u001b[39m \u001b[34mtibble   \u001b[39m 3.2.1\n",
      "\u001b[32mv\u001b[39m \u001b[34mlubridate\u001b[39m 1.9.3     \u001b[32mv\u001b[39m \u001b[34mtidyr    \u001b[39m 1.3.1\n",
      "\u001b[32mv\u001b[39m \u001b[34mpurrr    \u001b[39m 1.0.2     \n",
      "-- \u001b[1mConflicts\u001b[22m ---------------------------------------------------------------------------------- tidyverse_conflicts() --\n",
      "\u001b[31mx\u001b[39m \u001b[34mdplyr\u001b[39m::\u001b[32mfilter()\u001b[39m masks \u001b[34mstats\u001b[39m::filter()\n",
      "\u001b[31mx\u001b[39m \u001b[34mdplyr\u001b[39m::\u001b[32mlag()\u001b[39m    masks \u001b[34mstats\u001b[39m::lag()\n",
      "\u001b[36mi\u001b[39m Use the conflicted package (\u001b[3m\u001b[34m<http://conflicted.r-lib.org/>\u001b[39m\u001b[23m) to force all conflicts to become errors\n",
      "\n",
      "Attaching package: 'dbscan'\n",
      "\n",
      "\n",
      "The following object is masked from 'package:stats':\n",
      "\n",
      "    as.dendrogram\n",
      "\n",
      "\n"
     ]
    }
   ],
   "source": [
    "library(tidyverse)\n",
    "library(dbscan)\n",
    "library(umap)\n",
    "set.seed(12)"
   ]
  },
  {
   "cell_type": "markdown",
   "id": "1c1f96f7-1336-4a49-95c0-2b5f1f4857a7",
   "metadata": {},
   "source": [
    "## Carrega os dados\n",
    "Os dados são correspondentes aos harmônicos da série temporal do motor"
   ]
  },
  {
   "cell_type": "code",
   "execution_count": 2,
   "id": "56d27686-fcde-42d7-84b3-1cae90b29333",
   "metadata": {},
   "outputs": [
    {
     "name": "stderr",
     "output_type": "stream",
     "text": [
      "\u001b[1mRows: \u001b[22m\u001b[34m1104\u001b[39m \u001b[1mColumns: \u001b[22m\u001b[34m801\u001b[39m\n",
      "\u001b[36m--\u001b[39m \u001b[1mColumn specification\u001b[22m \u001b[36m------------------------------------------------------------------------------------------------\u001b[39m\n",
      "\u001b[1mDelimiter:\u001b[22m \",\"\n",
      "\u001b[31mchr\u001b[39m   (1): file_name\n",
      "\u001b[32mdbl\u001b[39m (800): tachometer_harmonic_1_frequency, tachometer_harmonic_1, tachomete...\n",
      "\n",
      "\u001b[36mi\u001b[39m Use `spec()` to retrieve the full column specification for this data.\n",
      "\u001b[36mi\u001b[39m Specify the column types or set `show_col_types = FALSE` to quiet this message.\n"
     ]
    }
   ],
   "source": [
    "dados <- read_csv('D:/share/motor_vibration_dataset.csv')"
   ]
  },
  {
   "cell_type": "markdown",
   "id": "e9c73c23-6fcc-41b6-b667-9d2cccbfa5ac",
   "metadata": {},
   "source": [
    "## Limpa os dados\n",
    "Os dados são limpos e os rótulos são divididos em duas colunas."
   ]
  },
  {
   "cell_type": "code",
   "execution_count": 3,
   "id": "97229ce2-911b-4316-abd4-dd550f4fec0c",
   "metadata": {},
   "outputs": [
    {
     "name": "stderr",
     "output_type": "stream",
     "text": [
      "Warning message:\n",
      "\"\u001b[1m\u001b[22mExpected 2 pieces. Missing pieces filled with `NA` in 49 rows [531, 532, 533, 534, 535, 536, 537, 538, 539, 540, 541,\n",
      "542, 543, 544, 545, 546, 547, 548, 549, 550, ...].\"\n"
     ]
    }
   ],
   "source": [
    "dados <- dados %>% \n",
    "    mutate(file_name = str_replace_all(file_name, pattern = '\\\\./motorvibration/Data/', replacement = '')) %>%\n",
    "    mutate(file_name = str_replace_all(file_name, pattern = '/[0-9\\\\.]*.csv$', replacement = '')) %>%\n",
    "    separate(file_name, c(\"type\", 'un'), sep='/') %>%\n",
    "    mutate(type = factor(type))"
   ]
  },
  {
   "cell_type": "code",
   "execution_count": 4,
   "id": "ea2b2850-132d-4719-be0c-cc5a18771015",
   "metadata": {},
   "outputs": [
    {
     "data": {
      "text/html": [
       "<table class=\"dataframe\">\n",
       "<caption>A tibble: 6 × 2</caption>\n",
       "<thead>\n",
       "\t<tr><th scope=col>type</th><th scope=col>Total</th></tr>\n",
       "\t<tr><th scope=col>&lt;fct&gt;</th><th scope=col>&lt;int&gt;</th></tr>\n",
       "</thead>\n",
       "<tbody>\n",
       "\t<tr><td>horizontal-misalignment</td><td>197</td></tr>\n",
       "\t<tr><td>imbalance              </td><td>333</td></tr>\n",
       "\t<tr><td>normal                 </td><td> 49</td></tr>\n",
       "\t<tr><td>overhang-ball_fault    </td><td> 88</td></tr>\n",
       "\t<tr><td>underhang-ball_fault   </td><td>136</td></tr>\n",
       "\t<tr><td>vertical-misalignment  </td><td>301</td></tr>\n",
       "</tbody>\n",
       "</table>\n"
      ],
      "text/latex": [
       "A tibble: 6 × 2\n",
       "\\begin{tabular}{ll}\n",
       " type & Total\\\\\n",
       " <fct> & <int>\\\\\n",
       "\\hline\n",
       "\t horizontal-misalignment & 197\\\\\n",
       "\t imbalance               & 333\\\\\n",
       "\t normal                  &  49\\\\\n",
       "\t overhang-ball\\_fault     &  88\\\\\n",
       "\t underhang-ball\\_fault    & 136\\\\\n",
       "\t vertical-misalignment   & 301\\\\\n",
       "\\end{tabular}\n"
      ],
      "text/markdown": [
       "\n",
       "A tibble: 6 × 2\n",
       "\n",
       "| type &lt;fct&gt; | Total &lt;int&gt; |\n",
       "|---|---|\n",
       "| horizontal-misalignment | 197 |\n",
       "| imbalance               | 333 |\n",
       "| normal                  |  49 |\n",
       "| overhang-ball_fault     |  88 |\n",
       "| underhang-ball_fault    | 136 |\n",
       "| vertical-misalignment   | 301 |\n",
       "\n"
      ],
      "text/plain": [
       "  type                    Total\n",
       "1 horizontal-misalignment 197  \n",
       "2 imbalance               333  \n",
       "3 normal                   49  \n",
       "4 overhang-ball_fault      88  \n",
       "5 underhang-ball_fault    136  \n",
       "6 vertical-misalignment   301  "
      ]
     },
     "metadata": {},
     "output_type": "display_data"
    }
   ],
   "source": [
    "dados %>% group_by (type) %>% summarise(Total=n())"
   ]
  },
  {
   "cell_type": "markdown",
   "id": "0b730841-9cd8-4e87-b809-6588ebbf91e5",
   "metadata": {},
   "source": [
    "## Redução de dimensão\n",
    "Para evitar o excesso de outliers o algoritmo UMAP para redução de dimensões foi utilizado."
   ]
  },
  {
   "cell_type": "markdown",
   "id": "1df24178-daa9-4c58-adbf-4d09b713e612",
   "metadata": {},
   "source": [
    "# Uniform Manifold Approximation and Projection (UMAP) - Descrição do ChatGTP\n",
    "\n",
    "## Introdução\n",
    "\n",
    "O **UMAP** é um algoritmo de redução de dimensionalidade amplamente utilizado em aprendizado de máquina e visualização de dados. Foi introduzido por *Leland McInnes* e *John Healy* em 2018 e é baseado em princípios de geometria diferencial e teoria dos grafos.\n",
    "\n",
    "O objetivo principal do UMAP é projetar dados de alta dimensionalidade em um espaço de menor dimensão, preservando ao máximo as estruturas locais e globais do conjunto original.\n",
    "\n",
    "---\n",
    "\n",
    "## Fundamentos Matemáticos\n",
    "\n",
    "O UMAP utiliza conceitos de:\n",
    "\n",
    "1. **Geometria Diferencial**: Define uma métrica Riemanniana nos dados para modelar sua estrutura local.\n",
    "2. **Teoria de Grafos**: Constrói um grafo baseado em vizinhos próximos para capturar relações locais.\n",
    "3. **Topologia Algébrica**: Relaciona a estrutura de alta dimensão ao grafo resultante.\n",
    "\n",
    "### Etapas do Algoritmo\n",
    "\n",
    "1. **Construção do Grafo de Similaridade**:\n",
    "   - Cada ponto no espaço original é considerado como um nó no grafo.\n",
    "   - Define-se um conjunto de vizinhos próximos usando a métrica **k-nearest neighbors (k-NN)**.\n",
    "   - Uma função de afinidade (ou probabilidade) é atribuída às arestas do grafo para medir a similaridade entre pontos.\n",
    "\n",
    "2. **Redução de Dimensionalidade**:\n",
    "   - O grafo de alta dimensão é aproximado em um espaço de menor dimensão.\n",
    "   - A otimização é feita através da minimização de uma **função de perda** que compara a estrutura dos grafos nos dois espaços (original e reduzido).\n",
    "\n",
    "---\n",
    "\n",
    "## Principais Características\n",
    "\n",
    "- **Preservação de Estruturas Locais**: UMAP prioriza manter vizinhanças próximas no espaço reduzido.\n",
    "- **Flexibilidade**: Suporta dados de diferentes métricas de distância, como Euclidiana, Manhattan, entre outras.\n",
    "- **Velocidade**: É mais rápido que algoritmos como o t-SNE para grandes conjuntos de dados.\n",
    "- **Parâmetros Importantes**:\n",
    "  - *n_neighbors*: Controla o tamanho da vizinhança local.\n",
    "  - *min_dist*: Define a distância mínima entre os pontos no espaço reduzido.\n",
    "  - *metric*: Métrica de distância usada.\n",
    "\n",
    "---\n",
    "\n",
    "## Comparação com t-SNE\n",
    "\n",
    "| Aspecto                  | UMAP                        | t-SNE                       |\n",
    "|--------------------------|-----------------------------|-----------------------------|\n",
    "| **Tempo de execução**     | Mais rápido                | Mais lento                  |\n",
    "| **Escalabilidade**        | Melhor                     | Menor                       |\n",
    "| **Preservação Global**    | Melhor equilíbrio global   | Focado em estruturas locais |\n",
    "| **Parâmetros**            | Mais configuráveis         | Menos configuráveis         |\n",
    "\n",
    "---\n",
    "\n",
    "## Aplicações\n",
    "\n",
    "- **Visualização de Dados**: Exploração de conjuntos de dados de alta dimensionalidade, como embeddings de redes neurais.\n",
    "- **Pré-processamento**: Redução de dimensionalidade antes de aplicar algoritmos de aprendizado supervisionado ou não supervisionado.\n",
    "- **Análise de Dados de Genômica**: Em bioinformática para análise de expressão gênica.\n",
    "- **Processamento de Linguagem Natural**: Redução de embeddings de palavras ou frases."
   ]
  },
  {
   "cell_type": "code",
   "execution_count": 5,
   "id": "6dbde1a5-c8ac-483b-9eb1-a9013ecbbabb",
   "metadata": {},
   "outputs": [],
   "source": [
    "custom.settings = umap.defaults\n",
    "#custom.settings$n_neighbors = 5\n",
    "custom.settings$metric = 'manhattan'\n",
    "custom.settings$n_epochs = 5000\n",
    "custom.settings$min_dist= 0.001\n",
    "custom.settings$n_components = 2"
   ]
  },
  {
   "cell_type": "code",
   "execution_count": 6,
   "id": "06e56c67-4124-48c6-9ccf-da28eaeee1d4",
   "metadata": {},
   "outputs": [],
   "source": [
    "dados.umap_scale <- umap(\n",
    "    scale(dados[,3:dim(dados)[2]]), config=custom.settings)\n",
    "dados.umap <- umap(\n",
    "    dados[,3:dim(dados)[2]], config=custom.settings)"
   ]
  },
  {
   "cell_type": "code",
   "execution_count": 7,
   "id": "d3febae3-6d11-4881-b730-78629d68ec42",
   "metadata": {},
   "outputs": [
    {
     "data": {
      "text/plain": [
       "       V1                V2        \n",
       " Min.   :-15.367   Min.   :-9.166  \n",
       " 1st Qu.:-10.759   1st Qu.:-4.984  \n",
       " Median : -8.530   Median :-1.894  \n",
       " Mean   :  0.000   Mean   : 0.000  \n",
       " 3rd Qu.: -4.219   3rd Qu.: 2.303  \n",
       " Max.   : 43.399   Max.   :29.347  "
      ]
     },
     "metadata": {},
     "output_type": "display_data"
    }
   ],
   "source": [
    "summary(dados.umap$layout)"
   ]
  },
  {
   "cell_type": "code",
   "execution_count": 8,
   "id": "0ea6d8a3-5bea-4281-9de3-e7f71040e60c",
   "metadata": {},
   "outputs": [
    {
     "data": {
      "text/plain": [
       "       V1                V2        \n",
       " Min.   :-15.870   Min.   :-7.711  \n",
       " 1st Qu.: -7.324   1st Qu.:-5.853  \n",
       " Median : -3.801   Median :-4.961  \n",
       " Mean   :  0.000   Mean   : 0.000  \n",
       " 3rd Qu.: -1.775   3rd Qu.:-2.358  \n",
       " Max.   : 29.746   Max.   :36.749  "
      ]
     },
     "metadata": {},
     "output_type": "display_data"
    }
   ],
   "source": [
    "summary(dados.umap_scale$layout)"
   ]
  },
  {
   "cell_type": "code",
   "execution_count": 9,
   "id": "566381e7-c3b0-4ee7-8497-0242c27ae34f",
   "metadata": {},
   "outputs": [
    {
     "data": {
      "image/png": "[encoded data removed]",
      "text/plain": [
       "Plot with title \"Scale Data\""
      ]
     },
     "metadata": {
      "image/png": {
       "height": 420,
       "width": 420
      }
     },
     "output_type": "display_data"
    }
   ],
   "source": [
    "#options(repr.plot.width = 1, repr.plot.height = 0.75)\n",
    "par(mfrow = c(1, 2))\n",
    "plot(dados.umap$layout, xlab='x', ylab='y', main=\"Unscaled Data\" )\n",
    "plot(dados.umap_scale$layout, xlab='x', ylab='y', main=\"Scale Data\" )\n",
    "par(mfrow = c(1, 1))"
   ]
  },
  {
   "cell_type": "code",
   "execution_count": 10,
   "id": "e7ec9c3f-9945-4cfc-bcca-5ce2a4ce2c04",
   "metadata": {},
   "outputs": [
    {
     "name": "stderr",
     "output_type": "stream",
     "text": [
      "Warning message:\n",
      "\"\u001b[1m\u001b[22mThe `x` argument of `as_tibble.matrix()` must have unique column names if `.name_repair` is omitted as of tibble 2.0.0.\n",
      "\u001b[36mi\u001b[39m Using compatibility `.name_repair`.\"\n"
     ]
    }
   ],
   "source": [
    "dados2d <- cbind(dados[,1:2], as_tibble(dados.umap$layout), as_tibble(dados.umap_scale$layout))\n",
    "colnames(dados2d) <- c('type', 'un', 'x_unscale', 'y_unscale', 'x_scale', 'y_scale')"
   ]
  },
  {
   "cell_type": "code",
   "execution_count": 11,
   "id": "42126912-1e31-4d40-b423-4cbc335d3b4b",
   "metadata": {},
   "outputs": [
    {
     "data": {
      "image/png": "[encoded data removed]",
      "text/plain": [
       "plot without title"
      ]
     },
     "metadata": {
      "image/png": {
       "height": 420,
       "width": 420
      }
     },
     "output_type": "display_data"
    }
   ],
   "source": [
    "plt1 <- dados2d %>%\n",
    "    ggplot(aes(x=x_unscale, y=y_unscale, color=type)) +\n",
    "    geom_point(alpha=0.5) +\n",
    "    theme(legend.position = 'top') +\n",
    "    labs(title='Mafaulda Data', subtitle = 'Umap 2D Projection - Unscaled Data', caption = '100 Harmonics') +\n",
    "    xlab('') +\n",
    "    ylab('') + theme(legend.title=element_blank())\n",
    "print(plt1)"
   ]
  },
  {
   "cell_type": "code",
   "execution_count": 12,
   "id": "9681f5c3-f8e4-4376-814d-76249054764e",
   "metadata": {},
   "outputs": [
    {
     "data": {
      "image/png": "[encoded data removed]",
      "text/plain": [
       "plot without title"
      ]
     },
     "metadata": {
      "image/png": {
       "height": 420,
       "width": 420
      }
     },
     "output_type": "display_data"
    }
   ],
   "source": [
    "plt2 <- dados2d %>%\n",
    "    ggplot(aes(x=x_scale, y=y_scale, color=type)) +\n",
    "    geom_point(alpha=0.5) +\n",
    "    theme(legend.position = 'top') +\n",
    "    labs(title='Mafaulda Data', subtitle = 'Umap 2D Projection - Scaled Data', caption = '100 Harmonics') +\n",
    "    xlab('') +\n",
    "    ylab('') + theme(legend.title=element_blank())\n",
    "print(plt2)"
   ]
  },
  {
   "cell_type": "code",
   "execution_count": 13,
   "id": "bde86149-d5ed-4f25-82bf-608dac159903",
   "metadata": {},
   "outputs": [
    {
     "data": {
      "text/html": [
       "<strong>pdf:</strong> 2"
      ],
      "text/latex": [
       "\\textbf{pdf:} 2"
      ],
      "text/markdown": [
       "**pdf:** 2"
      ],
      "text/plain": [
       "pdf \n",
       "  2 "
      ]
     },
     "metadata": {},
     "output_type": "display_data"
    }
   ],
   "source": [
    "pdf(\"plots.pdf\")\n",
    "print(plt1)\n",
    "print(plt2)\n",
    "dev.off()"
   ]
  },
  {
   "cell_type": "markdown",
   "id": "ca279ad3-0b1e-4027-a1c7-10c0ee8d5b01",
   "metadata": {},
   "source": [
    "# HDBSCAN (Hierarchical Density-Based Spatial Clustering of Applications with Noise) - ChatGPT\n",
    "\n",
    "## Introdução\n",
    "\n",
    "O **HDBSCAN** é uma extensão do algoritmo **DBSCAN** que realiza clustering baseado em densidade, mas com melhorias significativas para lidar com conjuntos de dados complexos. Ele foi introduzido por *Campello, Moulavi e Sander* em 2013.\n",
    "\n",
    "O HDBSCAN é projetado para encontrar clusters de forma hierárquica, eliminando a necessidade de definir um único parâmetro de densidade (como o `eps` no DBSCAN), tornando-o mais adaptável a dados com densidades variadas.\n",
    "\n",
    "---\n",
    "\n",
    "## Fundamentos Matemáticos\n",
    "\n",
    "O HDBSCAN combina conceitos de:\n",
    "\n",
    "1. **Clustering por Densidade**: Agrupa pontos densamente conectados e identifica regiões esparsas como ruído.\n",
    "2. **Hierarquia**: Gera uma hierarquia de clusters baseada em uma abordagem de árvore.\n",
    "3. **Persistência de Clusters**: Seleciona automaticamente os clusters mais \"estáveis\" ao longo da hierarquia.\n",
    "\n",
    "### Principais Etapas do Algoritmo\n",
    "\n",
    "1. **Conversão do Espaço de Dados**:\n",
    "   - Calcula a **distância mútua** entre os pontos usando uma métrica (geralmente Euclidiana).\n",
    "   - Transforma as distâncias em **distâncias mútua corrigidas** através de uma função de densidade local.\n",
    "\n",
    "2. **Construção de MST (Minimum Spanning Tree)**:\n",
    "   - O HDBSCAN utiliza um **grafo de vizinhanças** e gera uma **árvore geradora mínima (MST)** para conectar os pontos baseando-se nas distâncias ajustadas.\n",
    "\n",
    "3. **Hierarquia de Clusters**:\n",
    "   - Gera uma **hierarquia de clusters** eliminando sucessivamente as arestas mais \"longas\" da MST, dividindo o grafo em componentes conectados.\n",
    "   - Cada nível da hierarquia representa diferentes densidades.\n",
    "\n",
    "4. **Extração de Clusters Planos**:\n",
    "   - Analisa a persistência (estabilidade) dos clusters ao longo da hierarquia.\n",
    "   - Seleciona automaticamente os clusters mais estáveis, que representam melhor os dados.\n",
    "\n",
    "5. **Identificação de Ruído**:\n",
    "   - Pontos que não pertencem a nenhum cluster são identificados como **outliers**.\n",
    "\n",
    "---\n",
    "\n",
    "## Principais Características\n",
    "\n",
    "- **Adaptativo**: Não exige que os clusters tenham densidades uniformes.\n",
    "- **Robustez**: Pode identificar clusters de formas arbitrárias e lidar com ruído de maneira eficiente.\n",
    "- **Automatização**: Seleciona automaticamente os parâmetros de densidade mais apropriados.\n",
    "- **Hierarquia**: Fornece uma representação hierárquica dos clusters.\n",
    "- **Escalabilidade**: Melhor desempenho em comparação com algoritmos hierárquicos tradicionais.\n",
    "\n",
    "### Parâmetros Importantes\n",
    "\n",
    "- *min_samples*: Número mínimo de pontos para definir a densidade local.\n",
    "- *min_cluster_size*: Tamanho mínimo para considerar um grupo de pontos como cluster.\n",
    "- *metric*: Métrica de distância usada (ex.: Euclidiana, Manhattan, etc.).\n",
    "\n",
    "---\n",
    "\n",
    "## Comparação com DBSCAN\n",
    "\n",
    "| Aspecto                  | HDBSCAN                      | DBSCAN                      |\n",
    "|--------------------------|------------------------------|-----------------------------|\n",
    "| **Densidade Variável**    | Suporta densidades variáveis | Requer densidade uniforme   |\n",
    "| **Parâmetros**            | Mais flexível               | Necessita definir `eps`     |\n",
    "| **Hierarquia**            | Gera hierarquia de clusters | Não gera hierarquia         |\n",
    "| **Identificação de Ruído**| Robusta                     | Funciona, mas menos adaptável|\n",
    "| **Complexidade**          | Levemente maior             | Menor                       |\n",
    "\n",
    "---\n",
    "\n",
    "## Aplicações\n",
    "\n",
    "- **Análise de Dados Espaciais**: Clustering em dados geográficos ou espaciais.\n",
    "- **Detecção de Outliers**: Identificação de pontos atípicos em grandes conjuntos de dados.\n",
    "- **Bioinformática**: Agrupamento de dados genéticos ou de expressão gênica.\n",
    "- **Marketing e Segmentação**: Agrupamento de clientes com características similares.\n",
    "- **Processamento de Linguagem Natural**: Clustering de embeddings de texto."
   ]
  },
  {
   "cell_type": "code",
   "execution_count": 14,
   "id": "5ae26662-eb4a-47dd-b394-f1984a826749",
   "metadata": {},
   "outputs": [
    {
     "data": {
      "text/plain": [
       "HDBSCAN clustering for 1104 objects.\n",
       "Parameters: minPts = 38\n",
       "The clustering contains 6 cluster(s) and 18 noise points.\n",
       "\n",
       "  0   1   2   3   4   5   6 \n",
       " 18  45  70  39  52  70 810 \n",
       "\n",
       "Available fields: cluster, minPts, coredist, cluster_scores,\n",
       "                  membership_prob, outlier_scores, hc"
      ]
     },
     "metadata": {},
     "output_type": "display_data"
    }
   ],
   "source": [
    "cl <- hdbscan(dados2d[,5:6], minPts = 38 )\n",
    "cl"
   ]
  },
  {
   "cell_type": "code",
   "execution_count": 15,
   "id": "54c98fde-1952-4742-9398-1016688bba67",
   "metadata": {},
   "outputs": [
    {
     "data": {
      "image/png": "[encoded data removed]",
      "text/plain": [
       "Plot with title \"HDBSCAN* Hierarchy\""
      ]
     },
     "metadata": {
      "image/png": {
       "height": 420,
       "width": 420
      }
     },
     "output_type": "display_data"
    }
   ],
   "source": [
    "plot(cl$hc, main=\"HDBSCAN* Hierarchy\")"
   ]
  },
  {
   "cell_type": "code",
   "execution_count": 16,
   "id": "d5c203eb-2cce-42f5-a29b-7a4470b4c1e8",
   "metadata": {},
   "outputs": [
    {
     "data": {
      "image/png": "[encoded data removed]",
      "text/plain": [
       "Plot with title \"HDBSCAN*\""
      ]
     },
     "metadata": {
      "image/png": {
       "height": 420,
       "width": 420
      }
     },
     "output_type": "display_data"
    }
   ],
   "source": [
    "plot(cl)"
   ]
  },
  {
   "cell_type": "code",
   "execution_count": 17,
   "id": "ecbb1627-c92d-4920-8291-d7b765c98337",
   "metadata": {},
   "outputs": [
    {
     "data": {
      "image/png": "[encoded data removed]",
      "text/plain": [
       "Plot with title \"HDBSCAN*\""
      ]
     },
     "metadata": {
      "image/png": {
       "height": 420,
       "width": 420
      }
     },
     "output_type": "display_data"
    }
   ],
   "source": [
    "plot(cl, gradient = c(\"yellow\", \"orange\", \"red\", \"blue\"), show_flat = TRUE)"
   ]
  },
  {
   "cell_type": "code",
   "execution_count": 18,
   "id": "e1c03eff-1492-4873-85f1-d2152fa852d4",
   "metadata": {},
   "outputs": [
    {
     "name": "stdout",
     "output_type": "stream",
     "text": [
      "         1          2          3          4          5          6 \n",
      "  29.76901   26.35681   56.87381   29.88269   74.20371 1026.35691 \n"
     ]
    }
   ],
   "source": [
    "print(cl$cluster_scores)"
   ]
  },
  {
   "cell_type": "code",
   "execution_count": 19,
   "id": "c7258f95-8f02-4bcd-a7ed-a70b260b2f02",
   "metadata": {},
   "outputs": [
    {
     "data": {
      "image/png": "[encoded data removed]",
      "text/plain": [
       "plot without title"
      ]
     },
     "metadata": {
      "image/png": {
       "height": 420,
       "width": 420
      }
     },
     "output_type": "display_data"
    }
   ],
   "source": [
    "plot(dados2d[,3:4], col=cl$cluster+1, \n",
    "       pch=ifelse(cl$cluster == 0, 8, 1), # Mark noise as star\n",
    "       cex=ifelse(cl$cluster == 0, 0.5, 0.75), # Decrease size of noise\n",
    "       xlab=NA, ylab=NA)\n",
    "colors <- sapply(1:length(cl$cluster), \n",
    "                   function(i) adjustcolor(palette()[(cl$cluster+1)[i]], alpha.f = cl$membership_prob[i]))\n",
    "points(dados2d[,3:4], col=colors, pch=20)"
   ]
  },
  {
   "cell_type": "code",
   "execution_count": 20,
   "id": "22eb9a96-aad6-4f25-9dcb-8ac136547b63",
   "metadata": {},
   "outputs": [
    {
     "data": {
      "text/plain": [
       "                         \n",
       "                            0   1   2   3   4   5   6\n",
       "  horizontal-misalignment   0   0   0   0   0   0 197\n",
       "  imbalance                 0   0   0   0   0  70 263\n",
       "  normal                    0   0   0   0   0   0  49\n",
       "  overhang-ball_fault      18   0  70   0   0   0   0\n",
       "  underhang-ball_fault      0  45   0  39  52   0   0\n",
       "  vertical-misalignment     0   0   0   0   0   0 301"
      ]
     },
     "metadata": {},
     "output_type": "display_data"
    }
   ],
   "source": [
    "table(dados2d %>% pull(type),cl$cluster)"
   ]
  },
  {
   "cell_type": "code",
   "execution_count": 21,
   "id": "3a68f3ec-a8a4-4082-8132-731f72a7aba2",
   "metadata": {},
   "outputs": [
    {
     "data": {
      "text/plain": [
       "                               \n",
       "                                 0  1  2  3  4  5  6\n",
       "  horizontal-misalignment 0.5mm  0  0  0  0  0  0 50\n",
       "  horizontal-misalignment 1.0mm  0  0  0  0  0  0 49\n",
       "  horizontal-misalignment 1.5mm  0  0  0  0  0  0 49\n",
       "  horizontal-misalignment 2.0mm  0  0  0  0  0  0 49\n",
       "  imbalance 10g                  0  0  0  0  0  0 48\n",
       "  imbalance 15g                  0  0  0  0  0  0 48\n",
       "  imbalance 20g                  0  0  0  0  0  2 47\n",
       "  imbalance 25g                  0  0  0  0  0  1 46\n",
       "  imbalance 30g                  0  0  0  0  0 34 13\n",
       "  imbalance 35g                  0  0  0  0  0 33 12\n",
       "  imbalance 6g                   0  0  0  0  0  0 49\n",
       "  normal NA                      0  0  0  0  0  0 49\n",
       "  overhang-ball_fault 20g        7  0 18  0  0  0  0\n",
       "  overhang-ball_fault 35g        5  0 15  0  0  0  0\n",
       "  overhang-ball_fault 6g         6  0 37  0  0  0  0\n",
       "  underhang-ball_fault 20g       0 19  0 13 17  0  0\n",
       "  underhang-ball_fault 35g       0  8  0 13 17  0  0\n",
       "  underhang-ball_fault 6g        0 18  0 13 18  0  0\n",
       "  vertical-misalignment 0.51mm   0  0  0  0  0  0 51\n",
       "  vertical-misalignment 0.63mm   0  0  0  0  0  0 50\n",
       "  vertical-misalignment 1.27mm   0  0  0  0  0  0 50\n",
       "  vertical-misalignment 1.40mm   0  0  0  0  0  0 50\n",
       "  vertical-misalignment 1.78mm   0  0  0  0  0  0 50\n",
       "  vertical-misalignment 1.90mm   0  0  0  0  0  0 50"
      ]
     },
     "metadata": {},
     "output_type": "display_data"
    }
   ],
   "source": [
    "table(paste(dados2d %>% pull(type), dados2d %>% pull(un)),cl$cluster)"
   ]
  },
  {
   "cell_type": "markdown",
   "id": "d1af11a8-e094-4cea-81a1-bcd688b3a22b",
   "metadata": {},
   "source": [
    "## Comparação com os dados sem redução da dimensionalidade"
   ]
  },
  {
   "cell_type": "code",
   "execution_count": 22,
   "id": "e7dbe20a-85d0-4719-8e8c-6abb608b2d4a",
   "metadata": {},
   "outputs": [
    {
     "data": {
      "text/plain": [
       "HDBSCAN clustering for 1104 objects.\n",
       "Parameters: minPts = 38\n",
       "The clustering contains 0 cluster(s) and 1104 noise points.\n",
       "\n",
       "   0 \n",
       "1104 \n",
       "\n",
       "Available fields: cluster, minPts, coredist, cluster_scores,\n",
       "                  membership_prob, outlier_scores, hc"
      ]
     },
     "metadata": {},
     "output_type": "display_data"
    }
   ],
   "source": [
    "cl2 <- hdbscan(dados[,3:dim(dados)[2]], minPts = 38)\n",
    "cl2"
   ]
  },
  {
   "cell_type": "code",
   "execution_count": 23,
   "id": "6ffb33af-0905-49f2-9ffd-a3131ebffa8d",
   "metadata": {},
   "outputs": [
    {
     "data": {
      "text/plain": [
       "                         \n",
       "                            0\n",
       "  horizontal-misalignment 197\n",
       "  imbalance               333\n",
       "  normal                   49\n",
       "  overhang-ball_fault      88\n",
       "  underhang-ball_fault    136\n",
       "  vertical-misalignment   301"
      ]
     },
     "metadata": {},
     "output_type": "display_data"
    }
   ],
   "source": [
    "table(dados %>% pull(type),cl2$cluster)"
   ]
  },
  {
   "cell_type": "code",
   "execution_count": 24,
   "id": "98727f35-5479-4cf6-8c34-3c708636affb",
   "metadata": {},
   "outputs": [
    {
     "data": {
      "text/plain": [
       "                               \n",
       "                                 0\n",
       "  horizontal-misalignment 0.5mm 50\n",
       "  horizontal-misalignment 1.0mm 49\n",
       "  horizontal-misalignment 1.5mm 49\n",
       "  horizontal-misalignment 2.0mm 49\n",
       "  imbalance 10g                 48\n",
       "  imbalance 15g                 48\n",
       "  imbalance 20g                 49\n",
       "  imbalance 25g                 47\n",
       "  imbalance 30g                 47\n",
       "  imbalance 35g                 45\n",
       "  imbalance 6g                  49\n",
       "  normal NA                     49\n",
       "  overhang-ball_fault 20g       25\n",
       "  overhang-ball_fault 35g       20\n",
       "  overhang-ball_fault 6g        43\n",
       "  underhang-ball_fault 20g      49\n",
       "  underhang-ball_fault 35g      38\n",
       "  underhang-ball_fault 6g       49\n",
       "  vertical-misalignment 0.51mm  51\n",
       "  vertical-misalignment 0.63mm  50\n",
       "  vertical-misalignment 1.27mm  50\n",
       "  vertical-misalignment 1.40mm  50\n",
       "  vertical-misalignment 1.78mm  50\n",
       "  vertical-misalignment 1.90mm  50"
      ]
     },
     "metadata": {},
     "output_type": "display_data"
    }
   ],
   "source": [
    "table(paste(dados %>% pull(type), dados %>% pull(un)),cl2$cluster)"
   ]
  },
  {
   "cell_type": "markdown",
   "id": "3830869a-ccf3-4ce9-a52f-c864972d0255",
   "metadata": {},
   "source": [
    "# Algoritmo K-Means - ChatGPT\n",
    "\n",
    "## Introdução  \n",
    "O **K-Means** é um algoritmo de aprendizado não supervisionado usado para **agrupamento** (*clustering*). Ele particiona um conjunto de dados em **K clusters** distintos com base na proximidade dos pontos aos centróides, minimizando a variância intra-cluster.\n",
    "\n",
    "---\n",
    "\n",
    "## Funcionamento  \n",
    "\n",
    "1. **Inicialização**:  \n",
    "   - Escolha o número **K** de clusters desejados.  \n",
    "   - Inicialize **K centróides** aleatoriamente ou por um método como *k-means++*.\n",
    "\n",
    "2. **Iteração** (até convergência):  \n",
    "   - **Passo 1: Atribuição**  \n",
    "     Atribua cada ponto de dados \\( x_i \\) ao centróide mais próximo \\( C_j \\), onde a proximidade é calculada por uma **distância** (geralmente a distância Euclidiana):  \n",
    "     \\[\n",
    "     d(x_i, C_j) = \\| x_i - C_j \\|_2^2\n",
    "     \\]\n",
    "     Cada centróide representa o seu respectivo cluster.\n",
    "\n",
    "   - **Passo 2: Atualização**  \n",
    "     Recalcule os centróides como a **média aritmética** dos pontos atribuídos a cada cluster:  \n",
    "     \\[\n",
    "     C_j = \\frac{1}{|S_j|} \\sum_{x \\in S_j} x\n",
    "     \\]\n",
    "     Onde \\( S_j \\) é o conjunto de pontos no cluster \\( j \\).\n",
    "\n",
    "3. **Convergência**:  \n",
    "   - O processo se repete até que os centróides não mudem significativamente ou uma condição de parada seja atingida (número máximo de iterações, por exemplo).  \n",
    "\n",
    "---\n",
    "\n",
    "## Fórmulas Matemáticas\n",
    "\n",
    "O objetivo do algoritmo K-Means é **minimizar a soma dos erros quadráticos dentro dos clusters** (**Within-Cluster Sum of Squares**, WCSS):\n",
    "\n",
    "\\[\n",
    "\\text{WCSS} = \\sum_{j=1}^K \\sum_{x_i \\in S_j} \\| x_i - C_j \\|^2\n",
    "\\]\n",
    "\n",
    "Onde:  \n",
    "- \\( K \\): número de clusters;  \n",
    "- \\( S_j \\): conjunto de pontos atribuídos ao cluster \\( j \\);  \n",
    "- \\( C_j \\): centróide do cluster \\( j \\).\n",
    "\n",
    "---\n",
    "\n",
    "## Vantagens  \n",
    "- Simples e eficiente para conjuntos de dados grandes.  \n",
    "- Convergência rápida em prática.  \n",
    "- Fácil de interpretar e implementar.  \n",
    "\n",
    "---\n",
    "\n",
    "## Desvantagens  \n",
    "- Sensível à inicialização dos centróides.  \n",
    "- Assume que os clusters são esféricos e de tamanho semelhante.  \n",
    "- Pode convergir para mínimos locais do WCSS.  \n",
    "- O valor de \\( K \\) deve ser escolhido a priori.\n",
    "\n",
    "---\n",
    "\n",
    "## Aplicações  \n",
    "- Compressão de imagens.  \n",
    "- Segmentação de clientes (*Customer Segmentation*).  \n",
    "- Agrupamento de documentos e textos.  \n",
    "- Análise de padrões em grandes conjuntos de dados.\n",
    "\n",
    "---\n",
    "\n",
    "## Pseudocódigo  \n",
    "\n",
    "```text\n",
    "Entrada: Conjunto de dados X = {x_1, x_2, ..., x_n}, número de clusters K.\n",
    "Saída: K clusters {C_1, C_2, ..., C_K}.\n",
    "\n",
    "1. Inicialize K centróides aleatoriamente: C_1, C_2, ..., C_K.\n",
    "2. Enquanto não convergir (ou atingir limite de iterações):\n",
    "      a. Para cada ponto x_i em X:\n",
    "            - Atribua x_i ao cluster com o centróide mais próximo.\n",
    "      b. Para cada cluster C_j:\n",
    "            - Recalcule o centróide como a média dos pontos atribuídos ao cluster.\n",
    "3. Retorne os clusters e centróides finais.\n"
   ]
  },
  {
   "cell_type": "code",
   "execution_count": 25,
   "id": "652af41a-21df-4a55-b1d3-005c1b3c273c",
   "metadata": {},
   "outputs": [],
   "source": [
    "k <- kmeans(dados2d[,5:6], 6 )"
   ]
  },
  {
   "cell_type": "code",
   "execution_count": 27,
   "id": "fc04a18b-a9f5-414d-a2ed-532c4a28cfc0",
   "metadata": {},
   "outputs": [
    {
     "data": {
      "text/plain": [
       "                         \n",
       "                            1   2   3   4   5   6\n",
       "  horizontal-misalignment   0   0   0  53  60  84\n",
       "  imbalance                70   0   0  76  77 110\n",
       "  normal                    0   0   0  15  13  21\n",
       "  overhang-ball_fault       0   0  88   0   0   0\n",
       "  underhang-ball_fault      0  45  91   0   0   0\n",
       "  vertical-misalignment     0   0   0  88  75 138"
      ]
     },
     "metadata": {},
     "output_type": "display_data"
    }
   ],
   "source": [
    "table(dados2d %>% pull(type), k$cluster)"
   ]
  },
  {
   "cell_type": "code",
   "execution_count": 28,
   "id": "515382c7-950d-416c-842b-2fa8002aca22",
   "metadata": {},
   "outputs": [
    {
     "data": {
      "text/plain": [
       "                               \n",
       "                                 1  2  3  4  5  6\n",
       "  horizontal-misalignment 0.5mm  0  0  0 12 16 22\n",
       "  horizontal-misalignment 1.0mm  0  0  0 14 17 18\n",
       "  horizontal-misalignment 1.5mm  0  0  0 11 15 23\n",
       "  horizontal-misalignment 2.0mm  0  0  0 16 12 21\n",
       "  imbalance 10g                  0  0  0 13 13 22\n",
       "  imbalance 15g                  0  0  0 12 12 24\n",
       "  imbalance 20g                  2  0  0 10 16 21\n",
       "  imbalance 25g                  1  0  0 12 18 16\n",
       "  imbalance 30g                 34  0  0 11  0  2\n",
       "  imbalance 35g                 33  0  0  7  3  2\n",
       "  imbalance 6g                   0  0  0 11 15 23\n",
       "  normal NA                      0  0  0 15 13 21\n",
       "  overhang-ball_fault 20g        0  0 25  0  0  0\n",
       "  overhang-ball_fault 35g        0  0 20  0  0  0\n",
       "  overhang-ball_fault 6g         0  0 43  0  0  0\n",
       "  underhang-ball_fault 20g       0 19 30  0  0  0\n",
       "  underhang-ball_fault 35g       0  8 30  0  0  0\n",
       "  underhang-ball_fault 6g        0 18 31  0  0  0\n",
       "  vertical-misalignment 0.51mm   0  0  0 14 14 23\n",
       "  vertical-misalignment 0.63mm   0  0  0 15 15 20\n",
       "  vertical-misalignment 1.27mm   0  0  0 15 12 23\n",
       "  vertical-misalignment 1.40mm   0  0  0 17  9 24\n",
       "  vertical-misalignment 1.78mm   0  0  0 14 12 24\n",
       "  vertical-misalignment 1.90mm   0  0  0 13 13 24"
      ]
     },
     "metadata": {},
     "output_type": "display_data"
    }
   ],
   "source": [
    "table(paste(dados %>% pull(type), dados %>% pull(un)),  k$cluster)"
   ]
  },
  {
   "cell_type": "markdown",
   "id": "cd7dbca0-14b7-4b62-8e67-262050995a78",
   "metadata": {},
   "source": [
    "## Conclusão  \n",
    "\n",
    "Os resultados obtidos evidenciam que a **redução de dimensionalidade** pode melhorar de forma significativa o desempenho de algoritmos de aglomeração. No presente estudo, verificou-se que a aplicação do algoritmo **HDBSCAN** nos **dados brutos** resultou na classificação de todos os pontos como *outliers*. Além disso, em relação à normalização dos dados, constatou-se que a normalização pelo **desvio padrão** resultou em uma perda de qualidade no desempenho do HDBSCAN. Por outro lado, a **normalização em relação à média** apresentou uma melhora nos resultados, o que indica uma maior adequação dessa abordagem para os dados analisados.  \n",
    "\n",
    "Um dos principais desafios identificados é a **definição do número ideal de dimensões** para a execução eficiente do algoritmo. Nesse sentido, métodos baseados em **autoencoders de redes neurais** se destacam por possuírem processos de **otimização de metaparâmetros** integrados, o que oferece uma vantagem em relação a técnicas como **UMAP** ou **t-SNE**, que não incluem essa otimização de forma nativa.  \n",
    "\n",
    "No que diz respeito aos dados analisados, observou-se uma **clara distinção** entre as classes **overhang-ball_fault** e **underhang-ball_fault** em comparação às demais classes. Contudo, no caso do **funcionamento normal do motor**, não foi identificada uma separação significativa em relação às demais condições. Isso revela uma dificuldade substancial em distinguir o **funcionamento normal** do motor de situações de **desbalanceamento** ou **desalinhamento**. Tal desafio representa um obstáculo importante para as equipes de engenharia no desenvolvimento de um **detector de falhas** eficaz para essa classe específica de mau funcionamento.\n",
    "\n",
    "Com relação aos algoritmos HDBSCAN e K-means, ambos desempenharam resultados semelhantes, porém o HDBSCAN conseguiu agrupar os pontos da classe normal em um único grupo e distinguir melhor os grupos overhang-ball_fault e underhang-ball.\n"
   ]
  }
 ],
 "metadata": {
  "kernelspec": {
   "display_name": "R",
   "language": "R",
   "name": "ir"
  },
  "language_info": {
   "codemirror_mode": "r",
   "file_extension": ".r",
   "mimetype": "text/x-r-source",
   "name": "R",
   "pygments_lexer": "r",
   "version": "4.4.2"
  }
 },
 "nbformat": 4,
 "nbformat_minor": 5
}
