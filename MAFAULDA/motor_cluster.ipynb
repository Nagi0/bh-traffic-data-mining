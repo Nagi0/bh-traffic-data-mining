{
 "cells": [
  {
   "cell_type": "markdown",
   "id": "691e6108-783e-4f67-8954-3eae0e0ef555",
   "metadata": {},
   "source": [
    "# Aplicação de Cluster no Dataset MAFAULDA"
   ]
  },
  {
   "cell_type": "code",
   "execution_count": 1,
   "id": "6c9c7f3d-eac0-40fb-915c-097d95ee6415",
   "metadata": {},
   "outputs": [
    {
     "name": "stderr",
     "output_type": "stream",
     "text": [
      "-- \u001b[1mAttaching core tidyverse packages\u001b[22m ------------------------ tidyverse 2.0.0 --\n",
      "\u001b[32mv\u001b[39m \u001b[34mdplyr    \u001b[39m 1.1.4     \u001b[32mv\u001b[39m \u001b[34mreadr    \u001b[39m 2.1.5\n",
      "\u001b[32mv\u001b[39m \u001b[34mforcats  \u001b[39m 1.0.0     \u001b[32mv\u001b[39m \u001b[34mstringr  \u001b[39m 1.5.1\n",
      "\u001b[32mv\u001b[39m \u001b[34mggplot2  \u001b[39m 3.5.1     \u001b[32mv\u001b[39m \u001b[34mtibble   \u001b[39m 3.2.1\n",
      "\u001b[32mv\u001b[39m \u001b[34mlubridate\u001b[39m 1.9.3     \u001b[32mv\u001b[39m \u001b[34mtidyr    \u001b[39m 1.3.1\n",
      "\u001b[32mv\u001b[39m \u001b[34mpurrr    \u001b[39m 1.0.2     \n",
      "-- \u001b[1mConflicts\u001b[22m ------------------------------------------ tidyverse_conflicts() --\n",
      "\u001b[31mx\u001b[39m \u001b[34mdplyr\u001b[39m::\u001b[32mfilter()\u001b[39m masks \u001b[34mstats\u001b[39m::filter()\n",
      "\u001b[31mx\u001b[39m \u001b[34mdplyr\u001b[39m::\u001b[32mlag()\u001b[39m    masks \u001b[34mstats\u001b[39m::lag()\n",
      "\u001b[36mi\u001b[39m Use the conflicted package (\u001b[3m\u001b[34m<http://conflicted.r-lib.org/>\u001b[39m\u001b[23m) to force all conflicts to become errors\n",
      "\n",
      "Attaching package: 'dbscan'\n",
      "\n",
      "\n",
      "The following object is masked from 'package:stats':\n",
      "\n",
      "    as.dendrogram\n",
      "\n",
      "\n"
     ]
    }
   ],
   "source": [
    "library(tidyverse)\n",
    "library(dbscan)\n",
    "library(umap)\n",
    "set.seed(12)"
   ]
  },
  {
   "cell_type": "markdown",
   "id": "1c1f96f7-1336-4a49-95c0-2b5f1f4857a7",
   "metadata": {},
   "source": [
    "## Carrega os dados\n",
    "Os dados são correspondentes aos harmônicos da série temporal do motor"
   ]
  },
  {
   "cell_type": "code",
   "execution_count": 2,
   "id": "56d27686-fcde-42d7-84b3-1cae90b29333",
   "metadata": {},
   "outputs": [
    {
     "name": "stderr",
     "output_type": "stream",
     "text": [
      "\u001b[1mRows: \u001b[22m\u001b[34m709\u001b[39m \u001b[1mColumns: \u001b[22m\u001b[34m8257\u001b[39m\n",
      "\u001b[36m--\u001b[39m \u001b[1mColumn specification\u001b[22m \u001b[36m--------------------------------------------------------\u001b[39m\n",
      "\u001b[1mDelimiter:\u001b[22m \",\"\n",
      "\u001b[31mchr\u001b[39m    (1): file_name\n",
      "\u001b[32mdbl\u001b[39m (8256): tachometer_harmonic_1_frequency, tachometer_harmonic_1, tachomet...\n",
      "\n",
      "\u001b[36mi\u001b[39m Use `spec()` to retrieve the full column specification for this data.\n",
      "\u001b[36mi\u001b[39m Specify the column types or set `show_col_types = FALSE` to quiet this message.\n"
     ]
    }
   ],
   "source": [
    "dados <- read_csv('D:/share/motor_vibration_dataset.csv')"
   ]
  },
  {
   "cell_type": "markdown",
   "id": "e9c73c23-6fcc-41b6-b667-9d2cccbfa5ac",
   "metadata": {},
   "source": [
    "## Limpa os dados\n",
    "Os dados são limpos e os rótulos são divididos em duas colunas."
   ]
  },
  {
   "cell_type": "code",
   "execution_count": 3,
   "id": "97229ce2-911b-4316-abd4-dd550f4fec0c",
   "metadata": {},
   "outputs": [
    {
     "name": "stderr",
     "output_type": "stream",
     "text": [
      "Warning message:\n",
      "\"\u001b[1m\u001b[22mExpected 2 pieces. Missing pieces filled with `NA` in 49 rows [287, 288, 289,\n",
      "290, 291, 292, 293, 294, 295, 296, 297, 298, 299, 300, 301, 302, 303, 304, 305,\n",
      "306, ...].\"\n"
     ]
    }
   ],
   "source": [
    "dados <- dados %>% \n",
    "    mutate(file_name = str_replace_all(file_name, pattern = '\\\\./motorvibration/Data/', replacement = '')) %>%\n",
    "    mutate(file_name = str_replace_all(file_name, pattern = '/[0-9\\\\.]*.csv$', replacement = '')) %>%\n",
    "    separate(file_name, c(\"type\", 'un'), sep='/') %>%\n",
    "    mutate(type = factor(type))"
   ]
  },
  {
   "cell_type": "code",
   "execution_count": 4,
   "id": "ea2b2850-132d-4719-be0c-cc5a18771015",
   "metadata": {},
   "outputs": [
    {
     "data": {
      "text/html": [
       "<table class=\"dataframe\">\n",
       "<caption>A tibble: 6 × 2</caption>\n",
       "<thead>\n",
       "\t<tr><th scope=col>type</th><th scope=col>Total</th></tr>\n",
       "\t<tr><th scope=col>&lt;fct&gt;</th><th scope=col>&lt;int&gt;</th></tr>\n",
       "</thead>\n",
       "<tbody>\n",
       "\t<tr><td>horizontal-misalignment</td><td>147</td></tr>\n",
       "\t<tr><td>imbalance              </td><td>139</td></tr>\n",
       "\t<tr><td>normal                 </td><td> 49</td></tr>\n",
       "\t<tr><td>overhang-ball_fault    </td><td> 88</td></tr>\n",
       "\t<tr><td>underhang-ball_fault   </td><td>136</td></tr>\n",
       "\t<tr><td>vertical-misalignment  </td><td>150</td></tr>\n",
       "</tbody>\n",
       "</table>\n"
      ],
      "text/latex": [
       "A tibble: 6 × 2\n",
       "\\begin{tabular}{ll}\n",
       " type & Total\\\\\n",
       " <fct> & <int>\\\\\n",
       "\\hline\n",
       "\t horizontal-misalignment & 147\\\\\n",
       "\t imbalance               & 139\\\\\n",
       "\t normal                  &  49\\\\\n",
       "\t overhang-ball\\_fault     &  88\\\\\n",
       "\t underhang-ball\\_fault    & 136\\\\\n",
       "\t vertical-misalignment   & 150\\\\\n",
       "\\end{tabular}\n"
      ],
      "text/markdown": [
       "\n",
       "A tibble: 6 × 2\n",
       "\n",
       "| type &lt;fct&gt; | Total &lt;int&gt; |\n",
       "|---|---|\n",
       "| horizontal-misalignment | 147 |\n",
       "| imbalance               | 139 |\n",
       "| normal                  |  49 |\n",
       "| overhang-ball_fault     |  88 |\n",
       "| underhang-ball_fault    | 136 |\n",
       "| vertical-misalignment   | 150 |\n",
       "\n"
      ],
      "text/plain": [
       "  type                    Total\n",
       "1 horizontal-misalignment 147  \n",
       "2 imbalance               139  \n",
       "3 normal                   49  \n",
       "4 overhang-ball_fault      88  \n",
       "5 underhang-ball_fault    136  \n",
       "6 vertical-misalignment   150  "
      ]
     },
     "metadata": {},
     "output_type": "display_data"
    }
   ],
   "source": [
    "dados %>% group_by (type) %>% summarise(Total=n())"
   ]
  },
  {
   "cell_type": "markdown",
   "id": "0b730841-9cd8-4e87-b809-6588ebbf91e5",
   "metadata": {},
   "source": [
    "## Redução de dimensão\n",
    "Para evitar o excesso de outliers o algoritmo UMAP para redução de dimensões foi utilizado."
   ]
  },
  {
   "cell_type": "markdown",
   "id": "1df24178-daa9-4c58-adbf-4d09b713e612",
   "metadata": {},
   "source": [
    "# Uniform Manifold Approximation and Projection (UMAP) - Descrição do ChatGTP\n",
    "\n",
    "## Introdução\n",
    "\n",
    "O **UMAP** é um algoritmo de redução de dimensionalidade amplamente utilizado em aprendizado de máquina e visualização de dados. Foi introduzido por *Leland McInnes* e *John Healy* em 2018 e é baseado em princípios de geometria diferencial e teoria dos grafos.\n",
    "\n",
    "O objetivo principal do UMAP é projetar dados de alta dimensionalidade em um espaço de menor dimensão, preservando ao máximo as estruturas locais e globais do conjunto original.\n",
    "\n",
    "---\n",
    "\n",
    "## Fundamentos Matemáticos\n",
    "\n",
    "O UMAP utiliza conceitos de:\n",
    "\n",
    "1. **Geometria Diferencial**: Define uma métrica Riemanniana nos dados para modelar sua estrutura local.\n",
    "2. **Teoria de Grafos**: Constrói um grafo baseado em vizinhos próximos para capturar relações locais.\n",
    "3. **Topologia Algébrica**: Relaciona a estrutura de alta dimensão ao grafo resultante.\n",
    "\n",
    "### Etapas do Algoritmo\n",
    "\n",
    "1. **Construção do Grafo de Similaridade**:\n",
    "   - Cada ponto no espaço original é considerado como um nó no grafo.\n",
    "   - Define-se um conjunto de vizinhos próximos usando a métrica **k-nearest neighbors (k-NN)**.\n",
    "   - Uma função de afinidade (ou probabilidade) é atribuída às arestas do grafo para medir a similaridade entre pontos.\n",
    "\n",
    "2. **Redução de Dimensionalidade**:\n",
    "   - O grafo de alta dimensão é aproximado em um espaço de menor dimensão.\n",
    "   - A otimização é feita através da minimização de uma **função de perda** que compara a estrutura dos grafos nos dois espaços (original e reduzido).\n",
    "\n",
    "---\n",
    "\n",
    "## Principais Características\n",
    "\n",
    "- **Preservação de Estruturas Locais**: UMAP prioriza manter vizinhanças próximas no espaço reduzido.\n",
    "- **Flexibilidade**: Suporta dados de diferentes métricas de distância, como Euclidiana, Manhattan, entre outras.\n",
    "- **Velocidade**: É mais rápido que algoritmos como o t-SNE para grandes conjuntos de dados.\n",
    "- **Parâmetros Importantes**:\n",
    "  - *n_neighbors*: Controla o tamanho da vizinhança local.\n",
    "  - *min_dist*: Define a distância mínima entre os pontos no espaço reduzido.\n",
    "  - *metric*: Métrica de distância usada.\n",
    "\n",
    "---\n",
    "\n",
    "## Comparação com t-SNE\n",
    "\n",
    "| Aspecto                  | UMAP                        | t-SNE                       |\n",
    "|--------------------------|-----------------------------|-----------------------------|\n",
    "| **Tempo de execução**     | Mais rápido                | Mais lento                  |\n",
    "| **Escalabilidade**        | Melhor                     | Menor                       |\n",
    "| **Preservação Global**    | Melhor equilíbrio global   | Focado em estruturas locais |\n",
    "| **Parâmetros**            | Mais configuráveis         | Menos configuráveis         |\n",
    "\n",
    "---\n",
    "\n",
    "## Aplicações\n",
    "\n",
    "- **Visualização de Dados**: Exploração de conjuntos de dados de alta dimensionalidade, como embeddings de redes neurais.\n",
    "- **Pré-processamento**: Redução de dimensionalidade antes de aplicar algoritmos de aprendizado supervisionado ou não supervisionado.\n",
    "- **Análise de Dados de Genômica**: Em bioinformática para análise de expressão gênica.\n",
    "- **Processamento de Linguagem Natural**: Redução de embeddings de palavras ou frases."
   ]
  },
  {
   "cell_type": "code",
   "execution_count": 5,
   "id": "6dbde1a5-c8ac-483b-9eb1-a9013ecbbabb",
   "metadata": {},
   "outputs": [],
   "source": [
    "custom.settings = umap.defaults\n",
    "#custom.settings$n_neighbors = 5\n",
    "custom.settings$metric = 'manhattan'\n",
    "custom.settings$n_epochs = 5000\n",
    "custom.settings$min_dist= 0.001\n",
    "custom.settings$n_components = 2"
   ]
  },
  {
   "cell_type": "code",
   "execution_count": 6,
   "id": "06e56c67-4124-48c6-9ccf-da28eaeee1d4",
   "metadata": {},
   "outputs": [],
   "source": [
    "dados.umap_scale <- umap(\n",
    "    scale(dados[,3:dim(dados)[2]]), config=custom.settings)\n",
    "dados.umap <- umap(\n",
    "    dados[,3:dim(dados)[2]], config=custom.settings)"
   ]
  },
  {
   "cell_type": "code",
   "execution_count": 7,
   "id": "d3febae3-6d11-4881-b730-78629d68ec42",
   "metadata": {},
   "outputs": [
    {
     "data": {
      "text/plain": [
       "       V1               V2        \n",
       " Min.   :-37.25   Min.   :-33.07  \n",
       " 1st Qu.:-18.42   1st Qu.:-31.25  \n",
       " Median :-14.92   Median :-27.68  \n",
       " Mean   :  0.00   Mean   :  0.00  \n",
       " 3rd Qu.: 19.82   3rd Qu.: 27.86  \n",
       " Max.   : 42.65   Max.   : 55.25  "
      ]
     },
     "metadata": {},
     "output_type": "display_data"
    }
   ],
   "source": [
    "summary(dados.umap$layout)"
   ]
  },
  {
   "cell_type": "code",
   "execution_count": 8,
   "id": "0ea6d8a3-5bea-4281-9de3-e7f71040e60c",
   "metadata": {},
   "outputs": [
    {
     "data": {
      "text/plain": [
       "       V1                V2        \n",
       " Min.   :-13.311   Min.   :-15.74  \n",
       " 1st Qu.:-11.870   1st Qu.:-14.22  \n",
       " Median : -7.441   Median :-12.95  \n",
       " Mean   :  0.000   Mean   :  0.00  \n",
       " 3rd Qu.:  6.221   3rd Qu.: 13.76  \n",
       " Max.   : 35.077   Max.   : 55.14  "
      ]
     },
     "metadata": {},
     "output_type": "display_data"
    }
   ],
   "source": [
    "summary(dados.umap_scale$layout)"
   ]
  },
  {
   "cell_type": "code",
   "execution_count": 9,
   "id": "566381e7-c3b0-4ee7-8497-0242c27ae34f",
   "metadata": {},
   "outputs": [
    {
     "data": {
      "image/png": "[encoded data removed]",
      "text/plain": [
       "Plot with title \"Scale Data\""
      ]
     },
     "metadata": {
      "image/png": {
       "height": 420,
       "width": 420
      }
     },
     "output_type": "display_data"
    }
   ],
   "source": [
    "#options(repr.plot.width = 1, repr.plot.height = 0.75)\n",
    "par(mfrow = c(1, 2))\n",
    "plot(dados.umap$layout, xlab='x', ylab='y', main=\"Unscaled Data\" )\n",
    "plot(dados.umap_scale$layout, xlab='x', ylab='y', main=\"Scale Data\" )\n",
    "par(mfrow = c(1, 1))"
   ]
  },
  {
   "cell_type": "code",
   "execution_count": 10,
   "id": "e7ec9c3f-9945-4cfc-bcca-5ce2a4ce2c04",
   "metadata": {},
   "outputs": [
    {
     "name": "stderr",
     "output_type": "stream",
     "text": [
      "Warning message:\n",
      "\"\u001b[1m\u001b[22mThe `x` argument of `as_tibble.matrix()` must have unique column names if\n",
      "`.name_repair` is omitted as of tibble 2.0.0.\n",
      "\u001b[36mi\u001b[39m Using compatibility `.name_repair`.\"\n"
     ]
    }
   ],
   "source": [
    "dados2d <- cbind(dados[,1:2], as_tibble(dados.umap$layout), as_tibble(dados.umap_scale$layout))\n",
    "colnames(dados2d) <- c('type', 'un', 'x_unscale', 'y_unscale', 'x_scale', 'y_scale')"
   ]
  },
  {
   "cell_type": "code",
   "execution_count": 11,
   "id": "42126912-1e31-4d40-b423-4cbc335d3b4b",
   "metadata": {},
   "outputs": [
    {
     "data": {
      "image/png": "[encoded data removed]",
      "text/plain": [
       "plot without title"
      ]
     },
     "metadata": {
      "image/png": {
       "height": 420,
       "width": 420
      }
     },
     "output_type": "display_data"
    }
   ],
   "source": [
    "plt1 <- dados2d %>%\n",
    "    ggplot(aes(x=x_unscale, y=y_unscale, color=type)) +\n",
    "    geom_point(alpha=0.5) +\n",
    "    theme(legend.position = 'top') +\n",
    "    labs(title='Mafaulda Data', subtitle = 'Umap 2D Projection - Unscaled Data', caption = '100 Harmonics') +\n",
    "    xlab('') +\n",
    "    ylab('') + theme(legend.title=element_blank())\n",
    "print(plt1)"
   ]
  },
  {
   "cell_type": "code",
   "execution_count": 12,
   "id": "9681f5c3-f8e4-4376-814d-76249054764e",
   "metadata": {},
   "outputs": [
    {
     "data": {
      "image/png": "[encoded data removed]",
      "text/plain": [
       "plot without title"
      ]
     },
     "metadata": {
      "image/png": {
       "height": 420,
       "width": 420
      }
     },
     "output_type": "display_data"
    }
   ],
   "source": [
    "plt2 <- dados2d %>%\n",
    "    ggplot(aes(x=x_scale, y=y_scale, color=type)) +\n",
    "    geom_point(alpha=0.5) +\n",
    "    theme(legend.position = 'top') +\n",
    "    labs(title='Mafaulda Data', subtitle = 'Umap 2D Projection - Scaled Data', caption = '100 Harmonics') +\n",
    "    xlab('') +\n",
    "    ylab('') + theme(legend.title=element_blank())\n",
    "print(plt2)"
   ]
  },
  {
   "cell_type": "code",
   "execution_count": 13,
   "id": "bde86149-d5ed-4f25-82bf-608dac159903",
   "metadata": {},
   "outputs": [
    {
     "data": {
      "text/html": [
       "<strong>pdf:</strong> 2"
      ],
      "text/latex": [
       "\\textbf{pdf:} 2"
      ],
      "text/markdown": [
       "**pdf:** 2"
      ],
      "text/plain": [
       "pdf \n",
       "  2 "
      ]
     },
     "metadata": {},
     "output_type": "display_data"
    }
   ],
   "source": [
    "pdf(\"plots.pdf\")\n",
    "print(plt1)\n",
    "print(plt2)\n",
    "dev.off()"
   ]
  },
  {
   "cell_type": "markdown",
   "id": "ca279ad3-0b1e-4027-a1c7-10c0ee8d5b01",
   "metadata": {},
   "source": [
    "# HDBSCAN (Hierarchical Density-Based Spatial Clustering of Applications with Noise) - ChatGPT\n",
    "\n",
    "## Introdução\n",
    "\n",
    "O **HDBSCAN** é uma extensão do algoritmo **DBSCAN** que realiza clustering baseado em densidade, mas com melhorias significativas para lidar com conjuntos de dados complexos. Ele foi introduzido por *Campello, Moulavi e Sander* em 2013.\n",
    "\n",
    "O HDBSCAN é projetado para encontrar clusters de forma hierárquica, eliminando a necessidade de definir um único parâmetro de densidade (como o `eps` no DBSCAN), tornando-o mais adaptável a dados com densidades variadas.\n",
    "\n",
    "---\n",
    "\n",
    "## Fundamentos Matemáticos\n",
    "\n",
    "O HDBSCAN combina conceitos de:\n",
    "\n",
    "1. **Clustering por Densidade**: Agrupa pontos densamente conectados e identifica regiões esparsas como ruído.\n",
    "2. **Hierarquia**: Gera uma hierarquia de clusters baseada em uma abordagem de árvore.\n",
    "3. **Persistência de Clusters**: Seleciona automaticamente os clusters mais \"estáveis\" ao longo da hierarquia.\n",
    "\n",
    "### Principais Etapas do Algoritmo\n",
    "\n",
    "1. **Conversão do Espaço de Dados**:\n",
    "   - Calcula a **distância mútua** entre os pontos usando uma métrica (geralmente Euclidiana).\n",
    "   - Transforma as distâncias em **distâncias mútua corrigidas** através de uma função de densidade local.\n",
    "\n",
    "2. **Construção de MST (Minimum Spanning Tree)**:\n",
    "   - O HDBSCAN utiliza um **grafo de vizinhanças** e gera uma **árvore geradora mínima (MST)** para conectar os pontos baseando-se nas distâncias ajustadas.\n",
    "\n",
    "3. **Hierarquia de Clusters**:\n",
    "   - Gera uma **hierarquia de clusters** eliminando sucessivamente as arestas mais \"longas\" da MST, dividindo o grafo em componentes conectados.\n",
    "   - Cada nível da hierarquia representa diferentes densidades.\n",
    "\n",
    "4. **Extração de Clusters Planos**:\n",
    "   - Analisa a persistência (estabilidade) dos clusters ao longo da hierarquia.\n",
    "   - Seleciona automaticamente os clusters mais estáveis, que representam melhor os dados.\n",
    "\n",
    "5. **Identificação de Ruído**:\n",
    "   - Pontos que não pertencem a nenhum cluster são identificados como **outliers**.\n",
    "\n",
    "---\n",
    "\n",
    "## Principais Características\n",
    "\n",
    "- **Adaptativo**: Não exige que os clusters tenham densidades uniformes.\n",
    "- **Robustez**: Pode identificar clusters de formas arbitrárias e lidar com ruído de maneira eficiente.\n",
    "- **Automatização**: Seleciona automaticamente os parâmetros de densidade mais apropriados.\n",
    "- **Hierarquia**: Fornece uma representação hierárquica dos clusters.\n",
    "- **Escalabilidade**: Melhor desempenho em comparação com algoritmos hierárquicos tradicionais.\n",
    "\n",
    "### Parâmetros Importantes\n",
    "\n",
    "- *min_samples*: Número mínimo de pontos para definir a densidade local.\n",
    "- *min_cluster_size*: Tamanho mínimo para considerar um grupo de pontos como cluster.\n",
    "- *metric*: Métrica de distância usada (ex.: Euclidiana, Manhattan, etc.).\n",
    "\n",
    "---\n",
    "\n",
    "## Comparação com DBSCAN\n",
    "\n",
    "| Aspecto                  | HDBSCAN                      | DBSCAN                      |\n",
    "|--------------------------|------------------------------|-----------------------------|\n",
    "| **Densidade Variável**    | Suporta densidades variáveis | Requer densidade uniforme   |\n",
    "| **Parâmetros**            | Mais flexível               | Necessita definir `eps`     |\n",
    "| **Hierarquia**            | Gera hierarquia de clusters | Não gera hierarquia         |\n",
    "| **Identificação de Ruído**| Robusta                     | Funciona, mas menos adaptável|\n",
    "| **Complexidade**          | Levemente maior             | Menor                       |\n",
    "\n",
    "---\n",
    "\n",
    "## Aplicações\n",
    "\n",
    "- **Análise de Dados Espaciais**: Clustering em dados geográficos ou espaciais.\n",
    "- **Detecção de Outliers**: Identificação de pontos atípicos em grandes conjuntos de dados.\n",
    "- **Bioinformática**: Agrupamento de dados genéticos ou de expressão gênica.\n",
    "- **Marketing e Segmentação**: Agrupamento de clientes com características similares.\n",
    "- **Processamento de Linguagem Natural**: Clustering de embeddings de texto."
   ]
  },
  {
   "cell_type": "code",
   "execution_count": 14,
   "id": "b4808e5b-6787-4849-b4a6-fb271f1d1205",
   "metadata": {},
   "outputs": [
    {
     "data": {
      "text/html": [
       "<table class=\"dataframe\">\n",
       "<caption>A data.frame: 709 × 6</caption>\n",
       "<thead>\n",
       "\t<tr><th scope=col>type</th><th scope=col>un</th><th scope=col>x_unscale</th><th scope=col>y_unscale</th><th scope=col>x_scale</th><th scope=col>y_scale</th></tr>\n",
       "\t<tr><th scope=col>&lt;fct&gt;</th><th scope=col>&lt;chr&gt;</th><th scope=col>&lt;dbl&gt;</th><th scope=col>&lt;dbl&gt;</th><th scope=col>&lt;dbl&gt;</th><th scope=col>&lt;dbl&gt;</th></tr>\n",
       "</thead>\n",
       "<tbody>\n",
       "\t<tr><td>horizontal-misalignment</td><td>1.0mm</td><td>-19.83470</td><td>-27.68061</td><td>-6.981536</td><td>-13.44667</td></tr>\n",
       "\t<tr><td>horizontal-misalignment</td><td>1.0mm</td><td>-19.67957</td><td>-28.03873</td><td>-6.986940</td><td>-13.45243</td></tr>\n",
       "\t<tr><td>horizontal-misalignment</td><td>1.0mm</td><td>-19.75874</td><td>-27.92126</td><td>-6.943283</td><td>-13.43327</td></tr>\n",
       "\t<tr><td>horizontal-misalignment</td><td>1.0mm</td><td>-19.75526</td><td>-28.14221</td><td>-6.825637</td><td>-13.41140</td></tr>\n",
       "\t<tr><td>horizontal-misalignment</td><td>1.0mm</td><td>-19.80020</td><td>-28.20112</td><td>-6.634976</td><td>-13.41526</td></tr>\n",
       "\t<tr><td>horizontal-misalignment</td><td>1.0mm</td><td>-19.79014</td><td>-28.11345</td><td>-6.677051</td><td>-13.40921</td></tr>\n",
       "\t<tr><td>horizontal-misalignment</td><td>1.0mm</td><td>-19.81464</td><td>-28.35210</td><td>-6.244997</td><td>-13.41049</td></tr>\n",
       "\t<tr><td>horizontal-misalignment</td><td>1.0mm</td><td>-19.39934</td><td>-28.76599</td><td>-6.201233</td><td>-13.45638</td></tr>\n",
       "\t<tr><td>horizontal-misalignment</td><td>1.0mm</td><td>-19.81119</td><td>-28.31566</td><td>-6.397596</td><td>-13.39802</td></tr>\n",
       "\t<tr><td>horizontal-misalignment</td><td>1.0mm</td><td>-19.72354</td><td>-28.49875</td><td>-6.252306</td><td>-13.41457</td></tr>\n",
       "\t<tr><td>horizontal-misalignment</td><td>1.0mm</td><td>-19.41893</td><td>-28.87125</td><td>-6.113590</td><td>-13.46475</td></tr>\n",
       "\t<tr><td>horizontal-misalignment</td><td>1.0mm</td><td>-19.55105</td><td>-28.96112</td><td>-5.885258</td><td>-13.53826</td></tr>\n",
       "\t<tr><td>horizontal-misalignment</td><td>1.0mm</td><td>-19.36006</td><td>-28.97927</td><td>-5.805611</td><td>-13.56914</td></tr>\n",
       "\t<tr><td>horizontal-misalignment</td><td>1.0mm</td><td>-19.32333</td><td>-28.95493</td><td>-5.898378</td><td>-13.53967</td></tr>\n",
       "\t<tr><td>horizontal-misalignment</td><td>1.0mm</td><td>-18.97930</td><td>-29.80824</td><td>-5.682770</td><td>-13.62145</td></tr>\n",
       "\t<tr><td>horizontal-misalignment</td><td>1.0mm</td><td>-18.93001</td><td>-29.91073</td><td>-5.575358</td><td>-13.67912</td></tr>\n",
       "\t<tr><td>horizontal-misalignment</td><td>1.0mm</td><td>-18.94472</td><td>-29.90788</td><td>-4.891894</td><td>-13.95392</td></tr>\n",
       "\t<tr><td>horizontal-misalignment</td><td>1.0mm</td><td>-19.06505</td><td>-29.59010</td><td>-4.692385</td><td>-13.97518</td></tr>\n",
       "\t<tr><td>horizontal-misalignment</td><td>1.0mm</td><td>-18.90323</td><td>-29.94307</td><td>-4.811139</td><td>-14.00918</td></tr>\n",
       "\t<tr><td>horizontal-misalignment</td><td>1.0mm</td><td>-19.01858</td><td>-29.64114</td><td>-4.634392</td><td>-14.03247</td></tr>\n",
       "\t<tr><td>horizontal-misalignment</td><td>1.0mm</td><td>-18.67742</td><td>-30.19719</td><td>-4.653458</td><td>-14.06394</td></tr>\n",
       "\t<tr><td>horizontal-misalignment</td><td>1.0mm</td><td>-18.71435</td><td>-30.14475</td><td>-4.644395</td><td>-14.07488</td></tr>\n",
       "\t<tr><td>horizontal-misalignment</td><td>1.0mm</td><td>-18.75720</td><td>-30.12501</td><td>-4.474929</td><td>-14.16949</td></tr>\n",
       "\t<tr><td>horizontal-misalignment</td><td>1.0mm</td><td>-18.60791</td><td>-30.34210</td><td>-4.376706</td><td>-14.20445</td></tr>\n",
       "\t<tr><td>horizontal-misalignment</td><td>1.0mm</td><td>-18.48190</td><td>-30.13119</td><td>-4.458458</td><td>-14.16604</td></tr>\n",
       "\t<tr><td>horizontal-misalignment</td><td>1.0mm</td><td>-18.42855</td><td>-30.43732</td><td>-4.228219</td><td>-14.27863</td></tr>\n",
       "\t<tr><td>horizontal-misalignment</td><td>1.0mm</td><td>-16.88715</td><td>-31.64523</td><td>-3.902490</td><td>-14.48741</td></tr>\n",
       "\t<tr><td>horizontal-misalignment</td><td>1.0mm</td><td>-17.62970</td><td>-31.19441</td><td>-3.874575</td><td>-14.46957</td></tr>\n",
       "\t<tr><td>horizontal-misalignment</td><td>1.0mm</td><td>-16.99867</td><td>-31.57514</td><td>-3.829672</td><td>-14.58146</td></tr>\n",
       "\t<tr><td>horizontal-misalignment</td><td>1.0mm</td><td>-16.84470</td><td>-31.70442</td><td>-3.793950</td><td>-14.56417</td></tr>\n",
       "\t<tr><td>...</td><td>...</td><td>...</td><td>...</td><td>...</td><td>...</td></tr>\n",
       "\t<tr><td>vertical-misalignment</td><td>1.90mm</td><td>-17.64176</td><td>-29.35784</td><td> -9.817141</td><td>-14.51097</td></tr>\n",
       "\t<tr><td>vertical-misalignment</td><td>1.90mm</td><td>-17.55069</td><td>-29.43063</td><td>-10.048790</td><td>-14.63520</td></tr>\n",
       "\t<tr><td>vertical-misalignment</td><td>1.90mm</td><td>-15.25856</td><td>-31.34105</td><td>-10.249662</td><td>-14.71518</td></tr>\n",
       "\t<tr><td>vertical-misalignment</td><td>1.90mm</td><td>-15.21565</td><td>-31.38974</td><td>-10.317353</td><td>-14.76738</td></tr>\n",
       "\t<tr><td>vertical-misalignment</td><td>1.90mm</td><td>-15.18990</td><td>-31.25183</td><td>-10.239360</td><td>-14.73604</td></tr>\n",
       "\t<tr><td>vertical-misalignment</td><td>1.90mm</td><td>-15.16478</td><td>-31.28900</td><td>-10.674138</td><td>-14.91488</td></tr>\n",
       "\t<tr><td>vertical-misalignment</td><td>1.90mm</td><td>-15.12171</td><td>-31.29469</td><td>-10.801533</td><td>-14.97352</td></tr>\n",
       "\t<tr><td>vertical-misalignment</td><td>1.90mm</td><td>-15.13210</td><td>-31.61926</td><td>-10.625861</td><td>-14.93421</td></tr>\n",
       "\t<tr><td>vertical-misalignment</td><td>1.90mm</td><td>-15.05117</td><td>-31.76767</td><td>-11.263358</td><td>-15.10817</td></tr>\n",
       "\t<tr><td>vertical-misalignment</td><td>1.90mm</td><td>-14.87231</td><td>-32.02752</td><td>-10.266506</td><td>-14.71627</td></tr>\n",
       "\t<tr><td>vertical-misalignment</td><td>1.90mm</td><td>-14.96404</td><td>-32.05506</td><td>-11.350914</td><td>-15.23352</td></tr>\n",
       "\t<tr><td>vertical-misalignment</td><td>1.90mm</td><td>-14.95213</td><td>-31.98986</td><td>-11.501815</td><td>-15.19576</td></tr>\n",
       "\t<tr><td>vertical-misalignment</td><td>1.90mm</td><td>-14.88344</td><td>-32.05000</td><td>-11.754914</td><td>-15.10207</td></tr>\n",
       "\t<tr><td>vertical-misalignment</td><td>1.90mm</td><td>-14.67302</td><td>-32.36125</td><td>-11.905849</td><td>-15.60022</td></tr>\n",
       "\t<tr><td>vertical-misalignment</td><td>1.90mm</td><td>-14.49222</td><td>-32.57283</td><td>-11.973280</td><td>-15.64225</td></tr>\n",
       "\t<tr><td>vertical-misalignment</td><td>1.90mm</td><td>-14.81319</td><td>-32.28551</td><td>-11.938976</td><td>-15.16421</td></tr>\n",
       "\t<tr><td>vertical-misalignment</td><td>1.90mm</td><td>-14.54352</td><td>-32.54303</td><td>-12.053952</td><td>-15.47323</td></tr>\n",
       "\t<tr><td>vertical-misalignment</td><td>1.90mm</td><td>-14.52205</td><td>-32.54816</td><td>-12.173245</td><td>-15.64336</td></tr>\n",
       "\t<tr><td>vertical-misalignment</td><td>1.90mm</td><td>-14.49278</td><td>-32.57849</td><td>-12.073147</td><td>-15.62343</td></tr>\n",
       "\t<tr><td>vertical-misalignment</td><td>1.90mm</td><td>-14.44692</td><td>-32.59971</td><td>-12.209010</td><td>-15.67662</td></tr>\n",
       "\t<tr><td>vertical-misalignment</td><td>1.90mm</td><td>-14.46643</td><td>-32.61602</td><td>-12.321937</td><td>-15.27471</td></tr>\n",
       "\t<tr><td>vertical-misalignment</td><td>1.90mm</td><td>-14.27278</td><td>-32.76729</td><td>-12.220820</td><td>-15.72655</td></tr>\n",
       "\t<tr><td>vertical-misalignment</td><td>1.90mm</td><td>-14.23518</td><td>-32.79607</td><td>-12.573872</td><td>-15.34727</td></tr>\n",
       "\t<tr><td>vertical-misalignment</td><td>1.90mm</td><td>-14.20492</td><td>-32.83148</td><td>-12.455769</td><td>-15.63593</td></tr>\n",
       "\t<tr><td>vertical-misalignment</td><td>1.90mm</td><td>-14.16075</td><td>-32.90223</td><td>-12.567322</td><td>-15.38915</td></tr>\n",
       "\t<tr><td>vertical-misalignment</td><td>1.90mm</td><td>-14.14281</td><td>-32.92453</td><td>-12.558152</td><td>-15.54960</td></tr>\n",
       "\t<tr><td>vertical-misalignment</td><td>1.90mm</td><td>-14.10137</td><td>-32.95256</td><td>-12.573058</td><td>-15.53678</td></tr>\n",
       "\t<tr><td>vertical-misalignment</td><td>1.90mm</td><td>-14.08072</td><td>-32.94132</td><td>-12.409260</td><td>-15.70827</td></tr>\n",
       "\t<tr><td>vertical-misalignment</td><td>1.90mm</td><td>-14.09682</td><td>-32.91647</td><td>-12.633885</td><td>-15.43653</td></tr>\n",
       "\t<tr><td>vertical-misalignment</td><td>1.90mm</td><td>-14.12016</td><td>-32.90532</td><td>-12.643061</td><td>-15.45389</td></tr>\n",
       "</tbody>\n",
       "</table>\n"
      ],
      "text/latex": [
       "A data.frame: 709 × 6\n",
       "\\begin{tabular}{llllll}\n",
       " type & un & x\\_unscale & y\\_unscale & x\\_scale & y\\_scale\\\\\n",
       " <fct> & <chr> & <dbl> & <dbl> & <dbl> & <dbl>\\\\\n",
       "\\hline\n",
       "\t horizontal-misalignment & 1.0mm & -19.83470 & -27.68061 & -6.981536 & -13.44667\\\\\n",
       "\t horizontal-misalignment & 1.0mm & -19.67957 & -28.03873 & -6.986940 & -13.45243\\\\\n",
       "\t horizontal-misalignment & 1.0mm & -19.75874 & -27.92126 & -6.943283 & -13.43327\\\\\n",
       "\t horizontal-misalignment & 1.0mm & -19.75526 & -28.14221 & -6.825637 & -13.41140\\\\\n",
       "\t horizontal-misalignment & 1.0mm & -19.80020 & -28.20112 & -6.634976 & -13.41526\\\\\n",
       "\t horizontal-misalignment & 1.0mm & -19.79014 & -28.11345 & -6.677051 & -13.40921\\\\\n",
       "\t horizontal-misalignment & 1.0mm & -19.81464 & -28.35210 & -6.244997 & -13.41049\\\\\n",
       "\t horizontal-misalignment & 1.0mm & -19.39934 & -28.76599 & -6.201233 & -13.45638\\\\\n",
       "\t horizontal-misalignment & 1.0mm & -19.81119 & -28.31566 & -6.397596 & -13.39802\\\\\n",
       "\t horizontal-misalignment & 1.0mm & -19.72354 & -28.49875 & -6.252306 & -13.41457\\\\\n",
       "\t horizontal-misalignment & 1.0mm & -19.41893 & -28.87125 & -6.113590 & -13.46475\\\\\n",
       "\t horizontal-misalignment & 1.0mm & -19.55105 & -28.96112 & -5.885258 & -13.53826\\\\\n",
       "\t horizontal-misalignment & 1.0mm & -19.36006 & -28.97927 & -5.805611 & -13.56914\\\\\n",
       "\t horizontal-misalignment & 1.0mm & -19.32333 & -28.95493 & -5.898378 & -13.53967\\\\\n",
       "\t horizontal-misalignment & 1.0mm & -18.97930 & -29.80824 & -5.682770 & -13.62145\\\\\n",
       "\t horizontal-misalignment & 1.0mm & -18.93001 & -29.91073 & -5.575358 & -13.67912\\\\\n",
       "\t horizontal-misalignment & 1.0mm & -18.94472 & -29.90788 & -4.891894 & -13.95392\\\\\n",
       "\t horizontal-misalignment & 1.0mm & -19.06505 & -29.59010 & -4.692385 & -13.97518\\\\\n",
       "\t horizontal-misalignment & 1.0mm & -18.90323 & -29.94307 & -4.811139 & -14.00918\\\\\n",
       "\t horizontal-misalignment & 1.0mm & -19.01858 & -29.64114 & -4.634392 & -14.03247\\\\\n",
       "\t horizontal-misalignment & 1.0mm & -18.67742 & -30.19719 & -4.653458 & -14.06394\\\\\n",
       "\t horizontal-misalignment & 1.0mm & -18.71435 & -30.14475 & -4.644395 & -14.07488\\\\\n",
       "\t horizontal-misalignment & 1.0mm & -18.75720 & -30.12501 & -4.474929 & -14.16949\\\\\n",
       "\t horizontal-misalignment & 1.0mm & -18.60791 & -30.34210 & -4.376706 & -14.20445\\\\\n",
       "\t horizontal-misalignment & 1.0mm & -18.48190 & -30.13119 & -4.458458 & -14.16604\\\\\n",
       "\t horizontal-misalignment & 1.0mm & -18.42855 & -30.43732 & -4.228219 & -14.27863\\\\\n",
       "\t horizontal-misalignment & 1.0mm & -16.88715 & -31.64523 & -3.902490 & -14.48741\\\\\n",
       "\t horizontal-misalignment & 1.0mm & -17.62970 & -31.19441 & -3.874575 & -14.46957\\\\\n",
       "\t horizontal-misalignment & 1.0mm & -16.99867 & -31.57514 & -3.829672 & -14.58146\\\\\n",
       "\t horizontal-misalignment & 1.0mm & -16.84470 & -31.70442 & -3.793950 & -14.56417\\\\\n",
       "\t ... & ... & ... & ... & ... & ...\\\\\n",
       "\t vertical-misalignment & 1.90mm & -17.64176 & -29.35784 &  -9.817141 & -14.51097\\\\\n",
       "\t vertical-misalignment & 1.90mm & -17.55069 & -29.43063 & -10.048790 & -14.63520\\\\\n",
       "\t vertical-misalignment & 1.90mm & -15.25856 & -31.34105 & -10.249662 & -14.71518\\\\\n",
       "\t vertical-misalignment & 1.90mm & -15.21565 & -31.38974 & -10.317353 & -14.76738\\\\\n",
       "\t vertical-misalignment & 1.90mm & -15.18990 & -31.25183 & -10.239360 & -14.73604\\\\\n",
       "\t vertical-misalignment & 1.90mm & -15.16478 & -31.28900 & -10.674138 & -14.91488\\\\\n",
       "\t vertical-misalignment & 1.90mm & -15.12171 & -31.29469 & -10.801533 & -14.97352\\\\\n",
       "\t vertical-misalignment & 1.90mm & -15.13210 & -31.61926 & -10.625861 & -14.93421\\\\\n",
       "\t vertical-misalignment & 1.90mm & -15.05117 & -31.76767 & -11.263358 & -15.10817\\\\\n",
       "\t vertical-misalignment & 1.90mm & -14.87231 & -32.02752 & -10.266506 & -14.71627\\\\\n",
       "\t vertical-misalignment & 1.90mm & -14.96404 & -32.05506 & -11.350914 & -15.23352\\\\\n",
       "\t vertical-misalignment & 1.90mm & -14.95213 & -31.98986 & -11.501815 & -15.19576\\\\\n",
       "\t vertical-misalignment & 1.90mm & -14.88344 & -32.05000 & -11.754914 & -15.10207\\\\\n",
       "\t vertical-misalignment & 1.90mm & -14.67302 & -32.36125 & -11.905849 & -15.60022\\\\\n",
       "\t vertical-misalignment & 1.90mm & -14.49222 & -32.57283 & -11.973280 & -15.64225\\\\\n",
       "\t vertical-misalignment & 1.90mm & -14.81319 & -32.28551 & -11.938976 & -15.16421\\\\\n",
       "\t vertical-misalignment & 1.90mm & -14.54352 & -32.54303 & -12.053952 & -15.47323\\\\\n",
       "\t vertical-misalignment & 1.90mm & -14.52205 & -32.54816 & -12.173245 & -15.64336\\\\\n",
       "\t vertical-misalignment & 1.90mm & -14.49278 & -32.57849 & -12.073147 & -15.62343\\\\\n",
       "\t vertical-misalignment & 1.90mm & -14.44692 & -32.59971 & -12.209010 & -15.67662\\\\\n",
       "\t vertical-misalignment & 1.90mm & -14.46643 & -32.61602 & -12.321937 & -15.27471\\\\\n",
       "\t vertical-misalignment & 1.90mm & -14.27278 & -32.76729 & -12.220820 & -15.72655\\\\\n",
       "\t vertical-misalignment & 1.90mm & -14.23518 & -32.79607 & -12.573872 & -15.34727\\\\\n",
       "\t vertical-misalignment & 1.90mm & -14.20492 & -32.83148 & -12.455769 & -15.63593\\\\\n",
       "\t vertical-misalignment & 1.90mm & -14.16075 & -32.90223 & -12.567322 & -15.38915\\\\\n",
       "\t vertical-misalignment & 1.90mm & -14.14281 & -32.92453 & -12.558152 & -15.54960\\\\\n",
       "\t vertical-misalignment & 1.90mm & -14.10137 & -32.95256 & -12.573058 & -15.53678\\\\\n",
       "\t vertical-misalignment & 1.90mm & -14.08072 & -32.94132 & -12.409260 & -15.70827\\\\\n",
       "\t vertical-misalignment & 1.90mm & -14.09682 & -32.91647 & -12.633885 & -15.43653\\\\\n",
       "\t vertical-misalignment & 1.90mm & -14.12016 & -32.90532 & -12.643061 & -15.45389\\\\\n",
       "\\end{tabular}\n"
      ],
      "text/markdown": [
       "\n",
       "A data.frame: 709 × 6\n",
       "\n",
       "| type &lt;fct&gt; | un &lt;chr&gt; | x_unscale &lt;dbl&gt; | y_unscale &lt;dbl&gt; | x_scale &lt;dbl&gt; | y_scale &lt;dbl&gt; |\n",
       "|---|---|---|---|---|---|\n",
       "| horizontal-misalignment | 1.0mm | -19.83470 | -27.68061 | -6.981536 | -13.44667 |\n",
       "| horizontal-misalignment | 1.0mm | -19.67957 | -28.03873 | -6.986940 | -13.45243 |\n",
       "| horizontal-misalignment | 1.0mm | -19.75874 | -27.92126 | -6.943283 | -13.43327 |\n",
       "| horizontal-misalignment | 1.0mm | -19.75526 | -28.14221 | -6.825637 | -13.41140 |\n",
       "| horizontal-misalignment | 1.0mm | -19.80020 | -28.20112 | -6.634976 | -13.41526 |\n",
       "| horizontal-misalignment | 1.0mm | -19.79014 | -28.11345 | -6.677051 | -13.40921 |\n",
       "| horizontal-misalignment | 1.0mm | -19.81464 | -28.35210 | -6.244997 | -13.41049 |\n",
       "| horizontal-misalignment | 1.0mm | -19.39934 | -28.76599 | -6.201233 | -13.45638 |\n",
       "| horizontal-misalignment | 1.0mm | -19.81119 | -28.31566 | -6.397596 | -13.39802 |\n",
       "| horizontal-misalignment | 1.0mm | -19.72354 | -28.49875 | -6.252306 | -13.41457 |\n",
       "| horizontal-misalignment | 1.0mm | -19.41893 | -28.87125 | -6.113590 | -13.46475 |\n",
       "| horizontal-misalignment | 1.0mm | -19.55105 | -28.96112 | -5.885258 | -13.53826 |\n",
       "| horizontal-misalignment | 1.0mm | -19.36006 | -28.97927 | -5.805611 | -13.56914 |\n",
       "| horizontal-misalignment | 1.0mm | -19.32333 | -28.95493 | -5.898378 | -13.53967 |\n",
       "| horizontal-misalignment | 1.0mm | -18.97930 | -29.80824 | -5.682770 | -13.62145 |\n",
       "| horizontal-misalignment | 1.0mm | -18.93001 | -29.91073 | -5.575358 | -13.67912 |\n",
       "| horizontal-misalignment | 1.0mm | -18.94472 | -29.90788 | -4.891894 | -13.95392 |\n",
       "| horizontal-misalignment | 1.0mm | -19.06505 | -29.59010 | -4.692385 | -13.97518 |\n",
       "| horizontal-misalignment | 1.0mm | -18.90323 | -29.94307 | -4.811139 | -14.00918 |\n",
       "| horizontal-misalignment | 1.0mm | -19.01858 | -29.64114 | -4.634392 | -14.03247 |\n",
       "| horizontal-misalignment | 1.0mm | -18.67742 | -30.19719 | -4.653458 | -14.06394 |\n",
       "| horizontal-misalignment | 1.0mm | -18.71435 | -30.14475 | -4.644395 | -14.07488 |\n",
       "| horizontal-misalignment | 1.0mm | -18.75720 | -30.12501 | -4.474929 | -14.16949 |\n",
       "| horizontal-misalignment | 1.0mm | -18.60791 | -30.34210 | -4.376706 | -14.20445 |\n",
       "| horizontal-misalignment | 1.0mm | -18.48190 | -30.13119 | -4.458458 | -14.16604 |\n",
       "| horizontal-misalignment | 1.0mm | -18.42855 | -30.43732 | -4.228219 | -14.27863 |\n",
       "| horizontal-misalignment | 1.0mm | -16.88715 | -31.64523 | -3.902490 | -14.48741 |\n",
       "| horizontal-misalignment | 1.0mm | -17.62970 | -31.19441 | -3.874575 | -14.46957 |\n",
       "| horizontal-misalignment | 1.0mm | -16.99867 | -31.57514 | -3.829672 | -14.58146 |\n",
       "| horizontal-misalignment | 1.0mm | -16.84470 | -31.70442 | -3.793950 | -14.56417 |\n",
       "| ... | ... | ... | ... | ... | ... |\n",
       "| vertical-misalignment | 1.90mm | -17.64176 | -29.35784 |  -9.817141 | -14.51097 |\n",
       "| vertical-misalignment | 1.90mm | -17.55069 | -29.43063 | -10.048790 | -14.63520 |\n",
       "| vertical-misalignment | 1.90mm | -15.25856 | -31.34105 | -10.249662 | -14.71518 |\n",
       "| vertical-misalignment | 1.90mm | -15.21565 | -31.38974 | -10.317353 | -14.76738 |\n",
       "| vertical-misalignment | 1.90mm | -15.18990 | -31.25183 | -10.239360 | -14.73604 |\n",
       "| vertical-misalignment | 1.90mm | -15.16478 | -31.28900 | -10.674138 | -14.91488 |\n",
       "| vertical-misalignment | 1.90mm | -15.12171 | -31.29469 | -10.801533 | -14.97352 |\n",
       "| vertical-misalignment | 1.90mm | -15.13210 | -31.61926 | -10.625861 | -14.93421 |\n",
       "| vertical-misalignment | 1.90mm | -15.05117 | -31.76767 | -11.263358 | -15.10817 |\n",
       "| vertical-misalignment | 1.90mm | -14.87231 | -32.02752 | -10.266506 | -14.71627 |\n",
       "| vertical-misalignment | 1.90mm | -14.96404 | -32.05506 | -11.350914 | -15.23352 |\n",
       "| vertical-misalignment | 1.90mm | -14.95213 | -31.98986 | -11.501815 | -15.19576 |\n",
       "| vertical-misalignment | 1.90mm | -14.88344 | -32.05000 | -11.754914 | -15.10207 |\n",
       "| vertical-misalignment | 1.90mm | -14.67302 | -32.36125 | -11.905849 | -15.60022 |\n",
       "| vertical-misalignment | 1.90mm | -14.49222 | -32.57283 | -11.973280 | -15.64225 |\n",
       "| vertical-misalignment | 1.90mm | -14.81319 | -32.28551 | -11.938976 | -15.16421 |\n",
       "| vertical-misalignment | 1.90mm | -14.54352 | -32.54303 | -12.053952 | -15.47323 |\n",
       "| vertical-misalignment | 1.90mm | -14.52205 | -32.54816 | -12.173245 | -15.64336 |\n",
       "| vertical-misalignment | 1.90mm | -14.49278 | -32.57849 | -12.073147 | -15.62343 |\n",
       "| vertical-misalignment | 1.90mm | -14.44692 | -32.59971 | -12.209010 | -15.67662 |\n",
       "| vertical-misalignment | 1.90mm | -14.46643 | -32.61602 | -12.321937 | -15.27471 |\n",
       "| vertical-misalignment | 1.90mm | -14.27278 | -32.76729 | -12.220820 | -15.72655 |\n",
       "| vertical-misalignment | 1.90mm | -14.23518 | -32.79607 | -12.573872 | -15.34727 |\n",
       "| vertical-misalignment | 1.90mm | -14.20492 | -32.83148 | -12.455769 | -15.63593 |\n",
       "| vertical-misalignment | 1.90mm | -14.16075 | -32.90223 | -12.567322 | -15.38915 |\n",
       "| vertical-misalignment | 1.90mm | -14.14281 | -32.92453 | -12.558152 | -15.54960 |\n",
       "| vertical-misalignment | 1.90mm | -14.10137 | -32.95256 | -12.573058 | -15.53678 |\n",
       "| vertical-misalignment | 1.90mm | -14.08072 | -32.94132 | -12.409260 | -15.70827 |\n",
       "| vertical-misalignment | 1.90mm | -14.09682 | -32.91647 | -12.633885 | -15.43653 |\n",
       "| vertical-misalignment | 1.90mm | -14.12016 | -32.90532 | -12.643061 | -15.45389 |\n",
       "\n"
      ],
      "text/plain": [
       "    type                    un     x_unscale y_unscale x_scale    y_scale  \n",
       "1   horizontal-misalignment 1.0mm  -19.83470 -27.68061 -6.981536  -13.44667\n",
       "2   horizontal-misalignment 1.0mm  -19.67957 -28.03873 -6.986940  -13.45243\n",
       "3   horizontal-misalignment 1.0mm  -19.75874 -27.92126 -6.943283  -13.43327\n",
       "4   horizontal-misalignment 1.0mm  -19.75526 -28.14221 -6.825637  -13.41140\n",
       "5   horizontal-misalignment 1.0mm  -19.80020 -28.20112 -6.634976  -13.41526\n",
       "6   horizontal-misalignment 1.0mm  -19.79014 -28.11345 -6.677051  -13.40921\n",
       "7   horizontal-misalignment 1.0mm  -19.81464 -28.35210 -6.244997  -13.41049\n",
       "8   horizontal-misalignment 1.0mm  -19.39934 -28.76599 -6.201233  -13.45638\n",
       "9   horizontal-misalignment 1.0mm  -19.81119 -28.31566 -6.397596  -13.39802\n",
       "10  horizontal-misalignment 1.0mm  -19.72354 -28.49875 -6.252306  -13.41457\n",
       "11  horizontal-misalignment 1.0mm  -19.41893 -28.87125 -6.113590  -13.46475\n",
       "12  horizontal-misalignment 1.0mm  -19.55105 -28.96112 -5.885258  -13.53826\n",
       "13  horizontal-misalignment 1.0mm  -19.36006 -28.97927 -5.805611  -13.56914\n",
       "14  horizontal-misalignment 1.0mm  -19.32333 -28.95493 -5.898378  -13.53967\n",
       "15  horizontal-misalignment 1.0mm  -18.97930 -29.80824 -5.682770  -13.62145\n",
       "16  horizontal-misalignment 1.0mm  -18.93001 -29.91073 -5.575358  -13.67912\n",
       "17  horizontal-misalignment 1.0mm  -18.94472 -29.90788 -4.891894  -13.95392\n",
       "18  horizontal-misalignment 1.0mm  -19.06505 -29.59010 -4.692385  -13.97518\n",
       "19  horizontal-misalignment 1.0mm  -18.90323 -29.94307 -4.811139  -14.00918\n",
       "20  horizontal-misalignment 1.0mm  -19.01858 -29.64114 -4.634392  -14.03247\n",
       "21  horizontal-misalignment 1.0mm  -18.67742 -30.19719 -4.653458  -14.06394\n",
       "22  horizontal-misalignment 1.0mm  -18.71435 -30.14475 -4.644395  -14.07488\n",
       "23  horizontal-misalignment 1.0mm  -18.75720 -30.12501 -4.474929  -14.16949\n",
       "24  horizontal-misalignment 1.0mm  -18.60791 -30.34210 -4.376706  -14.20445\n",
       "25  horizontal-misalignment 1.0mm  -18.48190 -30.13119 -4.458458  -14.16604\n",
       "26  horizontal-misalignment 1.0mm  -18.42855 -30.43732 -4.228219  -14.27863\n",
       "27  horizontal-misalignment 1.0mm  -16.88715 -31.64523 -3.902490  -14.48741\n",
       "28  horizontal-misalignment 1.0mm  -17.62970 -31.19441 -3.874575  -14.46957\n",
       "29  horizontal-misalignment 1.0mm  -16.99867 -31.57514 -3.829672  -14.58146\n",
       "30  horizontal-misalignment 1.0mm  -16.84470 -31.70442 -3.793950  -14.56417\n",
       "... ...                     ...    ...       ...       ...        ...      \n",
       "680 vertical-misalignment   1.90mm -17.64176 -29.35784  -9.817141 -14.51097\n",
       "681 vertical-misalignment   1.90mm -17.55069 -29.43063 -10.048790 -14.63520\n",
       "682 vertical-misalignment   1.90mm -15.25856 -31.34105 -10.249662 -14.71518\n",
       "683 vertical-misalignment   1.90mm -15.21565 -31.38974 -10.317353 -14.76738\n",
       "684 vertical-misalignment   1.90mm -15.18990 -31.25183 -10.239360 -14.73604\n",
       "685 vertical-misalignment   1.90mm -15.16478 -31.28900 -10.674138 -14.91488\n",
       "686 vertical-misalignment   1.90mm -15.12171 -31.29469 -10.801533 -14.97352\n",
       "687 vertical-misalignment   1.90mm -15.13210 -31.61926 -10.625861 -14.93421\n",
       "688 vertical-misalignment   1.90mm -15.05117 -31.76767 -11.263358 -15.10817\n",
       "689 vertical-misalignment   1.90mm -14.87231 -32.02752 -10.266506 -14.71627\n",
       "690 vertical-misalignment   1.90mm -14.96404 -32.05506 -11.350914 -15.23352\n",
       "691 vertical-misalignment   1.90mm -14.95213 -31.98986 -11.501815 -15.19576\n",
       "692 vertical-misalignment   1.90mm -14.88344 -32.05000 -11.754914 -15.10207\n",
       "693 vertical-misalignment   1.90mm -14.67302 -32.36125 -11.905849 -15.60022\n",
       "694 vertical-misalignment   1.90mm -14.49222 -32.57283 -11.973280 -15.64225\n",
       "695 vertical-misalignment   1.90mm -14.81319 -32.28551 -11.938976 -15.16421\n",
       "696 vertical-misalignment   1.90mm -14.54352 -32.54303 -12.053952 -15.47323\n",
       "697 vertical-misalignment   1.90mm -14.52205 -32.54816 -12.173245 -15.64336\n",
       "698 vertical-misalignment   1.90mm -14.49278 -32.57849 -12.073147 -15.62343\n",
       "699 vertical-misalignment   1.90mm -14.44692 -32.59971 -12.209010 -15.67662\n",
       "700 vertical-misalignment   1.90mm -14.46643 -32.61602 -12.321937 -15.27471\n",
       "701 vertical-misalignment   1.90mm -14.27278 -32.76729 -12.220820 -15.72655\n",
       "702 vertical-misalignment   1.90mm -14.23518 -32.79607 -12.573872 -15.34727\n",
       "703 vertical-misalignment   1.90mm -14.20492 -32.83148 -12.455769 -15.63593\n",
       "704 vertical-misalignment   1.90mm -14.16075 -32.90223 -12.567322 -15.38915\n",
       "705 vertical-misalignment   1.90mm -14.14281 -32.92453 -12.558152 -15.54960\n",
       "706 vertical-misalignment   1.90mm -14.10137 -32.95256 -12.573058 -15.53678\n",
       "707 vertical-misalignment   1.90mm -14.08072 -32.94132 -12.409260 -15.70827\n",
       "708 vertical-misalignment   1.90mm -14.09682 -32.91647 -12.633885 -15.43653\n",
       "709 vertical-misalignment   1.90mm -14.12016 -32.90532 -12.643061 -15.45389"
      ]
     },
     "metadata": {},
     "output_type": "display_data"
    }
   ],
   "source": [
    "dados2d"
   ]
  },
  {
   "cell_type": "code",
   "execution_count": 15,
   "id": "5ae26662-eb4a-47dd-b394-f1984a826749",
   "metadata": {},
   "outputs": [
    {
     "data": {
      "text/plain": [
       "HDBSCAN clustering for 709 objects.\n",
       "Parameters: minPts = 15\n",
       "The clustering contains 14 cluster(s) and 80 noise points.\n",
       "\n",
       " 0  1  2  3  4  5  6  7  8  9 10 11 12 13 14 \n",
       "80 88 24 19 79 55 50 21 86 24 22 61 30 52 18 \n",
       "\n",
       "Available fields: cluster, minPts, coredist, cluster_scores,\n",
       "                  membership_prob, outlier_scores, hc"
      ]
     },
     "metadata": {},
     "output_type": "display_data"
    }
   ],
   "source": [
    "d_analise <- dados2d %>% select(x_scale, y_scale)\n",
    "cl <- hdbscan(d_analise, minPts = 15 )\n",
    "cl"
   ]
  },
  {
   "cell_type": "code",
   "execution_count": 16,
   "id": "54c98fde-1952-4742-9398-1016688bba67",
   "metadata": {},
   "outputs": [
    {
     "data": {
      "image/png": "[encoded data removed]",
      "text/plain": [
       "Plot with title \"HDBSCAN* Hierarchy\""
      ]
     },
     "metadata": {
      "image/png": {
       "height": 420,
       "width": 420
      }
     },
     "output_type": "display_data"
    }
   ],
   "source": [
    "plot(cl$hc, main=\"HDBSCAN* Hierarchy\")"
   ]
  },
  {
   "cell_type": "code",
   "execution_count": 17,
   "id": "d5c203eb-2cce-42f5-a29b-7a4470b4c1e8",
   "metadata": {},
   "outputs": [
    {
     "data": {
      "image/png": "[encoded data removed]",
      "text/plain": [
       "Plot with title \"HDBSCAN*\""
      ]
     },
     "metadata": {
      "image/png": {
       "height": 420,
       "width": 420
      }
     },
     "output_type": "display_data"
    }
   ],
   "source": [
    "plot(cl)"
   ]
  },
  {
   "cell_type": "code",
   "execution_count": 18,
   "id": "ecbb1627-c92d-4920-8291-d7b765c98337",
   "metadata": {},
   "outputs": [
    {
     "data": {
      "image/png": "[encoded data removed]",
      "text/plain": [
       "Plot with title \"HDBSCAN*\""
      ]
     },
     "metadata": {
      "image/png": {
       "height": 420,
       "width": 420
      }
     },
     "output_type": "display_data"
    }
   ],
   "source": [
    "plot(cl, gradient = c(\"yellow\", \"orange\", \"red\", \"blue\"), show_flat = TRUE)"
   ]
  },
  {
   "cell_type": "code",
   "execution_count": 19,
   "id": "e1c03eff-1492-4873-85f1-d2152fa852d4",
   "metadata": {},
   "outputs": [
    {
     "name": "stdout",
     "output_type": "stream",
     "text": [
      "         1          2          3          4          5          6          7 \n",
      "203.667833  76.076173   9.568275 161.913995 104.375683  74.182383  16.889466 \n",
      "         8          9         10         11         12         13         14 \n",
      " 82.558620  29.813283  23.775344  78.580977  13.924681 108.206916   4.862053 \n"
     ]
    }
   ],
   "source": [
    "print(cl$cluster_scores)"
   ]
  },
  {
   "cell_type": "code",
   "execution_count": 20,
   "id": "c7258f95-8f02-4bcd-a7ed-a70b260b2f02",
   "metadata": {},
   "outputs": [
    {
     "data": {
      "image/png": "[encoded data removed]",
      "text/plain": [
       "plot without title"
      ]
     },
     "metadata": {
      "image/png": {
       "height": 420,
       "width": 420
      }
     },
     "output_type": "display_data"
    }
   ],
   "source": [
    "plot(d_analise, col=cl$cluster+1, \n",
    "       pch=ifelse(cl$cluster == 0, 8, 1), # Mark noise as star\n",
    "       cex=ifelse(cl$cluster == 0, 0.5, 0.75), # Decrease size of noise\n",
    "       xlab=NA, ylab=NA)\n",
    "colors <- sapply(1:length(cl$cluster), \n",
    "                   function(i) adjustcolor(palette()[(cl$cluster+1)[i]], alpha.f = cl$membership_prob[i]))\n",
    "points(dados2d[,3:4], col=colors, pch=20)"
   ]
  },
  {
   "cell_type": "code",
   "execution_count": 21,
   "id": "22eb9a96-aad6-4f25-9dcb-8ac136547b63",
   "metadata": {},
   "outputs": [
    {
     "data": {
      "text/plain": [
       "                         \n",
       "                           0  1  2  3  4  5  6  7  8  9 10 11 12 13 14\n",
       "  horizontal-misalignment 32  0  0  0  0  0  0  0 67  0 16  0  0 14 18\n",
       "  imbalance                9  0  0  0  0 38 50 21  0 21  0  0  0  0  0\n",
       "  normal                   4  0  0  0  0 17  0  0 19  3  6  0  0  0  0\n",
       "  overhang-ball_fault      0 88  0  0  0  0  0  0  0  0  0  0  0  0  0\n",
       "  underhang-ball_fault    14  0 24 19 79  0  0  0  0  0  0  0  0  0  0\n",
       "  vertical-misalignment   21  0  0  0  0  0  0  0  0  0  0 61 30 38  0"
      ]
     },
     "metadata": {},
     "output_type": "display_data"
    }
   ],
   "source": [
    "table(dados2d %>% pull(type),cl$cluster)"
   ]
  },
  {
   "cell_type": "code",
   "execution_count": 22,
   "id": "3a68f3ec-a8a4-4082-8132-731f72a7aba2",
   "metadata": {},
   "outputs": [
    {
     "data": {
      "text/plain": [
       "                               \n",
       "                                 0  1  2  3  4  5  6  7  8  9 10 11 12 13 14\n",
       "  horizontal-misalignment 1.0mm  7  0  0  0  0  0  0  0 33  0  0  0  0  0  9\n",
       "  horizontal-misalignment 1.5mm  6  0  0  0  0  0  0  0 34  0  0  0  0  0  9\n",
       "  horizontal-misalignment 2.0mm 19  0  0  0  0  0  0  0  0  0 16  0  0 14  0\n",
       "  imbalance 25g                  6  0  0  0  0 20  0  1  0 20  0  0  0  0  0\n",
       "  imbalance 30g                  1  0  0  0  0 11 31  4  0  0  0  0  0  0  0\n",
       "  imbalance 35g                  2  0  0  0  0  7 19 16  0  1  0  0  0  0  0\n",
       "  normal NA                      4  0  0  0  0 17  0  0 19  3  6  0  0  0  0\n",
       "  overhang-ball_fault 20g        0 25  0  0  0  0  0  0  0  0  0  0  0  0  0\n",
       "  overhang-ball_fault 35g        0 20  0  0  0  0  0  0  0  0  0  0  0  0  0\n",
       "  overhang-ball_fault 6g         0 43  0  0  0  0  0  0  0  0  0  0  0  0  0\n",
       "  underhang-ball_fault 20g       4  0 11  8 26  0  0  0  0  0  0  0  0  0  0\n",
       "  underhang-ball_fault 35g       6  0  2  4 26  0  0  0  0  0  0  0  0  0  0\n",
       "  underhang-ball_fault 6g        4  0 11  7 27  0  0  0  0  0  0  0  0  0  0\n",
       "  vertical-misalignment 1.40mm   5  0  0  0  0  0  0  0  0  0  0 21  9 15  0\n",
       "  vertical-misalignment 1.78mm   7  0  0  0  0  0  0  0  0  0  0 20 10 13  0\n",
       "  vertical-misalignment 1.90mm   9  0  0  0  0  0  0  0  0  0  0 20 11 10  0"
      ]
     },
     "metadata": {},
     "output_type": "display_data"
    }
   ],
   "source": [
    "table(paste(dados2d %>% pull(type), dados2d %>% pull(un)),cl$cluster)"
   ]
  },
  {
   "cell_type": "markdown",
   "id": "d1af11a8-e094-4cea-81a1-bcd688b3a22b",
   "metadata": {},
   "source": [
    "## Comparação com os dados sem redução da dimensionalidade"
   ]
  },
  {
   "cell_type": "code",
   "execution_count": 23,
   "id": "e7dbe20a-85d0-4719-8e8c-6abb608b2d4a",
   "metadata": {},
   "outputs": [
    {
     "data": {
      "text/plain": [
       "HDBSCAN clustering for 709 objects.\n",
       "Parameters: minPts = 15\n",
       "The clustering contains 2 cluster(s) and 185 noise points.\n",
       "\n",
       "  0   1   2 \n",
       "185  24 500 \n",
       "\n",
       "Available fields: cluster, minPts, coredist, cluster_scores,\n",
       "                  membership_prob, outlier_scores, hc"
      ]
     },
     "metadata": {},
     "output_type": "display_data"
    }
   ],
   "source": [
    "cl2 <- hdbscan(dados[,3:dim(dados)[2]], minPts = 15)\n",
    "cl2"
   ]
  },
  {
   "cell_type": "code",
   "execution_count": 24,
   "id": "6ffb33af-0905-49f2-9ffd-a3131ebffa8d",
   "metadata": {},
   "outputs": [
    {
     "data": {
      "text/plain": [
       "                         \n",
       "                            0   1   2\n",
       "  horizontal-misalignment   1   0 146\n",
       "  imbalance                 5   0 134\n",
       "  normal                    0   0  49\n",
       "  overhang-ball_fault      88   0   0\n",
       "  underhang-ball_fault     90  24  22\n",
       "  vertical-misalignment     1   0 149"
      ]
     },
     "metadata": {},
     "output_type": "display_data"
    }
   ],
   "source": [
    "table(dados %>% pull(type),cl2$cluster)"
   ]
  },
  {
   "cell_type": "code",
   "execution_count": 25,
   "id": "98727f35-5479-4cf6-8c34-3c708636affb",
   "metadata": {},
   "outputs": [
    {
     "data": {
      "text/plain": [
       "                               \n",
       "                                 0  1  2\n",
       "  horizontal-misalignment 1.0mm  0  0 49\n",
       "  horizontal-misalignment 1.5mm  0  0 49\n",
       "  horizontal-misalignment 2.0mm  1  0 48\n",
       "  imbalance 25g                  2  0 45\n",
       "  imbalance 30g                  1  0 46\n",
       "  imbalance 35g                  2  0 43\n",
       "  normal NA                      0  0 49\n",
       "  overhang-ball_fault 20g       25  0  0\n",
       "  overhang-ball_fault 35g       20  0  0\n",
       "  overhang-ball_fault 6g        43  0  0\n",
       "  underhang-ball_fault 20g      31 14  4\n",
       "  underhang-ball_fault 35g      26  8  4\n",
       "  underhang-ball_fault 6g       33  2 14\n",
       "  vertical-misalignment 1.40mm   0  0 50\n",
       "  vertical-misalignment 1.78mm   0  0 50\n",
       "  vertical-misalignment 1.90mm   1  0 49"
      ]
     },
     "metadata": {},
     "output_type": "display_data"
    }
   ],
   "source": [
    "table(paste(dados %>% pull(type), dados %>% pull(un)),cl2$cluster)"
   ]
  },
  {
   "cell_type": "markdown",
   "id": "3830869a-ccf3-4ce9-a52f-c864972d0255",
   "metadata": {},
   "source": [
    "# Algoritmo K-Means - ChatGPT\n",
    "\n",
    "## Introdução  \n",
    "O **K-Means** é um algoritmo de aprendizado não supervisionado usado para **agrupamento** (*clustering*). Ele particiona um conjunto de dados em **K clusters** distintos com base na proximidade dos pontos aos centróides, minimizando a variância intra-cluster.\n",
    "\n",
    "---\n",
    "\n",
    "## Funcionamento  \n",
    "\n",
    "1. **Inicialização**:  \n",
    "   - Escolha o número **K** de clusters desejados.  \n",
    "   - Inicialize **K centróides** aleatoriamente ou por um método como *k-means++*.\n",
    "\n",
    "2. **Iteração** (até convergência):  \n",
    "   - **Passo 1: Atribuição**  \n",
    "     Atribua cada ponto de dados \\( x_i \\) ao centróide mais próximo \\( C_j \\), onde a proximidade é calculada por uma **distância** (geralmente a distância Euclidiana):  \n",
    "     \\[\n",
    "     d(x_i, C_j) = \\| x_i - C_j \\|_2^2\n",
    "     \\]\n",
    "     Cada centróide representa o seu respectivo cluster.\n",
    "\n",
    "   - **Passo 2: Atualização**  \n",
    "     Recalcule os centróides como a **média aritmética** dos pontos atribuídos a cada cluster:  \n",
    "     \\[\n",
    "     C_j = \\frac{1}{|S_j|} \\sum_{x \\in S_j} x\n",
    "     \\]\n",
    "     Onde \\( S_j \\) é o conjunto de pontos no cluster \\( j \\).\n",
    "\n",
    "3. **Convergência**:  \n",
    "   - O processo se repete até que os centróides não mudem significativamente ou uma condição de parada seja atingida (número máximo de iterações, por exemplo).  \n",
    "\n",
    "---\n",
    "\n",
    "## Fórmulas Matemáticas\n",
    "\n",
    "O objetivo do algoritmo K-Means é **minimizar a soma dos erros quadráticos dentro dos clusters** (**Within-Cluster Sum of Squares**, WCSS):\n",
    "\n",
    "\\[\n",
    "\\text{WCSS} = \\sum_{j=1}^K \\sum_{x_i \\in S_j} \\| x_i - C_j \\|^2\n",
    "\\]\n",
    "\n",
    "Onde:  \n",
    "- \\( K \\): número de clusters;  \n",
    "- \\( S_j \\): conjunto de pontos atribuídos ao cluster \\( j \\);  \n",
    "- \\( C_j \\): centróide do cluster \\( j \\).\n",
    "\n",
    "---\n",
    "\n",
    "## Vantagens  \n",
    "- Simples e eficiente para conjuntos de dados grandes.  \n",
    "- Convergência rápida em prática.  \n",
    "- Fácil de interpretar e implementar.  \n",
    "\n",
    "---\n",
    "\n",
    "## Desvantagens  \n",
    "- Sensível à inicialização dos centróides.  \n",
    "- Assume que os clusters são esféricos e de tamanho semelhante.  \n",
    "- Pode convergir para mínimos locais do WCSS.  \n",
    "- O valor de \\( K \\) deve ser escolhido a priori.\n",
    "\n",
    "---\n",
    "\n",
    "## Aplicações  \n",
    "- Compressão de imagens.  \n",
    "- Segmentação de clientes (*Customer Segmentation*).  \n",
    "- Agrupamento de documentos e textos.  \n",
    "- Análise de padrões em grandes conjuntos de dados.\n",
    "\n",
    "---\n",
    "\n",
    "## Pseudocódigo  \n",
    "\n",
    "```text\n",
    "Entrada: Conjunto de dados X = {x_1, x_2, ..., x_n}, número de clusters K.\n",
    "Saída: K clusters {C_1, C_2, ..., C_K}.\n",
    "\n",
    "1. Inicialize K centróides aleatoriamente: C_1, C_2, ..., C_K.\n",
    "2. Enquanto não convergir (ou atingir limite de iterações):\n",
    "      a. Para cada ponto x_i em X:\n",
    "            - Atribua x_i ao cluster com o centróide mais próximo.\n",
    "      b. Para cada cluster C_j:\n",
    "            - Recalcule o centróide como a média dos pontos atribuídos ao cluster.\n",
    "3. Retorne os clusters e centróides finais.\n"
   ]
  },
  {
   "cell_type": "code",
   "execution_count": 26,
   "id": "652af41a-21df-4a55-b1d3-005c1b3c273c",
   "metadata": {},
   "outputs": [],
   "source": [
    "k <- kmeans(d_analise, 14)"
   ]
  },
  {
   "cell_type": "code",
   "execution_count": 27,
   "id": "fc04a18b-a9f5-414d-a2ed-532c4a28cfc0",
   "metadata": {},
   "outputs": [
    {
     "data": {
      "text/plain": [
       "                         \n",
       "                           1  2  3  4  5  6  7  8  9 10 11 12 13 14\n",
       "  horizontal-misalignment  0  0  0  0  0  0 28  0  0 22 50 26  0 21\n",
       "  imbalance                0  0  0 38 73  0  0  0  0 28  0  0  0  0\n",
       "  normal                   0  0  0 17  0  0  0  0  0 12 12  8  0  0\n",
       "  overhang-ball_fault      0 31 28  0  0  0  0  0  0  0  0  0 29  0\n",
       "  underhang-ball_fault    42  0  0  0  0 37  0 12 45  0  0  0  0  0\n",
       "  vertical-misalignment    0  0  0  0  0  0 31  0  0 68  0  0  0 51"
      ]
     },
     "metadata": {},
     "output_type": "display_data"
    }
   ],
   "source": [
    "table(dados2d %>% pull(type), k$cluster)"
   ]
  },
  {
   "cell_type": "code",
   "execution_count": 28,
   "id": "515382c7-950d-416c-842b-2fa8002aca22",
   "metadata": {},
   "outputs": [
    {
     "data": {
      "text/plain": [
       "                               \n",
       "                                 1  2  3  4  5  6  7  8  9 10 11 12 13 14\n",
       "  horizontal-misalignment 1.0mm  0  0  0  0  0  0 11  0  0  0 23 15  0  0\n",
       "  horizontal-misalignment 1.5mm  0  0  0  0  0  0 11  0  0  0 27 11  0  0\n",
       "  horizontal-misalignment 2.0mm  0  0  0  0  0  0  6  0  0 22  0  0  0 21\n",
       "  imbalance 25g                  0  0  0 20  2  0  0  0  0 25  0  0  0  0\n",
       "  imbalance 30g                  0  0  0 11 36  0  0  0  0  0  0  0  0  0\n",
       "  imbalance 35g                  0  0  0  7 35  0  0  0  0  3  0  0  0  0\n",
       "  normal NA                      0  0  0 17  0  0  0  0  0 12 12  8  0  0\n",
       "  overhang-ball_fault 20g        0  6 10  0  0  0  0  0  0  0  0  0  9  0\n",
       "  overhang-ball_fault 35g        0  1  8  0  0  0  0  0  0  0  0  0 11  0\n",
       "  overhang-ball_fault 6g         0 24 10  0  0  0  0  0  0  0  0  0  9  0\n",
       "  underhang-ball_fault 20g      14  0  0  0  0 12  0  4 19  0  0  0  0  0\n",
       "  underhang-ball_fault 35g      13  0  0  0  0 13  0  4  8  0  0  0  0  0\n",
       "  underhang-ball_fault 6g       15  0  0  0  0 12  0  4 18  0  0  0  0  0\n",
       "  vertical-misalignment 1.40mm   0  0  0  0  0  0 12  0  0 22  0  0  0 16\n",
       "  vertical-misalignment 1.78mm   0  0  0  0  0  0 10  0  0 24  0  0  0 16\n",
       "  vertical-misalignment 1.90mm   0  0  0  0  0  0  9  0  0 22  0  0  0 19"
      ]
     },
     "metadata": {},
     "output_type": "display_data"
    }
   ],
   "source": [
    "table(paste(dados %>% pull(type), dados %>% pull(un)),  k$cluster)"
   ]
  },
  {
   "cell_type": "markdown",
   "id": "cd7dbca0-14b7-4b62-8e67-262050995a78",
   "metadata": {},
   "source": [
    "## Conclusão  \n",
    "\n",
    "Os resultados obtidos evidenciam que a **redução de dimensionalidade** pode melhorar de forma significativa o desempenho de algoritmos de aglomeração. No presente estudo, verificou-se que a aplicação do algoritmo **HDBSCAN** nos **dados brutos** resultou na classificação com muitos pontos classificados como *outliers*. Além disso, em relação à normalização dos dados, constatou-se que a normalização pelo **desvio padrão** resultou em uma perda de qualidade no desempenho do HDBSCAN. Por outro lado, a **normalização em relação à média** apresentou uma melhora nos resultados, o que indica uma maior adequação dessa abordagem para os dados analisados.  \n",
    "\n",
    "Um dos principais desafios identificados é a **definição do número ideal de dimensões** para a execução eficiente do algoritmo. Nesse sentido, métodos baseados em **autoencoders de redes neurais** se destacam por possuírem processos de **otimização de metaparâmetros** integrados, o que oferece uma vantagem em relação a técnicas como **UMAP** ou **t-SNE**, que não incluem essa otimização de forma nativa.  \n",
    "\n",
    "No que diz respeito aos dados analisados, observou-se uma **clara distinção** entre as classes **overhang-ball_fault** e **underhang-ball_fault** em comparação às demais classes. Contudo, no caso do **funcionamento normal do motor**, não foi identificada uma separação significativa em relação às demais condições. Isso revela uma dificuldade substancial em distinguir o **funcionamento normal** do motor de situações de **desbalanceamento** ou **desalinhamento**. Tal desafio representa um obstáculo importante para as equipes de engenharia no desenvolvimento de um **detector de falhas** eficaz para essa classe específica de mau funcionamento.\n",
    "\n",
    "Com relação aos algoritmos HDBSCAN e K-means, ambos desempenharam resultados semelhantes, porém o HDBSCAN conseguiu agrupar os pontos da classe normal em um único grupo e distinguir melhor os grupos overhang-ball_fault e underhang-ball.\n"
   ]
  }
 ],
 "metadata": {
  "kernelspec": {
   "display_name": "R",
   "language": "R",
   "name": "ir"
  },
  "language_info": {
   "codemirror_mode": "r",
   "file_extension": ".r",
   "mimetype": "text/x-r-source",
   "name": "R",
   "pygments_lexer": "r",
   "version": "4.4.2"
  }
 },
 "nbformat": 4,
 "nbformat_minor": 5
}
